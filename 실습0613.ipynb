{
 "cells": [
  {
   "cell_type": "markdown",
   "metadata": {},
   "source": [
    "# 빅데이터 전처리 및 시각화"
   ]
  },
  {
   "cell_type": "markdown",
   "metadata": {},
   "source": [
    "## NumPy"
   ]
  },
  {
   "cell_type": "markdown",
   "metadata": {},
   "source": [
    "### 패키지: 설치해서 사용해야 한다"
   ]
  },
  {
   "cell_type": "code",
   "execution_count": 1,
   "metadata": {},
   "outputs": [],
   "source": [
    " import numpy"
   ]
  },
  {
   "cell_type": "code",
   "execution_count": 3,
   "metadata": {},
   "outputs": [
    {
     "data": {
      "text/plain": [
       "((3, 2), dtype('float64'))"
      ]
     },
     "execution_count": 3,
     "metadata": {},
     "output_type": "execute_result"
    }
   ],
   "source": [
    "A=numpy.random.randn(3,2)\n",
    "A.shape, A.dtype #64비트 실수"
   ]
  },
  {
   "cell_type": "code",
   "execution_count": 5,
   "metadata": {},
   "outputs": [],
   "source": [
    " import numpy as np"
   ]
  },
  {
   "cell_type": "code",
   "execution_count": 6,
   "metadata": {},
   "outputs": [
    {
     "data": {
      "text/plain": [
       "((3, 2), dtype('float64'))"
      ]
     },
     "execution_count": 6,
     "metadata": {},
     "output_type": "execute_result"
    }
   ],
   "source": [
    "A=np.random.randn(3,2)\n",
    "A.shape, A.dtype #64비트 실수"
   ]
  },
  {
   "cell_type": "code",
   "execution_count": 16,
   "metadata": {},
   "outputs": [
    {
     "name": "stdout",
     "output_type": "stream",
     "text": [
      "[[ 1  2  4  4]\n",
      " [33 25 74 78]]\n",
      "(5,) int32\n",
      "(2, 4) int32\n",
      "[1 2 4 4]\n",
      "[33 25 74 78] (4,) int32\n",
      "[[ 1  2  4  4]\n",
      " [33 25 74 78]] (2, 4) int32\n",
      "2297755737024 2297755737024\n"
     ]
    }
   ],
   "source": [
    "ls1 = [1,2,4,4]\n",
    "ls2 = [33,25,74,78]\n",
    "vec_x = np.array((4,2,5,4,3))\n",
    "mat_A=np.array([ls1,ls2])\n",
    "print(mat_A) # 콤마로 분리된 행렬 구조\n",
    "print(vec_x.shape, vec_x.dtype)\n",
    "print(mat_A.shape, mat_A.dtype)\n",
    "print(np.asarray(ls1))\n",
    "vec_y=np.asarray(ls2)\n",
    "print(vec_y,vec_y.shape,vec_y.dtype)\n",
    "mat_B=np.asarray(mat_A)\n",
    "print(mat_B,mat_B.shape,mat_B.dtype)\n",
    "print(id(mat_A),id(mat_B)) # A를 asarray한게 B, ID값 같다 = \n",
    "# A가 이미 ARRAY이면 기존의 ARRAY를 그대로 복사해서 B를 만든다"
   ]
  },
  {
   "cell_type": "code",
   "execution_count": 18,
   "metadata": {},
   "outputs": [
    {
     "data": {
      "text/plain": [
       "array([1, 3, 5, 7, 9])"
      ]
     },
     "execution_count": 18,
     "metadata": {},
     "output_type": "execute_result"
    }
   ],
   "source": [
    "ls1=[1,2,4,4]\n",
    "ls2=[33,25,74,78]\n",
    "vec_x=np.arange(1,10,2)\n",
    "vec_x"
   ]
  },
  {
   "cell_type": "code",
   "execution_count": 25,
   "metadata": {},
   "outputs": [
    {
     "name": "stdout",
     "output_type": "stream",
     "text": [
      "[0. 0. 0. 0.]\n",
      "[[0. 0. 0. 0. 0.]\n",
      " [0. 0. 0. 0. 0.]\n",
      " [0. 0. 0. 0. 0.]\n",
      " [0. 0. 0. 0. 0.]]\n",
      "[[1. 0. 0. 0. 0.]\n",
      " [0. 1. 0. 0. 0.]\n",
      " [0. 0. 1. 0. 0.]\n",
      " [0. 0. 0. 1. 0.]\n",
      " [0. 0. 0. 0. 1.]]\n",
      "[[1. 0. 0. 0. 0.]\n",
      " [0. 1. 0. 0. 0.]\n",
      " [0. 0. 1. 0. 0.]\n",
      " [0. 0. 0. 1. 0.]\n",
      " [0. 0. 0. 0. 1.]]\n"
     ]
    }
   ],
   "source": [
    "print(np.zeros(4))\n",
    "print(np.zeros((4,5)))\n",
    "print(np.eye(5))\n",
    "print(np.identity(5))"
   ]
  },
  {
   "cell_type": "code",
   "execution_count": 27,
   "metadata": {},
   "outputs": [
    {
     "name": "stdout",
     "output_type": "stream",
     "text": [
      "[b'1' b'2' b'4' b'4'] |S1\n"
     ]
    }
   ],
   "source": [
    "ls1=[1,2,4,4]\n",
    "ls2=[33,3,25,362,74,76,78,19]\n",
    "vec_x=np.array(ls1,dtype=np.string_)\n",
    "print(vec_x,vec_x.dtype)"
   ]
  },
  {
   "cell_type": "code",
   "execution_count": 28,
   "metadata": {
    "scrolled": true
   },
   "outputs": [
    {
     "name": "stdout",
     "output_type": "stream",
     "text": [
      "[1 2 4 4] int32\n"
     ]
    }
   ],
   "source": [
    "ls1=[1,2,4,4]\n",
    "ls2=[33,3,25,362,74,76,78,19]\n",
    "vec_x=np.array(ls1)\n",
    "vec_x.astype(np.float64)\n",
    "print(vec_x,vec_x.dtype)"
   ]
  },
  {
   "cell_type": "code",
   "execution_count": 37,
   "metadata": {},
   "outputs": [
    {
     "name": "stdout",
     "output_type": "stream",
     "text": [
      "object\n"
     ]
    },
    {
     "ename": "ValueError",
     "evalue": "setting an array element with a sequence.",
     "output_type": "error",
     "traceback": [
      "\u001b[1;31m---------------------------------------------------------------------------\u001b[0m",
      "\u001b[1;31mValueError\u001b[0m                                Traceback (most recent call last)",
      "\u001b[1;32m<ipython-input-37-e42648f9a1b2>\u001b[0m in \u001b[0;36m<module>\u001b[1;34m\u001b[0m\n\u001b[0;32m      3\u001b[0m \u001b[0mmat\u001b[0m\u001b[1;33m=\u001b[0m\u001b[0mnp\u001b[0m\u001b[1;33m.\u001b[0m\u001b[0marray\u001b[0m\u001b[1;33m(\u001b[0m\u001b[1;33m[\u001b[0m\u001b[0mls1\u001b[0m\u001b[1;33m,\u001b[0m\u001b[0mls2\u001b[0m\u001b[1;33m]\u001b[0m\u001b[1;33m)\u001b[0m\u001b[1;33m\u001b[0m\u001b[1;33m\u001b[0m\u001b[0m\n\u001b[0;32m      4\u001b[0m \u001b[0mprint\u001b[0m\u001b[1;33m(\u001b[0m\u001b[0mmat\u001b[0m\u001b[1;33m.\u001b[0m\u001b[0mdtype\u001b[0m\u001b[1;33m)\u001b[0m\u001b[1;33m\u001b[0m\u001b[1;33m\u001b[0m\u001b[0m\n\u001b[1;32m----> 5\u001b[1;33m \u001b[0mmat\u001b[0m\u001b[1;33m=\u001b[0m\u001b[0mmat\u001b[0m\u001b[1;33m.\u001b[0m\u001b[0mastype\u001b[0m\u001b[1;33m(\u001b[0m\u001b[0mnp\u001b[0m\u001b[1;33m.\u001b[0m\u001b[0mint16\u001b[0m\u001b[1;33m)\u001b[0m\u001b[1;33m\u001b[0m\u001b[1;33m\u001b[0m\u001b[0m\n\u001b[0m\u001b[0;32m      6\u001b[0m \u001b[0mprint\u001b[0m\u001b[1;33m(\u001b[0m\u001b[0mmat\u001b[0m\u001b[1;33m.\u001b[0m\u001b[0mdtype\u001b[0m\u001b[1;33m)\u001b[0m\u001b[1;33m\u001b[0m\u001b[1;33m\u001b[0m\u001b[0m\n",
      "\u001b[1;31mValueError\u001b[0m: setting an array element with a sequence."
     ]
    }
   ],
   "source": [
    "ls1=[1,2,4,4]\n",
    "ls2=[33,3,25,362,74,76,78,19]\n",
    "mat=np.array([ls1,ls2])\n",
    "print(mat.dtype)\n",
    "mat=mat.astype(np.int16)\n",
    "print(mat.dtype)"
   ]
  },
  {
   "cell_type": "code",
   "execution_count": 43,
   "metadata": {},
   "outputs": [
    {
     "name": "stdout",
     "output_type": "stream",
     "text": [
      "[1 2 4 4] [2 4 8 8]\n",
      "[[ 1.     2.     4.     4.   ]\n",
      " [33.3   25.362 74.76  78.19 ]]\n",
      "[[ 1.     2.     4.     4.   ]\n",
      " [33.3   25.362 74.76  78.19 ]] [[  2.      4.      8.      8.   ]\n",
      " [ 66.6    50.724 149.52  156.38 ]] [[11.    12.    14.    14.   ]\n",
      " [43.3   35.362 84.76  88.19 ]]\n",
      "[[ 33.3    50.724 299.04  312.76 ]]\n",
      "[[  2.     10.      4.      8.   ]\n",
      " [ 99.9    25.362 299.04  547.33 ]]\n"
     ]
    }
   ],
   "source": [
    "ls1=[1,2,4,4]\n",
    "ls2=[33.3,25.362,74.76,78.19]\n",
    "vec=np.array(ls1)\n",
    "print(vec, 2*vec)\n",
    "mat=np.array([ls1,ls2])\n",
    "print(mat)\n",
    "print(mat,2*mat, mat+10)\n",
    "vec1=np.array([ls1])\n",
    "vec2=np.array([ls2])\n",
    "print(vec1*vec2)\n",
    "mat1=np.array([ls1,ls2])\n",
    "mat2=np.array([[2,5,1,2],[3,1,4,7]])\n",
    "print(mat1*mat2) # mat1[0]*mat2[0] mat1[1]*mat2[1] ..... \n",
    "# 우리가 흔히 아는 행렬곱이 아니라, 같은 위치의 원소끼리 곱해줌(cartesian)"
   ]
  },
  {
   "cell_type": "code",
   "execution_count": 54,
   "metadata": {},
   "outputs": [
    {
     "name": "stdout",
     "output_type": "stream",
     "text": [
      "4 4\n",
      "4 \t 4\n",
      "[2, 4] \t [2 4]\n",
      "[1, 2, 4, 999, 4, 5, 1, 2] \t [  1   2   4 999 999 999   4   5   1   2]\n"
     ]
    }
   ],
   "source": [
    "ls1=[1,2,4,4,2,4,4,5,1,2]\n",
    "vec=np.array(ls1) \n",
    "print(ls1[2],vec[2])\n",
    "\n",
    "\n",
    "print(ls1[2], \"\\t\", vec[2])\n",
    "print(ls1[1:3], \"\\t\", vec[1:3])  # 인덱싱이나 슬라이싱을 하는것 자체로는\n",
    "#리스트랑 벡터 똑같다\n",
    "\n",
    "ls1[3:6]=[999]; vec[3:6]=999\n",
    "print(ls1, \"\\t\", vec) # 이 때 리스트와 벡터 달라진다"
   ]
  },
  {
   "cell_type": "markdown",
   "metadata": {},
   "source": [
    "###  sub vector는 vector의 일부분을 그대로 갖다쓴다\n",
    "### (가져다가 새로운 sub vector를 만드는게 아니라)\n",
    "### 따라서 sub vector 바꾸면 원래 vector도 바뀜"
   ]
  },
  {
   "cell_type": "code",
   "execution_count": 57,
   "metadata": {},
   "outputs": [
    {
     "name": "stdout",
     "output_type": "stream",
     "text": [
      "[1 2 4 7 2 9 5 4 2] \t [4 7 2 9]\n",
      "[   1    2    4    7 9999    9    5    4    2] \t [   4    7 9999    9]\n"
     ]
    }
   ],
   "source": [
    "ls1=[1,2,4,7,2,9,5,4,2]\n",
    "ls2=[33.3,25.362,74.76, 78.19]\n",
    "vec=np.array(ls1)\n",
    "sub_vec1=vec[2:6]\n",
    "print(vec, \"\\t\", sub_vec1)\n",
    "sub_vec1[2]=9999\n",
    "print(vec,\"\\t\", sub_vec1)# sub vector는 vector의 일부분을 그대로 갖다쓴다\n",
    "# 가져다가 새로운 sub vector를 만드는게 아니라\n",
    "# 따라서 sub vector 바꾸면 원래 vector도 바뀜"
   ]
  },
  {
   "cell_type": "markdown",
   "metadata": {},
   "source": [
    "### 그럼 공유되는게 싫다 -> copy 사용"
   ]
  },
  {
   "cell_type": "code",
   "execution_count": 66,
   "metadata": {},
   "outputs": [
    {
     "name": "stdout",
     "output_type": "stream",
     "text": [
      "[1 2 4 7 2 9 5 4 2] \t [4 7 2 9]\n",
      "[1 2 4 7 2 9 5 4 2] \t [   4    7 9999    9] [4 7 2 9]\n"
     ]
    }
   ],
   "source": [
    "ls1=[1,2,4,7,2,9,5,4,2]\n",
    "ls2=[33.3,25.362,74.76, 78.19]\n",
    "vec=np.array(ls1)\n",
    "sub_vec1=vec[2:6]\n",
    "sub_vec2=vec[2:6].copy()\n",
    "print(vec, \"\\t\", sub_vec1)\n",
    "sub_vec2[2]=9999\n",
    "print(vec,\"\\t\", sub_vec2, sub_vec1)\n",
    "# copy 사용해서 따로 만들었으므로 sub vector를 바꿔도 원본은 안바뀜"
   ]
  },
  {
   "cell_type": "markdown",
   "metadata": {},
   "source": [
    "### 2차원 이상의 배열은 차원의 인덱스를 사용"
   ]
  },
  {
   "cell_type": "code",
   "execution_count": 72,
   "metadata": {
    "scrolled": true
   },
   "outputs": [
    {
     "name": "stdout",
     "output_type": "stream",
     "text": [
      "[[ 1.     2.     4.     7.     2.     9.     5.     4.     3.   ]\n",
      " [33.3   25.362 74.76  78.19  34.6   43.6   90.2   57.3   25.6  ]\n",
      " [10.    20.    40.    20.    60.    30.    20.    10.    80.   ]]\n",
      "[1. 2. 4. 7. 2. 9. 5. 4. 3.]\n",
      "43.6\n",
      "43.6\n",
      "[[ 4.    7.    2.  ]\n",
      " [74.76 78.19 34.6 ]]\n",
      "[]\n",
      "[[ 4.    7.    2.  ]\n",
      " [74.76 78.19 34.6 ]]\n"
     ]
    }
   ],
   "source": [
    "ls1=[1,2,4,7,2,9,5,4,3]\n",
    "ls2=[33.3,25.362,74.76, 78.19, 34.6, 43.6, 90.2, 57.3, 25.6]\n",
    "ls3=[10,20,40,20,60,30,20,10,80]\n",
    "A=np.array([ls1,ls2,ls3])\n",
    "print(A) #3개 행의 행렬 구조\n",
    "print(A[0]) # 하나만 인덱싱하면 첫 번째 행 (0) 으로 인식한다\n",
    "print(A[1,5])\n",
    "print(A[1][5])\n",
    "print(A[:2,2:5]) #부분행렬 추출 하는것처럼 추출\n",
    "print(A[:2][2:5])\n",
    "print(A[:2][:,2:5]) # 콜론을 넣어야 같아짐; A[a:b,c:d] = A[a:b][:,c:d]"
   ]
  },
  {
   "cell_type": "markdown",
   "metadata": {},
   "source": [
    "### 3차원 행렬 만들기"
   ]
  },
  {
   "cell_type": "code",
   "execution_count": 78,
   "metadata": {},
   "outputs": [
    {
     "name": "stdout",
     "output_type": "stream",
     "text": [
      "[[[1 2 4 3]\n",
      "  [1 2 4 1]\n",
      "  [5 2 4 2]]\n",
      "\n",
      " [[2 4 1 4]\n",
      "  [2 4 1 4]\n",
      "  [3 5 4 5]]]\n",
      "1\n",
      "1\n",
      "[[1 2 4 3]\n",
      " [1 2 4 1]\n",
      " [5 2 4 2]] \n",
      " [[1 2 4]\n",
      " [1 2 4]]\n"
     ]
    }
   ],
   "source": [
    "ls11=[1,2,4,3]; ls12=[1,2,4,1]; ls13=[5,2,4,2]\n",
    "ls21=[2,4,1,4]; ls22=[2,4,1,4]; ls23=[3,5,4,5]\n",
    "arr3d=np.array([[ls11,ls12,ls13], [ls21,ls22,ls23]])\n",
    "print(arr3d)\n",
    "print(arr3d[0,1,3]) # 인덱스: 층, 행, 렬\n",
    "print(arr3d[0][1,3]) # 이렇게 층 먼저 추출해도 똑같음\n",
    "print(arr3d[0], \"\\n\", arr3d[0,:2,:3]) # 슬라이스로 3차원 배열에서 추출할 수 있음"
   ]
  },
  {
   "cell_type": "code",
   "execution_count": 80,
   "metadata": {},
   "outputs": [
    {
     "name": "stdout",
     "output_type": "stream",
     "text": [
      "[[[1 2 4 3]\n",
      "  [1 2 4 1]\n",
      "  [5 2 4 2]]\n",
      "\n",
      " [[2 4 1 4]\n",
      "  [2 4 1 4]\n",
      "  [3 5 4 5]]] \n",
      " [[1 2 4 1]\n",
      " [2 4 1 4]] \n",
      "\n",
      "\n",
      " [[1 2 4 1]\n",
      " [2 4 1 4]]\n"
     ]
    }
   ],
   "source": [
    "ls11=[1,2,4,3]; ls12=[1,2,4,1]; ls13=[5,2,4,2]\n",
    "ls21=[2,4,1,4]; ls22=[2,4,1,4]; ls23=[3,5,4,5]\n",
    "arr3d=np.array([[ls11,ls12,ls13], [ls21,ls22,ls23]])\n",
    "sub_arr1=arr3d[:2,1]\n",
    "sub_arr2=arr3d[:2,1].copy()\n",
    "print(arr3d,\"\\n\", sub_arr1, \"\\n\\n\\n\", sub_arr2)"
   ]
  },
  {
   "cell_type": "code",
   "execution_count": 81,
   "metadata": {
    "scrolled": true
   },
   "outputs": [
    {
     "name": "stdout",
     "output_type": "stream",
     "text": [
      "[[[   1    2    4    3]\n",
      "  [   1    2    4    1]\n",
      "  [   5    2    4    2]]\n",
      "\n",
      " [[   2    4    1    4]\n",
      "  [   2    4 9999    4]\n",
      "  [   3    5    4    5]]] \n",
      " [[   1    2    4    1]\n",
      " [   2    4 9999    4]] \n",
      "\n",
      "\n",
      " [[1 2 4 1]\n",
      " [2 4 1 4]]\n"
     ]
    }
   ],
   "source": [
    "ls11=[1,2,4,3]; ls12=[1,2,4,1]; ls13=[5,2,4,2]\n",
    "ls21=[2,4,1,4]; ls22=[2,4,1,4]; ls23=[3,5,4,5]\n",
    "arr3d=np.array([[ls11,ls12,ls13], [ls21,ls22,ls23]])\n",
    "sub_arr1=arr3d[:2,1]\n",
    "sub_arr2=arr3d[:2,1].copy()\n",
    "arr3d[1,1,2]=9999\n",
    "print(arr3d,\"\\n\", sub_arr1, \"\\n\\n\\n\", sub_arr2)"
   ]
  },
  {
   "cell_type": "code",
   "execution_count": null,
   "metadata": {},
   "outputs": [],
   "source": [
    "ls11=[1,2,5,3]; ls12=[10,40,20,60]; ls13=[4,2,5,4]\n",
    "mat1=np.array([ls11,ls12,ls13])\n",
    "print(mat1[1], \"\\t\", mat1[[False,True,False]]) # 후자도 1행만 뽑는 것\n",
    "print(mat1[1], \"\\t\", mat1[mat1>=10])\n",
    "print(mat1[1], \"\\t\", mat1[mat1>=20])\n",
    "print(mat1[1], \"\\t\", mat1[mat1>=30])\n",
    "print(mat1>=20)"
   ]
  },
  {
   "cell_type": "markdown",
   "metadata": {},
   "source": [
    "### 논리값을 통한 인덱싱"
   ]
  },
  {
   "cell_type": "code",
   "execution_count": 97,
   "metadata": {
    "scrolled": true
   },
   "outputs": [
    {
     "name": "stdout",
     "output_type": "stream",
     "text": [
      "['남' '여' '여' '남' '남' '여'] \n",
      " [[  1   2   5   3]\n",
      " [ 10  40  20  60]\n",
      " [  4   2   5   4]\n",
      " [  3   2   6   7]\n",
      " [103 403 202 601]\n",
      " [124 142 115 114]]\n",
      "[ True False False  True  True False]\n",
      "\n",
      "\n",
      " [[  1   2   5   3]\n",
      " [  3   2   6   7]\n",
      " [103 403 202 601]]\n",
      "\n",
      "\n",
      " [[ 10  40  20  60]\n",
      " [  4   2   5   4]\n",
      " [124 142 115 114]]\n"
     ]
    }
   ],
   "source": [
    "gender=np.array([\"남\", \"여\", \"여\", \"남\", \"남\", \"여\"])\n",
    "ls11=[1,2,5,3]; ls12=[10,40,20,60]; ls13=[4,2,5,4]\n",
    "ls21=[3,2,6,7]; ls22=[103,403,202,601]; ls23=[124,142,115,114]\n",
    "mat=np.array([ls11, ls12, ls13, ls21, ls22, ls23])\n",
    "print(gender,\"\\n\", mat)\n",
    "result=gender==\"남\"\n",
    "print(result)\n",
    "male=mat[result]\n",
    "female=mat[~result]\n",
    "print(\"\\n\\n\",male)\n",
    "print(\"\\n\\n\",female)"
   ]
  },
  {
   "cell_type": "markdown",
   "metadata": {},
   "source": [
    "### 논리값을 통한 인덱싱 응용"
   ]
  },
  {
   "cell_type": "code",
   "execution_count": 102,
   "metadata": {},
   "outputs": [
    {
     "name": "stdout",
     "output_type": "stream",
     "text": [
      "['남' '여' '여' '남' '남' '여'] \n",
      " [[  1   2   5   3]\n",
      " [ 10  40  20  60]\n",
      " [  4   2   5   4]\n",
      " [  3   2   6   7]\n",
      " [103 403 202 601]\n",
      " [124 142 115 114]]\n",
      "[[ True  True  True  True]\n",
      " [False False False False]\n",
      " [ True  True  True  True]\n",
      " [ True  True  True  True]\n",
      " [False False False False]\n",
      " [False False False False]]\n",
      "[[  0   0   0   0]\n",
      " [ 10  40  20  60]\n",
      " [  0   0   0   0]\n",
      " [  0   0   0   0]\n",
      " [103 403 202 601]\n",
      " [124 142 115 114]]\n"
     ]
    }
   ],
   "source": [
    "gender=np.array([\"남\", \"여\", \"여\", \"남\", \"남\", \"여\"])\n",
    "ls11=[1,2,5,3]; ls12=[10,40,20,60]; ls13=[4,2,5,4]\n",
    "ls21=[3,2,6,7]; ls22=[103,403,202,601]; ls23=[124,142,115,114]\n",
    "mat=np.array([ls11, ls12, ls13, ls21, ls22, ls23])\n",
    "print(gender,\"\\n\", mat)\n",
    "print(mat<10)\n",
    "mat[mat<10]*10\n",
    "mat[mat<10]=0\n",
    "print(mat)"
   ]
  },
  {
   "cell_type": "markdown",
   "metadata": {},
   "source": [
    "### 팬시인덱싱 : 원하는 순서대로 나열하는 것"
   ]
  },
  {
   "cell_type": "markdown",
   "metadata": {},
   "source": [
    "#### 주의할 것: 인덱싱 방식마다 뽑히는 법 다르다 (밑 참고)"
   ]
  },
  {
   "cell_type": "code",
   "execution_count": 118,
   "metadata": {},
   "outputs": [
    {
     "name": "stdout",
     "output_type": "stream",
     "text": [
      "[[ 0.12049345 -0.15318818  0.73054055  0.14491629  0.52048708]\n",
      " [ 0.72394495 -0.12518344  0.34487564  0.51668782 -0.68361283]\n",
      " [-0.41264822  1.19067709  0.87615947 -0.27378301  0.67708873]\n",
      " [ 0.92352707  2.1059901  -0.92587231  0.03429619  1.63479643]\n",
      " [-0.25406256  1.42282732  0.39824619 -0.50645309  0.4143372 ]\n",
      " [-2.17186825 -0.0053124  -1.350677    0.2267292  -0.97616921]\n",
      " [ 0.1021801   0.14021341  0.62271846  0.76162038  1.4758564 ]]\n",
      "\n",
      "\n",
      "\n",
      "\n",
      "[ 0.2267292  -0.15318818  0.67708873]\n",
      "\n",
      "\n",
      "\n",
      "\n",
      "0.22672919902307523\n",
      "\n",
      "\n",
      "\n",
      "\n",
      "[[ 0.2267292  -0.0053124  -0.97616921]\n",
      " [ 0.14491629 -0.15318818  0.52048708]\n",
      " [-0.27378301  1.19067709  0.67708873]]\n"
     ]
    }
   ],
   "source": [
    "ex=np.random.randn(7,5)\n",
    "print(ex)\n",
    "print(\"\\n\\n\\n\")\n",
    "print(ex[[5,0,2], [3,1,4]])\n",
    "print(\"\\n\\n\\n\")\n",
    "print(ex[5,3])\n",
    "print(\"\\n\\n\\n\")\n",
    "print(ex[[5,0,2]][:,[3,1,4]]) # 약간 중첩된 for loop같은 느낌\n",
    "\n",
    "#print(ex[[(5,4)],[(0,1)],[(2,4)]])"
   ]
  },
  {
   "cell_type": "markdown",
   "metadata": {},
   "source": [
    "### 배열의 전치와 축 바꾸기"
   ]
  },
  {
   "cell_type": "code",
   "execution_count": 125,
   "metadata": {},
   "outputs": [
    {
     "ename": "SyntaxError",
     "evalue": "invalid syntax (<ipython-input-125-838b4825c28e>, line 2)",
     "output_type": "error",
     "traceback": [
      "\u001b[1;36m  File \u001b[1;32m\"<ipython-input-125-838b4825c28e>\"\u001b[1;36m, line \u001b[1;32m2\u001b[0m\n\u001b[1;33m    print(ex. \"\\n\\n\", ex.transpose(2,0,1))\u001b[0m\n\u001b[1;37m                   ^\u001b[0m\n\u001b[1;31mSyntaxError\u001b[0m\u001b[1;31m:\u001b[0m invalid syntax\n"
     ]
    }
   ],
   "source": [
    "ex=np.arange(24).reshape(2,4,3)\n",
    "print(ex.\"\\n\\n\", ex.transpose(2,0,1))"
   ]
  },
  {
   "cell_type": "markdown",
   "metadata": {},
   "source": [
    "## 범용 함수"
   ]
  },
  {
   "cell_type": "code",
   "execution_count": 128,
   "metadata": {},
   "outputs": [
    {
     "data": {
      "text/plain": [
       "array([ 1.,  4.,  2., inf, nan])"
      ]
     },
     "execution_count": 128,
     "metadata": {},
     "output_type": "execute_result"
    }
   ],
   "source": [
    "np.array([1,4,2,np.inf,np.nan])"
   ]
  },
  {
   "cell_type": "code",
   "execution_count": 135,
   "metadata": {},
   "outputs": [
    {
     "name": "stdout",
     "output_type": "stream",
     "text": [
      "[[ 0  1  2  3  4  5  6]\n",
      " [ 7  8  9 10 11 12 13]\n",
      " [14 15 16 17 18 19 20]] \n",
      " [[-0.48500243 -0.26489519 -0.2258051   0.31466558  1.28082044 -1.25365766\n",
      "  -1.17474742]\n",
      " [-0.29680804 -0.22189405 -0.23584172  0.55272019 -0.30887951 -1.27853221\n",
      "   1.22894315]\n",
      " [ 1.72004115  0.26551314  0.58387034 -0.90675126  1.04420812 -0.87253031\n",
      "   0.08909719]]\n",
      "\n",
      "\n",
      "\n",
      "\n",
      "\n",
      "[[0.48500243 0.26489519 0.2258051  0.31466558 1.28082044 1.25365766\n",
      "  1.17474742]\n",
      " [0.29680804 0.22189405 0.23584172 0.55272019 0.30887951 1.27853221\n",
      "  1.22894315]\n",
      " [1.72004115 0.26551314 0.58387034 0.90675126 1.04420812 0.87253031\n",
      "  0.08909719]]\n",
      "[[-1. -1. -1.  1.  1. -1. -1.]\n",
      " [-1. -1. -1.  1. -1. -1.  1.]\n",
      " [ 1.  1.  1. -1.  1. -1.  1.]]\n",
      "[[ True  True  True  True  True  True  True]\n",
      " [ True  True  True  True  True  True  True]\n",
      " [ True  True  True  True  True  True  True]]\n"
     ]
    }
   ],
   "source": [
    "A=np.arange(21).reshape(3,7)\n",
    "B=np.random.randn(3,7)\n",
    "print(A,\"\\n\",B)\n",
    "print(\"\\n\\n\\n\\n\")\n",
    "print(abs(B))\n",
    "print(np.sign(B))\n",
    "print(np.isfinite(B))"
   ]
  },
  {
   "cell_type": "markdown",
   "metadata": {},
   "source": [
    "## 배열을 사용한 데이터 처리"
   ]
  },
  {
   "cell_type": "code",
   "execution_count": 140,
   "metadata": {},
   "outputs": [
    {
     "name": "stdout",
     "output_type": "stream",
     "text": [
      "[(2, 3, '서울'), (6, 5, '경기'), (3, 2, '서울'), (3, 5, '인천'), (5, 6, '경기')]\n",
      "[2, 5, 3, 5, 6]\n"
     ]
    }
   ],
   "source": [
    "xarr=np.array([2,6,3,3,5])\n",
    "yarr=np.array([3,5,2,5,6])\n",
    "zarr=np.array([\"서울\", \"경기\", \"서울\", \"인천\", \"경기\"])\n",
    "print(list(zip(xarr,yarr,zarr)))\n",
    "result=[(x if z==\"서울\" else y) for x,y,z in zip(xarr,yarr,zarr)]\n",
    "print(result)"
   ]
  },
  {
   "cell_type": "code",
   "execution_count": 149,
   "metadata": {},
   "outputs": [
    {
     "name": "stdout",
     "output_type": "stream",
     "text": [
      "[[ 0  1  2]\n",
      " [ 3  4  5]\n",
      " [ 6  7  8]\n",
      " [ 9 10 11]\n",
      " [12 13 14]\n",
      " [15 16 17]\n",
      " [18 19 20]] \n",
      " [[ 0  2  4]\n",
      " [ 6  8 10]\n",
      " [12 14 16]\n",
      " [18 20 22]\n",
      " [24 26 28]\n",
      " [30 32 34]\n",
      " [36 38 40]] \n",
      "\n",
      "\n",
      " [[ 0  2  4]\n",
      " [ 6  8 10]\n",
      " [ 6  7  8]\n",
      " [ 9 10 11]\n",
      " [12 13 14]\n",
      " [15 16 17]\n",
      " [18 19 20]]\n"
     ]
    }
   ],
   "source": [
    "arr1=np.arange(21).reshape(7,3)\n",
    "arr2=np.arange(21).reshape(7,3)*2\n",
    "result=np.where(arr1>5,arr1,arr2)\n",
    "print(arr1, \"\\n\", arr2, \"\\n\\n\\n\",result)"
   ]
  },
  {
   "cell_type": "markdown",
   "metadata": {},
   "source": [
    "### 통계 메소드 or 함수"
   ]
  },
  {
   "cell_type": "markdown",
   "metadata": {},
   "source": [
    "#### 메소드"
   ]
  },
  {
   "cell_type": "code",
   "execution_count": 150,
   "metadata": {},
   "outputs": [
    {
     "name": "stdout",
     "output_type": "stream",
     "text": [
      "9.333333333333334 5.2\n"
     ]
    }
   ],
   "source": [
    "A=np.array([2,5,3,6,7,33])\n",
    "B=np.array([3,6,4,6,7])\n",
    "print(A.mean(), B.mean())"
   ]
  },
  {
   "cell_type": "markdown",
   "metadata": {},
   "source": [
    "#### or"
   ]
  },
  {
   "cell_type": "markdown",
   "metadata": {},
   "source": [
    "#### 함수"
   ]
  },
  {
   "cell_type": "code",
   "execution_count": 151,
   "metadata": {},
   "outputs": [
    {
     "name": "stdout",
     "output_type": "stream",
     "text": [
      "9.333333333333334 5.2\n"
     ]
    }
   ],
   "source": [
    "print(np.mean(A), np.mean(B))"
   ]
  },
  {
   "cell_type": "code",
   "execution_count": 159,
   "metadata": {},
   "outputs": [
    {
     "name": "stdout",
     "output_type": "stream",
     "text": [
      "3.5555555555555554\n",
      "3.5555555555555554\n",
      "[2.66666667 4.66666667 3.33333333] [3.66666667 3.         4.        ]\n",
      "[0.57735027 0.57735027 2.081666  ] [1.52752523 2.         1.        ]\n"
     ]
    }
   ],
   "source": [
    "A=np.array([[2,5,4], [3,5,1], [3,4,5]])\n",
    "B=np.array([2,5,4,3,5,1,3,4,5])\n",
    "print(A.mean()) # 특별히 명시하지 않으면 전체 원소에서 평균 구해줌\n",
    "print(B.mean())\n",
    "print(A.mean(axis=0), np.mean(A,axis=1)) # 열평균과 행평균\n",
    "print(A.std(axis=0, ddof=1), np.std(A,axis=1, ddof=1)) # 열 표준편차와 행 표준편차"
   ]
  },
  {
   "cell_type": "markdown",
   "metadata": {},
   "source": [
    "### 논리값 배열을 위한 메소드\n",
    "### 두개 이상의 논리값"
   ]
  },
  {
   "cell_type": "code",
   "execution_count": 161,
   "metadata": {},
   "outputs": [
    {
     "name": "stdout",
     "output_type": "stream",
     "text": [
      "int32\n",
      "\n",
      " [False  True False  True False False False False False False]\n",
      "\n",
      " 0.2\n"
     ]
    }
   ],
   "source": [
    "B=np.array([2,5,3,5,3,2,4,3,2,1])\n",
    "print(B.dtype) # 배열이다\n",
    "print(\"\\n\", B>=5)\n",
    "print(\"\\n\", (B>=5).mean()) # 비율값 (sum()=개수)"
   ]
  },
  {
   "cell_type": "markdown",
   "metadata": {},
   "source": [
    "### 정렬"
   ]
  },
  {
   "cell_type": "code",
   "execution_count": 173,
   "metadata": {},
   "outputs": [
    {
     "name": "stdout",
     "output_type": "stream",
     "text": [
      "[[ 2  3  5]\n",
      " [ 6  7 33]\n",
      " [ 2  4  7]\n",
      " [ 4  7  9]] [ 2  2  3  4  4  5  6  7  7  7  9 33]\n"
     ]
    },
    {
     "data": {
      "text/plain": [
       "array([[ 2,  3,  5],\n",
       "       [ 2,  4,  7],\n",
       "       [ 4,  7,  9],\n",
       "       [ 6,  7, 33]])"
      ]
     },
     "execution_count": 173,
     "metadata": {},
     "output_type": "execute_result"
    }
   ],
   "source": [
    "A=np.array([[2,5,3],[6,7,33],[4,2,7],[7,9,4]])\n",
    "B=np.array([2,5,3,6,7,33,4,2,7,7,9,4])\n",
    "#print(sort(A), sort(B)) # 메소드 쓰면 돌려주는 값 없다 (None)\n",
    "A.sort()\n",
    "B.sort()\n",
    "print(A,B)\n",
    "A.sort(axis=0)\n",
    "A"
   ]
  },
  {
   "cell_type": "markdown",
   "metadata": {},
   "source": [
    "### 배열의 파일 입출력"
   ]
  },
  {
   "cell_type": "code",
   "execution_count": 177,
   "metadata": {
    "scrolled": true
   },
   "outputs": [
    {
     "name": "stdout",
     "output_type": "stream",
     "text": [
      "[[ 2  5  3]\n",
      " [ 6  7 33]\n",
      " [ 4  2  7]\n",
      " [ 7  9  4]] \n",
      "\n",
      " [ 2  5  3  6  7 33  4  2  7  7  9  4]\n"
     ]
    }
   ],
   "source": [
    "A=np.array([[2,5,3],[6,7,33],[4,2,7],[7,9,4]])\n",
    "B=np.array([2,5,3,6,7,33,4,2,7,7,9,4])\n",
    "print(A,\"\\n\\n\",B)\n",
    "np.save(\"C:/Users/Affinity/Desktop/Python_Data/arr_AB.npy\",A2d=A, B1d=B)"
   ]
  },
  {
   "cell_type": "code",
   "execution_count": 179,
   "metadata": {},
   "outputs": [
    {
     "data": {
      "text/plain": [
       "array([[ 2,  5,  3],\n",
       "       [ 6,  7, 33],\n",
       "       [ 4,  2,  7],\n",
       "       [ 7,  9,  4]])"
      ]
     },
     "execution_count": 179,
     "metadata": {},
     "output_type": "execute_result"
    }
   ],
   "source": [
    "npy_A=np.load(\"C:/Users/Affinity/Desktop/Python_Data/arr_AB.npy\")\n",
    "npy_AB[\"B1d\"]"
   ]
  },
  {
   "cell_type": "markdown",
   "metadata": {},
   "source": [
    "### 텍스트 파일 불러오기와 저장하기"
   ]
  },
  {
   "cell_type": "code",
   "execution_count": 184,
   "metadata": {},
   "outputs": [
    {
     "name": "stdout",
     "output_type": "stream",
     "text": [
      "[112.7375 198.375   59.25  ]\n"
     ]
    }
   ],
   "source": [
    "A=np.loadtxt('C:/Users/Affinity/Desktop/Python_Data/ch02_data/steel.txt', \n",
    "             skiprows=5, delimiter=\"\\t\")\n",
    "print(A.mean(axis=0))"
   ]
  },
  {
   "cell_type": "code",
   "execution_count": 185,
   "metadata": {},
   "outputs": [
    {
     "name": "stdout",
     "output_type": "stream",
     "text": [
      "[112.7375  59.25  ]\n"
     ]
    }
   ],
   "source": [
    "A=np.loadtxt('C:/Users/Affinity/Desktop/Python_Data/ch02_data/steel.txt', \n",
    "             skiprows=5, delimiter=\"\\t\", usecols=(0,2))\n",
    "print(A.mean(axis=0))"
   ]
  },
  {
   "cell_type": "code",
   "execution_count": 188,
   "metadata": {},
   "outputs": [
    {
     "name": "stdout",
     "output_type": "stream",
     "text": [
      "[[0 1]\n",
      " [2 3]\n",
      " [4 5]\n",
      " [6 7]]\n",
      "[[3 5 7 2]\n",
      " [4 3 6 2]]\n",
      "[[5 3 6 4]\n",
      " [7 6 4 5]\n",
      " [5 8 4 2]\n",
      " [6 5 3 7]]\n",
      "[[50 67]\n",
      " [42 57]] [5 6 4 7]\n"
     ]
    }
   ],
   "source": [
    "A=np.arange(8).reshape(4,2)\n",
    "B=np.array([[3,5,7,2],[4,3,6,2]])\n",
    "C=np.array([[5,3,6,4],[7,6,4,5],[5,8,4,2],[6,5,3,7]])\n",
    "print(A);print(B);print(C)\n",
    "print(np.dot(B,A), np.diag(C))"
   ]
  },
  {
   "cell_type": "markdown",
   "metadata": {},
   "source": [
    "### 선형대수학"
   ]
  },
  {
   "cell_type": "code",
   "execution_count": 4,
   "metadata": {},
   "outputs": [
    {
     "name": "stdout",
     "output_type": "stream",
     "text": [
      "[[  1. 195.  57.]\n",
      " [  1. 179.  61.]\n",
      " [  1. 205.  60.]\n",
      " [  1. 204.  62.]\n",
      " [  1. 201.  61.]\n",
      " [  1. 184.  54.]\n",
      " [  1. 210.  58.]\n",
      " [  1. 209.  61.]] [ 81.4 122.2 101.7 175.6 150.3  64.8  92.1 113.8]\n"
     ]
    }
   ],
   "source": [
    "steel = np.loadtxt(\"C:/Users/Affinity/Desktop/Python_Data/ch02_data/steel.txt\",\n",
    "                   skiprows=5, delimiter=\"\\t\")\n",
    "y=steel[:,0].copy()\n",
    "X=steel.copy()\n",
    "X[:,0]=1\n",
    "print(X,y)"
   ]
  },
  {
   "cell_type": "code",
   "execution_count": 5,
   "metadata": {},
   "outputs": [
    {
     "name": "stderr",
     "output_type": "stream",
     "text": [
      "C:\\ProgramData\\Anaconda3\\envs\\mypython\\lib\\site-packages\\ipykernel_launcher.py:1: FutureWarning: `rcond` parameter will change to the default of machine precision times ``max(M, N)`` where M and N are the input matrix dimensions.\n",
      "To use the future default and silence this warning we advise to pass `rcond=None`, to keep using the old, explicitly pass `rcond=-1`.\n",
      "  \"\"\"Entry point for launching an IPython kernel.\n"
     ]
    },
    {
     "data": {
      "text/plain": [
       "(array([-5.54311223e+02, -1.79739607e-01,  1.18599927e+01]),\n",
       " array([2340.88393765]),\n",
       " 3,\n",
       " array([5.86352311e+02, 8.94176555e+00, 1.09839713e-01]))"
      ]
     },
     "execution_count": 5,
     "metadata": {},
     "output_type": "execute_result"
    }
   ],
   "source": [
    "np.linalg.lstsq(X,y)"
   ]
  },
  {
   "cell_type": "markdown",
   "metadata": {},
   "source": [
    "#### 회귀계수 값들 추정됨 (beta0, beta1, beta2)"
   ]
  },
  {
   "cell_type": "code",
   "execution_count": 8,
   "metadata": {},
   "outputs": [
    {
     "name": "stderr",
     "output_type": "stream",
     "text": [
      "C:\\ProgramData\\Anaconda3\\envs\\mypython\\lib\\site-packages\\ipykernel_launcher.py:2: FutureWarning: `rcond` parameter will change to the default of machine precision times ``max(M, N)`` where M and N are the input matrix dimensions.\n",
      "To use the future default and silence this warning we advise to pass `rcond=None`, to keep using the old, explicitly pass `rcond=-1`.\n",
      "  \n"
     ]
    },
    {
     "ename": "NameError",
     "evalue": "name 'x' is not defined",
     "output_type": "error",
     "traceback": [
      "\u001b[1;31m---------------------------------------------------------------------------\u001b[0m",
      "\u001b[1;31mNameError\u001b[0m                                 Traceback (most recent call last)",
      "\u001b[1;32m<ipython-input-8-7e40f5ddbbf0>\u001b[0m in \u001b[0;36m<module>\u001b[1;34m\u001b[0m\n\u001b[0;32m      2\u001b[0m \u001b[0mb\u001b[0m\u001b[1;33m=\u001b[0m\u001b[0mnp\u001b[0m\u001b[1;33m.\u001b[0m\u001b[0mlinalg\u001b[0m\u001b[1;33m.\u001b[0m\u001b[0mlstsq\u001b[0m\u001b[1;33m(\u001b[0m\u001b[0mX\u001b[0m\u001b[1;33m,\u001b[0m\u001b[0my\u001b[0m\u001b[1;33m)\u001b[0m\u001b[1;33m[\u001b[0m\u001b[1;36m0\u001b[0m\u001b[1;33m]\u001b[0m\u001b[1;33m\u001b[0m\u001b[1;33m\u001b[0m\u001b[0m\n\u001b[0;32m      3\u001b[0m \u001b[0mNew_x\u001b[0m\u001b[1;33m=\u001b[0m\u001b[0mnp\u001b[0m\u001b[1;33m.\u001b[0m\u001b[0marray\u001b[0m\u001b[1;33m(\u001b[0m\u001b[1;33m[\u001b[0m\u001b[1;36m1\u001b[0m\u001b[1;33m,\u001b[0m\u001b[1;36m200\u001b[0m\u001b[1;33m,\u001b[0m\u001b[1;36m60\u001b[0m\u001b[1;33m]\u001b[0m\u001b[1;33m)\u001b[0m\u001b[1;33m\u001b[0m\u001b[1;33m\u001b[0m\u001b[0m\n\u001b[1;32m----> 4\u001b[1;33m \u001b[0mprint\u001b[0m\u001b[1;33m(\u001b[0m\u001b[0mb\u001b[0m\u001b[1;33m,\u001b[0m\u001b[0mx\u001b[0m\u001b[1;33m)\u001b[0m\u001b[1;33m\u001b[0m\u001b[1;33m\u001b[0m\u001b[0m\n\u001b[0m",
      "\u001b[1;31mNameError\u001b[0m: name 'x' is not defined"
     ]
    }
   ],
   "source": [
    "import numpy as np\n",
    "b=np.linalg.lstsq(X,y)[0]\n",
    "New_x=np.array([1,200,60])\n",
    "print(b,x)"
   ]
  }
 ],
 "metadata": {
  "kernelspec": {
   "display_name": "Python 3",
   "language": "python",
   "name": "mypython"
  },
  "language_info": {
   "codemirror_mode": {
    "name": "ipython",
    "version": 3
   },
   "file_extension": ".py",
   "mimetype": "text/x-python",
   "name": "python",
   "nbconvert_exporter": "python",
   "pygments_lexer": "ipython3",
   "version": "3.6.8"
  },
  "widgets": {
   "state": {},
   "version": "1.1.2"
  }
 },
 "nbformat": 4,
 "nbformat_minor": 2
}
