{
 "cells": [
  {
   "cell_type": "markdown",
   "metadata": {},
   "source": [
    "## 난수"
   ]
  },
  {
   "cell_type": "code",
   "execution_count": 1,
   "metadata": {},
   "outputs": [],
   "source": [
    "import numpy as np"
   ]
  },
  {
   "cell_type": "code",
   "execution_count": 7,
   "metadata": {},
   "outputs": [
    {
     "name": "stdout",
     "output_type": "stream",
     "text": [
      "[[1 3 6]\n",
      " [1 5 4]\n",
      " [1 3 6]\n",
      " [1 4 6]\n",
      " [1 7 3]\n",
      " [1 8 4]] [ 1.  -2.5  5.5] [26.5 10.5 26.5 24.   0.   3. ]\n"
     ]
    }
   ],
   "source": [
    "x=np.array([[1,3,6],[1,5,4],[1,3,6],[1,4,6],[1,7,3],[1,8,4]])\n",
    "x\n",
    "beta=np.array([1,-2.5,5.5])\n",
    "e=np.random.normal(loc=0,scale=2,size=10) # 오차항\n",
    "y=np.dot(x,beta)\n",
    "print(x,beta,y)"
   ]
  },
  {
   "cell_type": "markdown",
   "metadata": {},
   "source": [
    "# pandas"
   ]
  },
  {
   "cell_type": "code",
   "execution_count": 8,
   "metadata": {},
   "outputs": [
    {
     "data": {
      "text/plain": [
       "array(['3', '2', 'A'], dtype='<U11')"
      ]
     },
     "execution_count": 8,
     "metadata": {},
     "output_type": "execute_result"
    }
   ],
   "source": [
    "# numpy 단점: 같은 종류의 자료만 저장 가능\n",
    "np.array([3,2,\"A\"]) # 숫자 문자 혼합시키면 다 문자로 인식"
   ]
  },
  {
   "cell_type": "code",
   "execution_count": 12,
   "metadata": {},
   "outputs": [
    {
     "data": {
      "text/plain": [
       "RangeIndex(start=0, stop=4, step=1)"
      ]
     },
     "execution_count": 12,
     "metadata": {},
     "output_type": "execute_result"
    }
   ],
   "source": [
    "from pandas import Series, DataFrame\n",
    "import numpy as np\n",
    "import pandas as pd\n",
    "Exam=Series([2,3,4,4])\n",
    "Exam.index # 0부터 1씩 증분하는 수열"
   ]
  },
  {
   "cell_type": "code",
   "execution_count": 18,
   "metadata": {},
   "outputs": [
    {
     "name": "stdout",
     "output_type": "stream",
     "text": [
      "kim     2\n",
      "lee     3\n",
      "cho     4\n",
      "kang    4\n",
      "dtype: int64 Index(['kim', 'lee', 'cho', 'kang'], dtype='object')\n",
      "lee     3\n",
      "kang    4\n",
      "dtype: int64\n"
     ]
    }
   ],
   "source": [
    "Exam=Series([2,3,4,4], index=[\"kim\", \"lee\", \"cho\", \"kang\"]) # 인덱스 따로 지정해줄수도 있다. \n",
    "print(Exam, Exam.index)\n",
    "# 색인가지고 데이터 접근하기 (인덱싱)\n",
    "print(Exam[[\"lee\", \"kang\"]])\n"
   ]
  },
  {
   "cell_type": "code",
   "execution_count": 29,
   "metadata": {},
   "outputs": [
    {
     "name": "stdout",
     "output_type": "stream",
     "text": [
      "A    False\n",
      "B    False\n",
      "C     True\n",
      "D    False\n",
      "E    False\n",
      "F     True\n",
      "G     True\n",
      "H    False\n",
      "I    False\n",
      "J    False\n",
      "dtype: bool \n",
      "\n",
      "\n",
      " C    6\n",
      "F    5\n",
      "G    7\n",
      "dtype: int64\n",
      "\n",
      "\n",
      "\n",
      " C    2.449490\n",
      "F    2.236068\n",
      "G    2.645751\n",
      "dtype: float64\n"
     ]
    }
   ],
   "source": [
    "Exam=Series([2,3,6,9,3,5,7,9,3,1], index=[\"A\",\"B\",\"C\",\"D\",\"E\",\"F\",\"G\",\"H\",\"I\",\"J\"])\n",
    "b_Result=(Exam>=4)&(Exam<8)\n",
    "print(b_Result, \"\\n\"\"\\n\"\"\\n\", Exam[b_Result])\n",
    "print(\"\\n\"\"\\n\"\"\\n\",np.sqrt(Exam[(Exam>=4)&(Exam<8)])) # 여기서도 numpy함수 사용 가능"
   ]
  },
  {
   "cell_type": "code",
   "execution_count": 32,
   "metadata": {},
   "outputs": [
    {
     "name": "stdout",
     "output_type": "stream",
     "text": [
      "kim    25\n",
      "lee    45\n",
      "cho    13\n",
      "dtype: int64 \n",
      "\n",
      "\n",
      "\n",
      "lee     45.0\n",
      "kang     NaN\n",
      "cho     13.0\n",
      "kim     25.0\n",
      "dtype: float64 \n",
      "\n",
      "\n",
      "\n"
     ]
    }
   ],
   "source": [
    "dic={\"kim\":25,\"lee\":45,\"cho\":13} # dictionary 형태로 넣어주면 바로 인덱스랑 value로 넣어줌\n",
    "Exam=Series(dic)\n",
    "print(Exam,\"\\n\"\"\\n\"\"\\n\")\n",
    "Exam2=Series(dic,index=[\"lee\",\"kang\",\"cho\",\"kim\"]) # 사전의 키와 색인을 비교 (결측값은 NaN)\n",
    "print(Exam2,\"\\n\"\"\\n\"\"\\n\")"
   ]
  },
  {
   "cell_type": "code",
   "execution_count": 39,
   "metadata": {},
   "outputs": [
    {
     "name": "stdout",
     "output_type": "stream",
     "text": [
      "kim    25\n",
      "lee    45\n",
      "cho    13\n",
      "dtype: int64 \n",
      "\n",
      "\n",
      " cho     56\n",
      "kim     75\n",
      "kang    85\n",
      "lee     96\n",
      "dtype: int64 \n",
      "\n",
      "\n",
      " cho      69.0\n",
      "kang      NaN\n",
      "kim     100.0\n",
      "lee     141.0\n",
      "dtype: float64\n"
     ]
    },
    {
     "data": {
      "text/plain": [
       "choi\n",
       "cho      69.0\n",
       "kang      NaN\n",
       "kim     100.0\n",
       "lee     141.0\n",
       "Name: 성적, dtype: float64"
      ]
     },
     "execution_count": 39,
     "metadata": {},
     "output_type": "execute_result"
    }
   ],
   "source": [
    "dic={\"kim\":25,\"lee\":45,\"cho\":13} # dictionary 형태로 넣어주면 바로 인덱스랑 value로 넣어줌\n",
    "Exam1=Series(dic)\n",
    "Exam2=Series([56,75,85,96], index=[\"cho\",\"kim\",\"kang\",\"lee\"])\n",
    "print(Exam1,\"\\n\\n\\n\",Exam2,\"\\n\\n\\n\",Exam1+Exam2)\n",
    "Result=Exam1+Exam2\n",
    "Result.name=\"성적\"\n",
    "Result.index.name=\"choi\" # 새로운 색인 추가 (빈값)\n",
    "Result"
   ]
  },
  {
   "cell_type": "markdown",
   "metadata": {},
   "source": [
    "### Dictionary로 DataFrame 만들기"
   ]
  },
  {
   "cell_type": "code",
   "execution_count": 40,
   "metadata": {},
   "outputs": [
    {
     "data": {
      "text/html": [
       "<div>\n",
       "<style scoped>\n",
       "    .dataframe tbody tr th:only-of-type {\n",
       "        vertical-align: middle;\n",
       "    }\n",
       "\n",
       "    .dataframe tbody tr th {\n",
       "        vertical-align: top;\n",
       "    }\n",
       "\n",
       "    .dataframe thead th {\n",
       "        text-align: right;\n",
       "    }\n",
       "</style>\n",
       "<table border=\"1\" class=\"dataframe\">\n",
       "  <thead>\n",
       "    <tr style=\"text-align: right;\">\n",
       "      <th></th>\n",
       "      <th>gender</th>\n",
       "      <th>mid</th>\n",
       "      <th>fin</th>\n",
       "    </tr>\n",
       "  </thead>\n",
       "  <tbody>\n",
       "    <tr>\n",
       "      <th>0</th>\n",
       "      <td>M</td>\n",
       "      <td>35</td>\n",
       "      <td>45</td>\n",
       "    </tr>\n",
       "    <tr>\n",
       "      <th>1</th>\n",
       "      <td>F</td>\n",
       "      <td>56</td>\n",
       "      <td>76</td>\n",
       "    </tr>\n",
       "    <tr>\n",
       "      <th>2</th>\n",
       "      <td>F</td>\n",
       "      <td>35</td>\n",
       "      <td>88</td>\n",
       "    </tr>\n",
       "    <tr>\n",
       "      <th>3</th>\n",
       "      <td>M</td>\n",
       "      <td>34</td>\n",
       "      <td>79</td>\n",
       "    </tr>\n",
       "  </tbody>\n",
       "</table>\n",
       "</div>"
      ],
      "text/plain": [
       "  gender  mid  fin\n",
       "0      M   35   45\n",
       "1      F   56   76\n",
       "2      F   35   88\n",
       "3      M   34   79"
      ]
     },
     "execution_count": 40,
     "metadata": {},
     "output_type": "execute_result"
    }
   ],
   "source": [
    "dic={\"gender\":[\"M\",\"F\",\"F\",\"M\"], \"mid\":[35,56,35,34], \"fin\":[45, 76, 88, 79]} # 사전형에서는 key가 변수명으로 들어감\n",
    "Exam=DataFrame(dic)\n",
    "Exam"
   ]
  },
  {
   "cell_type": "code",
   "execution_count": 41,
   "metadata": {},
   "outputs": [
    {
     "data": {
      "text/html": [
       "<div>\n",
       "<style scoped>\n",
       "    .dataframe tbody tr th:only-of-type {\n",
       "        vertical-align: middle;\n",
       "    }\n",
       "\n",
       "    .dataframe tbody tr th {\n",
       "        vertical-align: top;\n",
       "    }\n",
       "\n",
       "    .dataframe thead th {\n",
       "        text-align: right;\n",
       "    }\n",
       "</style>\n",
       "<table border=\"1\" class=\"dataframe\">\n",
       "  <thead>\n",
       "    <tr style=\"text-align: right;\">\n",
       "      <th></th>\n",
       "      <th>fin</th>\n",
       "      <th>gender</th>\n",
       "      <th>mid</th>\n",
       "    </tr>\n",
       "  </thead>\n",
       "  <tbody>\n",
       "    <tr>\n",
       "      <th>0</th>\n",
       "      <td>45</td>\n",
       "      <td>M</td>\n",
       "      <td>35</td>\n",
       "    </tr>\n",
       "    <tr>\n",
       "      <th>1</th>\n",
       "      <td>76</td>\n",
       "      <td>F</td>\n",
       "      <td>56</td>\n",
       "    </tr>\n",
       "    <tr>\n",
       "      <th>2</th>\n",
       "      <td>88</td>\n",
       "      <td>F</td>\n",
       "      <td>35</td>\n",
       "    </tr>\n",
       "    <tr>\n",
       "      <th>3</th>\n",
       "      <td>79</td>\n",
       "      <td>M</td>\n",
       "      <td>34</td>\n",
       "    </tr>\n",
       "  </tbody>\n",
       "</table>\n",
       "</div>"
      ],
      "text/plain": [
       "   fin gender  mid\n",
       "0   45      M   35\n",
       "1   76      F   56\n",
       "2   88      F   35\n",
       "3   79      M   34"
      ]
     },
     "execution_count": 41,
     "metadata": {},
     "output_type": "execute_result"
    }
   ],
   "source": [
    "dic={\"gender\":[\"M\",\"F\",\"F\",\"M\"], \"mid\":[35,56,35,34], \"fin\":[45, 76, 88, 79]} # 사전형에서는 key가 변수명으로 들어감\n",
    "Exam=DataFrame(dic, columns=[\"fin\", \"gender\", \"mid\"])\n",
    "Exam"
   ]
  },
  {
   "cell_type": "code",
   "execution_count": 43,
   "metadata": {},
   "outputs": [
    {
     "data": {
      "text/html": [
       "<div>\n",
       "<style scoped>\n",
       "    .dataframe tbody tr th:only-of-type {\n",
       "        vertical-align: middle;\n",
       "    }\n",
       "\n",
       "    .dataframe tbody tr th {\n",
       "        vertical-align: top;\n",
       "    }\n",
       "\n",
       "    .dataframe thead th {\n",
       "        text-align: right;\n",
       "    }\n",
       "</style>\n",
       "<table border=\"1\" class=\"dataframe\">\n",
       "  <thead>\n",
       "    <tr style=\"text-align: right;\">\n",
       "      <th></th>\n",
       "      <th>fin</th>\n",
       "      <th>gender</th>\n",
       "      <th>mid</th>\n",
       "      <th>a</th>\n",
       "    </tr>\n",
       "  </thead>\n",
       "  <tbody>\n",
       "    <tr>\n",
       "      <th>0</th>\n",
       "      <td>45</td>\n",
       "      <td>M</td>\n",
       "      <td>35</td>\n",
       "      <td>NaN</td>\n",
       "    </tr>\n",
       "    <tr>\n",
       "      <th>1</th>\n",
       "      <td>76</td>\n",
       "      <td>F</td>\n",
       "      <td>56</td>\n",
       "      <td>NaN</td>\n",
       "    </tr>\n",
       "    <tr>\n",
       "      <th>2</th>\n",
       "      <td>88</td>\n",
       "      <td>F</td>\n",
       "      <td>35</td>\n",
       "      <td>NaN</td>\n",
       "    </tr>\n",
       "    <tr>\n",
       "      <th>3</th>\n",
       "      <td>79</td>\n",
       "      <td>M</td>\n",
       "      <td>34</td>\n",
       "      <td>NaN</td>\n",
       "    </tr>\n",
       "  </tbody>\n",
       "</table>\n",
       "</div>"
      ],
      "text/plain": [
       "   fin gender  mid    a\n",
       "0   45      M   35  NaN\n",
       "1   76      F   56  NaN\n",
       "2   88      F   35  NaN\n",
       "3   79      M   34  NaN"
      ]
     },
     "execution_count": 43,
     "metadata": {},
     "output_type": "execute_result"
    }
   ],
   "source": [
    "dic={\"gender\":[\"M\",\"F\",\"F\",\"M\"], \"mid\":[35,56,35,34], \"fin\":[45, 76, 88, 79]} \n",
    "Exam=DataFrame(dic, columns=[\"fin\", \"gender\", \"mid\", \"a\"]) # 없는 index 추가하며 누락값으로 처리 \n",
    "Exam"
   ]
  },
  {
   "cell_type": "code",
   "execution_count": 44,
   "metadata": {},
   "outputs": [
    {
     "data": {
      "text/html": [
       "<div>\n",
       "<style scoped>\n",
       "    .dataframe tbody tr th:only-of-type {\n",
       "        vertical-align: middle;\n",
       "    }\n",
       "\n",
       "    .dataframe tbody tr th {\n",
       "        vertical-align: top;\n",
       "    }\n",
       "\n",
       "    .dataframe thead th {\n",
       "        text-align: right;\n",
       "    }\n",
       "</style>\n",
       "<table border=\"1\" class=\"dataframe\">\n",
       "  <thead>\n",
       "    <tr style=\"text-align: right;\">\n",
       "      <th></th>\n",
       "      <th>fin</th>\n",
       "      <th>gender</th>\n",
       "      <th>mid</th>\n",
       "      <th>att</th>\n",
       "    </tr>\n",
       "  </thead>\n",
       "  <tbody>\n",
       "    <tr>\n",
       "      <th>A</th>\n",
       "      <td>45</td>\n",
       "      <td>M</td>\n",
       "      <td>35</td>\n",
       "      <td>NaN</td>\n",
       "    </tr>\n",
       "    <tr>\n",
       "      <th>B</th>\n",
       "      <td>76</td>\n",
       "      <td>F</td>\n",
       "      <td>56</td>\n",
       "      <td>NaN</td>\n",
       "    </tr>\n",
       "    <tr>\n",
       "      <th>C</th>\n",
       "      <td>88</td>\n",
       "      <td>F</td>\n",
       "      <td>35</td>\n",
       "      <td>NaN</td>\n",
       "    </tr>\n",
       "    <tr>\n",
       "      <th>D</th>\n",
       "      <td>79</td>\n",
       "      <td>M</td>\n",
       "      <td>34</td>\n",
       "      <td>NaN</td>\n",
       "    </tr>\n",
       "  </tbody>\n",
       "</table>\n",
       "</div>"
      ],
      "text/plain": [
       "   fin gender  mid  att\n",
       "A   45      M   35  NaN\n",
       "B   76      F   56  NaN\n",
       "C   88      F   35  NaN\n",
       "D   79      M   34  NaN"
      ]
     },
     "execution_count": 44,
     "metadata": {},
     "output_type": "execute_result"
    }
   ],
   "source": [
    "dic={\"gender\":[\"M\",\"F\",\"F\",\"M\"], \"mid\":[35,56,35,34], \"fin\":[45, 76, 88, 79]} \n",
    "Exam=DataFrame(dic, columns=[\"fin\", \"gender\", \"mid\", \"att\"], index=[\"A\",\"B\",\"C\",\"D\"]) # 행 인덱스도 index= 로 처리 \n",
    "Exam"
   ]
  },
  {
   "cell_type": "markdown",
   "metadata": {},
   "source": [
    "### Dictionary말고 배열로 dataframe 만드는 경우\n",
    "#### 배열은 기본적으로 열이 변수"
   ]
  },
  {
   "cell_type": "code",
   "execution_count": 48,
   "metadata": {},
   "outputs": [
    {
     "data": {
      "text/html": [
       "<div>\n",
       "<style scoped>\n",
       "    .dataframe tbody tr th:only-of-type {\n",
       "        vertical-align: middle;\n",
       "    }\n",
       "\n",
       "    .dataframe tbody tr th {\n",
       "        vertical-align: top;\n",
       "    }\n",
       "\n",
       "    .dataframe thead th {\n",
       "        text-align: right;\n",
       "    }\n",
       "</style>\n",
       "<table border=\"1\" class=\"dataframe\">\n",
       "  <thead>\n",
       "    <tr style=\"text-align: right;\">\n",
       "      <th></th>\n",
       "      <th>0</th>\n",
       "      <th>1</th>\n",
       "      <th>2</th>\n",
       "      <th>3</th>\n",
       "    </tr>\n",
       "  </thead>\n",
       "  <tbody>\n",
       "    <tr>\n",
       "      <th>0</th>\n",
       "      <td>M</td>\n",
       "      <td>F</td>\n",
       "      <td>F</td>\n",
       "      <td>M</td>\n",
       "    </tr>\n",
       "    <tr>\n",
       "      <th>1</th>\n",
       "      <td>25</td>\n",
       "      <td>56</td>\n",
       "      <td>35</td>\n",
       "      <td>34</td>\n",
       "    </tr>\n",
       "    <tr>\n",
       "      <th>2</th>\n",
       "      <td>45</td>\n",
       "      <td>76</td>\n",
       "      <td>88</td>\n",
       "      <td>79</td>\n",
       "    </tr>\n",
       "  </tbody>\n",
       "</table>\n",
       "</div>"
      ],
      "text/plain": [
       "    0   1   2   3\n",
       "0   M   F   F   M\n",
       "1  25  56  35  34\n",
       "2  45  76  88  79"
      ]
     },
     "execution_count": 48,
     "metadata": {},
     "output_type": "execute_result"
    }
   ],
   "source": [
    "arr=np.array([[\"M\",\"F\",\"F\",\"M\"],[25, 56, 35, 34], [45, 76, 88, 79]])\n",
    "Exam=DataFrame(arr)\n",
    "Exam"
   ]
  },
  {
   "cell_type": "code",
   "execution_count": 56,
   "metadata": {},
   "outputs": [
    {
     "name": "stdout",
     "output_type": "stream",
     "text": [
      "[[ 3 25 45]\n",
      " [ 5 56 76]\n",
      " [ 7 35 88]\n",
      " [ 2 34 79]]\n",
      "   V1  V2  V3\n",
      "A   3  25  45\n",
      "B   5  56  76\n",
      "C   7  35  88\n",
      "D   2  34  79\n",
      "Index(['A', 'B', 'C', 'D'], dtype='object')\n"
     ]
    }
   ],
   "source": [
    "arr=np.array([[3,5,7,2],[25, 56, 35, 34], [45, 76, 88, 79]]) # 배열은 기본적으로 열이 변수 (or Transpose 시켜주면 됨)\n",
    "Exam=DataFrame(arr.T, columns=[\"V1\", \"V2\", \"V3\"], index=[\"A\", \"B\", \"C\", \"D\"])\n",
    "print(Exam.values)\n",
    "print(Exam)\n",
    "print(Exam.index)"
   ]
  },
  {
   "cell_type": "markdown",
   "metadata": {},
   "source": [
    "### 인덱싱"
   ]
  },
  {
   "cell_type": "code",
   "execution_count": 57,
   "metadata": {
    "scrolled": true
   },
   "outputs": [
    {
     "name": "stderr",
     "output_type": "stream",
     "text": [
      "C:\\ProgramData\\Anaconda3\\envs\\mypython\\lib\\site-packages\\ipykernel_launcher.py:1: DeprecationWarning: \n",
      ".ix is deprecated. Please use\n",
      ".loc for label based indexing or\n",
      ".iloc for positional indexing\n",
      "\n",
      "See the documentation here:\n",
      "http://pandas.pydata.org/pandas-docs/stable/indexing.html#ix-indexer-is-deprecated\n",
      "  \"\"\"Entry point for launching an IPython kernel.\n"
     ]
    },
    {
     "data": {
      "text/plain": [
       "V1     5\n",
       "V2    56\n",
       "V3    76\n",
       "Name: B, dtype: int32"
      ]
     },
     "execution_count": 57,
     "metadata": {},
     "output_type": "execute_result"
    }
   ],
   "source": [
    "Exam.ix[\"B\"] # 결과는 시리즈 값으로 돌려받는다"
   ]
  },
  {
   "cell_type": "markdown",
   "metadata": {},
   "source": [
    "#### ix는 없어진다는 경고문 뜨므로 loc나 iloc 대신 쓰면 됨"
   ]
  },
  {
   "cell_type": "code",
   "execution_count": 58,
   "metadata": {},
   "outputs": [
    {
     "data": {
      "text/plain": [
       "V1     5\n",
       "V2    56\n",
       "V3    76\n",
       "Name: B, dtype: int32"
      ]
     },
     "execution_count": 58,
     "metadata": {},
     "output_type": "execute_result"
    }
   ],
   "source": [
    "Exam.loc[\"B\"] # 하나는 시리즈로 반환"
   ]
  },
  {
   "cell_type": "code",
   "execution_count": 59,
   "metadata": {},
   "outputs": [
    {
     "data": {
      "text/html": [
       "<div>\n",
       "<style scoped>\n",
       "    .dataframe tbody tr th:only-of-type {\n",
       "        vertical-align: middle;\n",
       "    }\n",
       "\n",
       "    .dataframe tbody tr th {\n",
       "        vertical-align: top;\n",
       "    }\n",
       "\n",
       "    .dataframe thead th {\n",
       "        text-align: right;\n",
       "    }\n",
       "</style>\n",
       "<table border=\"1\" class=\"dataframe\">\n",
       "  <thead>\n",
       "    <tr style=\"text-align: right;\">\n",
       "      <th></th>\n",
       "      <th>V1</th>\n",
       "      <th>V2</th>\n",
       "      <th>V3</th>\n",
       "    </tr>\n",
       "  </thead>\n",
       "  <tbody>\n",
       "    <tr>\n",
       "      <th>B</th>\n",
       "      <td>5</td>\n",
       "      <td>56</td>\n",
       "      <td>76</td>\n",
       "    </tr>\n",
       "    <tr>\n",
       "      <th>A</th>\n",
       "      <td>3</td>\n",
       "      <td>25</td>\n",
       "      <td>45</td>\n",
       "    </tr>\n",
       "  </tbody>\n",
       "</table>\n",
       "</div>"
      ],
      "text/plain": [
       "   V1  V2  V3\n",
       "B   5  56  76\n",
       "A   3  25  45"
      ]
     },
     "execution_count": 59,
     "metadata": {},
     "output_type": "execute_result"
    }
   ],
   "source": [
    "Exam.loc[[\"B\",\"A\"]] # 두 개 이상 행을 출력하면 데이터프레임으로 반환"
   ]
  },
  {
   "cell_type": "code",
   "execution_count": 60,
   "metadata": {},
   "outputs": [
    {
     "data": {
      "text/plain": [
       "V1     5\n",
       "V2    56\n",
       "V3    76\n",
       "Name: B, dtype: int32"
      ]
     },
     "execution_count": 60,
     "metadata": {},
     "output_type": "execute_result"
    }
   ],
   "source": [
    "Exam.iloc[1] # 아까처럼 인덱스 번호 "
   ]
  },
  {
   "cell_type": "code",
   "execution_count": 61,
   "metadata": {},
   "outputs": [
    {
     "data": {
      "text/html": [
       "<div>\n",
       "<style scoped>\n",
       "    .dataframe tbody tr th:only-of-type {\n",
       "        vertical-align: middle;\n",
       "    }\n",
       "\n",
       "    .dataframe tbody tr th {\n",
       "        vertical-align: top;\n",
       "    }\n",
       "\n",
       "    .dataframe thead th {\n",
       "        text-align: right;\n",
       "    }\n",
       "</style>\n",
       "<table border=\"1\" class=\"dataframe\">\n",
       "  <thead>\n",
       "    <tr style=\"text-align: right;\">\n",
       "      <th></th>\n",
       "      <th>V1</th>\n",
       "      <th>V2</th>\n",
       "      <th>V3</th>\n",
       "    </tr>\n",
       "  </thead>\n",
       "  <tbody>\n",
       "    <tr>\n",
       "      <th>C</th>\n",
       "      <td>7</td>\n",
       "      <td>35</td>\n",
       "      <td>88</td>\n",
       "    </tr>\n",
       "    <tr>\n",
       "      <th>A</th>\n",
       "      <td>3</td>\n",
       "      <td>25</td>\n",
       "      <td>45</td>\n",
       "    </tr>\n",
       "  </tbody>\n",
       "</table>\n",
       "</div>"
      ],
      "text/plain": [
       "   V1  V2  V3\n",
       "C   7  35  88\n",
       "A   3  25  45"
      ]
     },
     "execution_count": 61,
     "metadata": {},
     "output_type": "execute_result"
    }
   ],
   "source": [
    "Exam.iloc[[2,0]]"
   ]
  },
  {
   "cell_type": "markdown",
   "metadata": {},
   "source": [
    "### 열 인덱스 지정하는 또 다른 방법:\n",
    "#### 1. 대괄호안에 변수이름 (두 개 이상 불러올때 편리)"
   ]
  },
  {
   "cell_type": "code",
   "execution_count": 67,
   "metadata": {},
   "outputs": [
    {
     "data": {
      "text/html": [
       "<div>\n",
       "<style scoped>\n",
       "    .dataframe tbody tr th:only-of-type {\n",
       "        vertical-align: middle;\n",
       "    }\n",
       "\n",
       "    .dataframe tbody tr th {\n",
       "        vertical-align: top;\n",
       "    }\n",
       "\n",
       "    .dataframe thead th {\n",
       "        text-align: right;\n",
       "    }\n",
       "</style>\n",
       "<table border=\"1\" class=\"dataframe\">\n",
       "  <thead>\n",
       "    <tr style=\"text-align: right;\">\n",
       "      <th></th>\n",
       "      <th>V3</th>\n",
       "      <th>V1</th>\n",
       "    </tr>\n",
       "  </thead>\n",
       "  <tbody>\n",
       "    <tr>\n",
       "      <th>A</th>\n",
       "      <td>45</td>\n",
       "      <td>3</td>\n",
       "    </tr>\n",
       "    <tr>\n",
       "      <th>B</th>\n",
       "      <td>76</td>\n",
       "      <td>5</td>\n",
       "    </tr>\n",
       "    <tr>\n",
       "      <th>C</th>\n",
       "      <td>88</td>\n",
       "      <td>7</td>\n",
       "    </tr>\n",
       "    <tr>\n",
       "      <th>D</th>\n",
       "      <td>79</td>\n",
       "      <td>2</td>\n",
       "    </tr>\n",
       "  </tbody>\n",
       "</table>\n",
       "</div>"
      ],
      "text/plain": [
       "   V3  V1\n",
       "A  45   3\n",
       "B  76   5\n",
       "C  88   7\n",
       "D  79   2"
      ]
     },
     "execution_count": 67,
     "metadata": {},
     "output_type": "execute_result"
    }
   ],
   "source": [
    "Exam[[\"V3\", \"V1\"]]"
   ]
  },
  {
   "cell_type": "markdown",
   "metadata": {},
   "source": [
    "#### 2.메소드"
   ]
  },
  {
   "cell_type": "code",
   "execution_count": 64,
   "metadata": {
    "scrolled": true
   },
   "outputs": [
    {
     "data": {
      "text/plain": [
       "A    45\n",
       "B    76\n",
       "C    88\n",
       "D    79\n",
       "Name: V3, dtype: int32"
      ]
     },
     "execution_count": 64,
     "metadata": {},
     "output_type": "execute_result"
    }
   ],
   "source": [
    "# 하나의 변수만 지정하면 DataFrame이름.변수\n",
    "Exam.V3"
   ]
  },
  {
   "cell_type": "markdown",
   "metadata": {},
   "source": [
    "### DataFrame과 Series는 색인을 기준으로 결합"
   ]
  },
  {
   "cell_type": "code",
   "execution_count": 71,
   "metadata": {},
   "outputs": [
    {
     "name": "stdout",
     "output_type": "stream",
     "text": [
      "   V1  V2  V3\n",
      "A   3  25  45\n",
      "B   5  56  76\n",
      "C   7  35  88\n",
      "D   2  34  79 \n",
      " D    남\n",
      "A    여\n",
      "E    남\n",
      "B    남\n",
      "dtype: object\n"
     ]
    }
   ],
   "source": [
    "Exam=DataFrame(arr.T, columns=[\"V1\", \"V2\", \"V3\"], index=[\"A\", \"B\", \"C\", \"D\"])\n",
    "gender=Series([\"남\",\"여\",\"남\",\"남\"], index=[\"D\",\"A\",\"E\",\"B\"])\n",
    "print(Exam,\"\\n\",gender)\n"
   ]
  },
  {
   "cell_type": "code",
   "execution_count": 75,
   "metadata": {},
   "outputs": [
    {
     "data": {
      "text/html": [
       "<div>\n",
       "<style scoped>\n",
       "    .dataframe tbody tr th:only-of-type {\n",
       "        vertical-align: middle;\n",
       "    }\n",
       "\n",
       "    .dataframe tbody tr th {\n",
       "        vertical-align: top;\n",
       "    }\n",
       "\n",
       "    .dataframe thead th {\n",
       "        text-align: right;\n",
       "    }\n",
       "</style>\n",
       "<table border=\"1\" class=\"dataframe\">\n",
       "  <thead>\n",
       "    <tr style=\"text-align: right;\">\n",
       "      <th></th>\n",
       "      <th>V1</th>\n",
       "      <th>V2</th>\n",
       "      <th>V3</th>\n",
       "      <th>gender</th>\n",
       "    </tr>\n",
       "  </thead>\n",
       "  <tbody>\n",
       "    <tr>\n",
       "      <th>A</th>\n",
       "      <td>3</td>\n",
       "      <td>25</td>\n",
       "      <td>45</td>\n",
       "      <td>여</td>\n",
       "    </tr>\n",
       "    <tr>\n",
       "      <th>B</th>\n",
       "      <td>5</td>\n",
       "      <td>56</td>\n",
       "      <td>76</td>\n",
       "      <td>남</td>\n",
       "    </tr>\n",
       "    <tr>\n",
       "      <th>C</th>\n",
       "      <td>7</td>\n",
       "      <td>35</td>\n",
       "      <td>88</td>\n",
       "      <td>NaN</td>\n",
       "    </tr>\n",
       "    <tr>\n",
       "      <th>D</th>\n",
       "      <td>2</td>\n",
       "      <td>34</td>\n",
       "      <td>79</td>\n",
       "      <td>남</td>\n",
       "    </tr>\n",
       "  </tbody>\n",
       "</table>\n",
       "</div>"
      ],
      "text/plain": [
       "   V1  V2  V3 gender\n",
       "A   3  25  45      여\n",
       "B   5  56  76      남\n",
       "C   7  35  88    NaN\n",
       "D   2  34  79      남"
      ]
     },
     "execution_count": 75,
     "metadata": {},
     "output_type": "execute_result"
    }
   ],
   "source": [
    "Exam=DataFrame(arr.T, columns=[\"V1\", \"V2\", \"V3\"], index=[\"A\", \"B\", \"C\", \"D\"])\n",
    "gender=Series([\"남\",\"여\",\"남\",\"남\"], index=[\"D\",\"A\",\"E\",\"B\"])\n",
    "# 새로운 열 추가\n",
    "Exam[\"gender\"]=gender # 매칭을 해서 넣어준다\n",
    "Exam # 기존 데이터에 없는 것은 결합되지 않는다 (E)"
   ]
  },
  {
   "cell_type": "markdown",
   "metadata": {},
   "source": [
    "#### 데이터 뽑기"
   ]
  },
  {
   "cell_type": "code",
   "execution_count": 77,
   "metadata": {},
   "outputs": [
    {
     "data": {
      "text/html": [
       "<div>\n",
       "<style scoped>\n",
       "    .dataframe tbody tr th:only-of-type {\n",
       "        vertical-align: middle;\n",
       "    }\n",
       "\n",
       "    .dataframe tbody tr th {\n",
       "        vertical-align: top;\n",
       "    }\n",
       "\n",
       "    .dataframe thead th {\n",
       "        text-align: right;\n",
       "    }\n",
       "</style>\n",
       "<table border=\"1\" class=\"dataframe\">\n",
       "  <thead>\n",
       "    <tr style=\"text-align: right;\">\n",
       "      <th></th>\n",
       "      <th>gender</th>\n",
       "      <th>V1</th>\n",
       "    </tr>\n",
       "  </thead>\n",
       "  <tbody>\n",
       "    <tr>\n",
       "      <th>C</th>\n",
       "      <td>NaN</td>\n",
       "      <td>7</td>\n",
       "    </tr>\n",
       "    <tr>\n",
       "      <th>D</th>\n",
       "      <td>남</td>\n",
       "      <td>2</td>\n",
       "    </tr>\n",
       "  </tbody>\n",
       "</table>\n",
       "</div>"
      ],
      "text/plain": [
       "  gender  V1\n",
       "C    NaN   7\n",
       "D      남   2"
      ]
     },
     "execution_count": 77,
     "metadata": {},
     "output_type": "execute_result"
    }
   ],
   "source": [
    "Exam.iloc[[2,3]][[\"gender\",\"V1\"]] # 행 인덱스와 변수명"
   ]
  },
  {
   "cell_type": "code",
   "execution_count": 78,
   "metadata": {
    "scrolled": true
   },
   "outputs": [
    {
     "data": {
      "text/plain": [
       "C    NaN\n",
       "D      남\n",
       "Name: gender, dtype: object"
      ]
     },
     "execution_count": 78,
     "metadata": {},
     "output_type": "execute_result"
    }
   ],
   "source": [
    "Exam.iloc[[2,3]].gender # 변수 하나만 보고싶을땐 .변수이름 (메소드) 하면 된다"
   ]
  },
  {
   "cell_type": "code",
   "execution_count": 79,
   "metadata": {},
   "outputs": [
    {
     "data": {
      "text/plain": [
       "C    NaN\n",
       "A      여\n",
       "Name: gender, dtype: object"
      ]
     },
     "execution_count": 79,
     "metadata": {},
     "output_type": "execute_result"
    }
   ],
   "source": [
    "Exam.loc[[\"C\",\"A\"]].gender # 아니면 loc먼저"
   ]
  },
  {
   "cell_type": "markdown",
   "metadata": {},
   "source": [
    "## 재색인"
   ]
  },
  {
   "cell_type": "code",
   "execution_count": 81,
   "metadata": {},
   "outputs": [
    {
     "name": "stdout",
     "output_type": "stream",
     "text": [
      "kim    2.5\n",
      "cho    6.4\n",
      "bae    7.8\n",
      "lee    6.5\n",
      "dtype: float64\n",
      "\n",
      "\n",
      "\n",
      " lee     6.5\n",
      "kim     2.5\n",
      "bae     7.8\n",
      "cho     6.4\n",
      "choi    NaN\n",
      "dtype: float64\n"
     ]
    }
   ],
   "source": [
    "obj=Series([2.5,6.4,7.8,6.5], index=[\"kim\",\"cho\",\"bae\", \"lee\"])\n",
    "print(obj)\n",
    "obj1=obj.reindex([\"lee\",\"kim\",\"bae\",\"cho\",\"choi\"])\n",
    "print(\"\\n\\n\\n\",obj1)"
   ]
  },
  {
   "cell_type": "code",
   "execution_count": 82,
   "metadata": {},
   "outputs": [
    {
     "data": {
      "text/plain": [
       "2    2\n",
       "0    3\n",
       "3    6\n",
       "5    0\n",
       "1    5\n",
       "dtype: int64"
      ]
     },
     "execution_count": 82,
     "metadata": {},
     "output_type": "execute_result"
    }
   ],
   "source": [
    "Ex=Series([3,5,2,6])\n",
    "Ex.reindex([2,0,3,5,1], fill_value=0) # 누락값들은 자동적으로 기본값 (0)으로 채우기"
   ]
  },
  {
   "cell_type": "code",
   "execution_count": 84,
   "metadata": {},
   "outputs": [
    {
     "data": {
      "text/plain": [
       "2    2\n",
       "0    3\n",
       "3    6\n",
       "5    6\n",
       "1    5\n",
       "dtype: int64"
      ]
     },
     "execution_count": 84,
     "metadata": {},
     "output_type": "execute_result"
    }
   ],
   "source": [
    "Ex=Series([3,5,2,6])\n",
    "Ex.reindex([2,0,3,5,1], method=\"ffill\")"
   ]
  },
  {
   "cell_type": "code",
   "execution_count": 88,
   "metadata": {},
   "outputs": [
    {
     "data": {
      "text/html": [
       "<div>\n",
       "<style scoped>\n",
       "    .dataframe tbody tr th:only-of-type {\n",
       "        vertical-align: middle;\n",
       "    }\n",
       "\n",
       "    .dataframe tbody tr th {\n",
       "        vertical-align: top;\n",
       "    }\n",
       "\n",
       "    .dataframe thead th {\n",
       "        text-align: right;\n",
       "    }\n",
       "</style>\n",
       "<table border=\"1\" class=\"dataframe\">\n",
       "  <thead>\n",
       "    <tr style=\"text-align: right;\">\n",
       "      <th></th>\n",
       "      <th>V1</th>\n",
       "      <th>V2</th>\n",
       "      <th>V3</th>\n",
       "      <th>gender</th>\n",
       "    </tr>\n",
       "  </thead>\n",
       "  <tbody>\n",
       "    <tr>\n",
       "      <th>C</th>\n",
       "      <td>7</td>\n",
       "      <td>35</td>\n",
       "      <td>88</td>\n",
       "      <td>NaN</td>\n",
       "    </tr>\n",
       "    <tr>\n",
       "      <th>A</th>\n",
       "      <td>3</td>\n",
       "      <td>25</td>\n",
       "      <td>45</td>\n",
       "      <td>여</td>\n",
       "    </tr>\n",
       "    <tr>\n",
       "      <th>B</th>\n",
       "      <td>5</td>\n",
       "      <td>56</td>\n",
       "      <td>76</td>\n",
       "      <td>남</td>\n",
       "    </tr>\n",
       "    <tr>\n",
       "      <th>F</th>\n",
       "      <td>2</td>\n",
       "      <td>34</td>\n",
       "      <td>79</td>\n",
       "      <td>남</td>\n",
       "    </tr>\n",
       "    <tr>\n",
       "      <th>D</th>\n",
       "      <td>2</td>\n",
       "      <td>34</td>\n",
       "      <td>79</td>\n",
       "      <td>남</td>\n",
       "    </tr>\n",
       "  </tbody>\n",
       "</table>\n",
       "</div>"
      ],
      "text/plain": [
       "   V1  V2  V3 gender\n",
       "C   7  35  88    NaN\n",
       "A   3  25  45      여\n",
       "B   5  56  76      남\n",
       "F   2  34  79      남\n",
       "D   2  34  79      남"
      ]
     },
     "execution_count": 88,
     "metadata": {},
     "output_type": "execute_result"
    }
   ],
   "source": [
    "Exam=DataFrame(arr.T, columns=[\"V1\", \"V2\", \"V3\"], index=[\"A\", \"B\", \"C\", \"D\"])\n",
    "gender=Series([\"남\",\"여\",\"남\",\"남\"], index=[\"D\",\"A\",\"E\",\"B\"])\n",
    "# 새로운 열 추가\n",
    "Exam[\"gender\"]=gender # 매칭을 해서 넣어준다\n",
    "Exam=Exam.reindex([\"C\",\"A\",\"B\",\"F\",\"D\"], method=\"ffill\")\n",
    "Exam # 기존 데이터에 없는 것은 결합되지 않는다 (E)"
   ]
  },
  {
   "cell_type": "code",
   "execution_count": 92,
   "metadata": {},
   "outputs": [
    {
     "data": {
      "text/html": [
       "<div>\n",
       "<style scoped>\n",
       "    .dataframe tbody tr th:only-of-type {\n",
       "        vertical-align: middle;\n",
       "    }\n",
       "\n",
       "    .dataframe tbody tr th {\n",
       "        vertical-align: top;\n",
       "    }\n",
       "\n",
       "    .dataframe thead th {\n",
       "        text-align: right;\n",
       "    }\n",
       "</style>\n",
       "<table border=\"1\" class=\"dataframe\">\n",
       "  <thead>\n",
       "    <tr style=\"text-align: right;\">\n",
       "      <th></th>\n",
       "      <th>V1</th>\n",
       "      <th>V2</th>\n",
       "      <th>V3</th>\n",
       "      <th>gender</th>\n",
       "    </tr>\n",
       "  </thead>\n",
       "  <tbody>\n",
       "    <tr>\n",
       "      <th>C</th>\n",
       "      <td>7</td>\n",
       "      <td>35</td>\n",
       "      <td>88</td>\n",
       "      <td>NaN</td>\n",
       "    </tr>\n",
       "    <tr>\n",
       "      <th>A</th>\n",
       "      <td>3</td>\n",
       "      <td>25</td>\n",
       "      <td>45</td>\n",
       "      <td>여</td>\n",
       "    </tr>\n",
       "    <tr>\n",
       "      <th>B</th>\n",
       "      <td>5</td>\n",
       "      <td>56</td>\n",
       "      <td>76</td>\n",
       "      <td>남</td>\n",
       "    </tr>\n",
       "    <tr>\n",
       "      <th>F</th>\n",
       "      <td>2</td>\n",
       "      <td>34</td>\n",
       "      <td>79</td>\n",
       "      <td>NaN</td>\n",
       "    </tr>\n",
       "    <tr>\n",
       "      <th>E</th>\n",
       "      <td>7</td>\n",
       "      <td>35</td>\n",
       "      <td>88</td>\n",
       "      <td>NaN</td>\n",
       "    </tr>\n",
       "  </tbody>\n",
       "</table>\n",
       "</div>"
      ],
      "text/plain": [
       "   V1  V2  V3 gender\n",
       "C   7  35  88    NaN\n",
       "A   3  25  45      여\n",
       "B   5  56  76      남\n",
       "F   2  34  79    NaN\n",
       "E   7  35  88    NaN"
      ]
     },
     "execution_count": 92,
     "metadata": {},
     "output_type": "execute_result"
    }
   ],
   "source": [
    "Exam=DataFrame(arr.T, columns=[\"V1\", \"V2\", \"V3\"], index=[\"A\", \"B\", \"C\", \"F\"])\n",
    "gender=Series([\"남\",\"여\",\"남\",\"남\"], index=[\"D\",\"A\",\"E\",\"B\"])\n",
    "\n",
    "Exam[\"gender\"]=gender \n",
    "Exam=Exam.reindex([\"C\",\"A\",\"B\",\"F\",\"E\"], method=\"ffill\")\n",
    "Exam # 앞꺼 참고해서 채워주는건 테이블 기준으로 ; 따라서 C의 값이 A에도 채워짐"
   ]
  },
  {
   "cell_type": "code",
   "execution_count": 98,
   "metadata": {},
   "outputs": [
    {
     "name": "stdout",
     "output_type": "stream",
     "text": [
      "   V1  V2  V3\n",
      "A   3  25  45\n",
      "B   5  56  76\n",
      "C   7  35  88\n",
      "D   2  34  79\n"
     ]
    },
    {
     "data": {
      "text/html": [
       "<div>\n",
       "<style scoped>\n",
       "    .dataframe tbody tr th:only-of-type {\n",
       "        vertical-align: middle;\n",
       "    }\n",
       "\n",
       "    .dataframe tbody tr th {\n",
       "        vertical-align: top;\n",
       "    }\n",
       "\n",
       "    .dataframe thead th {\n",
       "        text-align: right;\n",
       "    }\n",
       "</style>\n",
       "<table border=\"1\" class=\"dataframe\">\n",
       "  <thead>\n",
       "    <tr style=\"text-align: right;\">\n",
       "      <th></th>\n",
       "      <th>V1</th>\n",
       "      <th>V2</th>\n",
       "      <th>V3</th>\n",
       "    </tr>\n",
       "  </thead>\n",
       "  <tbody>\n",
       "    <tr>\n",
       "      <th>B</th>\n",
       "      <td>5</td>\n",
       "      <td>56</td>\n",
       "      <td>76</td>\n",
       "    </tr>\n",
       "    <tr>\n",
       "      <th>C</th>\n",
       "      <td>7</td>\n",
       "      <td>35</td>\n",
       "      <td>88</td>\n",
       "    </tr>\n",
       "    <tr>\n",
       "      <th>D</th>\n",
       "      <td>2</td>\n",
       "      <td>34</td>\n",
       "      <td>79</td>\n",
       "    </tr>\n",
       "  </tbody>\n",
       "</table>\n",
       "</div>"
      ],
      "text/plain": [
       "   V1  V2  V3\n",
       "B   5  56  76\n",
       "C   7  35  88\n",
       "D   2  34  79"
      ]
     },
     "execution_count": 98,
     "metadata": {},
     "output_type": "execute_result"
    }
   ],
   "source": [
    "df=DataFrame(arr.T, columns=[\"V1\", \"V2\", \"V3\"], index=[\"A\", \"B\", \"C\", \"D\"])\n",
    "print(df)\n",
    "df2=df.drop([\"A\"])\n",
    "df2"
   ]
  },
  {
   "cell_type": "markdown",
   "metadata": {},
   "source": [
    "## 색인하기, 선택하기, 거르기"
   ]
  },
  {
   "cell_type": "code",
   "execution_count": 99,
   "metadata": {},
   "outputs": [
    {
     "name": "stdout",
     "output_type": "stream",
     "text": [
      "0    3\n",
      "1    5\n",
      "2    2\n",
      "3    6\n",
      "dtype: int64 \n",
      "\n",
      "\n",
      " 1    5\n",
      "0    3\n",
      "2    2\n",
      "dtype: int64\n"
     ]
    }
   ],
   "source": [
    "Ex=Series([3,5,2,6])\n",
    "Ex.reindex([2,0,3,5,1],method=\"ffill\")\n",
    "print(Ex, \"\\n\\n\\n\", Ex[[1,0,2]]) # 원래 있던 값들은 안 바뀐다"
   ]
  },
  {
   "cell_type": "markdown",
   "metadata": {},
   "source": [
    "#### 논리값을 이용한 선택"
   ]
  },
  {
   "cell_type": "code",
   "execution_count": 102,
   "metadata": {},
   "outputs": [
    {
     "name": "stdout",
     "output_type": "stream",
     "text": [
      "2    False\n",
      "0    False\n",
      "3     True\n",
      "5     True\n",
      "1     True\n",
      "dtype: bool\n",
      "2    2\n",
      "0    3\n",
      "3    6\n",
      "5    6\n",
      "1    5\n",
      "dtype: int64 \n",
      "\n",
      "\n",
      " 3    6\n",
      "5    6\n",
      "1    5\n",
      "dtype: int64\n"
     ]
    }
   ],
   "source": [
    "Ex=Series([3,5,2,6])\n",
    "Ex=Ex.reindex([2,0,3,5,1],method=\"ffill\")\n",
    "b_data=(Ex>=3.5)\n",
    "print(b_data)\n",
    "print(Ex, \"\\n\\n\\n\", Ex[b_data]) "
   ]
  },
  {
   "cell_type": "code",
   "execution_count": 106,
   "metadata": {},
   "outputs": [
    {
     "name": "stdout",
     "output_type": "stream",
     "text": [
      "kim    2.5\n",
      "cho    NaN\n",
      "bae    NaN\n",
      "lee    NaN\n",
      "dtype: float64\n"
     ]
    }
   ],
   "source": [
    "obj=Series([2.5,6.4,7.8,6.5], index=[\"kim\",\"cho\",\"bae\", \"lee\"])\n",
    "obj[obj>=6]=float(\"NaN\") # 6 이상의 자료를 NaN\n",
    "print(obj)"
   ]
  },
  {
   "cell_type": "markdown",
   "metadata": {},
   "source": [
    "### 랜덤으로 변수들 만들기"
   ]
  },
  {
   "cell_type": "code",
   "execution_count": 113,
   "metadata": {},
   "outputs": [
    {
     "data": {
      "text/plain": [
       "array(['M', 'F', 'M', 'F', 'F', 'F', 'M', 'M', 'M', 'F', 'M', 'F', 'M',\n",
       "       'F', 'F', 'M', 'F', 'F', 'F', 'M', 'M', 'F', 'M', 'F', 'F', 'M',\n",
       "       'M', 'F', 'M', 'F', 'M', 'M', 'M', 'M', 'F', 'M', 'F', 'M', 'F',\n",
       "       'M', 'F', 'F', 'M', 'M', 'M', 'M', 'F', 'F', 'F', 'F', 'F', 'M',\n",
       "       'F', 'F', 'M', 'F', 'F', 'F', 'M', 'F', 'F', 'M', 'M', 'F', 'F',\n",
       "       'F', 'M', 'F', 'F', 'F', 'M', 'M', 'F', 'F', 'F', 'M', 'M', 'M',\n",
       "       'F', 'F', 'F', 'F', 'M', 'F', 'M', 'F', 'M', 'M', 'F', 'F', 'F',\n",
       "       'M', 'F', 'M', 'F', 'F', 'F', 'M', 'F', 'M'], dtype='<U1')"
      ]
     },
     "execution_count": 113,
     "metadata": {},
     "output_type": "execute_result"
    }
   ],
   "source": [
    "### x=np.random.rand(100)\n",
    "gender=np.where(x>0.5,\"M\",\"F\")\n",
    "gender"
   ]
  },
  {
   "cell_type": "code",
   "execution_count": 123,
   "metadata": {},
   "outputs": [
    {
     "data": {
      "text/plain": [
       "array([177., 176., 193., 181., 173., 178., 176., 173., 182., 178., 178.,\n",
       "       173., 169., 176., 172., 177., 180., 167., 168., 167., 181., 177.,\n",
       "       171., 172., 180., 185., 175., 177., 177., 173., 178., 174., 172.,\n",
       "       171., 181., 176., 169., 177., 170., 178., 182., 177., 163., 174.,\n",
       "       178., 179., 162., 173., 171., 182., 178., 171., 183., 179., 171.,\n",
       "       181., 168., 178., 170., 168., 176., 179., 172., 170., 170., 171.,\n",
       "       174., 175., 179., 180., 173., 167., 173., 184., 176., 177., 184.,\n",
       "       178., 170., 169., 166., 182., 166., 173., 186., 179., 171., 168.,\n",
       "       173., 176., 182., 185., 168., 175., 187., 164., 178., 181., 182.,\n",
       "       186.])"
      ]
     },
     "execution_count": 123,
     "metadata": {},
     "output_type": "execute_result"
    }
   ],
   "source": [
    "height=np.rint(np.random.normal(loc=175,scale=6,size=100))\n",
    "height"
   ]
  },
  {
   "cell_type": "code",
   "execution_count": 124,
   "metadata": {},
   "outputs": [
    {
     "data": {
      "text/plain": [
       "array([70., 66., 68., 73., 72., 67., 69., 68., 69., 68., 67., 65., 69.,\n",
       "       67., 72., 68., 71., 66., 62., 71., 72., 64., 66., 65., 64., 70.,\n",
       "       72., 70., 68., 61., 64., 67., 64., 66., 71., 70., 68., 67., 68.,\n",
       "       67., 68., 69., 68., 75., 68., 70., 67., 70., 70., 69., 63., 73.,\n",
       "       66., 65., 65., 71., 73., 66., 68., 67., 69., 65., 68., 65., 67.,\n",
       "       69., 67., 61., 72., 67., 68., 68., 65., 66., 68., 67., 70., 69.,\n",
       "       67., 67., 68., 72., 68., 71., 65., 67., 73., 66., 72., 71., 64.,\n",
       "       65., 70., 76., 67., 64., 66., 69., 75., 65.])"
      ]
     },
     "execution_count": 124,
     "metadata": {},
     "output_type": "execute_result"
    }
   ],
   "source": [
    "weight=np.rint(np.random.normal(loc=68,scale=3,size=100))\n",
    "weight"
   ]
  },
  {
   "cell_type": "code",
   "execution_count": 155,
   "metadata": {},
   "outputs": [
    {
     "data": {
      "text/html": [
       "<div>\n",
       "<style scoped>\n",
       "    .dataframe tbody tr th:only-of-type {\n",
       "        vertical-align: middle;\n",
       "    }\n",
       "\n",
       "    .dataframe tbody tr th {\n",
       "        vertical-align: top;\n",
       "    }\n",
       "\n",
       "    .dataframe thead th {\n",
       "        text-align: right;\n",
       "    }\n",
       "</style>\n",
       "<table border=\"1\" class=\"dataframe\">\n",
       "  <thead>\n",
       "    <tr style=\"text-align: right;\">\n",
       "      <th></th>\n",
       "      <th>Gender</th>\n",
       "      <th>Height</th>\n",
       "      <th>Weight</th>\n",
       "    </tr>\n",
       "  </thead>\n",
       "  <tbody>\n",
       "    <tr>\n",
       "      <th>0</th>\n",
       "      <td>M</td>\n",
       "      <td>177.0</td>\n",
       "      <td>70.0</td>\n",
       "    </tr>\n",
       "    <tr>\n",
       "      <th>1</th>\n",
       "      <td>F</td>\n",
       "      <td>176.0</td>\n",
       "      <td>66.0</td>\n",
       "    </tr>\n",
       "    <tr>\n",
       "      <th>2</th>\n",
       "      <td>M</td>\n",
       "      <td>193.0</td>\n",
       "      <td>68.0</td>\n",
       "    </tr>\n",
       "    <tr>\n",
       "      <th>3</th>\n",
       "      <td>F</td>\n",
       "      <td>181.0</td>\n",
       "      <td>73.0</td>\n",
       "    </tr>\n",
       "    <tr>\n",
       "      <th>4</th>\n",
       "      <td>F</td>\n",
       "      <td>173.0</td>\n",
       "      <td>72.0</td>\n",
       "    </tr>\n",
       "    <tr>\n",
       "      <th>5</th>\n",
       "      <td>F</td>\n",
       "      <td>178.0</td>\n",
       "      <td>67.0</td>\n",
       "    </tr>\n",
       "    <tr>\n",
       "      <th>6</th>\n",
       "      <td>M</td>\n",
       "      <td>176.0</td>\n",
       "      <td>69.0</td>\n",
       "    </tr>\n",
       "    <tr>\n",
       "      <th>7</th>\n",
       "      <td>M</td>\n",
       "      <td>173.0</td>\n",
       "      <td>68.0</td>\n",
       "    </tr>\n",
       "    <tr>\n",
       "      <th>8</th>\n",
       "      <td>M</td>\n",
       "      <td>182.0</td>\n",
       "      <td>69.0</td>\n",
       "    </tr>\n",
       "    <tr>\n",
       "      <th>9</th>\n",
       "      <td>F</td>\n",
       "      <td>178.0</td>\n",
       "      <td>68.0</td>\n",
       "    </tr>\n",
       "    <tr>\n",
       "      <th>10</th>\n",
       "      <td>M</td>\n",
       "      <td>178.0</td>\n",
       "      <td>67.0</td>\n",
       "    </tr>\n",
       "    <tr>\n",
       "      <th>11</th>\n",
       "      <td>F</td>\n",
       "      <td>173.0</td>\n",
       "      <td>65.0</td>\n",
       "    </tr>\n",
       "    <tr>\n",
       "      <th>12</th>\n",
       "      <td>M</td>\n",
       "      <td>169.0</td>\n",
       "      <td>69.0</td>\n",
       "    </tr>\n",
       "    <tr>\n",
       "      <th>13</th>\n",
       "      <td>F</td>\n",
       "      <td>176.0</td>\n",
       "      <td>67.0</td>\n",
       "    </tr>\n",
       "    <tr>\n",
       "      <th>14</th>\n",
       "      <td>F</td>\n",
       "      <td>172.0</td>\n",
       "      <td>72.0</td>\n",
       "    </tr>\n",
       "    <tr>\n",
       "      <th>15</th>\n",
       "      <td>M</td>\n",
       "      <td>177.0</td>\n",
       "      <td>68.0</td>\n",
       "    </tr>\n",
       "    <tr>\n",
       "      <th>16</th>\n",
       "      <td>F</td>\n",
       "      <td>180.0</td>\n",
       "      <td>71.0</td>\n",
       "    </tr>\n",
       "    <tr>\n",
       "      <th>17</th>\n",
       "      <td>F</td>\n",
       "      <td>167.0</td>\n",
       "      <td>66.0</td>\n",
       "    </tr>\n",
       "    <tr>\n",
       "      <th>18</th>\n",
       "      <td>F</td>\n",
       "      <td>168.0</td>\n",
       "      <td>62.0</td>\n",
       "    </tr>\n",
       "    <tr>\n",
       "      <th>19</th>\n",
       "      <td>M</td>\n",
       "      <td>167.0</td>\n",
       "      <td>71.0</td>\n",
       "    </tr>\n",
       "    <tr>\n",
       "      <th>20</th>\n",
       "      <td>M</td>\n",
       "      <td>181.0</td>\n",
       "      <td>72.0</td>\n",
       "    </tr>\n",
       "    <tr>\n",
       "      <th>21</th>\n",
       "      <td>F</td>\n",
       "      <td>177.0</td>\n",
       "      <td>64.0</td>\n",
       "    </tr>\n",
       "    <tr>\n",
       "      <th>22</th>\n",
       "      <td>M</td>\n",
       "      <td>171.0</td>\n",
       "      <td>66.0</td>\n",
       "    </tr>\n",
       "    <tr>\n",
       "      <th>23</th>\n",
       "      <td>F</td>\n",
       "      <td>172.0</td>\n",
       "      <td>65.0</td>\n",
       "    </tr>\n",
       "    <tr>\n",
       "      <th>24</th>\n",
       "      <td>F</td>\n",
       "      <td>180.0</td>\n",
       "      <td>64.0</td>\n",
       "    </tr>\n",
       "    <tr>\n",
       "      <th>25</th>\n",
       "      <td>M</td>\n",
       "      <td>185.0</td>\n",
       "      <td>70.0</td>\n",
       "    </tr>\n",
       "    <tr>\n",
       "      <th>26</th>\n",
       "      <td>M</td>\n",
       "      <td>175.0</td>\n",
       "      <td>72.0</td>\n",
       "    </tr>\n",
       "    <tr>\n",
       "      <th>27</th>\n",
       "      <td>F</td>\n",
       "      <td>177.0</td>\n",
       "      <td>70.0</td>\n",
       "    </tr>\n",
       "    <tr>\n",
       "      <th>28</th>\n",
       "      <td>M</td>\n",
       "      <td>177.0</td>\n",
       "      <td>68.0</td>\n",
       "    </tr>\n",
       "    <tr>\n",
       "      <th>29</th>\n",
       "      <td>F</td>\n",
       "      <td>173.0</td>\n",
       "      <td>61.0</td>\n",
       "    </tr>\n",
       "    <tr>\n",
       "      <th>...</th>\n",
       "      <td>...</td>\n",
       "      <td>...</td>\n",
       "      <td>...</td>\n",
       "    </tr>\n",
       "    <tr>\n",
       "      <th>70</th>\n",
       "      <td>M</td>\n",
       "      <td>173.0</td>\n",
       "      <td>68.0</td>\n",
       "    </tr>\n",
       "    <tr>\n",
       "      <th>71</th>\n",
       "      <td>M</td>\n",
       "      <td>167.0</td>\n",
       "      <td>68.0</td>\n",
       "    </tr>\n",
       "    <tr>\n",
       "      <th>72</th>\n",
       "      <td>F</td>\n",
       "      <td>173.0</td>\n",
       "      <td>65.0</td>\n",
       "    </tr>\n",
       "    <tr>\n",
       "      <th>73</th>\n",
       "      <td>F</td>\n",
       "      <td>184.0</td>\n",
       "      <td>66.0</td>\n",
       "    </tr>\n",
       "    <tr>\n",
       "      <th>74</th>\n",
       "      <td>F</td>\n",
       "      <td>176.0</td>\n",
       "      <td>68.0</td>\n",
       "    </tr>\n",
       "    <tr>\n",
       "      <th>75</th>\n",
       "      <td>M</td>\n",
       "      <td>177.0</td>\n",
       "      <td>67.0</td>\n",
       "    </tr>\n",
       "    <tr>\n",
       "      <th>76</th>\n",
       "      <td>M</td>\n",
       "      <td>184.0</td>\n",
       "      <td>70.0</td>\n",
       "    </tr>\n",
       "    <tr>\n",
       "      <th>77</th>\n",
       "      <td>M</td>\n",
       "      <td>178.0</td>\n",
       "      <td>69.0</td>\n",
       "    </tr>\n",
       "    <tr>\n",
       "      <th>78</th>\n",
       "      <td>F</td>\n",
       "      <td>170.0</td>\n",
       "      <td>67.0</td>\n",
       "    </tr>\n",
       "    <tr>\n",
       "      <th>79</th>\n",
       "      <td>F</td>\n",
       "      <td>169.0</td>\n",
       "      <td>67.0</td>\n",
       "    </tr>\n",
       "    <tr>\n",
       "      <th>80</th>\n",
       "      <td>F</td>\n",
       "      <td>166.0</td>\n",
       "      <td>68.0</td>\n",
       "    </tr>\n",
       "    <tr>\n",
       "      <th>81</th>\n",
       "      <td>F</td>\n",
       "      <td>182.0</td>\n",
       "      <td>72.0</td>\n",
       "    </tr>\n",
       "    <tr>\n",
       "      <th>82</th>\n",
       "      <td>M</td>\n",
       "      <td>166.0</td>\n",
       "      <td>68.0</td>\n",
       "    </tr>\n",
       "    <tr>\n",
       "      <th>83</th>\n",
       "      <td>F</td>\n",
       "      <td>173.0</td>\n",
       "      <td>71.0</td>\n",
       "    </tr>\n",
       "    <tr>\n",
       "      <th>84</th>\n",
       "      <td>M</td>\n",
       "      <td>186.0</td>\n",
       "      <td>65.0</td>\n",
       "    </tr>\n",
       "    <tr>\n",
       "      <th>85</th>\n",
       "      <td>F</td>\n",
       "      <td>179.0</td>\n",
       "      <td>67.0</td>\n",
       "    </tr>\n",
       "    <tr>\n",
       "      <th>86</th>\n",
       "      <td>M</td>\n",
       "      <td>171.0</td>\n",
       "      <td>73.0</td>\n",
       "    </tr>\n",
       "    <tr>\n",
       "      <th>87</th>\n",
       "      <td>M</td>\n",
       "      <td>168.0</td>\n",
       "      <td>66.0</td>\n",
       "    </tr>\n",
       "    <tr>\n",
       "      <th>88</th>\n",
       "      <td>F</td>\n",
       "      <td>173.0</td>\n",
       "      <td>72.0</td>\n",
       "    </tr>\n",
       "    <tr>\n",
       "      <th>89</th>\n",
       "      <td>F</td>\n",
       "      <td>176.0</td>\n",
       "      <td>71.0</td>\n",
       "    </tr>\n",
       "    <tr>\n",
       "      <th>90</th>\n",
       "      <td>F</td>\n",
       "      <td>182.0</td>\n",
       "      <td>64.0</td>\n",
       "    </tr>\n",
       "    <tr>\n",
       "      <th>91</th>\n",
       "      <td>M</td>\n",
       "      <td>185.0</td>\n",
       "      <td>65.0</td>\n",
       "    </tr>\n",
       "    <tr>\n",
       "      <th>92</th>\n",
       "      <td>F</td>\n",
       "      <td>168.0</td>\n",
       "      <td>70.0</td>\n",
       "    </tr>\n",
       "    <tr>\n",
       "      <th>93</th>\n",
       "      <td>M</td>\n",
       "      <td>175.0</td>\n",
       "      <td>76.0</td>\n",
       "    </tr>\n",
       "    <tr>\n",
       "      <th>94</th>\n",
       "      <td>F</td>\n",
       "      <td>187.0</td>\n",
       "      <td>67.0</td>\n",
       "    </tr>\n",
       "    <tr>\n",
       "      <th>95</th>\n",
       "      <td>F</td>\n",
       "      <td>164.0</td>\n",
       "      <td>64.0</td>\n",
       "    </tr>\n",
       "    <tr>\n",
       "      <th>96</th>\n",
       "      <td>F</td>\n",
       "      <td>178.0</td>\n",
       "      <td>66.0</td>\n",
       "    </tr>\n",
       "    <tr>\n",
       "      <th>97</th>\n",
       "      <td>M</td>\n",
       "      <td>181.0</td>\n",
       "      <td>69.0</td>\n",
       "    </tr>\n",
       "    <tr>\n",
       "      <th>98</th>\n",
       "      <td>F</td>\n",
       "      <td>182.0</td>\n",
       "      <td>75.0</td>\n",
       "    </tr>\n",
       "    <tr>\n",
       "      <th>99</th>\n",
       "      <td>M</td>\n",
       "      <td>186.0</td>\n",
       "      <td>65.0</td>\n",
       "    </tr>\n",
       "  </tbody>\n",
       "</table>\n",
       "<p>100 rows × 3 columns</p>\n",
       "</div>"
      ],
      "text/plain": [
       "   Gender  Height  Weight\n",
       "0       M   177.0    70.0\n",
       "1       F   176.0    66.0\n",
       "2       M   193.0    68.0\n",
       "3       F   181.0    73.0\n",
       "4       F   173.0    72.0\n",
       "5       F   178.0    67.0\n",
       "6       M   176.0    69.0\n",
       "7       M   173.0    68.0\n",
       "8       M   182.0    69.0\n",
       "9       F   178.0    68.0\n",
       "10      M   178.0    67.0\n",
       "11      F   173.0    65.0\n",
       "12      M   169.0    69.0\n",
       "13      F   176.0    67.0\n",
       "14      F   172.0    72.0\n",
       "15      M   177.0    68.0\n",
       "16      F   180.0    71.0\n",
       "17      F   167.0    66.0\n",
       "18      F   168.0    62.0\n",
       "19      M   167.0    71.0\n",
       "20      M   181.0    72.0\n",
       "21      F   177.0    64.0\n",
       "22      M   171.0    66.0\n",
       "23      F   172.0    65.0\n",
       "24      F   180.0    64.0\n",
       "25      M   185.0    70.0\n",
       "26      M   175.0    72.0\n",
       "27      F   177.0    70.0\n",
       "28      M   177.0    68.0\n",
       "29      F   173.0    61.0\n",
       "..    ...     ...     ...\n",
       "70      M   173.0    68.0\n",
       "71      M   167.0    68.0\n",
       "72      F   173.0    65.0\n",
       "73      F   184.0    66.0\n",
       "74      F   176.0    68.0\n",
       "75      M   177.0    67.0\n",
       "76      M   184.0    70.0\n",
       "77      M   178.0    69.0\n",
       "78      F   170.0    67.0\n",
       "79      F   169.0    67.0\n",
       "80      F   166.0    68.0\n",
       "81      F   182.0    72.0\n",
       "82      M   166.0    68.0\n",
       "83      F   173.0    71.0\n",
       "84      M   186.0    65.0\n",
       "85      F   179.0    67.0\n",
       "86      M   171.0    73.0\n",
       "87      M   168.0    66.0\n",
       "88      F   173.0    72.0\n",
       "89      F   176.0    71.0\n",
       "90      F   182.0    64.0\n",
       "91      M   185.0    65.0\n",
       "92      F   168.0    70.0\n",
       "93      M   175.0    76.0\n",
       "94      F   187.0    67.0\n",
       "95      F   164.0    64.0\n",
       "96      F   178.0    66.0\n",
       "97      M   181.0    69.0\n",
       "98      F   182.0    75.0\n",
       "99      M   186.0    65.0\n",
       "\n",
       "[100 rows x 3 columns]"
      ]
     },
     "execution_count": 155,
     "metadata": {},
     "output_type": "execute_result"
    }
   ],
   "source": [
    "DF=DataFrame({\"Gender\":gender, \"Height\":height, \"Weight\":weight})\n",
    "#DataFrame(np.array([gender,height,weight]).T, columns=[\"Gender\", \"Height\", \"Weight\"])\n",
    "DF"
   ]
  },
  {
   "cell_type": "markdown",
   "metadata": {},
   "source": [
    "#### 자료 임의로 분할하기"
   ]
  },
  {
   "cell_type": "code",
   "execution_count": 156,
   "metadata": {},
   "outputs": [
    {
     "data": {
      "text/plain": [
       "(array([ True,  True,  True,  True,  True,  True,  True,  True,  True,\n",
       "         True,  True,  True,  True,  True,  True, False,  True,  True,\n",
       "         True,  True,  True, False,  True,  True,  True,  True,  True,\n",
       "         True,  True,  True,  True,  True,  True,  True,  True,  True,\n",
       "        False,  True,  True,  True,  True,  True,  True,  True,  True,\n",
       "         True,  True,  True,  True,  True, False,  True,  True,  True,\n",
       "         True,  True,  True,  True,  True,  True,  True,  True,  True,\n",
       "         True, False, False,  True,  True,  True,  True,  True,  True,\n",
       "         True, False, False,  True,  True,  True,  True,  True,  True,\n",
       "         True,  True, False,  True,  True,  True,  True,  True,  True,\n",
       "         True,  True,  True,  True,  True,  True,  True,  True,  True,\n",
       "         True]), 91)"
      ]
     },
     "execution_count": 156,
     "metadata": {},
     "output_type": "execute_result"
    }
   ],
   "source": [
    "np.random.seed(100)\n",
    "rand_num=np.random.rand(100)\n",
    "select=rand_num<0.9\n",
    "select, np.sum(select)"
   ]
  },
  {
   "cell_type": "code",
   "execution_count": 157,
   "metadata": {},
   "outputs": [
    {
     "data": {
      "text/html": [
       "<div>\n",
       "<style scoped>\n",
       "    .dataframe tbody tr th:only-of-type {\n",
       "        vertical-align: middle;\n",
       "    }\n",
       "\n",
       "    .dataframe tbody tr th {\n",
       "        vertical-align: top;\n",
       "    }\n",
       "\n",
       "    .dataframe thead th {\n",
       "        text-align: right;\n",
       "    }\n",
       "</style>\n",
       "<table border=\"1\" class=\"dataframe\">\n",
       "  <thead>\n",
       "    <tr style=\"text-align: right;\">\n",
       "      <th></th>\n",
       "      <th>Gender</th>\n",
       "      <th>Height</th>\n",
       "      <th>Weight</th>\n",
       "    </tr>\n",
       "  </thead>\n",
       "  <tbody>\n",
       "    <tr>\n",
       "      <th>0</th>\n",
       "      <td>M</td>\n",
       "      <td>177.0</td>\n",
       "      <td>70.0</td>\n",
       "    </tr>\n",
       "    <tr>\n",
       "      <th>1</th>\n",
       "      <td>F</td>\n",
       "      <td>176.0</td>\n",
       "      <td>66.0</td>\n",
       "    </tr>\n",
       "    <tr>\n",
       "      <th>2</th>\n",
       "      <td>M</td>\n",
       "      <td>193.0</td>\n",
       "      <td>68.0</td>\n",
       "    </tr>\n",
       "    <tr>\n",
       "      <th>3</th>\n",
       "      <td>F</td>\n",
       "      <td>181.0</td>\n",
       "      <td>73.0</td>\n",
       "    </tr>\n",
       "    <tr>\n",
       "      <th>4</th>\n",
       "      <td>F</td>\n",
       "      <td>173.0</td>\n",
       "      <td>72.0</td>\n",
       "    </tr>\n",
       "    <tr>\n",
       "      <th>5</th>\n",
       "      <td>F</td>\n",
       "      <td>178.0</td>\n",
       "      <td>67.0</td>\n",
       "    </tr>\n",
       "    <tr>\n",
       "      <th>6</th>\n",
       "      <td>M</td>\n",
       "      <td>176.0</td>\n",
       "      <td>69.0</td>\n",
       "    </tr>\n",
       "    <tr>\n",
       "      <th>7</th>\n",
       "      <td>M</td>\n",
       "      <td>173.0</td>\n",
       "      <td>68.0</td>\n",
       "    </tr>\n",
       "    <tr>\n",
       "      <th>8</th>\n",
       "      <td>M</td>\n",
       "      <td>182.0</td>\n",
       "      <td>69.0</td>\n",
       "    </tr>\n",
       "    <tr>\n",
       "      <th>9</th>\n",
       "      <td>F</td>\n",
       "      <td>178.0</td>\n",
       "      <td>68.0</td>\n",
       "    </tr>\n",
       "    <tr>\n",
       "      <th>10</th>\n",
       "      <td>M</td>\n",
       "      <td>178.0</td>\n",
       "      <td>67.0</td>\n",
       "    </tr>\n",
       "    <tr>\n",
       "      <th>11</th>\n",
       "      <td>F</td>\n",
       "      <td>173.0</td>\n",
       "      <td>65.0</td>\n",
       "    </tr>\n",
       "    <tr>\n",
       "      <th>12</th>\n",
       "      <td>M</td>\n",
       "      <td>169.0</td>\n",
       "      <td>69.0</td>\n",
       "    </tr>\n",
       "    <tr>\n",
       "      <th>13</th>\n",
       "      <td>F</td>\n",
       "      <td>176.0</td>\n",
       "      <td>67.0</td>\n",
       "    </tr>\n",
       "    <tr>\n",
       "      <th>14</th>\n",
       "      <td>F</td>\n",
       "      <td>172.0</td>\n",
       "      <td>72.0</td>\n",
       "    </tr>\n",
       "    <tr>\n",
       "      <th>16</th>\n",
       "      <td>F</td>\n",
       "      <td>180.0</td>\n",
       "      <td>71.0</td>\n",
       "    </tr>\n",
       "    <tr>\n",
       "      <th>17</th>\n",
       "      <td>F</td>\n",
       "      <td>167.0</td>\n",
       "      <td>66.0</td>\n",
       "    </tr>\n",
       "    <tr>\n",
       "      <th>18</th>\n",
       "      <td>F</td>\n",
       "      <td>168.0</td>\n",
       "      <td>62.0</td>\n",
       "    </tr>\n",
       "    <tr>\n",
       "      <th>19</th>\n",
       "      <td>M</td>\n",
       "      <td>167.0</td>\n",
       "      <td>71.0</td>\n",
       "    </tr>\n",
       "    <tr>\n",
       "      <th>20</th>\n",
       "      <td>M</td>\n",
       "      <td>181.0</td>\n",
       "      <td>72.0</td>\n",
       "    </tr>\n",
       "    <tr>\n",
       "      <th>22</th>\n",
       "      <td>M</td>\n",
       "      <td>171.0</td>\n",
       "      <td>66.0</td>\n",
       "    </tr>\n",
       "    <tr>\n",
       "      <th>23</th>\n",
       "      <td>F</td>\n",
       "      <td>172.0</td>\n",
       "      <td>65.0</td>\n",
       "    </tr>\n",
       "    <tr>\n",
       "      <th>24</th>\n",
       "      <td>F</td>\n",
       "      <td>180.0</td>\n",
       "      <td>64.0</td>\n",
       "    </tr>\n",
       "    <tr>\n",
       "      <th>25</th>\n",
       "      <td>M</td>\n",
       "      <td>185.0</td>\n",
       "      <td>70.0</td>\n",
       "    </tr>\n",
       "    <tr>\n",
       "      <th>26</th>\n",
       "      <td>M</td>\n",
       "      <td>175.0</td>\n",
       "      <td>72.0</td>\n",
       "    </tr>\n",
       "    <tr>\n",
       "      <th>27</th>\n",
       "      <td>F</td>\n",
       "      <td>177.0</td>\n",
       "      <td>70.0</td>\n",
       "    </tr>\n",
       "    <tr>\n",
       "      <th>28</th>\n",
       "      <td>M</td>\n",
       "      <td>177.0</td>\n",
       "      <td>68.0</td>\n",
       "    </tr>\n",
       "    <tr>\n",
       "      <th>29</th>\n",
       "      <td>F</td>\n",
       "      <td>173.0</td>\n",
       "      <td>61.0</td>\n",
       "    </tr>\n",
       "    <tr>\n",
       "      <th>30</th>\n",
       "      <td>M</td>\n",
       "      <td>178.0</td>\n",
       "      <td>64.0</td>\n",
       "    </tr>\n",
       "    <tr>\n",
       "      <th>31</th>\n",
       "      <td>M</td>\n",
       "      <td>174.0</td>\n",
       "      <td>67.0</td>\n",
       "    </tr>\n",
       "    <tr>\n",
       "      <th>...</th>\n",
       "      <td>...</td>\n",
       "      <td>...</td>\n",
       "      <td>...</td>\n",
       "    </tr>\n",
       "    <tr>\n",
       "      <th>67</th>\n",
       "      <td>F</td>\n",
       "      <td>175.0</td>\n",
       "      <td>61.0</td>\n",
       "    </tr>\n",
       "    <tr>\n",
       "      <th>68</th>\n",
       "      <td>F</td>\n",
       "      <td>179.0</td>\n",
       "      <td>72.0</td>\n",
       "    </tr>\n",
       "    <tr>\n",
       "      <th>69</th>\n",
       "      <td>F</td>\n",
       "      <td>180.0</td>\n",
       "      <td>67.0</td>\n",
       "    </tr>\n",
       "    <tr>\n",
       "      <th>70</th>\n",
       "      <td>M</td>\n",
       "      <td>173.0</td>\n",
       "      <td>68.0</td>\n",
       "    </tr>\n",
       "    <tr>\n",
       "      <th>71</th>\n",
       "      <td>M</td>\n",
       "      <td>167.0</td>\n",
       "      <td>68.0</td>\n",
       "    </tr>\n",
       "    <tr>\n",
       "      <th>72</th>\n",
       "      <td>F</td>\n",
       "      <td>173.0</td>\n",
       "      <td>65.0</td>\n",
       "    </tr>\n",
       "    <tr>\n",
       "      <th>75</th>\n",
       "      <td>M</td>\n",
       "      <td>177.0</td>\n",
       "      <td>67.0</td>\n",
       "    </tr>\n",
       "    <tr>\n",
       "      <th>76</th>\n",
       "      <td>M</td>\n",
       "      <td>184.0</td>\n",
       "      <td>70.0</td>\n",
       "    </tr>\n",
       "    <tr>\n",
       "      <th>77</th>\n",
       "      <td>M</td>\n",
       "      <td>178.0</td>\n",
       "      <td>69.0</td>\n",
       "    </tr>\n",
       "    <tr>\n",
       "      <th>78</th>\n",
       "      <td>F</td>\n",
       "      <td>170.0</td>\n",
       "      <td>67.0</td>\n",
       "    </tr>\n",
       "    <tr>\n",
       "      <th>79</th>\n",
       "      <td>F</td>\n",
       "      <td>169.0</td>\n",
       "      <td>67.0</td>\n",
       "    </tr>\n",
       "    <tr>\n",
       "      <th>80</th>\n",
       "      <td>F</td>\n",
       "      <td>166.0</td>\n",
       "      <td>68.0</td>\n",
       "    </tr>\n",
       "    <tr>\n",
       "      <th>81</th>\n",
       "      <td>F</td>\n",
       "      <td>182.0</td>\n",
       "      <td>72.0</td>\n",
       "    </tr>\n",
       "    <tr>\n",
       "      <th>82</th>\n",
       "      <td>M</td>\n",
       "      <td>166.0</td>\n",
       "      <td>68.0</td>\n",
       "    </tr>\n",
       "    <tr>\n",
       "      <th>84</th>\n",
       "      <td>M</td>\n",
       "      <td>186.0</td>\n",
       "      <td>65.0</td>\n",
       "    </tr>\n",
       "    <tr>\n",
       "      <th>85</th>\n",
       "      <td>F</td>\n",
       "      <td>179.0</td>\n",
       "      <td>67.0</td>\n",
       "    </tr>\n",
       "    <tr>\n",
       "      <th>86</th>\n",
       "      <td>M</td>\n",
       "      <td>171.0</td>\n",
       "      <td>73.0</td>\n",
       "    </tr>\n",
       "    <tr>\n",
       "      <th>87</th>\n",
       "      <td>M</td>\n",
       "      <td>168.0</td>\n",
       "      <td>66.0</td>\n",
       "    </tr>\n",
       "    <tr>\n",
       "      <th>88</th>\n",
       "      <td>F</td>\n",
       "      <td>173.0</td>\n",
       "      <td>72.0</td>\n",
       "    </tr>\n",
       "    <tr>\n",
       "      <th>89</th>\n",
       "      <td>F</td>\n",
       "      <td>176.0</td>\n",
       "      <td>71.0</td>\n",
       "    </tr>\n",
       "    <tr>\n",
       "      <th>90</th>\n",
       "      <td>F</td>\n",
       "      <td>182.0</td>\n",
       "      <td>64.0</td>\n",
       "    </tr>\n",
       "    <tr>\n",
       "      <th>91</th>\n",
       "      <td>M</td>\n",
       "      <td>185.0</td>\n",
       "      <td>65.0</td>\n",
       "    </tr>\n",
       "    <tr>\n",
       "      <th>92</th>\n",
       "      <td>F</td>\n",
       "      <td>168.0</td>\n",
       "      <td>70.0</td>\n",
       "    </tr>\n",
       "    <tr>\n",
       "      <th>93</th>\n",
       "      <td>M</td>\n",
       "      <td>175.0</td>\n",
       "      <td>76.0</td>\n",
       "    </tr>\n",
       "    <tr>\n",
       "      <th>94</th>\n",
       "      <td>F</td>\n",
       "      <td>187.0</td>\n",
       "      <td>67.0</td>\n",
       "    </tr>\n",
       "    <tr>\n",
       "      <th>95</th>\n",
       "      <td>F</td>\n",
       "      <td>164.0</td>\n",
       "      <td>64.0</td>\n",
       "    </tr>\n",
       "    <tr>\n",
       "      <th>96</th>\n",
       "      <td>F</td>\n",
       "      <td>178.0</td>\n",
       "      <td>66.0</td>\n",
       "    </tr>\n",
       "    <tr>\n",
       "      <th>97</th>\n",
       "      <td>M</td>\n",
       "      <td>181.0</td>\n",
       "      <td>69.0</td>\n",
       "    </tr>\n",
       "    <tr>\n",
       "      <th>98</th>\n",
       "      <td>F</td>\n",
       "      <td>182.0</td>\n",
       "      <td>75.0</td>\n",
       "    </tr>\n",
       "    <tr>\n",
       "      <th>99</th>\n",
       "      <td>M</td>\n",
       "      <td>186.0</td>\n",
       "      <td>65.0</td>\n",
       "    </tr>\n",
       "  </tbody>\n",
       "</table>\n",
       "<p>91 rows × 3 columns</p>\n",
       "</div>"
      ],
      "text/plain": [
       "   Gender  Height  Weight\n",
       "0       M   177.0    70.0\n",
       "1       F   176.0    66.0\n",
       "2       M   193.0    68.0\n",
       "3       F   181.0    73.0\n",
       "4       F   173.0    72.0\n",
       "5       F   178.0    67.0\n",
       "6       M   176.0    69.0\n",
       "7       M   173.0    68.0\n",
       "8       M   182.0    69.0\n",
       "9       F   178.0    68.0\n",
       "10      M   178.0    67.0\n",
       "11      F   173.0    65.0\n",
       "12      M   169.0    69.0\n",
       "13      F   176.0    67.0\n",
       "14      F   172.0    72.0\n",
       "16      F   180.0    71.0\n",
       "17      F   167.0    66.0\n",
       "18      F   168.0    62.0\n",
       "19      M   167.0    71.0\n",
       "20      M   181.0    72.0\n",
       "22      M   171.0    66.0\n",
       "23      F   172.0    65.0\n",
       "24      F   180.0    64.0\n",
       "25      M   185.0    70.0\n",
       "26      M   175.0    72.0\n",
       "27      F   177.0    70.0\n",
       "28      M   177.0    68.0\n",
       "29      F   173.0    61.0\n",
       "30      M   178.0    64.0\n",
       "31      M   174.0    67.0\n",
       "..    ...     ...     ...\n",
       "67      F   175.0    61.0\n",
       "68      F   179.0    72.0\n",
       "69      F   180.0    67.0\n",
       "70      M   173.0    68.0\n",
       "71      M   167.0    68.0\n",
       "72      F   173.0    65.0\n",
       "75      M   177.0    67.0\n",
       "76      M   184.0    70.0\n",
       "77      M   178.0    69.0\n",
       "78      F   170.0    67.0\n",
       "79      F   169.0    67.0\n",
       "80      F   166.0    68.0\n",
       "81      F   182.0    72.0\n",
       "82      M   166.0    68.0\n",
       "84      M   186.0    65.0\n",
       "85      F   179.0    67.0\n",
       "86      M   171.0    73.0\n",
       "87      M   168.0    66.0\n",
       "88      F   173.0    72.0\n",
       "89      F   176.0    71.0\n",
       "90      F   182.0    64.0\n",
       "91      M   185.0    65.0\n",
       "92      F   168.0    70.0\n",
       "93      M   175.0    76.0\n",
       "94      F   187.0    67.0\n",
       "95      F   164.0    64.0\n",
       "96      F   178.0    66.0\n",
       "97      M   181.0    69.0\n",
       "98      F   182.0    75.0\n",
       "99      M   186.0    65.0\n",
       "\n",
       "[91 rows x 3 columns]"
      ]
     },
     "execution_count": 157,
     "metadata": {},
     "output_type": "execute_result"
    }
   ],
   "source": [
    "trainDF=DF[select]\n",
    "trainDF # TRAIN DATA"
   ]
  },
  {
   "cell_type": "code",
   "execution_count": 158,
   "metadata": {},
   "outputs": [
    {
     "data": {
      "text/html": [
       "<div>\n",
       "<style scoped>\n",
       "    .dataframe tbody tr th:only-of-type {\n",
       "        vertical-align: middle;\n",
       "    }\n",
       "\n",
       "    .dataframe tbody tr th {\n",
       "        vertical-align: top;\n",
       "    }\n",
       "\n",
       "    .dataframe thead th {\n",
       "        text-align: right;\n",
       "    }\n",
       "</style>\n",
       "<table border=\"1\" class=\"dataframe\">\n",
       "  <thead>\n",
       "    <tr style=\"text-align: right;\">\n",
       "      <th></th>\n",
       "      <th>Gender</th>\n",
       "      <th>Height</th>\n",
       "      <th>Weight</th>\n",
       "    </tr>\n",
       "  </thead>\n",
       "  <tbody>\n",
       "    <tr>\n",
       "      <th>15</th>\n",
       "      <td>M</td>\n",
       "      <td>177.0</td>\n",
       "      <td>68.0</td>\n",
       "    </tr>\n",
       "    <tr>\n",
       "      <th>21</th>\n",
       "      <td>F</td>\n",
       "      <td>177.0</td>\n",
       "      <td>64.0</td>\n",
       "    </tr>\n",
       "    <tr>\n",
       "      <th>36</th>\n",
       "      <td>F</td>\n",
       "      <td>169.0</td>\n",
       "      <td>68.0</td>\n",
       "    </tr>\n",
       "    <tr>\n",
       "      <th>50</th>\n",
       "      <td>F</td>\n",
       "      <td>178.0</td>\n",
       "      <td>63.0</td>\n",
       "    </tr>\n",
       "    <tr>\n",
       "      <th>64</th>\n",
       "      <td>F</td>\n",
       "      <td>170.0</td>\n",
       "      <td>67.0</td>\n",
       "    </tr>\n",
       "    <tr>\n",
       "      <th>65</th>\n",
       "      <td>F</td>\n",
       "      <td>171.0</td>\n",
       "      <td>69.0</td>\n",
       "    </tr>\n",
       "    <tr>\n",
       "      <th>73</th>\n",
       "      <td>F</td>\n",
       "      <td>184.0</td>\n",
       "      <td>66.0</td>\n",
       "    </tr>\n",
       "    <tr>\n",
       "      <th>74</th>\n",
       "      <td>F</td>\n",
       "      <td>176.0</td>\n",
       "      <td>68.0</td>\n",
       "    </tr>\n",
       "    <tr>\n",
       "      <th>83</th>\n",
       "      <td>F</td>\n",
       "      <td>173.0</td>\n",
       "      <td>71.0</td>\n",
       "    </tr>\n",
       "  </tbody>\n",
       "</table>\n",
       "</div>"
      ],
      "text/plain": [
       "   Gender  Height  Weight\n",
       "15      M   177.0    68.0\n",
       "21      F   177.0    64.0\n",
       "36      F   169.0    68.0\n",
       "50      F   178.0    63.0\n",
       "64      F   170.0    67.0\n",
       "65      F   171.0    69.0\n",
       "73      F   184.0    66.0\n",
       "74      F   176.0    68.0\n",
       "83      F   173.0    71.0"
      ]
     },
     "execution_count": 158,
     "metadata": {},
     "output_type": "execute_result"
    }
   ],
   "source": [
    "testDF=DF[~select]\n",
    "testDF # TEST DATA"
   ]
  },
  {
   "cell_type": "code",
   "execution_count": 159,
   "metadata": {},
   "outputs": [
    {
     "name": "stdout",
     "output_type": "stream",
     "text": [
      "   Gender  Height  Weight\n",
      "0       M   177.0    70.0\n",
      "2       M   193.0    68.0\n",
      "6       M   176.0    69.0\n",
      "7       M   173.0    68.0\n",
      "8       M   182.0    69.0\n",
      "10      M   178.0    67.0\n",
      "12      M   169.0    69.0\n",
      "15      M   177.0    68.0\n",
      "19      M   167.0    71.0\n",
      "20      M   181.0    72.0\n",
      "22      M   171.0    66.0\n",
      "25      M   185.0    70.0\n",
      "26      M   175.0    72.0\n",
      "28      M   177.0    68.0\n",
      "30      M   178.0    64.0\n",
      "31      M   174.0    67.0\n",
      "32      M   172.0    64.0\n",
      "33      M   171.0    66.0\n",
      "35      M   176.0    70.0\n",
      "37      M   177.0    67.0\n",
      "39      M   178.0    67.0\n",
      "42      M   163.0    68.0\n",
      "43      M   174.0    75.0\n",
      "44      M   178.0    68.0\n",
      "45      M   179.0    70.0\n",
      "51      M   171.0    73.0\n",
      "54      M   171.0    65.0\n",
      "58      M   170.0    68.0\n",
      "61      M   179.0    65.0\n",
      "62      M   172.0    68.0\n",
      "66      M   174.0    67.0\n",
      "70      M   173.0    68.0\n",
      "71      M   167.0    68.0\n",
      "75      M   177.0    67.0\n",
      "76      M   184.0    70.0\n",
      "77      M   178.0    69.0\n",
      "82      M   166.0    68.0\n",
      "84      M   186.0    65.0\n",
      "86      M   171.0    73.0\n",
      "87      M   168.0    66.0\n",
      "91      M   185.0    65.0\n",
      "93      M   175.0    76.0\n",
      "97      M   181.0    69.0\n",
      "99      M   186.0    65.0,\t\t\t,   Gender  Height  Weight\n",
      "1       F   176.0    66.0\n",
      "3       F   181.0    73.0\n",
      "4       F   173.0    72.0\n",
      "5       F   178.0    67.0\n",
      "9       F   178.0    68.0\n",
      "11      F   173.0    65.0\n",
      "13      F   176.0    67.0\n",
      "14      F   172.0    72.0\n",
      "16      F   180.0    71.0\n",
      "17      F   167.0    66.0\n",
      "18      F   168.0    62.0\n",
      "21      F   177.0    64.0\n",
      "23      F   172.0    65.0\n",
      "24      F   180.0    64.0\n",
      "27      F   177.0    70.0\n",
      "29      F   173.0    61.0\n",
      "34      F   181.0    71.0\n",
      "36      F   169.0    68.0\n",
      "38      F   170.0    68.0\n",
      "40      F   182.0    68.0\n",
      "41      F   177.0    69.0\n",
      "46      F   162.0    67.0\n",
      "47      F   173.0    70.0\n",
      "48      F   171.0    70.0\n",
      "49      F   182.0    69.0\n",
      "50      F   178.0    63.0\n",
      "52      F   183.0    66.0\n",
      "53      F   179.0    65.0\n",
      "55      F   181.0    71.0\n",
      "56      F   168.0    73.0\n",
      "57      F   178.0    66.0\n",
      "59      F   168.0    67.0\n",
      "60      F   176.0    69.0\n",
      "63      F   170.0    65.0\n",
      "64      F   170.0    67.0\n",
      "65      F   171.0    69.0\n",
      "67      F   175.0    61.0\n",
      "68      F   179.0    72.0\n",
      "69      F   180.0    67.0\n",
      "72      F   173.0    65.0\n",
      "73      F   184.0    66.0\n",
      "74      F   176.0    68.0\n",
      "78      F   170.0    67.0\n",
      "79      F   169.0    67.0\n",
      "80      F   166.0    68.0\n",
      "81      F   182.0    72.0\n",
      "83      F   173.0    71.0\n",
      "85      F   179.0    67.0\n",
      "88      F   173.0    72.0\n",
      "89      F   176.0    71.0\n",
      "90      F   182.0    64.0\n",
      "92      F   168.0    70.0\n",
      "94      F   187.0    67.0\n",
      "95      F   164.0    64.0\n",
      "96      F   178.0    66.0\n",
      "98      F   182.0    75.0\n"
     ]
    }
   ],
   "source": [
    "male=DF[DF.Gender==\"M\"]; female=DF[DF.Gender==\"F\"]\n",
    "print(\"{0},\\t\\t\\t,{1}\" .format(male, female))"
   ]
  },
  {
   "cell_type": "code",
   "execution_count": 165,
   "metadata": {},
   "outputs": [
    {
     "data": {
      "text/html": [
       "<div>\n",
       "<style scoped>\n",
       "    .dataframe tbody tr th:only-of-type {\n",
       "        vertical-align: middle;\n",
       "    }\n",
       "\n",
       "    .dataframe tbody tr th {\n",
       "        vertical-align: top;\n",
       "    }\n",
       "\n",
       "    .dataframe thead th {\n",
       "        text-align: right;\n",
       "    }\n",
       "</style>\n",
       "<table border=\"1\" class=\"dataframe\">\n",
       "  <thead>\n",
       "    <tr style=\"text-align: right;\">\n",
       "      <th></th>\n",
       "      <th>Gender</th>\n",
       "      <th>Height</th>\n",
       "      <th>Weight</th>\n",
       "    </tr>\n",
       "  </thead>\n",
       "  <tbody>\n",
       "    <tr>\n",
       "      <th>2</th>\n",
       "      <td>M</td>\n",
       "      <td>193.0</td>\n",
       "      <td>68.0</td>\n",
       "    </tr>\n",
       "    <tr>\n",
       "      <th>8</th>\n",
       "      <td>M</td>\n",
       "      <td>182.0</td>\n",
       "      <td>69.0</td>\n",
       "    </tr>\n",
       "    <tr>\n",
       "      <th>20</th>\n",
       "      <td>M</td>\n",
       "      <td>181.0</td>\n",
       "      <td>72.0</td>\n",
       "    </tr>\n",
       "    <tr>\n",
       "      <th>25</th>\n",
       "      <td>M</td>\n",
       "      <td>185.0</td>\n",
       "      <td>70.0</td>\n",
       "    </tr>\n",
       "    <tr>\n",
       "      <th>76</th>\n",
       "      <td>M</td>\n",
       "      <td>184.0</td>\n",
       "      <td>70.0</td>\n",
       "    </tr>\n",
       "    <tr>\n",
       "      <th>84</th>\n",
       "      <td>M</td>\n",
       "      <td>186.0</td>\n",
       "      <td>65.0</td>\n",
       "    </tr>\n",
       "    <tr>\n",
       "      <th>91</th>\n",
       "      <td>M</td>\n",
       "      <td>185.0</td>\n",
       "      <td>65.0</td>\n",
       "    </tr>\n",
       "    <tr>\n",
       "      <th>97</th>\n",
       "      <td>M</td>\n",
       "      <td>181.0</td>\n",
       "      <td>69.0</td>\n",
       "    </tr>\n",
       "    <tr>\n",
       "      <th>99</th>\n",
       "      <td>M</td>\n",
       "      <td>186.0</td>\n",
       "      <td>65.0</td>\n",
       "    </tr>\n",
       "  </tbody>\n",
       "</table>\n",
       "</div>"
      ],
      "text/plain": [
       "   Gender  Height  Weight\n",
       "2       M   193.0    68.0\n",
       "8       M   182.0    69.0\n",
       "20      M   181.0    72.0\n",
       "25      M   185.0    70.0\n",
       "76      M   184.0    70.0\n",
       "84      M   186.0    65.0\n",
       "91      M   185.0    65.0\n",
       "97      M   181.0    69.0\n",
       "99      M   186.0    65.0"
      ]
     },
     "execution_count": 165,
     "metadata": {},
     "output_type": "execute_result"
    }
   ],
   "source": [
    "NewData=DF[(DF.Gender==\"M\")&(DF.Height>=180)]\n",
    "NewData"
   ]
  },
  {
   "cell_type": "markdown",
   "metadata": {},
   "source": [
    "## 산술 연산과 데이터 정렬: 같은 인덱스를 기준으로 연산"
   ]
  },
  {
   "cell_type": "code",
   "execution_count": 174,
   "metadata": {},
   "outputs": [
    {
     "name": "stdout",
     "output_type": "stream",
     "text": [
      "A    57\n",
      "B    68\n",
      "D    61\n",
      "E    53\n",
      "F    56\n",
      "H    63\n",
      "dtype: int32 \n",
      " B    21\n",
      "C    23\n",
      "A    26\n",
      "D    22\n",
      "F    20\n",
      "E    20\n",
      "dtype: int32 \n",
      " A    83.0\n",
      "B    89.0\n",
      "C     NaN\n",
      "D    83.0\n",
      "E    73.0\n",
      "F    76.0\n",
      "H     NaN\n",
      "dtype: float64\n"
     ]
    }
   ],
   "source": [
    "Ex1=Series(np.random.binomial(n=100,p=0.6, size=6), index=[\"A\",\"B\",\"D\",\"E\",\"F\",\"H\"])\n",
    "Ex2=Series(np.random.binomial(n=50,p=0.4, size=6), index=[\"B\",\"C\",\"A\",\"D\",\"F\",\"E\"])\n",
    "print(Ex1, \"\\n\", Ex2, \"\\n\", Ex1+Ex2) "
   ]
  },
  {
   "cell_type": "markdown",
   "metadata": {},
   "source": [
    "### 메소드로 해도 똑같다 (변수이름.add(더할 변수))"
   ]
  },
  {
   "cell_type": "code",
   "execution_count": 177,
   "metadata": {},
   "outputs": [
    {
     "name": "stdout",
     "output_type": "stream",
     "text": [
      "A    57\n",
      "B    68\n",
      "D    61\n",
      "E    53\n",
      "F    56\n",
      "H    63\n",
      "dtype: int32 \n",
      " B    21\n",
      "C    23\n",
      "A    26\n",
      "D    22\n",
      "F    20\n",
      "E    20\n",
      "dtype: int32 \n",
      " A    83.0\n",
      "B    89.0\n",
      "C     NaN\n",
      "D    83.0\n",
      "E    73.0\n",
      "F    76.0\n",
      "H     NaN\n",
      "dtype: float64\n"
     ]
    }
   ],
   "source": [
    "print(Ex1, \"\\n\", Ex2, \"\\n\", Ex1.add(Ex2) )"
   ]
  },
  {
   "cell_type": "markdown",
   "metadata": {},
   "source": [
    "### 결측값 어떻게 처리할건지 지정해줄수있다 (fill)"
   ]
  },
  {
   "cell_type": "code",
   "execution_count": 179,
   "metadata": {},
   "outputs": [
    {
     "name": "stdout",
     "output_type": "stream",
     "text": [
      "A    57\n",
      "B    68\n",
      "D    61\n",
      "E    53\n",
      "F    56\n",
      "H    63\n",
      "dtype: int32 \n",
      " B    21\n",
      "C    23\n",
      "A    26\n",
      "D    22\n",
      "F    20\n",
      "E    20\n",
      "dtype: int32 \n",
      " A    83.0\n",
      "B    89.0\n",
      "C    23.0\n",
      "D    83.0\n",
      "E    73.0\n",
      "F    76.0\n",
      "H    63.0\n",
      "dtype: float64\n"
     ]
    }
   ],
   "source": [
    "print(Ex1, \"\\n\", Ex2, \"\\n\", Ex1.add(Ex2, fill_value=0) )"
   ]
  },
  {
   "cell_type": "markdown",
   "metadata": {},
   "source": [
    "### DataFrame과 Series의 연산"
   ]
  },
  {
   "cell_type": "code",
   "execution_count": 182,
   "metadata": {
    "scrolled": true
   },
   "outputs": [
    {
     "name": "stdout",
     "output_type": "stream",
     "text": [
      "     att  hw  mid  fin\n",
      "st1    5   8   36   32\n",
      "st2    7   7   32   27\n",
      "st3    8   9   25   19\n",
      "st4    6   6   28   20 \n",
      " att    3\n",
      "hw     5\n",
      "etc    1\n",
      "dtype: int64 \n",
      "       att  etc  fin    hw  mid\n",
      "st1   8.0  NaN  NaN  13.0  NaN\n",
      "st2  10.0  NaN  NaN  12.0  NaN\n",
      "st3  11.0  NaN  NaN  14.0  NaN\n",
      "st4   9.0  NaN  NaN  11.0  NaN\n"
     ]
    }
   ],
   "source": [
    "Ex1=Series([3,5,1],index=[\"att\",\"hw\",\"etc\"])\n",
    "Ex2=Series([3,5,1],index=[\"st1\",\"st4\",\"st2\"])\n",
    "DF=DataFrame({\"att\":[5,7,8,6], \"hw\":[8,7,9,6], \"mid\":[36,32,25,28], \"fin\":[32,27,19,20]},index=[\"st1\",\"st2\",\"st3\",\"st4\"])\n",
    "print(DF, \"\\n\", Ex1, \"\\n\", DF+Ex1)"
   ]
  },
  {
   "cell_type": "markdown",
   "metadata": {},
   "source": [
    "### 마찬가지로, method를 이용해서 연산해도 된다."
   ]
  },
  {
   "cell_type": "code",
   "execution_count": 184,
   "metadata": {},
   "outputs": [
    {
     "name": "stdout",
     "output_type": "stream",
     "text": [
      "     att  hw  mid  fin\n",
      "st1    5   8   36   32\n",
      "st2    7   7   32   27\n",
      "st3    8   9   25   19\n",
      "st4    6   6   28   20 \n",
      " att    3\n",
      "hw     5\n",
      "etc    1\n",
      "dtype: int64 \n",
      "      att  hw  mid  fin\n",
      "att  NaN NaN  NaN  NaN\n",
      "etc  NaN NaN  NaN  NaN\n",
      "hw   NaN NaN  NaN  NaN\n",
      "st1  NaN NaN  NaN  NaN\n",
      "st2  NaN NaN  NaN  NaN\n",
      "st3  NaN NaN  NaN  NaN\n",
      "st4  NaN NaN  NaN  NaN\n"
     ]
    }
   ],
   "source": [
    "print(DF, \"\\n\", Ex1, \"\\n\", DF.add(Ex1,axis=0))"
   ]
  },
  {
   "cell_type": "code",
   "execution_count": 185,
   "metadata": {},
   "outputs": [
    {
     "name": "stdout",
     "output_type": "stream",
     "text": [
      "     att  hw  mid  fin\n",
      "st1    5   8   36   32\n",
      "st2    7   7   32   27\n",
      "st3    8   9   25   19\n",
      "st4    6   6   28   20 \n",
      " att    3\n",
      "hw     5\n",
      "etc    1\n",
      "dtype: int64 \n",
      "       att    hw   mid   fin\n",
      "st1   8.0  11.0  39.0  35.0\n",
      "st2   8.0   8.0  33.0  28.0\n",
      "st3   NaN   NaN   NaN   NaN\n",
      "st4  11.0  11.0  33.0  25.0\n"
     ]
    }
   ],
   "source": [
    "print(DF, \"\\n\", Ex1, \"\\n\", DF.add(Ex2,axis=0))"
   ]
  },
  {
   "cell_type": "markdown",
   "metadata": {},
   "source": [
    "## 함수의 적용과 맵핑"
   ]
  },
  {
   "cell_type": "code",
   "execution_count": 187,
   "metadata": {
    "scrolled": true
   },
   "outputs": [
    {
     "ename": "ValueError",
     "evalue": "operands could not be broadcast together with shapes (3,) (4,) ",
     "output_type": "error",
     "traceback": [
      "\u001b[1;31m---------------------------------------------------------------------------\u001b[0m",
      "\u001b[1;31mValueError\u001b[0m                                Traceback (most recent call last)",
      "\u001b[1;32m<ipython-input-187-dfbde11c3c03>\u001b[0m in \u001b[0;36m<module>\u001b[1;34m\u001b[0m\n\u001b[0;32m      2\u001b[0m \u001b[0mEx2\u001b[0m\u001b[1;33m=\u001b[0m\u001b[0mSeries\u001b[0m\u001b[1;33m(\u001b[0m\u001b[1;33m[\u001b[0m\u001b[1;36m4\u001b[0m\u001b[1;33m,\u001b[0m\u001b[1;36m2\u001b[0m\u001b[1;33m,\u001b[0m\u001b[1;36m10\u001b[0m\u001b[1;33m,\u001b[0m\u001b[1;36m3\u001b[0m\u001b[1;33m]\u001b[0m\u001b[1;33m,\u001b[0m\u001b[0mindex\u001b[0m\u001b[1;33m=\u001b[0m\u001b[1;33m[\u001b[0m\u001b[1;34m\"st1\"\u001b[0m\u001b[1;33m,\u001b[0m\u001b[1;34m\"st4\"\u001b[0m\u001b[1;33m,\u001b[0m\u001b[1;34m\"st2\"\u001b[0m\u001b[1;33m,\u001b[0m \u001b[1;34m\"st3\"\u001b[0m\u001b[1;33m]\u001b[0m\u001b[1;33m)\u001b[0m\u001b[1;33m\u001b[0m\u001b[1;33m\u001b[0m\u001b[0m\n\u001b[0;32m      3\u001b[0m \u001b[0mDF\u001b[0m\u001b[1;33m=\u001b[0m\u001b[0mDataFrame\u001b[0m\u001b[1;33m(\u001b[0m\u001b[1;33m{\u001b[0m\u001b[1;34m\"att\"\u001b[0m\u001b[1;33m:\u001b[0m\u001b[1;33m[\u001b[0m\u001b[1;36m5\u001b[0m\u001b[1;33m,\u001b[0m\u001b[1;36m7\u001b[0m\u001b[1;33m,\u001b[0m\u001b[1;36m8\u001b[0m\u001b[1;33m,\u001b[0m\u001b[1;36m6\u001b[0m\u001b[1;33m]\u001b[0m\u001b[1;33m,\u001b[0m \u001b[1;34m\"hw\"\u001b[0m\u001b[1;33m:\u001b[0m\u001b[1;33m[\u001b[0m\u001b[1;36m8\u001b[0m\u001b[1;33m,\u001b[0m\u001b[1;36m7\u001b[0m\u001b[1;33m,\u001b[0m\u001b[1;36m9\u001b[0m\u001b[1;33m,\u001b[0m\u001b[1;36m6\u001b[0m\u001b[1;33m]\u001b[0m\u001b[1;33m,\u001b[0m \u001b[1;34m\"mid\"\u001b[0m\u001b[1;33m:\u001b[0m\u001b[1;33m[\u001b[0m\u001b[1;36m36\u001b[0m\u001b[1;33m,\u001b[0m\u001b[1;36m32\u001b[0m\u001b[1;33m,\u001b[0m\u001b[1;36m25\u001b[0m\u001b[1;33m,\u001b[0m\u001b[1;36m28\u001b[0m\u001b[1;33m]\u001b[0m\u001b[1;33m,\u001b[0m \u001b[1;34m\"fin\"\u001b[0m\u001b[1;33m:\u001b[0m\u001b[1;33m[\u001b[0m\u001b[1;36m32\u001b[0m\u001b[1;33m,\u001b[0m\u001b[1;36m27\u001b[0m\u001b[1;33m,\u001b[0m\u001b[1;36m19\u001b[0m\u001b[1;33m,\u001b[0m\u001b[1;36m20\u001b[0m\u001b[1;33m]\u001b[0m\u001b[1;33m}\u001b[0m\u001b[1;33m,\u001b[0m\u001b[0mindex\u001b[0m\u001b[1;33m=\u001b[0m\u001b[1;33m[\u001b[0m\u001b[1;34m\"st1\"\u001b[0m\u001b[1;33m,\u001b[0m\u001b[1;34m\"st2\"\u001b[0m\u001b[1;33m,\u001b[0m\u001b[1;34m\"st3\"\u001b[0m\u001b[1;33m,\u001b[0m\u001b[1;34m\"st4\"\u001b[0m\u001b[1;33m]\u001b[0m\u001b[1;33m)\u001b[0m\u001b[1;33m\u001b[0m\u001b[1;33m\u001b[0m\u001b[0m\n\u001b[1;32m----> 4\u001b[1;33m \u001b[0mprint\u001b[0m\u001b[1;33m(\u001b[0m\u001b[0mnp\u001b[0m\u001b[1;33m.\u001b[0m\u001b[0mminimum\u001b[0m\u001b[1;33m(\u001b[0m\u001b[0mEx1\u001b[0m\u001b[1;33m,\u001b[0m\u001b[0mEx2\u001b[0m\u001b[1;33m)\u001b[0m\u001b[1;33m)\u001b[0m\u001b[1;33m\u001b[0m\u001b[1;33m\u001b[0m\u001b[0m\n\u001b[0m",
      "\u001b[1;31mValueError\u001b[0m: operands could not be broadcast together with shapes (3,) (4,) "
     ]
    }
   ],
   "source": [
    "Ex1=Series([3,5,1],index=[\"att\",\"hw\",\"etc\"])\n",
    "Ex2=Series([4,2,10,3],index=[\"st1\",\"st4\",\"st2\", \"st3\"])\n",
    "DF=DataFrame({\"att\":[5,7,8,6], \"hw\":[8,7,9,6], \"mid\":[36,32,25,28], \"fin\":[32,27,19,20]},index=[\"st1\",\"st2\",\"st3\",\"st4\"])\n",
    "print(np.minimum(Ex1,Ex2))"
   ]
  },
  {
   "cell_type": "markdown",
   "metadata": {},
   "source": [
    "### numpy함수는 인덱스를 전혀 고려하지 않고 순서만 고려 (Ex1, Ex2  인덱스 모두 다름)"
   ]
  },
  {
   "cell_type": "code",
   "execution_count": 188,
   "metadata": {},
   "outputs": [
    {
     "name": "stdout",
     "output_type": "stream",
     "text": [
      "att    3\n",
      "hw     2\n",
      "etc    1\n",
      "dtype: int64\n"
     ]
    }
   ],
   "source": [
    "Ex1=Series([3,5,1],index=[\"att\",\"hw\",\"etc\"])\n",
    "Ex2=Series([4,2,10],index=[\"st1\",\"st4\",\"st2\"])\n",
    "DF=DataFrame({\"att\":[5,7,8,6], \"hw\":[8,7,9,6], \"mid\":[36,32,25,28], \"fin\":[32,27,19,20]},index=[\"st1\",\"st2\",\"st3\",\"st4\"])\n",
    "print(np.minimum(Ex1,Ex2))"
   ]
  },
  {
   "cell_type": "markdown",
   "metadata": {},
   "source": [
    "### apply() 안에 쓸 함수 넣음 (개별 원소별로 계산하는거 말고 전체적으로 계산하는것, e.g. 평균, 표준편차)"
   ]
  },
  {
   "cell_type": "code",
   "execution_count": 190,
   "metadata": {},
   "outputs": [
    {
     "name": "stdout",
     "output_type": "stream",
     "text": [
      "     att  hw  mid  fin\n",
      "st1    5   8   36   32\n",
      "st2    7   7   32   27\n",
      "st3    8   9   25   19\n",
      "st4    6   6   28   20 \n",
      " att     26\n",
      "hw      30\n",
      "mid    121\n",
      "fin     98\n",
      "dtype: int64\n"
     ]
    }
   ],
   "source": [
    " print(DF, \"\\n\", DF.apply(np.sum))"
   ]
  },
  {
   "cell_type": "code",
   "execution_count": 192,
   "metadata": {},
   "outputs": [
    {
     "name": "stdout",
     "output_type": "stream",
     "text": [
      "     att  hw  mid  fin\n",
      "st1    5   8   36   32\n",
      "st2    7   7   32   27\n",
      "st3    8   9   25   19\n",
      "st4    6   6   28   20 \n",
      " st1    81\n",
      "st2    73\n",
      "st3    61\n",
      "st4    60\n",
      "dtype: int64\n"
     ]
    }
   ],
   "source": [
    " print(DF, \"\\n\", DF.apply(np.sum,axis=1)) # 각 행에 대한 합계"
   ]
  },
  {
   "cell_type": "markdown",
   "metadata": {},
   "source": [
    "### 사용자 지정 함수를 apply()에 넣고 각 열을 순차적으로 함수 돌리기 -> 데이터프레임으로 출력"
   ]
  },
  {
   "cell_type": "code",
   "execution_count": 195,
   "metadata": {
    "scrolled": true
   },
   "outputs": [
    {
     "name": "stdout",
     "output_type": "stream",
     "text": [
      "     att  hw  mid  fin\n",
      "st1    5   8   36   32\n",
      "st2    7   7   32   27\n",
      "st3    8   9   25   19\n",
      "st4    6   6   28   20 \n",
      "      최소값  최대값  범위\n",
      "st1    5   36  31\n",
      "st2    7   32  25\n",
      "st3    8   25  17\n",
      "st4    6   28  22\n"
     ]
    },
    {
     "data": {
      "text/html": [
       "<div>\n",
       "<style scoped>\n",
       "    .dataframe tbody tr th:only-of-type {\n",
       "        vertical-align: middle;\n",
       "    }\n",
       "\n",
       "    .dataframe tbody tr th {\n",
       "        vertical-align: top;\n",
       "    }\n",
       "\n",
       "    .dataframe thead th {\n",
       "        text-align: right;\n",
       "    }\n",
       "</style>\n",
       "<table border=\"1\" class=\"dataframe\">\n",
       "  <thead>\n",
       "    <tr style=\"text-align: right;\">\n",
       "      <th></th>\n",
       "      <th>att</th>\n",
       "      <th>hw</th>\n",
       "      <th>mid</th>\n",
       "      <th>fin</th>\n",
       "    </tr>\n",
       "  </thead>\n",
       "  <tbody>\n",
       "    <tr>\n",
       "      <th>최소값</th>\n",
       "      <td>5</td>\n",
       "      <td>6</td>\n",
       "      <td>25</td>\n",
       "      <td>19</td>\n",
       "    </tr>\n",
       "    <tr>\n",
       "      <th>최대값</th>\n",
       "      <td>8</td>\n",
       "      <td>9</td>\n",
       "      <td>36</td>\n",
       "      <td>32</td>\n",
       "    </tr>\n",
       "    <tr>\n",
       "      <th>범위</th>\n",
       "      <td>3</td>\n",
       "      <td>3</td>\n",
       "      <td>11</td>\n",
       "      <td>13</td>\n",
       "    </tr>\n",
       "  </tbody>\n",
       "</table>\n",
       "</div>"
      ],
      "text/plain": [
       "     att  hw  mid  fin\n",
       "최소값    5   6   25   19\n",
       "최대값    8   9   36   32\n",
       "범위     3   3   11   13"
      ]
     },
     "execution_count": 195,
     "metadata": {},
     "output_type": "execute_result"
    }
   ],
   "source": [
    "def f(x):\n",
    "    return(Series([x.min(), x.max(), x.max()-x.min()], index=[\"최소값\", \"최대값\", \"범위\"]))\n",
    "print(DF, \"\\n\", DF.apply(f,axis=1))\n",
    "DF.apply(f)"
   ]
  },
  {
   "cell_type": "code",
   "execution_count": 196,
   "metadata": {},
   "outputs": [
    {
     "name": "stdout",
     "output_type": "stream",
     "text": [
      "     att  hw  mid  fin\n",
      "st1    5   8   36   32\n",
      "st2    7   7   32   27\n",
      "st3    8   9   25   19\n",
      "st4    6   6   28   20 \n",
      "      att  hw  mid  fin\n",
      "최소값    5   6   25   19\n",
      "최대값    8   9   36   32\n",
      "범위     3   3   11   13\n"
     ]
    }
   ],
   "source": [
    "def f(x):\n",
    "    return(Series([x.min(), x.max(), x.max()-x.min()], index=[\"최소값\", \"최대값\", \"범위\"]))\n",
    "print(DF, \"\\n\", DF.apply(f))"
   ]
  },
  {
   "cell_type": "markdown",
   "metadata": {},
   "source": [
    "#### DF.applymap(np.exp) = np.exp(DF) -> 이렇게 내장된 함수들은 굳이 apply()함수를 사용하지 않아도 된다; 원소별 계산을 원하면 그냥 내장된 함수를 써도 되고, 기존에 없는 설정이라면 apply함수를 씀"
   ]
  },
  {
   "cell_type": "code",
   "execution_count": 197,
   "metadata": {},
   "outputs": [
    {
     "name": "stdout",
     "output_type": "stream",
     "text": [
      "     att  hw  mid  fin\n",
      "st1    5   8   36   32\n",
      "st2    7   7   32   27\n",
      "st3    8   9   25   19\n",
      "st4    6   6   28   20 \n",
      "              att           hw           mid           fin\n",
      "st1   148.413159  2980.957987  4.311232e+15  7.896296e+13\n",
      "st2  1096.633158  1096.633158  7.896296e+13  5.320482e+11\n",
      "st3  2980.957987  8103.083928  7.200490e+10  1.784823e+08\n",
      "st4   403.428793   403.428793  1.446257e+12  4.851652e+08\n"
     ]
    }
   ],
   "source": [
    "print(DF, \"\\n\", DF.applymap(np.exp))"
   ]
  },
  {
   "cell_type": "code",
   "execution_count": 198,
   "metadata": {},
   "outputs": [
    {
     "data": {
      "text/html": [
       "<div>\n",
       "<style scoped>\n",
       "    .dataframe tbody tr th:only-of-type {\n",
       "        vertical-align: middle;\n",
       "    }\n",
       "\n",
       "    .dataframe tbody tr th {\n",
       "        vertical-align: top;\n",
       "    }\n",
       "\n",
       "    .dataframe thead th {\n",
       "        text-align: right;\n",
       "    }\n",
       "</style>\n",
       "<table border=\"1\" class=\"dataframe\">\n",
       "  <thead>\n",
       "    <tr style=\"text-align: right;\">\n",
       "      <th></th>\n",
       "      <th>att</th>\n",
       "      <th>hw</th>\n",
       "      <th>mid</th>\n",
       "      <th>fin</th>\n",
       "    </tr>\n",
       "  </thead>\n",
       "  <tbody>\n",
       "    <tr>\n",
       "      <th>st1</th>\n",
       "      <td>148.413159</td>\n",
       "      <td>2980.957987</td>\n",
       "      <td>4.311232e+15</td>\n",
       "      <td>7.896296e+13</td>\n",
       "    </tr>\n",
       "    <tr>\n",
       "      <th>st2</th>\n",
       "      <td>1096.633158</td>\n",
       "      <td>1096.633158</td>\n",
       "      <td>7.896296e+13</td>\n",
       "      <td>5.320482e+11</td>\n",
       "    </tr>\n",
       "    <tr>\n",
       "      <th>st3</th>\n",
       "      <td>2980.957987</td>\n",
       "      <td>8103.083928</td>\n",
       "      <td>7.200490e+10</td>\n",
       "      <td>1.784823e+08</td>\n",
       "    </tr>\n",
       "    <tr>\n",
       "      <th>st4</th>\n",
       "      <td>403.428793</td>\n",
       "      <td>403.428793</td>\n",
       "      <td>1.446257e+12</td>\n",
       "      <td>4.851652e+08</td>\n",
       "    </tr>\n",
       "  </tbody>\n",
       "</table>\n",
       "</div>"
      ],
      "text/plain": [
       "             att           hw           mid           fin\n",
       "st1   148.413159  2980.957987  4.311232e+15  7.896296e+13\n",
       "st2  1096.633158  1096.633158  7.896296e+13  5.320482e+11\n",
       "st3  2980.957987  8103.083928  7.200490e+10  1.784823e+08\n",
       "st4   403.428793   403.428793  1.446257e+12  4.851652e+08"
      ]
     },
     "execution_count": 198,
     "metadata": {},
     "output_type": "execute_result"
    }
   ],
   "source": [
    "np.exp(DF)"
   ]
  },
  {
   "cell_type": "markdown",
   "metadata": {},
   "source": [
    "## 정렬과 순위"
   ]
  },
  {
   "cell_type": "code",
   "execution_count": 200,
   "metadata": {
    "scrolled": true
   },
   "outputs": [
    {
     "name": "stdout",
     "output_type": "stream",
     "text": [
      "a3    3.0\n",
      "a2    5.0\n",
      "a1    inf\n",
      "a8    7.0\n",
      "a6    5.0\n",
      "a4    NaN\n",
      "a7    6.0\n",
      "a5    1.0\n",
      "dtype: float64 \n",
      "      att  hw  mid  fin\n",
      "st1    5   8   36   32\n",
      "st2    7   7   32   27\n",
      "st3    8   9   25   19\n",
      "st4    6   6   28   20\n"
     ]
    }
   ],
   "source": [
    "Ex1=Series([3,5,np.inf,7,5,np.nan,6,1],index=[\"a3\", \"a2\", \"a1\", \"a8\",\"a6\", \"a4\", \"a7\", \"a5\"])\n",
    "DF=DataFrame({\"att\":[5,7,8,6], \"hw\":[8,7,9,6], \"mid\":[36,32,25,28], \"fin\":[32,27,19,20]},index=[\"st1\",\"st2\",\"st3\",\"st4\"])\n",
    "print(Ex1, \"\\n\", DF)"
   ]
  },
  {
   "cell_type": "markdown",
   "metadata": {},
   "source": [
    "#### sort 디폴트는 오름차순 정렬"
   ]
  },
  {
   "cell_type": "code",
   "execution_count": 202,
   "metadata": {
    "scrolled": true
   },
   "outputs": [
    {
     "name": "stdout",
     "output_type": "stream",
     "text": [
      "a3    3.0\n",
      "a2    5.0\n",
      "a1    inf\n",
      "a8    7.0\n",
      "a6    5.0\n",
      "a4    NaN\n",
      "a7    6.0\n",
      "a5    1.0\n",
      "dtype: float64 \n",
      " a1    inf\n",
      "a2    5.0\n",
      "a3    3.0\n",
      "a4    NaN\n",
      "a5    1.0\n",
      "a6    5.0\n",
      "a7    6.0\n",
      "a8    7.0\n",
      "dtype: float64\n"
     ]
    }
   ],
   "source": [
    "print(Ex1, \"\\n\", Ex1.sort_index())"
   ]
  },
  {
   "cell_type": "code",
   "execution_count": 204,
   "metadata": {
    "scrolled": true
   },
   "outputs": [
    {
     "name": "stdout",
     "output_type": "stream",
     "text": [
      "a3    3.0\n",
      "a2    5.0\n",
      "a1    inf\n",
      "a8    7.0\n",
      "a6    5.0\n",
      "a4    NaN\n",
      "a7    6.0\n",
      "a5    1.0\n",
      "dtype: float64 \n",
      " a8    7.0\n",
      "a7    6.0\n",
      "a6    5.0\n",
      "a5    1.0\n",
      "a4    NaN\n",
      "a3    3.0\n",
      "a2    5.0\n",
      "a1    inf\n",
      "dtype: float64 \n",
      " a1    inf\n",
      "a8    7.0\n",
      "a7    6.0\n",
      "a6    5.0\n",
      "a2    5.0\n",
      "a3    3.0\n",
      "a5    1.0\n",
      "a4    NaN\n",
      "dtype: float64\n"
     ]
    }
   ],
   "source": [
    "print(Ex1, \"\\n\", Ex1.sort_index(ascending=False), \"\\n\", Ex1.sort_values(ascending=False))"
   ]
  },
  {
   "cell_type": "code",
   "execution_count": 206,
   "metadata": {},
   "outputs": [
    {
     "name": "stdout",
     "output_type": "stream",
     "text": [
      "a3    3.0\n",
      "a2    5.0\n",
      "a1    inf\n",
      "a8    7.0\n",
      "a6    5.0\n",
      "a4    NaN\n",
      "a7    6.0\n",
      "a5    1.0\n",
      "dtype: float64 \n",
      " a3    2.0\n",
      "a2    3.0\n",
      "a1    7.0\n",
      "a8    6.0\n",
      "a6    4.0\n",
      "a4    NaN\n",
      "a7    5.0\n",
      "a5    1.0\n",
      "dtype: float64\n"
     ]
    }
   ],
   "source": [
    "print(Ex1, \"\\n\", Ex1.rank(method=\"first\")) # 얘는 동률이면 먼저 나온애를 "
   ]
  },
  {
   "cell_type": "code",
   "execution_count": 207,
   "metadata": {},
   "outputs": [
    {
     "name": "stdout",
     "output_type": "stream",
     "text": [
      "a3    3.0\n",
      "a2    5.0\n",
      "a1    inf\n",
      "a8    7.0\n",
      "a6    5.0\n",
      "a4    NaN\n",
      "a7    6.0\n",
      "a5    1.0\n",
      "dtype: float64 \n",
      " a3    2.0\n",
      "a2    3.5\n",
      "a1    7.0\n",
      "a8    6.0\n",
      "a6    3.5\n",
      "a4    NaN\n",
      "a7    5.0\n",
      "a5    1.0\n",
      "dtype: float64\n"
     ]
    }
   ],
   "source": [
    "print(Ex1, \"\\n\", Ex1.rank()) # 얘는 두개가 동률이면 0.5씩 나눠갖는다"
   ]
  },
  {
   "cell_type": "code",
   "execution_count": 208,
   "metadata": {},
   "outputs": [
    {
     "name": "stdout",
     "output_type": "stream",
     "text": [
      "     att  hw  mid  fin\n",
      "st1    5   8   36   32\n",
      "st2    7   7   32   27\n",
      "st3    8   9   25   19\n",
      "st4    6   6   28   20 \n",
      "      att   hw  mid  fin\n",
      "st1  1.0  2.0  4.0  3.0\n",
      "st2  1.5  1.5  4.0  3.0\n",
      "st3  1.0  2.0  4.0  3.0\n",
      "st4  1.5  1.5  4.0  3.0\n"
     ]
    }
   ],
   "source": [
    "print(DF, \"\\n\", DF.rank(axis=1,method=\"average\"))  # 행 별로 랭크내고 싶을 때"
   ]
  },
  {
   "cell_type": "markdown",
   "metadata": {},
   "source": [
    "## 중복 색인"
   ]
  },
  {
   "cell_type": "code",
   "execution_count": 210,
   "metadata": {},
   "outputs": [
    {
     "name": "stdout",
     "output_type": "stream",
     "text": [
      "True\n"
     ]
    }
   ],
   "source": [
    "print(DF.index.is_unique)"
   ]
  },
  {
   "cell_type": "markdown",
   "metadata": {},
   "source": [
    "## 기술통계 계산과 요약"
   ]
  },
  {
   "cell_type": "code",
   "execution_count": 214,
   "metadata": {},
   "outputs": [
    {
     "data": {
      "text/plain": [
       "inf"
      ]
     },
     "execution_count": 214,
     "metadata": {},
     "output_type": "execute_result"
    }
   ],
   "source": [
    "Ex1=Series([3,5,np.inf,7,5,np.nan,6,1],index=[\"a3\", \"a2\", \"a1\", \"a8\",\"a6\", \"a4\", \"a7\", \"a5\"])\n",
    "Ex1.mean() # Inf가 포함되어 있어서"
   ]
  },
  {
   "cell_type": "code",
   "execution_count": 212,
   "metadata": {},
   "outputs": [
    {
     "data": {
      "text/plain": [
       "nan"
      ]
     },
     "execution_count": 212,
     "metadata": {},
     "output_type": "execute_result"
    }
   ],
   "source": [
    "Ex1.mean(skipna=False) # nan을 무시 못하니 계산을 못함"
   ]
  },
  {
   "cell_type": "code",
   "execution_count": 215,
   "metadata": {},
   "outputs": [
    {
     "data": {
      "text/plain": [
       "inf"
      ]
     },
     "execution_count": 215,
     "metadata": {},
     "output_type": "execute_result"
    }
   ],
   "source": [
    "Ex1.mean(skipna=True) # 디폴트가 skip NaN"
   ]
  },
  {
   "cell_type": "code",
   "execution_count": 216,
   "metadata": {},
   "outputs": [
    {
     "name": "stdout",
     "output_type": "stream",
     "text": [
      "     att  hw  mid  fin\n",
      "st1    5   8   36   32\n",
      "st2    7   7   32   27\n",
      "st3    8   9   25   19\n",
      "st4    6   6   28   20\n"
     ]
    }
   ],
   "source": [
    "print(DF)"
   ]
  },
  {
   "cell_type": "code",
   "execution_count": 217,
   "metadata": {
    "scrolled": true
   },
   "outputs": [
    {
     "data": {
      "text/plain": [
       "att     6.50\n",
       "hw      7.50\n",
       "mid    30.25\n",
       "fin    24.50\n",
       "dtype: float64"
      ]
     },
     "execution_count": 217,
     "metadata": {},
     "output_type": "execute_result"
    }
   ],
   "source": [
    "DF.mean()"
   ]
  },
  {
   "cell_type": "code",
   "execution_count": 218,
   "metadata": {},
   "outputs": [
    {
     "data": {
      "text/html": [
       "<div>\n",
       "<style scoped>\n",
       "    .dataframe tbody tr th:only-of-type {\n",
       "        vertical-align: middle;\n",
       "    }\n",
       "\n",
       "    .dataframe tbody tr th {\n",
       "        vertical-align: top;\n",
       "    }\n",
       "\n",
       "    .dataframe thead th {\n",
       "        text-align: right;\n",
       "    }\n",
       "</style>\n",
       "<table border=\"1\" class=\"dataframe\">\n",
       "  <thead>\n",
       "    <tr style=\"text-align: right;\">\n",
       "      <th></th>\n",
       "      <th>att</th>\n",
       "      <th>hw</th>\n",
       "      <th>mid</th>\n",
       "      <th>fin</th>\n",
       "    </tr>\n",
       "  </thead>\n",
       "  <tbody>\n",
       "    <tr>\n",
       "      <th>st1</th>\n",
       "      <td>5</td>\n",
       "      <td>8</td>\n",
       "      <td>36</td>\n",
       "      <td>32</td>\n",
       "    </tr>\n",
       "    <tr>\n",
       "      <th>st2</th>\n",
       "      <td>12</td>\n",
       "      <td>15</td>\n",
       "      <td>68</td>\n",
       "      <td>59</td>\n",
       "    </tr>\n",
       "    <tr>\n",
       "      <th>st3</th>\n",
       "      <td>20</td>\n",
       "      <td>24</td>\n",
       "      <td>93</td>\n",
       "      <td>78</td>\n",
       "    </tr>\n",
       "    <tr>\n",
       "      <th>st4</th>\n",
       "      <td>26</td>\n",
       "      <td>30</td>\n",
       "      <td>121</td>\n",
       "      <td>98</td>\n",
       "    </tr>\n",
       "  </tbody>\n",
       "</table>\n",
       "</div>"
      ],
      "text/plain": [
       "     att  hw  mid  fin\n",
       "st1    5   8   36   32\n",
       "st2   12  15   68   59\n",
       "st3   20  24   93   78\n",
       "st4   26  30  121   98"
      ]
     },
     "execution_count": 218,
     "metadata": {},
     "output_type": "execute_result"
    }
   ],
   "source": [
    "DF.cumsum(skipna=False) # -> false로 되어있으면, nan 나온 시점 이후로 모두 NaN"
   ]
  },
  {
   "cell_type": "code",
   "execution_count": 220,
   "metadata": {},
   "outputs": [
    {
     "data": {
      "text/html": [
       "<div>\n",
       "<style scoped>\n",
       "    .dataframe tbody tr th:only-of-type {\n",
       "        vertical-align: middle;\n",
       "    }\n",
       "\n",
       "    .dataframe tbody tr th {\n",
       "        vertical-align: top;\n",
       "    }\n",
       "\n",
       "    .dataframe thead th {\n",
       "        text-align: right;\n",
       "    }\n",
       "</style>\n",
       "<table border=\"1\" class=\"dataframe\">\n",
       "  <thead>\n",
       "    <tr style=\"text-align: right;\">\n",
       "      <th></th>\n",
       "      <th>att</th>\n",
       "      <th>hw</th>\n",
       "      <th>mid</th>\n",
       "      <th>fin</th>\n",
       "    </tr>\n",
       "  </thead>\n",
       "  <tbody>\n",
       "    <tr>\n",
       "      <th>count</th>\n",
       "      <td>4.000000</td>\n",
       "      <td>4.000000</td>\n",
       "      <td>4.000000</td>\n",
       "      <td>4.000000</td>\n",
       "    </tr>\n",
       "    <tr>\n",
       "      <th>mean</th>\n",
       "      <td>6.500000</td>\n",
       "      <td>7.500000</td>\n",
       "      <td>30.250000</td>\n",
       "      <td>24.500000</td>\n",
       "    </tr>\n",
       "    <tr>\n",
       "      <th>std</th>\n",
       "      <td>1.290994</td>\n",
       "      <td>1.290994</td>\n",
       "      <td>4.787136</td>\n",
       "      <td>6.137318</td>\n",
       "    </tr>\n",
       "    <tr>\n",
       "      <th>min</th>\n",
       "      <td>5.000000</td>\n",
       "      <td>6.000000</td>\n",
       "      <td>25.000000</td>\n",
       "      <td>19.000000</td>\n",
       "    </tr>\n",
       "    <tr>\n",
       "      <th>25%</th>\n",
       "      <td>5.750000</td>\n",
       "      <td>6.750000</td>\n",
       "      <td>27.250000</td>\n",
       "      <td>19.750000</td>\n",
       "    </tr>\n",
       "    <tr>\n",
       "      <th>50%</th>\n",
       "      <td>6.500000</td>\n",
       "      <td>7.500000</td>\n",
       "      <td>30.000000</td>\n",
       "      <td>23.500000</td>\n",
       "    </tr>\n",
       "    <tr>\n",
       "      <th>75%</th>\n",
       "      <td>7.250000</td>\n",
       "      <td>8.250000</td>\n",
       "      <td>33.000000</td>\n",
       "      <td>28.250000</td>\n",
       "    </tr>\n",
       "    <tr>\n",
       "      <th>max</th>\n",
       "      <td>8.000000</td>\n",
       "      <td>9.000000</td>\n",
       "      <td>36.000000</td>\n",
       "      <td>32.000000</td>\n",
       "    </tr>\n",
       "  </tbody>\n",
       "</table>\n",
       "</div>"
      ],
      "text/plain": [
       "            att        hw        mid        fin\n",
       "count  4.000000  4.000000   4.000000   4.000000\n",
       "mean   6.500000  7.500000  30.250000  24.500000\n",
       "std    1.290994  1.290994   4.787136   6.137318\n",
       "min    5.000000  6.000000  25.000000  19.000000\n",
       "25%    5.750000  6.750000  27.250000  19.750000\n",
       "50%    6.500000  7.500000  30.000000  23.500000\n",
       "75%    7.250000  8.250000  33.000000  28.250000\n",
       "max    8.000000  9.000000  36.000000  32.000000"
      ]
     },
     "execution_count": 220,
     "metadata": {},
     "output_type": "execute_result"
    }
   ],
   "source": [
    "DF.describe() # 기술통계"
   ]
  },
  {
   "cell_type": "code",
   "execution_count": 225,
   "metadata": {},
   "outputs": [
    {
     "data": {
      "text/plain": [
       "count    4.000000\n",
       "mean     6.500000\n",
       "std      1.290994\n",
       "min      5.000000\n",
       "25%      5.750000\n",
       "50%      6.500000\n",
       "75%      7.250000\n",
       "max      8.000000\n",
       "Name: att, dtype: float64"
      ]
     },
     "execution_count": 225,
     "metadata": {},
     "output_type": "execute_result"
    }
   ],
   "source": [
    "DF.att.describe() # 특정 렬의 기술통계도 제공"
   ]
  }
 ],
 "metadata": {
  "kernelspec": {
   "display_name": "Python 3",
   "language": "python",
   "name": "mypython"
  },
  "language_info": {
   "codemirror_mode": {
    "name": "ipython",
    "version": 3
   },
   "file_extension": ".py",
   "mimetype": "text/x-python",
   "name": "python",
   "nbconvert_exporter": "python",
   "pygments_lexer": "ipython3",
   "version": "3.6.8"
  },
  "widgets": {
   "state": {},
   "version": "1.1.2"
  }
 },
 "nbformat": 4,
 "nbformat_minor": 2
}
