{
 "cells": [
  {
   "cell_type": "markdown",
   "metadata": {},
   "source": [
    "## 공분산과 상관계수"
   ]
  },
  {
   "cell_type": "markdown",
   "metadata": {},
   "source": [
    "### 공분산 구하기"
   ]
  },
  {
   "cell_type": "code",
   "execution_count": 205,
   "metadata": {
    "scrolled": false
   },
   "outputs": [
    {
     "data": {
      "text/plain": [
       "array([[ 81.4, 195. ,  57. ],\n",
       "       [122.2, 179. ,  61. ],\n",
       "       [101.7, 205. ,  60. ],\n",
       "       [175.6, 204. ,  62. ],\n",
       "       [150.3, 201. ,  61. ],\n",
       "       [ 64.8, 184. ,  54. ],\n",
       "       [ 92.1, 210. ,  58. ],\n",
       "       [113.8, 209. ,  61. ]])"
      ]
     },
     "execution_count": 205,
     "metadata": {},
     "output_type": "execute_result"
    }
   ],
   "source": [
    "from pandas import Series, DataFrame\n",
    "import numpy as np\n",
    "import pandas as pd\n",
    "\n",
    "steel_data = np.loadtxt('C:/Users/Affinity/Desktop/Python_Data/ch02_data/steel.txt', \n",
    "                        skiprows=5,delimiter='\\t')\n",
    "steel_data"
   ]
  },
  {
   "cell_type": "code",
   "execution_count": 206,
   "metadata": {},
   "outputs": [
    {
     "data": {
      "text/html": [
       "<div>\n",
       "<style scoped>\n",
       "    .dataframe tbody tr th:only-of-type {\n",
       "        vertical-align: middle;\n",
       "    }\n",
       "\n",
       "    .dataframe tbody tr th {\n",
       "        vertical-align: top;\n",
       "    }\n",
       "\n",
       "    .dataframe thead th {\n",
       "        text-align: right;\n",
       "    }\n",
       "</style>\n",
       "<table border=\"1\" class=\"dataframe\">\n",
       "  <thead>\n",
       "    <tr style=\"text-align: right;\">\n",
       "      <th></th>\n",
       "      <th>y</th>\n",
       "      <th>x1</th>\n",
       "      <th>x2</th>\n",
       "      <th>x21</th>\n",
       "    </tr>\n",
       "  </thead>\n",
       "  <tbody>\n",
       "    <tr>\n",
       "      <th>0</th>\n",
       "      <td>81.4</td>\n",
       "      <td>195.0</td>\n",
       "      <td>57.0</td>\n",
       "      <td>570.0</td>\n",
       "    </tr>\n",
       "    <tr>\n",
       "      <th>1</th>\n",
       "      <td>122.2</td>\n",
       "      <td>179.0</td>\n",
       "      <td>61.0</td>\n",
       "      <td>610.0</td>\n",
       "    </tr>\n",
       "    <tr>\n",
       "      <th>2</th>\n",
       "      <td>101.7</td>\n",
       "      <td>205.0</td>\n",
       "      <td>60.0</td>\n",
       "      <td>600.0</td>\n",
       "    </tr>\n",
       "    <tr>\n",
       "      <th>3</th>\n",
       "      <td>175.6</td>\n",
       "      <td>204.0</td>\n",
       "      <td>62.0</td>\n",
       "      <td>620.0</td>\n",
       "    </tr>\n",
       "    <tr>\n",
       "      <th>4</th>\n",
       "      <td>150.3</td>\n",
       "      <td>201.0</td>\n",
       "      <td>61.0</td>\n",
       "      <td>610.0</td>\n",
       "    </tr>\n",
       "    <tr>\n",
       "      <th>5</th>\n",
       "      <td>64.8</td>\n",
       "      <td>184.0</td>\n",
       "      <td>54.0</td>\n",
       "      <td>540.0</td>\n",
       "    </tr>\n",
       "    <tr>\n",
       "      <th>6</th>\n",
       "      <td>92.1</td>\n",
       "      <td>210.0</td>\n",
       "      <td>58.0</td>\n",
       "      <td>580.0</td>\n",
       "    </tr>\n",
       "    <tr>\n",
       "      <th>7</th>\n",
       "      <td>113.8</td>\n",
       "      <td>209.0</td>\n",
       "      <td>61.0</td>\n",
       "      <td>610.0</td>\n",
       "    </tr>\n",
       "  </tbody>\n",
       "</table>\n",
       "</div>"
      ],
      "text/plain": [
       "       y     x1    x2    x21\n",
       "0   81.4  195.0  57.0  570.0\n",
       "1  122.2  179.0  61.0  610.0\n",
       "2  101.7  205.0  60.0  600.0\n",
       "3  175.6  204.0  62.0  620.0\n",
       "4  150.3  201.0  61.0  610.0\n",
       "5   64.8  184.0  54.0  540.0\n",
       "6   92.1  210.0  58.0  580.0\n",
       "7  113.8  209.0  61.0  610.0"
      ]
     },
     "execution_count": 206,
     "metadata": {},
     "output_type": "execute_result"
    }
   ],
   "source": [
    "df=DataFrame(steel_data, columns=[\"y\",\"x1\",\"x2\"])\n",
    "df[\"x21\"]=df.x2*10\n",
    "df"
   ]
  },
  {
   "cell_type": "code",
   "execution_count": 8,
   "metadata": {},
   "outputs": [
    {
     "name": "stdout",
     "output_type": "stream",
     "text": [
      "x1과 y의 공분산\n",
      "108.85535714285713\n",
      "\n",
      "공분산행렬\n",
      "               y          x1         x2         x21\n",
      "y    1325.868393  108.855357  85.246429  852.464286\n",
      "x1    108.855357  131.982143  11.178571  111.785714\n",
      "x2     85.246429   11.178571   7.357143   73.571429\n",
      "x21   852.464286  111.785714  73.571429  735.714286\n"
     ]
    }
   ],
   "source": [
    "print(\"x1과 y의 공분산\\n{0}\\n\".format(df.x1.cov(df.y)))\n",
    "print(\"공분산행렬\\n{0}\".format(df.cov()))"
   ]
  },
  {
   "cell_type": "markdown",
   "metadata": {},
   "source": [
    "#### x21과 x2의 공분산이 10배 차이난다! (공분산은 단위에 따라 달라짐)"
   ]
  },
  {
   "cell_type": "markdown",
   "metadata": {},
   "source": [
    "### 상관계수 구하기"
   ]
  },
  {
   "cell_type": "code",
   "execution_count": 9,
   "metadata": {},
   "outputs": [
    {
     "data": {
      "text/plain": [
       "0.2602208017100887"
      ]
     },
     "execution_count": 9,
     "metadata": {},
     "output_type": "execute_result"
    }
   ],
   "source": [
    "df.x1.corr(df.y)"
   ]
  },
  {
   "cell_type": "markdown",
   "metadata": {},
   "source": [
    "#### 모든 변수의 상관계수 행렬 구하기: 공분산과는 다르게, 단위와 상관없이 관계의 정도가 동일하다."
   ]
  },
  {
   "cell_type": "markdown",
   "metadata": {},
   "source": [
    "#### 따라서, 두 변수의 관계를 비교할땐 보통은 상관계수로"
   ]
  },
  {
   "cell_type": "code",
   "execution_count": 10,
   "metadata": {},
   "outputs": [
    {
     "data": {
      "text/html": [
       "<div>\n",
       "<style scoped>\n",
       "    .dataframe tbody tr th:only-of-type {\n",
       "        vertical-align: middle;\n",
       "    }\n",
       "\n",
       "    .dataframe tbody tr th {\n",
       "        vertical-align: top;\n",
       "    }\n",
       "\n",
       "    .dataframe thead th {\n",
       "        text-align: right;\n",
       "    }\n",
       "</style>\n",
       "<table border=\"1\" class=\"dataframe\">\n",
       "  <thead>\n",
       "    <tr style=\"text-align: right;\">\n",
       "      <th></th>\n",
       "      <th>y</th>\n",
       "      <th>x1</th>\n",
       "      <th>x2</th>\n",
       "      <th>x21</th>\n",
       "    </tr>\n",
       "  </thead>\n",
       "  <tbody>\n",
       "    <tr>\n",
       "      <th>y</th>\n",
       "      <td>1.000000</td>\n",
       "      <td>0.260221</td>\n",
       "      <td>0.863120</td>\n",
       "      <td>0.863120</td>\n",
       "    </tr>\n",
       "    <tr>\n",
       "      <th>x1</th>\n",
       "      <td>0.260221</td>\n",
       "      <td>1.000000</td>\n",
       "      <td>0.358735</td>\n",
       "      <td>0.358735</td>\n",
       "    </tr>\n",
       "    <tr>\n",
       "      <th>x2</th>\n",
       "      <td>0.863120</td>\n",
       "      <td>0.358735</td>\n",
       "      <td>1.000000</td>\n",
       "      <td>1.000000</td>\n",
       "    </tr>\n",
       "    <tr>\n",
       "      <th>x21</th>\n",
       "      <td>0.863120</td>\n",
       "      <td>0.358735</td>\n",
       "      <td>1.000000</td>\n",
       "      <td>1.000000</td>\n",
       "    </tr>\n",
       "  </tbody>\n",
       "</table>\n",
       "</div>"
      ],
      "text/plain": [
       "            y        x1        x2       x21\n",
       "y    1.000000  0.260221  0.863120  0.863120\n",
       "x1   0.260221  1.000000  0.358735  0.358735\n",
       "x2   0.863120  0.358735  1.000000  1.000000\n",
       "x21  0.863120  0.358735  1.000000  1.000000"
      ]
     },
     "execution_count": 10,
     "metadata": {},
     "output_type": "execute_result"
    }
   ],
   "source": [
    "df.corr()"
   ]
  },
  {
   "cell_type": "markdown",
   "metadata": {},
   "source": [
    "#### 해석: y에 x1보다 x2가 더 영향을 줄 가능성이 높다.\n",
    "#### 관계의 방향: 부호, 관계의 정도 (크기): 절대값"
   ]
  },
  {
   "cell_type": "markdown",
   "metadata": {},
   "source": [
    "## 유일 값, 값 세기"
   ]
  },
  {
   "cell_type": "code",
   "execution_count": 11,
   "metadata": {},
   "outputs": [
    {
     "data": {
      "text/plain": [
       "array([22, 13, 14, 11], dtype=int64)"
      ]
     },
     "execution_count": 11,
     "metadata": {},
     "output_type": "execute_result"
    }
   ],
   "source": [
    "s=Series([22,13,14,22,14,11,14])\n",
    "s.unique()"
   ]
  },
  {
   "cell_type": "code",
   "execution_count": 12,
   "metadata": {},
   "outputs": [
    {
     "data": {
      "text/plain": [
       "14    3\n",
       "22    2\n",
       "13    1\n",
       "11    1\n",
       "dtype: int64"
      ]
     },
     "execution_count": 12,
     "metadata": {},
     "output_type": "execute_result"
    }
   ],
   "source": [
    "s.value_counts()"
   ]
  },
  {
   "cell_type": "code",
   "execution_count": 14,
   "metadata": {},
   "outputs": [
    {
     "data": {
      "text/plain": [
       "0     True\n",
       "1    False\n",
       "2     True\n",
       "3     True\n",
       "4    False\n",
       "dtype: bool"
      ]
     },
     "execution_count": 14,
     "metadata": {},
     "output_type": "execute_result"
    }
   ],
   "source": [
    "s=Series([32,43,52,32,43])\n",
    "s.isin([32,52])"
   ]
  },
  {
   "cell_type": "code",
   "execution_count": 15,
   "metadata": {},
   "outputs": [
    {
     "data": {
      "text/plain": [
       "7    2\n",
       "5    2\n",
       "Name: att, dtype: int64"
      ]
     },
     "execution_count": 15,
     "metadata": {},
     "output_type": "execute_result"
    }
   ],
   "source": [
    "data={\"att\":[5,7,5,7], \"hw\":[7,9,8,6], \"mid\":[28,30,29,30], \"fin\":[27,31,27,25]}\n",
    "df=DataFrame(data)\n",
    "df.att.value_counts()"
   ]
  },
  {
   "cell_type": "code",
   "execution_count": 19,
   "metadata": {
    "scrolled": false
   },
   "outputs": [
    {
     "data": {
      "text/html": [
       "<div>\n",
       "<style scoped>\n",
       "    .dataframe tbody tr th:only-of-type {\n",
       "        vertical-align: middle;\n",
       "    }\n",
       "\n",
       "    .dataframe tbody tr th {\n",
       "        vertical-align: top;\n",
       "    }\n",
       "\n",
       "    .dataframe thead th {\n",
       "        text-align: right;\n",
       "    }\n",
       "</style>\n",
       "<table border=\"1\" class=\"dataframe\">\n",
       "  <thead>\n",
       "    <tr style=\"text-align: right;\">\n",
       "      <th></th>\n",
       "      <th>att</th>\n",
       "      <th>hw</th>\n",
       "      <th>mid</th>\n",
       "      <th>fin</th>\n",
       "    </tr>\n",
       "  </thead>\n",
       "  <tbody>\n",
       "    <tr>\n",
       "      <th>5</th>\n",
       "      <td>2.0</td>\n",
       "      <td>0.0</td>\n",
       "      <td>0.0</td>\n",
       "      <td>0.0</td>\n",
       "    </tr>\n",
       "    <tr>\n",
       "      <th>6</th>\n",
       "      <td>0.0</td>\n",
       "      <td>1.0</td>\n",
       "      <td>0.0</td>\n",
       "      <td>0.0</td>\n",
       "    </tr>\n",
       "    <tr>\n",
       "      <th>7</th>\n",
       "      <td>2.0</td>\n",
       "      <td>1.0</td>\n",
       "      <td>0.0</td>\n",
       "      <td>0.0</td>\n",
       "    </tr>\n",
       "    <tr>\n",
       "      <th>8</th>\n",
       "      <td>0.0</td>\n",
       "      <td>1.0</td>\n",
       "      <td>0.0</td>\n",
       "      <td>0.0</td>\n",
       "    </tr>\n",
       "    <tr>\n",
       "      <th>9</th>\n",
       "      <td>0.0</td>\n",
       "      <td>1.0</td>\n",
       "      <td>0.0</td>\n",
       "      <td>0.0</td>\n",
       "    </tr>\n",
       "    <tr>\n",
       "      <th>25</th>\n",
       "      <td>0.0</td>\n",
       "      <td>0.0</td>\n",
       "      <td>0.0</td>\n",
       "      <td>1.0</td>\n",
       "    </tr>\n",
       "    <tr>\n",
       "      <th>27</th>\n",
       "      <td>0.0</td>\n",
       "      <td>0.0</td>\n",
       "      <td>0.0</td>\n",
       "      <td>2.0</td>\n",
       "    </tr>\n",
       "    <tr>\n",
       "      <th>28</th>\n",
       "      <td>0.0</td>\n",
       "      <td>0.0</td>\n",
       "      <td>1.0</td>\n",
       "      <td>0.0</td>\n",
       "    </tr>\n",
       "    <tr>\n",
       "      <th>29</th>\n",
       "      <td>0.0</td>\n",
       "      <td>0.0</td>\n",
       "      <td>1.0</td>\n",
       "      <td>0.0</td>\n",
       "    </tr>\n",
       "    <tr>\n",
       "      <th>30</th>\n",
       "      <td>0.0</td>\n",
       "      <td>0.0</td>\n",
       "      <td>2.0</td>\n",
       "      <td>0.0</td>\n",
       "    </tr>\n",
       "    <tr>\n",
       "      <th>31</th>\n",
       "      <td>0.0</td>\n",
       "      <td>0.0</td>\n",
       "      <td>0.0</td>\n",
       "      <td>1.0</td>\n",
       "    </tr>\n",
       "  </tbody>\n",
       "</table>\n",
       "</div>"
      ],
      "text/plain": [
       "    att   hw  mid  fin\n",
       "5   2.0  0.0  0.0  0.0\n",
       "6   0.0  1.0  0.0  0.0\n",
       "7   2.0  1.0  0.0  0.0\n",
       "8   0.0  1.0  0.0  0.0\n",
       "9   0.0  1.0  0.0  0.0\n",
       "25  0.0  0.0  0.0  1.0\n",
       "27  0.0  0.0  0.0  2.0\n",
       "28  0.0  0.0  1.0  0.0\n",
       "29  0.0  0.0  1.0  0.0\n",
       "30  0.0  0.0  2.0  0.0\n",
       "31  0.0  0.0  0.0  1.0"
      ]
     },
     "execution_count": 19,
     "metadata": {},
     "output_type": "execute_result"
    }
   ],
   "source": [
    "# 데이터프레임이니까 데이터프레임에 포함된 메소드 쓸 수 있음. \n",
    "result=df.apply(pd.value_counts).fillna(0) # 데이터프레임의 메소드들 중 하나. \n",
    "#result.fillna(0) 이렇게 따로 해도된다 but 두 줄 \n",
    "result"
   ]
  },
  {
   "cell_type": "markdown",
   "metadata": {},
   "source": [
    "### 누락된 데이터 처리"
   ]
  },
  {
   "cell_type": "code",
   "execution_count": 23,
   "metadata": {},
   "outputs": [
    {
     "data": {
      "text/plain": [
       "0     kim\n",
       "1     NaN\n",
       "2     lee\n",
       "3    kang\n",
       "4    None\n",
       "5     cho\n",
       "dtype: object"
      ]
     },
     "execution_count": 23,
     "metadata": {},
     "output_type": "execute_result"
    }
   ],
   "source": [
    "s=Series([\"kim\",np.nan,\"lee\",\"kang\",None,\"cho\"])\n",
    "s"
   ]
  },
  {
   "cell_type": "code",
   "execution_count": 26,
   "metadata": {},
   "outputs": [
    {
     "data": {
      "text/plain": [
       "0    False\n",
       "1     True\n",
       "2    False\n",
       "3    False\n",
       "4     True\n",
       "5    False\n",
       "dtype: bool"
      ]
     },
     "execution_count": 26,
     "metadata": {},
     "output_type": "execute_result"
    }
   ],
   "source": [
    "s.isnull()"
   ]
  },
  {
   "cell_type": "code",
   "execution_count": 27,
   "metadata": {},
   "outputs": [
    {
     "data": {
      "text/plain": [
       "0     True\n",
       "1    False\n",
       "2     True\n",
       "3     True\n",
       "4    False\n",
       "5     True\n",
       "dtype: bool"
      ]
     },
     "execution_count": 27,
     "metadata": {},
     "output_type": "execute_result"
    }
   ],
   "source": [
    "~s.isnull()"
   ]
  },
  {
   "cell_type": "code",
   "execution_count": 30,
   "metadata": {},
   "outputs": [
    {
     "data": {
      "text/plain": [
       "0     kim\n",
       "1    NULL\n",
       "2     lee\n",
       "3    kang\n",
       "4    NULL\n",
       "5     cho\n",
       "dtype: object"
      ]
     },
     "execution_count": 30,
     "metadata": {},
     "output_type": "execute_result"
    }
   ],
   "source": [
    "s.fillna(\"NULL\")"
   ]
  },
  {
   "cell_type": "code",
   "execution_count": 33,
   "metadata": {},
   "outputs": [
    {
     "data": {
      "text/plain": [
       "0    64.0\n",
       "1    86.0\n",
       "2    57.0\n",
       "3    27.0\n",
       "4     NaN\n",
       "5    57.0\n",
       "6    48.0\n",
       "7     NaN\n",
       "8     NaN\n",
       "9     NaN\n",
       "dtype: float64"
      ]
     },
     "execution_count": 33,
     "metadata": {},
     "output_type": "execute_result"
    }
   ],
   "source": [
    "s=Series([64,86,57,27,np.nan,57,48,np.nan,np.nan, np.nan])\n",
    "s"
   ]
  },
  {
   "cell_type": "code",
   "execution_count": 36,
   "metadata": {},
   "outputs": [
    {
     "data": {
      "text/plain": [
       "0    64.0\n",
       "1    86.0\n",
       "2    57.0\n",
       "3    27.0\n",
       "5    57.0\n",
       "6    48.0\n",
       "dtype: float64"
      ]
     },
     "execution_count": 36,
     "metadata": {},
     "output_type": "execute_result"
    }
   ],
   "source": [
    "s.dropna()"
   ]
  },
  {
   "cell_type": "markdown",
   "metadata": {},
   "source": [
    "#### 또 다른 경우엔 데이터프레임으로 되어 있는 경우"
   ]
  },
  {
   "cell_type": "code",
   "execution_count": 207,
   "metadata": {},
   "outputs": [
    {
     "data": {
      "text/html": [
       "<div>\n",
       "<style scoped>\n",
       "    .dataframe tbody tr th:only-of-type {\n",
       "        vertical-align: middle;\n",
       "    }\n",
       "\n",
       "    .dataframe tbody tr th {\n",
       "        vertical-align: top;\n",
       "    }\n",
       "\n",
       "    .dataframe thead th {\n",
       "        text-align: right;\n",
       "    }\n",
       "</style>\n",
       "<table border=\"1\" class=\"dataframe\">\n",
       "  <thead>\n",
       "    <tr style=\"text-align: right;\">\n",
       "      <th></th>\n",
       "      <th>att</th>\n",
       "      <th>hw</th>\n",
       "      <th>mid</th>\n",
       "      <th>fin</th>\n",
       "    </tr>\n",
       "  </thead>\n",
       "  <tbody>\n",
       "    <tr>\n",
       "      <th>0</th>\n",
       "      <td>7.0</td>\n",
       "      <td>7.0</td>\n",
       "      <td>23.0</td>\n",
       "      <td>23.0</td>\n",
       "    </tr>\n",
       "    <tr>\n",
       "      <th>1</th>\n",
       "      <td>NaN</td>\n",
       "      <td>6.0</td>\n",
       "      <td>15.0</td>\n",
       "      <td>NaN</td>\n",
       "    </tr>\n",
       "    <tr>\n",
       "      <th>2</th>\n",
       "      <td>7.0</td>\n",
       "      <td>7.0</td>\n",
       "      <td>NaN</td>\n",
       "      <td>25.0</td>\n",
       "    </tr>\n",
       "    <tr>\n",
       "      <th>3</th>\n",
       "      <td>8.0</td>\n",
       "      <td>8.0</td>\n",
       "      <td>8.0</td>\n",
       "      <td>30.0</td>\n",
       "    </tr>\n",
       "    <tr>\n",
       "      <th>4</th>\n",
       "      <td>NaN</td>\n",
       "      <td>NaN</td>\n",
       "      <td>NaN</td>\n",
       "      <td>NaN</td>\n",
       "    </tr>\n",
       "  </tbody>\n",
       "</table>\n",
       "</div>"
      ],
      "text/plain": [
       "   att   hw   mid   fin\n",
       "0  7.0  7.0  23.0  23.0\n",
       "1  NaN  6.0  15.0   NaN\n",
       "2  7.0  7.0   NaN  25.0\n",
       "3  8.0  8.0   8.0  30.0\n",
       "4  NaN  NaN   NaN   NaN"
      ]
     },
     "execution_count": 207,
     "metadata": {},
     "output_type": "execute_result"
    }
   ],
   "source": [
    "s=DataFrame({\"att\":[7,np.nan,7,8,np.nan], \"hw\":[7,6,7,8,np.nan],\n",
    "            \"mid\":[23,15, np.nan,8,np.nan],\"fin\":[23,np.nan,25,30,np.nan]})\n",
    "s"
   ]
  },
  {
   "cell_type": "code",
   "execution_count": 40,
   "metadata": {},
   "outputs": [
    {
     "data": {
      "text/html": [
       "<div>\n",
       "<style scoped>\n",
       "    .dataframe tbody tr th:only-of-type {\n",
       "        vertical-align: middle;\n",
       "    }\n",
       "\n",
       "    .dataframe tbody tr th {\n",
       "        vertical-align: top;\n",
       "    }\n",
       "\n",
       "    .dataframe thead th {\n",
       "        text-align: right;\n",
       "    }\n",
       "</style>\n",
       "<table border=\"1\" class=\"dataframe\">\n",
       "  <thead>\n",
       "    <tr style=\"text-align: right;\">\n",
       "      <th></th>\n",
       "      <th>att</th>\n",
       "      <th>hw</th>\n",
       "      <th>mid</th>\n",
       "      <th>fin</th>\n",
       "    </tr>\n",
       "  </thead>\n",
       "  <tbody>\n",
       "    <tr>\n",
       "      <th>0</th>\n",
       "      <td>7.0</td>\n",
       "      <td>7.0</td>\n",
       "      <td>23.0</td>\n",
       "      <td>23.0</td>\n",
       "    </tr>\n",
       "    <tr>\n",
       "      <th>3</th>\n",
       "      <td>8.0</td>\n",
       "      <td>8.0</td>\n",
       "      <td>8.0</td>\n",
       "      <td>30.0</td>\n",
       "    </tr>\n",
       "  </tbody>\n",
       "</table>\n",
       "</div>"
      ],
      "text/plain": [
       "   att   hw   mid   fin\n",
       "0  7.0  7.0  23.0  23.0\n",
       "3  8.0  8.0   8.0  30.0"
      ]
     },
     "execution_count": 40,
     "metadata": {},
     "output_type": "execute_result"
    }
   ],
   "source": [
    "s.dropna()"
   ]
  },
  {
   "cell_type": "code",
   "execution_count": 41,
   "metadata": {},
   "outputs": [
    {
     "data": {
      "text/html": [
       "<div>\n",
       "<style scoped>\n",
       "    .dataframe tbody tr th:only-of-type {\n",
       "        vertical-align: middle;\n",
       "    }\n",
       "\n",
       "    .dataframe tbody tr th {\n",
       "        vertical-align: top;\n",
       "    }\n",
       "\n",
       "    .dataframe thead th {\n",
       "        text-align: right;\n",
       "    }\n",
       "</style>\n",
       "<table border=\"1\" class=\"dataframe\">\n",
       "  <thead>\n",
       "    <tr style=\"text-align: right;\">\n",
       "      <th></th>\n",
       "      <th>att</th>\n",
       "      <th>hw</th>\n",
       "      <th>mid</th>\n",
       "      <th>fin</th>\n",
       "    </tr>\n",
       "  </thead>\n",
       "  <tbody>\n",
       "    <tr>\n",
       "      <th>0</th>\n",
       "      <td>7.0</td>\n",
       "      <td>7.0</td>\n",
       "      <td>23.0</td>\n",
       "      <td>23.0</td>\n",
       "    </tr>\n",
       "    <tr>\n",
       "      <th>1</th>\n",
       "      <td>NaN</td>\n",
       "      <td>6.0</td>\n",
       "      <td>15.0</td>\n",
       "      <td>NaN</td>\n",
       "    </tr>\n",
       "    <tr>\n",
       "      <th>2</th>\n",
       "      <td>7.0</td>\n",
       "      <td>7.0</td>\n",
       "      <td>NaN</td>\n",
       "      <td>25.0</td>\n",
       "    </tr>\n",
       "    <tr>\n",
       "      <th>3</th>\n",
       "      <td>8.0</td>\n",
       "      <td>8.0</td>\n",
       "      <td>8.0</td>\n",
       "      <td>30.0</td>\n",
       "    </tr>\n",
       "  </tbody>\n",
       "</table>\n",
       "</div>"
      ],
      "text/plain": [
       "   att   hw   mid   fin\n",
       "0  7.0  7.0  23.0  23.0\n",
       "1  NaN  6.0  15.0   NaN\n",
       "2  7.0  7.0   NaN  25.0\n",
       "3  8.0  8.0   8.0  30.0"
      ]
     },
     "execution_count": 41,
     "metadata": {},
     "output_type": "execute_result"
    }
   ],
   "source": [
    "s.dropna(how=\"all\") # 모든 변수의 값이 na인 행만 제거 "
   ]
  },
  {
   "cell_type": "code",
   "execution_count": 42,
   "metadata": {},
   "outputs": [
    {
     "data": {
      "text/html": [
       "<div>\n",
       "<style scoped>\n",
       "    .dataframe tbody tr th:only-of-type {\n",
       "        vertical-align: middle;\n",
       "    }\n",
       "\n",
       "    .dataframe tbody tr th {\n",
       "        vertical-align: top;\n",
       "    }\n",
       "\n",
       "    .dataframe thead th {\n",
       "        text-align: right;\n",
       "    }\n",
       "</style>\n",
       "<table border=\"1\" class=\"dataframe\">\n",
       "  <thead>\n",
       "    <tr style=\"text-align: right;\">\n",
       "      <th></th>\n",
       "    </tr>\n",
       "  </thead>\n",
       "  <tbody>\n",
       "    <tr>\n",
       "      <th>0</th>\n",
       "    </tr>\n",
       "    <tr>\n",
       "      <th>1</th>\n",
       "    </tr>\n",
       "    <tr>\n",
       "      <th>2</th>\n",
       "    </tr>\n",
       "    <tr>\n",
       "      <th>3</th>\n",
       "    </tr>\n",
       "    <tr>\n",
       "      <th>4</th>\n",
       "    </tr>\n",
       "  </tbody>\n",
       "</table>\n",
       "</div>"
      ],
      "text/plain": [
       "Empty DataFrame\n",
       "Columns: []\n",
       "Index: [0, 1, 2, 3, 4]"
      ]
     },
     "execution_count": 42,
     "metadata": {},
     "output_type": "execute_result"
    }
   ],
   "source": [
    "s.dropna(axis=1) # 열 기준으로 데이터 제거 "
   ]
  },
  {
   "cell_type": "code",
   "execution_count": 47,
   "metadata": {},
   "outputs": [
    {
     "data": {
      "text/html": [
       "<div>\n",
       "<style scoped>\n",
       "    .dataframe tbody tr th:only-of-type {\n",
       "        vertical-align: middle;\n",
       "    }\n",
       "\n",
       "    .dataframe tbody tr th {\n",
       "        vertical-align: top;\n",
       "    }\n",
       "\n",
       "    .dataframe thead th {\n",
       "        text-align: right;\n",
       "    }\n",
       "</style>\n",
       "<table border=\"1\" class=\"dataframe\">\n",
       "  <thead>\n",
       "    <tr style=\"text-align: right;\">\n",
       "      <th></th>\n",
       "      <th>hw</th>\n",
       "    </tr>\n",
       "  </thead>\n",
       "  <tbody>\n",
       "    <tr>\n",
       "      <th>0</th>\n",
       "      <td>7.0</td>\n",
       "    </tr>\n",
       "    <tr>\n",
       "      <th>1</th>\n",
       "      <td>6.0</td>\n",
       "    </tr>\n",
       "    <tr>\n",
       "      <th>2</th>\n",
       "      <td>7.0</td>\n",
       "    </tr>\n",
       "    <tr>\n",
       "      <th>3</th>\n",
       "      <td>8.0</td>\n",
       "    </tr>\n",
       "    <tr>\n",
       "      <th>4</th>\n",
       "      <td>NaN</td>\n",
       "    </tr>\n",
       "  </tbody>\n",
       "</table>\n",
       "</div>"
      ],
      "text/plain": [
       "    hw\n",
       "0  7.0\n",
       "1  6.0\n",
       "2  7.0\n",
       "3  8.0\n",
       "4  NaN"
      ]
     },
     "execution_count": 47,
     "metadata": {},
     "output_type": "execute_result"
    }
   ],
   "source": [
    "s.dropna(axis=1,thresh=4) # 최소한 4개의 데이터가 온전해야 그 행을 선택"
   ]
  },
  {
   "cell_type": "markdown",
   "metadata": {},
   "source": [
    "### 누락된 값 채우기: fillna"
   ]
  },
  {
   "cell_type": "code",
   "execution_count": 63,
   "metadata": {},
   "outputs": [
    {
     "data": {
      "text/plain": [
       "0     2.0\n",
       "1     5.0\n",
       "2     3.0\n",
       "3     4.0\n",
       "4     3.0\n",
       "5     NaN\n",
       "6     3.0\n",
       "7     2.0\n",
       "8     4.0\n",
       "9     4.0\n",
       "10    NaN\n",
       "11    NaN\n",
       "dtype: float64"
      ]
     },
     "execution_count": 63,
     "metadata": {},
     "output_type": "execute_result"
    }
   ],
   "source": [
    "s=Series([2,5,3,4,3,np.nan,3,2,4,4,np.nan,np.nan])\n",
    "s"
   ]
  },
  {
   "cell_type": "code",
   "execution_count": 60,
   "metadata": {},
   "outputs": [
    {
     "data": {
      "text/plain": [
       "0     2.0\n",
       "1     5.0\n",
       "2     3.0\n",
       "3     4.0\n",
       "4     3.0\n",
       "5     0.0\n",
       "6     3.0\n",
       "7     2.0\n",
       "8     4.0\n",
       "9     4.0\n",
       "10    0.0\n",
       "11    0.0\n",
       "dtype: float64"
      ]
     },
     "execution_count": 60,
     "metadata": {},
     "output_type": "execute_result"
    }
   ],
   "source": [
    "s.fillna(value=0) # 원본은 그대로 있고, 수정한 값을 객체로 돌려줌"
   ]
  },
  {
   "cell_type": "code",
   "execution_count": 54,
   "metadata": {},
   "outputs": [],
   "source": [
    "new_s=s.fillna(value=999,inplace=True)\n",
    "new_s"
   ]
  },
  {
   "cell_type": "code",
   "execution_count": 55,
   "metadata": {},
   "outputs": [
    {
     "data": {
      "text/plain": [
       "0     2.0\n",
       "1     5.0\n",
       "2     3.0\n",
       "3     4.0\n",
       "4     3.0\n",
       "5     0.0\n",
       "6     3.0\n",
       "7     2.0\n",
       "8     4.0\n",
       "9     4.0\n",
       "10    0.0\n",
       "11    0.0\n",
       "dtype: float64"
      ]
     },
     "execution_count": 55,
     "metadata": {},
     "output_type": "execute_result"
    }
   ],
   "source": [
    "s"
   ]
  },
  {
   "cell_type": "code",
   "execution_count": 64,
   "metadata": {},
   "outputs": [
    {
     "data": {
      "text/plain": [
       "0       2.0\n",
       "1       5.0\n",
       "2       3.0\n",
       "3       4.0\n",
       "4       3.0\n",
       "5     999.0\n",
       "6       3.0\n",
       "7       2.0\n",
       "8       4.0\n",
       "9       4.0\n",
       "10    999.0\n",
       "11    999.0\n",
       "dtype: float64"
      ]
     },
     "execution_count": 64,
     "metadata": {},
     "output_type": "execute_result"
    }
   ],
   "source": [
    "s.fillna(value=999,inplace=True)\n",
    "s"
   ]
  },
  {
   "cell_type": "markdown",
   "metadata": {},
   "source": [
    "#### 데이터프레임에서도 fillna 사용가능"
   ]
  },
  {
   "cell_type": "code",
   "execution_count": 204,
   "metadata": {},
   "outputs": [
    {
     "ename": "TypeError",
     "evalue": "'tuple' object is not callable",
     "output_type": "error",
     "traceback": [
      "\u001b[1;31m---------------------------------------------------------------------------\u001b[0m",
      "\u001b[1;31mTypeError\u001b[0m                                 Traceback (most recent call last)",
      "\u001b[1;32m<ipython-input-204-48e2d5961eb1>\u001b[0m in \u001b[0;36m<module>\u001b[1;34m\u001b[0m\n\u001b[0;32m      1\u001b[0m df=DataFrame({\"att\":[7,np.nan,7,8,np.nan], \"hw\":[7,6,7,8,np.nan],\n\u001b[1;32m----> 2\u001b[1;33m             \"mid\":[23,15, np.nan,8,np.nan],\"fin\":[23,np.nan,25,30,np.nan]})\n\u001b[0m\u001b[0;32m      3\u001b[0m \u001b[0mdf\u001b[0m\u001b[1;33m.\u001b[0m\u001b[0mfillna\u001b[0m\u001b[1;33m(\u001b[0m\u001b[1;36m0\u001b[0m\u001b[1;33m)\u001b[0m\u001b[1;33m\u001b[0m\u001b[1;33m\u001b[0m\u001b[0m\n",
      "\u001b[1;31mTypeError\u001b[0m: 'tuple' object is not callable"
     ]
    }
   ],
   "source": [
    "df=DataFrame({\"att\":[7,np.nan,7,8,np.nan], \"hw\":[7,6,7,8,np.nan],\n",
    "            \"mid\":[23,15, np.nan,8,np.nan],\"fin\":[23,np.nan,25,30,np.nan]})\n",
    "df.fillna(0)"
   ]
  },
  {
   "cell_type": "markdown",
   "metadata": {},
   "source": [
    "#### 각 변수별 평균치로 채워준다"
   ]
  },
  {
   "cell_type": "code",
   "execution_count": 68,
   "metadata": {},
   "outputs": [
    {
     "data": {
      "text/html": [
       "<div>\n",
       "<style scoped>\n",
       "    .dataframe tbody tr th:only-of-type {\n",
       "        vertical-align: middle;\n",
       "    }\n",
       "\n",
       "    .dataframe tbody tr th {\n",
       "        vertical-align: top;\n",
       "    }\n",
       "\n",
       "    .dataframe thead th {\n",
       "        text-align: right;\n",
       "    }\n",
       "</style>\n",
       "<table border=\"1\" class=\"dataframe\">\n",
       "  <thead>\n",
       "    <tr style=\"text-align: right;\">\n",
       "      <th></th>\n",
       "      <th>att</th>\n",
       "      <th>hw</th>\n",
       "      <th>mid</th>\n",
       "      <th>fin</th>\n",
       "    </tr>\n",
       "  </thead>\n",
       "  <tbody>\n",
       "    <tr>\n",
       "      <th>0</th>\n",
       "      <td>7.000000</td>\n",
       "      <td>7.0</td>\n",
       "      <td>23.000000</td>\n",
       "      <td>23.0</td>\n",
       "    </tr>\n",
       "    <tr>\n",
       "      <th>1</th>\n",
       "      <td>7.333333</td>\n",
       "      <td>6.0</td>\n",
       "      <td>15.000000</td>\n",
       "      <td>26.0</td>\n",
       "    </tr>\n",
       "    <tr>\n",
       "      <th>2</th>\n",
       "      <td>7.000000</td>\n",
       "      <td>7.0</td>\n",
       "      <td>15.333333</td>\n",
       "      <td>25.0</td>\n",
       "    </tr>\n",
       "    <tr>\n",
       "      <th>3</th>\n",
       "      <td>8.000000</td>\n",
       "      <td>8.0</td>\n",
       "      <td>8.000000</td>\n",
       "      <td>30.0</td>\n",
       "    </tr>\n",
       "    <tr>\n",
       "      <th>4</th>\n",
       "      <td>7.333333</td>\n",
       "      <td>7.0</td>\n",
       "      <td>15.333333</td>\n",
       "      <td>26.0</td>\n",
       "    </tr>\n",
       "  </tbody>\n",
       "</table>\n",
       "</div>"
      ],
      "text/plain": [
       "        att   hw        mid   fin\n",
       "0  7.000000  7.0  23.000000  23.0\n",
       "1  7.333333  6.0  15.000000  26.0\n",
       "2  7.000000  7.0  15.333333  25.0\n",
       "3  8.000000  8.0   8.000000  30.0\n",
       "4  7.333333  7.0  15.333333  26.0"
      ]
     },
     "execution_count": 68,
     "metadata": {},
     "output_type": "execute_result"
    }
   ],
   "source": [
    "df=DataFrame({\"att\":[7,np.nan,7,8,np.nan], \"hw\":[7,6,7,8,np.nan],\n",
    "            \"mid\":[23,15, np.nan,8,np.nan],\"fin\":[23,np.nan,25,30,np.nan]})\n",
    "df.fillna(value=df.mean()) # "
   ]
  },
  {
   "cell_type": "code",
   "execution_count": 69,
   "metadata": {},
   "outputs": [
    {
     "data": {
      "text/html": [
       "<div>\n",
       "<style scoped>\n",
       "    .dataframe tbody tr th:only-of-type {\n",
       "        vertical-align: middle;\n",
       "    }\n",
       "\n",
       "    .dataframe tbody tr th {\n",
       "        vertical-align: top;\n",
       "    }\n",
       "\n",
       "    .dataframe thead th {\n",
       "        text-align: right;\n",
       "    }\n",
       "</style>\n",
       "<table border=\"1\" class=\"dataframe\">\n",
       "  <thead>\n",
       "    <tr style=\"text-align: right;\">\n",
       "      <th></th>\n",
       "      <th>att</th>\n",
       "      <th>hw</th>\n",
       "      <th>mid</th>\n",
       "      <th>fin</th>\n",
       "    </tr>\n",
       "  </thead>\n",
       "  <tbody>\n",
       "    <tr>\n",
       "      <th>0</th>\n",
       "      <td>7.0</td>\n",
       "      <td>7.0</td>\n",
       "      <td>23.0</td>\n",
       "      <td>23.0</td>\n",
       "    </tr>\n",
       "    <tr>\n",
       "      <th>1</th>\n",
       "      <td>7.0</td>\n",
       "      <td>6.0</td>\n",
       "      <td>15.0</td>\n",
       "      <td>25.0</td>\n",
       "    </tr>\n",
       "    <tr>\n",
       "      <th>2</th>\n",
       "      <td>7.0</td>\n",
       "      <td>7.0</td>\n",
       "      <td>15.0</td>\n",
       "      <td>25.0</td>\n",
       "    </tr>\n",
       "    <tr>\n",
       "      <th>3</th>\n",
       "      <td>8.0</td>\n",
       "      <td>8.0</td>\n",
       "      <td>8.0</td>\n",
       "      <td>30.0</td>\n",
       "    </tr>\n",
       "    <tr>\n",
       "      <th>4</th>\n",
       "      <td>7.0</td>\n",
       "      <td>7.0</td>\n",
       "      <td>15.0</td>\n",
       "      <td>25.0</td>\n",
       "    </tr>\n",
       "  </tbody>\n",
       "</table>\n",
       "</div>"
      ],
      "text/plain": [
       "   att   hw   mid   fin\n",
       "0  7.0  7.0  23.0  23.0\n",
       "1  7.0  6.0  15.0  25.0\n",
       "2  7.0  7.0  15.0  25.0\n",
       "3  8.0  8.0   8.0  30.0\n",
       "4  7.0  7.0  15.0  25.0"
      ]
     },
     "execution_count": 69,
     "metadata": {},
     "output_type": "execute_result"
    }
   ],
   "source": [
    "df.fillna(value=df.median()) # 중앙값으로 대체"
   ]
  },
  {
   "cell_type": "markdown",
   "metadata": {},
   "source": [
    "## 계층적 색인\n",
    "### 다중 색인"
   ]
  },
  {
   "cell_type": "code",
   "execution_count": 73,
   "metadata": {},
   "outputs": [
    {
     "data": {
      "text/plain": [
       "stat  1    2.0\n",
       "      2    5.0\n",
       "      3    3.0\n",
       "econ  2    7.0\n",
       "      3    5.0\n",
       "comp  1    7.0\n",
       "      2    NaN\n",
       "      3    5.0\n",
       "math  1    4.0\n",
       "      2    6.0\n",
       "dtype: float64"
      ]
     },
     "execution_count": 73,
     "metadata": {},
     "output_type": "execute_result"
    }
   ],
   "source": [
    "s=Series([2,5,3,7,5,7,np.nan,5,4,6], index=[[\"stat\", \"stat\", \"stat\", \"econ\", \"econ\", \"comp\", \"comp\", \"comp\", \"math\", \"math\"],\n",
    "                                            [1,2,3,2,3,1,2,3,1,2]])\n",
    "s"
   ]
  },
  {
   "cell_type": "code",
   "execution_count": 74,
   "metadata": {},
   "outputs": [
    {
     "data": {
      "text/plain": [
       "1    4.0\n",
       "2    6.0\n",
       "dtype: float64"
      ]
     },
     "execution_count": 74,
     "metadata": {},
     "output_type": "execute_result"
    }
   ],
   "source": [
    "s[\"math\"] # 첫 번째 인덱스값이 mat인것을 출력해준다 "
   ]
  },
  {
   "cell_type": "code",
   "execution_count": 75,
   "metadata": {},
   "outputs": [
    {
     "data": {
      "text/plain": [
       "stat  1    2.0\n",
       "      2    5.0\n",
       "      3    3.0\n",
       "math  1    4.0\n",
       "      2    6.0\n",
       "dtype: float64"
      ]
     },
     "execution_count": 75,
     "metadata": {},
     "output_type": "execute_result"
    }
   ],
   "source": [
    "s[[\"stat\",\"math\"]]"
   ]
  },
  {
   "cell_type": "code",
   "execution_count": 76,
   "metadata": {},
   "outputs": [
    {
     "data": {
      "text/plain": [
       "math  1    4.0\n",
       "      2    6.0\n",
       "dtype: float64"
      ]
     },
     "execution_count": 76,
     "metadata": {},
     "output_type": "execute_result"
    }
   ],
   "source": [
    "s[[\"math\",\"1\"]] # 이렇게 하는게 아니라 "
   ]
  },
  {
   "cell_type": "code",
   "execution_count": 80,
   "metadata": {},
   "outputs": [
    {
     "data": {
      "text/plain": [
       "stat  1    2.0\n",
       "      3    3.0\n",
       "dtype: float64"
      ]
     },
     "execution_count": 80,
     "metadata": {},
     "output_type": "execute_result"
    }
   ],
   "source": [
    "s[[(\"stat\",1), (\"stat\",3)]] # 이렇게 괄호 안에 첫 번째, 두 번째 인덱스 써줌"
   ]
  },
  {
   "cell_type": "markdown",
   "metadata": {},
   "source": [
    "### 상위 / 하위 색인"
   ]
  },
  {
   "cell_type": "code",
   "execution_count": 81,
   "metadata": {},
   "outputs": [
    {
     "data": {
      "text/plain": [
       "stat  2    5.0\n",
       "math  2    6.0\n",
       "dtype: float64"
      ]
     },
     "execution_count": 81,
     "metadata": {},
     "output_type": "execute_result"
    }
   ],
   "source": [
    "s[[(\"stat\",2),(\"math\",2)]]"
   ]
  },
  {
   "cell_type": "markdown",
   "metadata": {},
   "source": [
    "#### 또는 다음과 같이 해도 된다"
   ]
  },
  {
   "cell_type": "code",
   "execution_count": 82,
   "metadata": {},
   "outputs": [
    {
     "data": {
      "text/plain": [
       "stat    5.0\n",
       "math    6.0\n",
       "dtype: float64"
      ]
     },
     "execution_count": 82,
     "metadata": {},
     "output_type": "execute_result"
    }
   ],
   "source": [
    "s[[\"stat\",\"math\"]][:,2]"
   ]
  },
  {
   "cell_type": "markdown",
   "metadata": {},
   "source": [
    "### 중첩 해제: unstack()"
   ]
  },
  {
   "cell_type": "code",
   "execution_count": 84,
   "metadata": {},
   "outputs": [
    {
     "data": {
      "text/plain": [
       "stat  1    2.0\n",
       "      2    5.0\n",
       "      3    3.0\n",
       "econ  2    7.0\n",
       "      3    5.0\n",
       "comp  1    7.0\n",
       "      2    NaN\n",
       "      3    5.0\n",
       "math  1    4.0\n",
       "      2    6.0\n",
       "dtype: float64"
      ]
     },
     "execution_count": 84,
     "metadata": {},
     "output_type": "execute_result"
    }
   ],
   "source": [
    "s"
   ]
  },
  {
   "cell_type": "code",
   "execution_count": 85,
   "metadata": {},
   "outputs": [
    {
     "data": {
      "text/html": [
       "<div>\n",
       "<style scoped>\n",
       "    .dataframe tbody tr th:only-of-type {\n",
       "        vertical-align: middle;\n",
       "    }\n",
       "\n",
       "    .dataframe tbody tr th {\n",
       "        vertical-align: top;\n",
       "    }\n",
       "\n",
       "    .dataframe thead th {\n",
       "        text-align: right;\n",
       "    }\n",
       "</style>\n",
       "<table border=\"1\" class=\"dataframe\">\n",
       "  <thead>\n",
       "    <tr style=\"text-align: right;\">\n",
       "      <th></th>\n",
       "      <th>1</th>\n",
       "      <th>2</th>\n",
       "      <th>3</th>\n",
       "    </tr>\n",
       "  </thead>\n",
       "  <tbody>\n",
       "    <tr>\n",
       "      <th>comp</th>\n",
       "      <td>7.0</td>\n",
       "      <td>NaN</td>\n",
       "      <td>5.0</td>\n",
       "    </tr>\n",
       "    <tr>\n",
       "      <th>econ</th>\n",
       "      <td>NaN</td>\n",
       "      <td>7.0</td>\n",
       "      <td>5.0</td>\n",
       "    </tr>\n",
       "    <tr>\n",
       "      <th>math</th>\n",
       "      <td>4.0</td>\n",
       "      <td>6.0</td>\n",
       "      <td>NaN</td>\n",
       "    </tr>\n",
       "    <tr>\n",
       "      <th>stat</th>\n",
       "      <td>2.0</td>\n",
       "      <td>5.0</td>\n",
       "      <td>3.0</td>\n",
       "    </tr>\n",
       "  </tbody>\n",
       "</table>\n",
       "</div>"
      ],
      "text/plain": [
       "        1    2    3\n",
       "comp  7.0  NaN  5.0\n",
       "econ  NaN  7.0  5.0\n",
       "math  4.0  6.0  NaN\n",
       "stat  2.0  5.0  3.0"
      ]
     },
     "execution_count": 85,
     "metadata": {},
     "output_type": "execute_result"
    }
   ],
   "source": [
    "s.unstack()"
   ]
  },
  {
   "cell_type": "code",
   "execution_count": 87,
   "metadata": {},
   "outputs": [
    {
     "data": {
      "text/plain": [
       "comp  1    7.0\n",
       "      3    5.0\n",
       "econ  2    7.0\n",
       "      3    5.0\n",
       "math  1    4.0\n",
       "      2    6.0\n",
       "stat  1    2.0\n",
       "      2    5.0\n",
       "      3    3.0\n",
       "dtype: float64"
      ]
     },
     "execution_count": 87,
     "metadata": {},
     "output_type": "execute_result"
    }
   ],
   "source": [
    "s.unstack().stack() # unstack했던 것을 다시 stack해줌"
   ]
  },
  {
   "cell_type": "code",
   "execution_count": 208,
   "metadata": {},
   "outputs": [
    {
     "ename": "TypeError",
     "evalue": "__init__() got an unexpected keyword argument 'columns'",
     "output_type": "error",
     "traceback": [
      "\u001b[1;31m---------------------------------------------------------------------------\u001b[0m",
      "\u001b[1;31mTypeError\u001b[0m                                 Traceback (most recent call last)",
      "\u001b[1;32m<ipython-input-208-299eb7689677>\u001b[0m in \u001b[0;36m<module>\u001b[1;34m\u001b[0m\n\u001b[0;32m      1\u001b[0m s1=Series([2,5,3,7,5,7,np.nan,5,4,6], index=[[\"stat\", \"stat\", \"stat\", \"econ\", \"econ\", \"comp\", \"comp\", \"comp\", \"math\", \"math\"],\n\u001b[1;32m----> 2\u001b[1;33m                                             [1,2,3,2,3,1,2,3,1,2]], columns=[[\"서울\", \"서울\", \"경기\", \"경기\"], [\"M\", \"F\", \"M\", \"F\"]])\n\u001b[0m\u001b[0;32m      3\u001b[0m \u001b[0ms1\u001b[0m\u001b[1;33m.\u001b[0m\u001b[0mindex\u001b[0m\u001b[1;33m.\u001b[0m\u001b[0mnames\u001b[0m\u001b[1;33m=\u001b[0m\u001b[1;33m[\u001b[0m\u001b[1;34m\"dept\"\u001b[0m\u001b[1;33m,\u001b[0m \u001b[1;34m\"cls\"\u001b[0m\u001b[1;33m]\u001b[0m\u001b[1;33m\u001b[0m\u001b[1;33m\u001b[0m\u001b[0m\n\u001b[0;32m      4\u001b[0m \u001b[0ms1\u001b[0m\u001b[1;33m.\u001b[0m\u001b[0mcolumns\u001b[0m\u001b[1;33m.\u001b[0m\u001b[0mnames\u001b[0m\u001b[1;33m=\u001b[0m\u001b[1;33m[\u001b[0m\u001b[1;34m\"area\"\u001b[0m\u001b[1;33m,\u001b[0m \u001b[1;34m\"gender\"\u001b[0m\u001b[1;33m]\u001b[0m\u001b[1;33m\u001b[0m\u001b[1;33m\u001b[0m\u001b[0m\n\u001b[0;32m      5\u001b[0m \u001b[0ms1\u001b[0m\u001b[1;33m\u001b[0m\u001b[1;33m\u001b[0m\u001b[0m\n",
      "\u001b[1;31mTypeError\u001b[0m: __init__() got an unexpected keyword argument 'columns'"
     ]
    }
   ],
   "source": [
    "s1=Series([2,5,3,7,5,7,np.nan,5,4,6], index=[[\"stat\", \"stat\", \"stat\", \"econ\", \"econ\", \"comp\", \"comp\", \"comp\", \"math\", \"math\"],\n",
    "                                            [1,2,3,2,3,1,2,3,1,2]], columns=[[\"서울\", \"서울\", \"경기\", \"경기\"], [\"M\", \"F\", \"M\", \"F\"]])\n",
    "s1.index.names=[\"dept\", \"cls\"]\n",
    "s1.columns.names=[\"area\", \"gender\"]\n",
    "s1"
   ]
  },
  {
   "cell_type": "code",
   "execution_count": null,
   "metadata": {},
   "outputs": [],
   "source": [
    "df.loc[[(\"stat\",1),(\"stat\",2)]][[(\"서울\",\"M\"),(\"경기\",\"M\")]] # 이따 해보기\n"
   ]
  },
  {
   "cell_type": "code",
   "execution_count": null,
   "metadata": {},
   "outputs": [],
   "source": []
  },
  {
   "cell_type": "markdown",
   "metadata": {},
   "source": [
    "### 단계별 요약 통계량"
   ]
  },
  {
   "cell_type": "code",
   "execution_count": null,
   "metadata": {},
   "outputs": [],
   "source": []
  },
  {
   "cell_type": "markdown",
   "metadata": {},
   "source": [
    "## DataFrame의 열 사용"
   ]
  },
  {
   "cell_type": "markdown",
   "metadata": {},
   "source": [
    "### set_index 메소드를 사용하여 열 색인을 행으로 옮기기"
   ]
  },
  {
   "cell_type": "code",
   "execution_count": 94,
   "metadata": {},
   "outputs": [
    {
     "data": {
      "text/html": [
       "<div>\n",
       "<style scoped>\n",
       "    .dataframe tbody tr th:only-of-type {\n",
       "        vertical-align: middle;\n",
       "    }\n",
       "\n",
       "    .dataframe tbody tr th {\n",
       "        vertical-align: top;\n",
       "    }\n",
       "\n",
       "    .dataframe thead th {\n",
       "        text-align: right;\n",
       "    }\n",
       "</style>\n",
       "<table border=\"1\" class=\"dataframe\">\n",
       "  <thead>\n",
       "    <tr style=\"text-align: right;\">\n",
       "      <th></th>\n",
       "      <th>V1</th>\n",
       "      <th>V2</th>\n",
       "      <th>V3</th>\n",
       "      <th>V4</th>\n",
       "    </tr>\n",
       "  </thead>\n",
       "  <tbody>\n",
       "    <tr>\n",
       "      <th>0</th>\n",
       "      <td>8</td>\n",
       "      <td>8</td>\n",
       "      <td>6</td>\n",
       "      <td>M</td>\n",
       "    </tr>\n",
       "    <tr>\n",
       "      <th>1</th>\n",
       "      <td>2</td>\n",
       "      <td>7</td>\n",
       "      <td>7</td>\n",
       "      <td>F</td>\n",
       "    </tr>\n",
       "    <tr>\n",
       "      <th>2</th>\n",
       "      <td>6</td>\n",
       "      <td>3</td>\n",
       "      <td>8</td>\n",
       "      <td>M</td>\n",
       "    </tr>\n",
       "    <tr>\n",
       "      <th>3</th>\n",
       "      <td>7</td>\n",
       "      <td>4</td>\n",
       "      <td>4</td>\n",
       "      <td>M</td>\n",
       "    </tr>\n",
       "    <tr>\n",
       "      <th>4</th>\n",
       "      <td>5</td>\n",
       "      <td>5</td>\n",
       "      <td>7</td>\n",
       "      <td>M</td>\n",
       "    </tr>\n",
       "    <tr>\n",
       "      <th>5</th>\n",
       "      <td>5</td>\n",
       "      <td>6</td>\n",
       "      <td>8</td>\n",
       "      <td>F</td>\n",
       "    </tr>\n",
       "    <tr>\n",
       "      <th>6</th>\n",
       "      <td>5</td>\n",
       "      <td>6</td>\n",
       "      <td>6</td>\n",
       "      <td>M</td>\n",
       "    </tr>\n",
       "    <tr>\n",
       "      <th>7</th>\n",
       "      <td>4</td>\n",
       "      <td>4</td>\n",
       "      <td>6</td>\n",
       "      <td>F</td>\n",
       "    </tr>\n",
       "    <tr>\n",
       "      <th>8</th>\n",
       "      <td>3</td>\n",
       "      <td>6</td>\n",
       "      <td>6</td>\n",
       "      <td>F</td>\n",
       "    </tr>\n",
       "    <tr>\n",
       "      <th>9</th>\n",
       "      <td>6</td>\n",
       "      <td>8</td>\n",
       "      <td>4</td>\n",
       "      <td>M</td>\n",
       "    </tr>\n",
       "  </tbody>\n",
       "</table>\n",
       "</div>"
      ],
      "text/plain": [
       "   V1  V2  V3 V4\n",
       "0   8   8   6  M\n",
       "1   2   7   7  F\n",
       "2   6   3   8  M\n",
       "3   7   4   4  M\n",
       "4   5   5   7  M\n",
       "5   5   6   8  F\n",
       "6   5   6   6  M\n",
       "7   4   4   6  F\n",
       "8   3   6   6  F\n",
       "9   6   8   4  M"
      ]
     },
     "execution_count": 94,
     "metadata": {},
     "output_type": "execute_result"
    }
   ],
   "source": [
    "np.random.seed(123789)\n",
    "data=np.random.binomial(n=10,p=0.6,size=30).reshape(10,3)\n",
    "df=DataFrame(data,columns=[\"V1\",\"V2\",\"V3\"])\n",
    "df[\"V4\"]=[\"M\",\"F\",\"M\",\"M\",\"M\",\"F\",\"M\",\"F\",\"F\",\"M\"]\n",
    "df"
   ]
  },
  {
   "cell_type": "markdown",
   "metadata": {},
   "source": [
    "### 변수를 색인으로"
   ]
  },
  {
   "cell_type": "code",
   "execution_count": 96,
   "metadata": {},
   "outputs": [
    {
     "data": {
      "text/html": [
       "<div>\n",
       "<style scoped>\n",
       "    .dataframe tbody tr th:only-of-type {\n",
       "        vertical-align: middle;\n",
       "    }\n",
       "\n",
       "    .dataframe tbody tr th {\n",
       "        vertical-align: top;\n",
       "    }\n",
       "\n",
       "    .dataframe thead th {\n",
       "        text-align: right;\n",
       "    }\n",
       "</style>\n",
       "<table border=\"1\" class=\"dataframe\">\n",
       "  <thead>\n",
       "    <tr style=\"text-align: right;\">\n",
       "      <th></th>\n",
       "      <th></th>\n",
       "      <th>V1</th>\n",
       "      <th>V3</th>\n",
       "    </tr>\n",
       "    <tr>\n",
       "      <th>V2</th>\n",
       "      <th>V4</th>\n",
       "      <th></th>\n",
       "      <th></th>\n",
       "    </tr>\n",
       "  </thead>\n",
       "  <tbody>\n",
       "    <tr>\n",
       "      <th>3</th>\n",
       "      <th>M</th>\n",
       "      <td>6</td>\n",
       "      <td>8</td>\n",
       "    </tr>\n",
       "    <tr>\n",
       "      <th rowspan=\"2\" valign=\"top\">4</th>\n",
       "      <th>F</th>\n",
       "      <td>4</td>\n",
       "      <td>6</td>\n",
       "    </tr>\n",
       "    <tr>\n",
       "      <th>M</th>\n",
       "      <td>7</td>\n",
       "      <td>4</td>\n",
       "    </tr>\n",
       "    <tr>\n",
       "      <th>5</th>\n",
       "      <th>M</th>\n",
       "      <td>5</td>\n",
       "      <td>7</td>\n",
       "    </tr>\n",
       "    <tr>\n",
       "      <th rowspan=\"3\" valign=\"top\">6</th>\n",
       "      <th>F</th>\n",
       "      <td>5</td>\n",
       "      <td>8</td>\n",
       "    </tr>\n",
       "    <tr>\n",
       "      <th>F</th>\n",
       "      <td>3</td>\n",
       "      <td>6</td>\n",
       "    </tr>\n",
       "    <tr>\n",
       "      <th>M</th>\n",
       "      <td>5</td>\n",
       "      <td>6</td>\n",
       "    </tr>\n",
       "    <tr>\n",
       "      <th>7</th>\n",
       "      <th>F</th>\n",
       "      <td>2</td>\n",
       "      <td>7</td>\n",
       "    </tr>\n",
       "    <tr>\n",
       "      <th rowspan=\"2\" valign=\"top\">8</th>\n",
       "      <th>M</th>\n",
       "      <td>8</td>\n",
       "      <td>6</td>\n",
       "    </tr>\n",
       "    <tr>\n",
       "      <th>M</th>\n",
       "      <td>6</td>\n",
       "      <td>4</td>\n",
       "    </tr>\n",
       "  </tbody>\n",
       "</table>\n",
       "</div>"
      ],
      "text/plain": [
       "       V1  V3\n",
       "V2 V4        \n",
       "3  M    6   8\n",
       "4  F    4   6\n",
       "   M    7   4\n",
       "5  M    5   7\n",
       "6  F    5   8\n",
       "   F    3   6\n",
       "   M    5   6\n",
       "7  F    2   7\n",
       "8  M    8   6\n",
       "   M    6   4"
      ]
     },
     "execution_count": 96,
     "metadata": {},
     "output_type": "execute_result"
    }
   ],
   "source": [
    "df1=df.set_index(keys=[\"V2\",\"V4\"]).sort_index()\n",
    "df1"
   ]
  },
  {
   "cell_type": "markdown",
   "metadata": {},
   "source": [
    "### 색인을 변수로"
   ]
  },
  {
   "cell_type": "code",
   "execution_count": 97,
   "metadata": {},
   "outputs": [
    {
     "data": {
      "text/html": [
       "<div>\n",
       "<style scoped>\n",
       "    .dataframe tbody tr th:only-of-type {\n",
       "        vertical-align: middle;\n",
       "    }\n",
       "\n",
       "    .dataframe tbody tr th {\n",
       "        vertical-align: top;\n",
       "    }\n",
       "\n",
       "    .dataframe thead th {\n",
       "        text-align: right;\n",
       "    }\n",
       "</style>\n",
       "<table border=\"1\" class=\"dataframe\">\n",
       "  <thead>\n",
       "    <tr style=\"text-align: right;\">\n",
       "      <th></th>\n",
       "      <th>V4</th>\n",
       "      <th>V1</th>\n",
       "      <th>V3</th>\n",
       "    </tr>\n",
       "    <tr>\n",
       "      <th>V2</th>\n",
       "      <th></th>\n",
       "      <th></th>\n",
       "      <th></th>\n",
       "    </tr>\n",
       "  </thead>\n",
       "  <tbody>\n",
       "    <tr>\n",
       "      <th>3</th>\n",
       "      <td>M</td>\n",
       "      <td>6</td>\n",
       "      <td>8</td>\n",
       "    </tr>\n",
       "    <tr>\n",
       "      <th>4</th>\n",
       "      <td>F</td>\n",
       "      <td>4</td>\n",
       "      <td>6</td>\n",
       "    </tr>\n",
       "    <tr>\n",
       "      <th>4</th>\n",
       "      <td>M</td>\n",
       "      <td>7</td>\n",
       "      <td>4</td>\n",
       "    </tr>\n",
       "    <tr>\n",
       "      <th>5</th>\n",
       "      <td>M</td>\n",
       "      <td>5</td>\n",
       "      <td>7</td>\n",
       "    </tr>\n",
       "    <tr>\n",
       "      <th>6</th>\n",
       "      <td>F</td>\n",
       "      <td>5</td>\n",
       "      <td>8</td>\n",
       "    </tr>\n",
       "    <tr>\n",
       "      <th>6</th>\n",
       "      <td>F</td>\n",
       "      <td>3</td>\n",
       "      <td>6</td>\n",
       "    </tr>\n",
       "    <tr>\n",
       "      <th>6</th>\n",
       "      <td>M</td>\n",
       "      <td>5</td>\n",
       "      <td>6</td>\n",
       "    </tr>\n",
       "    <tr>\n",
       "      <th>7</th>\n",
       "      <td>F</td>\n",
       "      <td>2</td>\n",
       "      <td>7</td>\n",
       "    </tr>\n",
       "    <tr>\n",
       "      <th>8</th>\n",
       "      <td>M</td>\n",
       "      <td>8</td>\n",
       "      <td>6</td>\n",
       "    </tr>\n",
       "    <tr>\n",
       "      <th>8</th>\n",
       "      <td>M</td>\n",
       "      <td>6</td>\n",
       "      <td>4</td>\n",
       "    </tr>\n",
       "  </tbody>\n",
       "</table>\n",
       "</div>"
      ],
      "text/plain": [
       "   V4  V1  V3\n",
       "V2           \n",
       "3   M   6   8\n",
       "4   F   4   6\n",
       "4   M   7   4\n",
       "5   M   5   7\n",
       "6   F   5   8\n",
       "6   F   3   6\n",
       "6   M   5   6\n",
       "7   F   2   7\n",
       "8   M   8   6\n",
       "8   M   6   4"
      ]
     },
     "execution_count": 97,
     "metadata": {},
     "output_type": "execute_result"
    }
   ],
   "source": [
    "df1.reset_index(level=\"V4\")"
   ]
  },
  {
   "cell_type": "markdown",
   "metadata": {},
   "source": [
    "# 3. 자료 불러오기,저장하기와 자료 다듬기, 변형, 병합"
   ]
  },
  {
   "cell_type": "code",
   "execution_count": 102,
   "metadata": {
    "scrolled": true
   },
   "outputs": [
    {
     "data": {
      "text/html": [
       "<div>\n",
       "<style scoped>\n",
       "    .dataframe tbody tr th:only-of-type {\n",
       "        vertical-align: middle;\n",
       "    }\n",
       "\n",
       "    .dataframe tbody tr th {\n",
       "        vertical-align: top;\n",
       "    }\n",
       "\n",
       "    .dataframe thead th {\n",
       "        text-align: right;\n",
       "    }\n",
       "</style>\n",
       "<table border=\"1\" class=\"dataframe\">\n",
       "  <thead>\n",
       "    <tr style=\"text-align: right;\">\n",
       "      <th></th>\n",
       "      <th>Area</th>\n",
       "      <th>UseDistrict</th>\n",
       "      <th>Option</th>\n",
       "      <th>FAR</th>\n",
       "      <th>Price</th>\n",
       "    </tr>\n",
       "    <tr>\n",
       "      <th>id</th>\n",
       "      <th></th>\n",
       "      <th></th>\n",
       "      <th></th>\n",
       "      <th></th>\n",
       "      <th></th>\n",
       "    </tr>\n",
       "  </thead>\n",
       "  <tbody>\n",
       "    <tr>\n",
       "      <th>apt01</th>\n",
       "      <td>도심권</td>\n",
       "      <td>제2종 일반주거지역</td>\n",
       "      <td>풀옵션형</td>\n",
       "      <td>132.72</td>\n",
       "      <td>515.0519492</td>\n",
       "    </tr>\n",
       "    <tr>\n",
       "      <th>apt02</th>\n",
       "      <td>도심권</td>\n",
       "      <td>제2종 일반주거지역</td>\n",
       "      <td>풀옵션형</td>\n",
       "      <td>184.99</td>\n",
       "      <td></td>\n",
       "    </tr>\n",
       "    <tr>\n",
       "      <th>apt03</th>\n",
       "      <td></td>\n",
       "      <td>상업지역</td>\n",
       "      <td>기본형</td>\n",
       "      <td></td>\n",
       "      <td>364.3195349</td>\n",
       "    </tr>\n",
       "    <tr>\n",
       "      <th>apt04</th>\n",
       "      <td>도심권</td>\n",
       "      <td>상업지역</td>\n",
       "      <td>풀옵션형</td>\n",
       "      <td>493.08</td>\n",
       "      <td>410.9455297</td>\n",
       "    </tr>\n",
       "    <tr>\n",
       "      <th>apt05</th>\n",
       "      <td>도심권</td>\n",
       "      <td>준주거지역</td>\n",
       "      <td>기본형</td>\n",
       "      <td>349.65</td>\n",
       "      <td>616.9759862</td>\n",
       "    </tr>\n",
       "    <tr>\n",
       "      <th>apt06</th>\n",
       "      <td>도심권</td>\n",
       "      <td>제3종 일반주거지역</td>\n",
       "      <td>풀옵션형</td>\n",
       "      <td>.</td>\n",
       "      <td>469.1517971</td>\n",
       "    </tr>\n",
       "    <tr>\n",
       "      <th>apt07</th>\n",
       "      <td>도심권</td>\n",
       "      <td>제3종 일반주거지역</td>\n",
       "      <td>풀옵션형</td>\n",
       "      <td>227.2</td>\n",
       "      <td>576.4762615</td>\n",
       "    </tr>\n",
       "    <tr>\n",
       "      <th>apt08</th>\n",
       "      <td>도심권</td>\n",
       "      <td>상업지역</td>\n",
       "      <td>풀옵션형</td>\n",
       "      <td>254.37</td>\n",
       "      <td>355.8718861</td>\n",
       "    </tr>\n",
       "    <tr>\n",
       "      <th>apt09</th>\n",
       "      <td>동북권</td>\n",
       "      <td></td>\n",
       "      <td>기본형</td>\n",
       "      <td>199.93</td>\n",
       "      <td>423.8123398</td>\n",
       "    </tr>\n",
       "    <tr>\n",
       "      <th>apt10</th>\n",
       "      <td>동북권</td>\n",
       "      <td>제2종 일반주거지역</td>\n",
       "      <td>풀옵션형</td>\n",
       "      <td>198.13</td>\n",
       "      <td>518.3137526</td>\n",
       "    </tr>\n",
       "    <tr>\n",
       "      <th>apt11</th>\n",
       "      <td>동북권</td>\n",
       "      <td>제2종 일반주거지역</td>\n",
       "      <td>풀옵션형</td>\n",
       "      <td>199.34</td>\n",
       "      <td>615.7635468</td>\n",
       "    </tr>\n",
       "    <tr>\n",
       "      <th>apt12</th>\n",
       "      <td>동북권</td>\n",
       "      <td>제3종 일반주거지역</td>\n",
       "      <td>풀옵션형</td>\n",
       "      <td>195.22</td>\n",
       "      <td>455.0302169</td>\n",
       "    </tr>\n",
       "    <tr>\n",
       "      <th>apt13</th>\n",
       "      <td>동북권</td>\n",
       "      <td>제2종 일반주거지역</td>\n",
       "      <td>기본형</td>\n",
       "      <td>199.5</td>\n",
       "      <td>460.6879607</td>\n",
       "    </tr>\n",
       "    <tr>\n",
       "      <th>apt14</th>\n",
       "      <td>동북권</td>\n",
       "      <td>준공업지역</td>\n",
       "      <td>풀옵션형</td>\n",
       "      <td>219.16</td>\n",
       "      <td>512.4777184</td>\n",
       "    </tr>\n",
       "    <tr>\n",
       "      <th>apt15</th>\n",
       "      <td>동북권</td>\n",
       "      <td>제2종 일반주거지역</td>\n",
       "      <td>풀옵션형</td>\n",
       "      <td>192.39</td>\n",
       "      <td>483.7566204</td>\n",
       "    </tr>\n",
       "    <tr>\n",
       "      <th>apt16</th>\n",
       "      <td>동북권</td>\n",
       "      <td>제2종 일반주거지역</td>\n",
       "      <td>기본형</td>\n",
       "      <td>198.94</td>\n",
       "      <td>489.1620599</td>\n",
       "    </tr>\n",
       "    <tr>\n",
       "      <th>apt17</th>\n",
       "      <td>동북권</td>\n",
       "      <td>제2종 일반주거지역</td>\n",
       "      <td>기본형</td>\n",
       "      <td>178.38</td>\n",
       "      <td>370.4786975</td>\n",
       "    </tr>\n",
       "    <tr>\n",
       "      <th>apt18</th>\n",
       "      <td>동북권</td>\n",
       "      <td>제2종 일반주거지역</td>\n",
       "      <td>풀옵션형</td>\n",
       "      <td>199.8</td>\n",
       "      <td>383.4406746</td>\n",
       "    </tr>\n",
       "    <tr>\n",
       "      <th>apt19</th>\n",
       "      <td>동북권</td>\n",
       "      <td>제2종 일반주거지역</td>\n",
       "      <td>풀옵션형</td>\n",
       "      <td>169.38</td>\n",
       "      <td>443.8932045</td>\n",
       "    </tr>\n",
       "    <tr>\n",
       "      <th>apt20</th>\n",
       "      <td>동북권</td>\n",
       "      <td>제3종 일반주거지역</td>\n",
       "      <td>풀옵션형</td>\n",
       "      <td>221.57</td>\n",
       "      <td>411.5629593</td>\n",
       "    </tr>\n",
       "    <tr>\n",
       "      <th>apt21</th>\n",
       "      <td>동북권</td>\n",
       "      <td>제2종 일반주거지역</td>\n",
       "      <td>풀옵션형</td>\n",
       "      <td>198.73</td>\n",
       "      <td>161.7276468</td>\n",
       "    </tr>\n",
       "    <tr>\n",
       "      <th>apt22</th>\n",
       "      <td>동북권</td>\n",
       "      <td>제2종 일반주거지역</td>\n",
       "      <td>기본형</td>\n",
       "      <td>184.83</td>\n",
       "      <td>309.3421324</td>\n",
       "    </tr>\n",
       "    <tr>\n",
       "      <th>apt23</th>\n",
       "      <td>동북권</td>\n",
       "      <td>제2종 일반주거지역</td>\n",
       "      <td>풀옵션형</td>\n",
       "      <td>199.87</td>\n",
       "      <td>310.5057298</td>\n",
       "    </tr>\n",
       "    <tr>\n",
       "      <th>apt24</th>\n",
       "      <td>동북권</td>\n",
       "      <td>제2종 일반주거지역</td>\n",
       "      <td>기본형</td>\n",
       "      <td>166.71</td>\n",
       "      <td>293.1051441</td>\n",
       "    </tr>\n",
       "    <tr>\n",
       "      <th>apt25</th>\n",
       "      <td>동북권</td>\n",
       "      <td>제2종 일반주거지역</td>\n",
       "      <td>풀옵션형</td>\n",
       "      <td>199.85</td>\n",
       "      <td>136.7989056</td>\n",
       "    </tr>\n",
       "    <tr>\n",
       "      <th>apt26</th>\n",
       "      <td>동북권</td>\n",
       "      <td>제2종 일반주거지역</td>\n",
       "      <td>풀옵션형</td>\n",
       "      <td>199.85</td>\n",
       "      <td>128.9930951</td>\n",
       "    </tr>\n",
       "    <tr>\n",
       "      <th>apt27</th>\n",
       "      <td>동북권</td>\n",
       "      <td>제2종 일반주거지역</td>\n",
       "      <td>풀옵션형</td>\n",
       "      <td>199.92</td>\n",
       "      <td>123.4567901</td>\n",
       "    </tr>\n",
       "    <tr>\n",
       "      <th>apt28</th>\n",
       "      <td>동북권</td>\n",
       "      <td>제2종 일반주거지역</td>\n",
       "      <td>풀옵션형</td>\n",
       "      <td>199.82</td>\n",
       "      <td>123.9669421</td>\n",
       "    </tr>\n",
       "    <tr>\n",
       "      <th>apt29</th>\n",
       "      <td>동북권</td>\n",
       "      <td>제2종 일반주거지역</td>\n",
       "      <td>풀옵션형</td>\n",
       "      <td>188.82</td>\n",
       "      <td>327.6417783</td>\n",
       "    </tr>\n",
       "    <tr>\n",
       "      <th>apt30</th>\n",
       "      <td>동북권</td>\n",
       "      <td>제3종 일반주거지역</td>\n",
       "      <td>풀옵션형</td>\n",
       "      <td>194.04</td>\n",
       "      <td>288.2945467</td>\n",
       "    </tr>\n",
       "    <tr>\n",
       "      <th>...</th>\n",
       "      <td>...</td>\n",
       "      <td>...</td>\n",
       "      <td>...</td>\n",
       "      <td>...</td>\n",
       "      <td>...</td>\n",
       "    </tr>\n",
       "    <tr>\n",
       "      <th>apt371</th>\n",
       "      <td>서남권</td>\n",
       "      <td>상업지역</td>\n",
       "      <td>풀옵션형</td>\n",
       "      <td>379.69</td>\n",
       "      <td>318.4713376</td>\n",
       "    </tr>\n",
       "    <tr>\n",
       "      <th>apt372</th>\n",
       "      <td>서남권</td>\n",
       "      <td>제2종 일반주거지역</td>\n",
       "      <td>기본형</td>\n",
       "      <td>190.19</td>\n",
       "      <td>258.4883815</td>\n",
       "    </tr>\n",
       "    <tr>\n",
       "      <th>apt373</th>\n",
       "      <td>서남권</td>\n",
       "      <td>제2종 일반주거지역</td>\n",
       "      <td>기본형</td>\n",
       "      <td>116.68</td>\n",
       "      <td>262.0423892</td>\n",
       "    </tr>\n",
       "    <tr>\n",
       "      <th>apt374</th>\n",
       "      <td>서남권</td>\n",
       "      <td>제2종 일반주거지역</td>\n",
       "      <td>기본형</td>\n",
       "      <td>198.02</td>\n",
       "      <td>288.5272377</td>\n",
       "    </tr>\n",
       "    <tr>\n",
       "      <th>apt375</th>\n",
       "      <td>서남권</td>\n",
       "      <td>제3종 일반주거지역</td>\n",
       "      <td>풀옵션형</td>\n",
       "      <td>144.45</td>\n",
       "      <td>232.7637006</td>\n",
       "    </tr>\n",
       "    <tr>\n",
       "      <th>apt376</th>\n",
       "      <td>서남권</td>\n",
       "      <td>제2종 일반주거지역</td>\n",
       "      <td>기본형</td>\n",
       "      <td>199.48</td>\n",
       "      <td>194.2393612</td>\n",
       "    </tr>\n",
       "    <tr>\n",
       "      <th>apt377</th>\n",
       "      <td>서남권</td>\n",
       "      <td>제2종 일반주거지역</td>\n",
       "      <td>기본형</td>\n",
       "      <td>178.98</td>\n",
       "      <td>202.9520295</td>\n",
       "    </tr>\n",
       "    <tr>\n",
       "      <th>apt378</th>\n",
       "      <td>서남권</td>\n",
       "      <td>제2종 일반주거지역</td>\n",
       "      <td>풀옵션형</td>\n",
       "      <td>198.7</td>\n",
       "      <td>298.4327467</td>\n",
       "    </tr>\n",
       "    <tr>\n",
       "      <th>apt379</th>\n",
       "      <td>동북권</td>\n",
       "      <td>제2종 일반주거지역</td>\n",
       "      <td>풀옵션형</td>\n",
       "      <td>199.96</td>\n",
       "      <td>314.045169</td>\n",
       "    </tr>\n",
       "    <tr>\n",
       "      <th>apt380</th>\n",
       "      <td>동북권</td>\n",
       "      <td>제1종 일반주거지역</td>\n",
       "      <td>풀옵션형</td>\n",
       "      <td>170.8</td>\n",
       "      <td>310.5698738</td>\n",
       "    </tr>\n",
       "    <tr>\n",
       "      <th>apt381</th>\n",
       "      <td>동북권</td>\n",
       "      <td>준주거지역</td>\n",
       "      <td>기본형</td>\n",
       "      <td>333.45</td>\n",
       "      <td>298.614429</td>\n",
       "    </tr>\n",
       "    <tr>\n",
       "      <th>apt382</th>\n",
       "      <td>동북권</td>\n",
       "      <td>제2종 일반주거지역</td>\n",
       "      <td>풀옵션형</td>\n",
       "      <td>140.05</td>\n",
       "      <td>230.6621595</td>\n",
       "    </tr>\n",
       "    <tr>\n",
       "      <th>apt383</th>\n",
       "      <td>동북권</td>\n",
       "      <td>제1종 일반주거지역</td>\n",
       "      <td>풀옵션형</td>\n",
       "      <td>149.96</td>\n",
       "      <td>231.5948871</td>\n",
       "    </tr>\n",
       "    <tr>\n",
       "      <th>apt384</th>\n",
       "      <td>동북권</td>\n",
       "      <td>제1종 일반주거지역</td>\n",
       "      <td>풀옵션형</td>\n",
       "      <td>146.5</td>\n",
       "      <td>388.299983</td>\n",
       "    </tr>\n",
       "    <tr>\n",
       "      <th>apt385</th>\n",
       "      <td>동북권</td>\n",
       "      <td>제2종 일반주거지역</td>\n",
       "      <td>풀옵션형</td>\n",
       "      <td>194.06</td>\n",
       "      <td>266.4709971</td>\n",
       "    </tr>\n",
       "    <tr>\n",
       "      <th>apt386</th>\n",
       "      <td>동북권</td>\n",
       "      <td>제2종 일반주거지역</td>\n",
       "      <td>풀옵션형</td>\n",
       "      <td>182.08</td>\n",
       "      <td>339.1075819</td>\n",
       "    </tr>\n",
       "    <tr>\n",
       "      <th>apt387</th>\n",
       "      <td>동북권</td>\n",
       "      <td>제2종 일반주거지역</td>\n",
       "      <td>풀옵션형</td>\n",
       "      <td>198.68</td>\n",
       "      <td>346.9101629</td>\n",
       "    </tr>\n",
       "    <tr>\n",
       "      <th>apt388</th>\n",
       "      <td>동북권</td>\n",
       "      <td>제2종 일반주거지역</td>\n",
       "      <td>풀옵션형</td>\n",
       "      <td>199.53</td>\n",
       "      <td>297.350573</td>\n",
       "    </tr>\n",
       "    <tr>\n",
       "      <th>apt389</th>\n",
       "      <td>동북권</td>\n",
       "      <td>제2종 일반주거지역</td>\n",
       "      <td>풀옵션형</td>\n",
       "      <td>195.69</td>\n",
       "      <td>397.9504697</td>\n",
       "    </tr>\n",
       "    <tr>\n",
       "      <th>apt390</th>\n",
       "      <td>동북권</td>\n",
       "      <td>제2종 일반주거지역</td>\n",
       "      <td>풀옵션형</td>\n",
       "      <td>195.57</td>\n",
       "      <td>277.354336</td>\n",
       "    </tr>\n",
       "    <tr>\n",
       "      <th>apt391</th>\n",
       "      <td>동북권</td>\n",
       "      <td>제2종 일반주거지역</td>\n",
       "      <td>기본형</td>\n",
       "      <td>199.68</td>\n",
       "      <td>260.2758248</td>\n",
       "    </tr>\n",
       "    <tr>\n",
       "      <th>apt392</th>\n",
       "      <td>동북권</td>\n",
       "      <td>제2종 일반주거지역</td>\n",
       "      <td>풀옵션형</td>\n",
       "      <td>199.47</td>\n",
       "      <td>330.3763735</td>\n",
       "    </tr>\n",
       "    <tr>\n",
       "      <th>apt393</th>\n",
       "      <td>동북권</td>\n",
       "      <td>준주거지역</td>\n",
       "      <td>기본형</td>\n",
       "      <td>305.84</td>\n",
       "      <td>370.9616829</td>\n",
       "    </tr>\n",
       "    <tr>\n",
       "      <th>apt394</th>\n",
       "      <td>동북권</td>\n",
       "      <td>제2종 일반주거지역</td>\n",
       "      <td>풀옵션형</td>\n",
       "      <td>152.16</td>\n",
       "      <td>289.6081772</td>\n",
       "    </tr>\n",
       "    <tr>\n",
       "      <th>apt395</th>\n",
       "      <td>동북권</td>\n",
       "      <td>제2종 일반주거지역</td>\n",
       "      <td>풀옵션형</td>\n",
       "      <td>116.54</td>\n",
       "      <td>399.5875226</td>\n",
       "    </tr>\n",
       "    <tr>\n",
       "      <th>apt396</th>\n",
       "      <td>서남권</td>\n",
       "      <td>제2종 일반주거지역</td>\n",
       "      <td>기본형</td>\n",
       "      <td>183.71</td>\n",
       "      <td>196.8503937</td>\n",
       "    </tr>\n",
       "    <tr>\n",
       "      <th>apt397</th>\n",
       "      <td>서남권</td>\n",
       "      <td>제2종 일반주거지역</td>\n",
       "      <td>풀옵션형</td>\n",
       "      <td>188.03</td>\n",
       "      <td>105.1154484</td>\n",
       "    </tr>\n",
       "    <tr>\n",
       "      <th>apt398</th>\n",
       "      <td>도심권</td>\n",
       "      <td>제2종 일반주거지역</td>\n",
       "      <td>기본형</td>\n",
       "      <td>181.24</td>\n",
       "      <td>235.9284512</td>\n",
       "    </tr>\n",
       "    <tr>\n",
       "      <th>apt399</th>\n",
       "      <td>도심권</td>\n",
       "      <td>제1종 일반주거지역</td>\n",
       "      <td>풀옵션형</td>\n",
       "      <td>149.87</td>\n",
       "      <td>294.8475538</td>\n",
       "    </tr>\n",
       "    <tr>\n",
       "      <th>apt400</th>\n",
       "      <td>도심권</td>\n",
       "      <td>제1종 일반주거지역</td>\n",
       "      <td>기본형</td>\n",
       "      <td>142.23</td>\n",
       "      <td>221.3902002</td>\n",
       "    </tr>\n",
       "  </tbody>\n",
       "</table>\n",
       "<p>400 rows × 5 columns</p>\n",
       "</div>"
      ],
      "text/plain": [
       "       Area UseDistrict Option     FAR        Price\n",
       "id                                                 \n",
       "apt01   도심권  제2종 일반주거지역   풀옵션형  132.72  515.0519492\n",
       "apt02   도심권  제2종 일반주거지역   풀옵션형  184.99             \n",
       "apt03              상업지역    기본형          364.3195349\n",
       "apt04   도심권        상업지역   풀옵션형  493.08  410.9455297\n",
       "apt05   도심권       준주거지역    기본형  349.65  616.9759862\n",
       "apt06   도심권  제3종 일반주거지역   풀옵션형       .  469.1517971\n",
       "apt07   도심권  제3종 일반주거지역   풀옵션형   227.2  576.4762615\n",
       "apt08   도심권        상업지역   풀옵션형  254.37  355.8718861\n",
       "apt09   동북권                기본형  199.93  423.8123398\n",
       "apt10   동북권  제2종 일반주거지역   풀옵션형  198.13  518.3137526\n",
       "apt11   동북권  제2종 일반주거지역   풀옵션형  199.34  615.7635468\n",
       "apt12   동북권  제3종 일반주거지역   풀옵션형  195.22  455.0302169\n",
       "apt13   동북권  제2종 일반주거지역    기본형   199.5  460.6879607\n",
       "apt14   동북권       준공업지역   풀옵션형  219.16  512.4777184\n",
       "apt15   동북권  제2종 일반주거지역   풀옵션형  192.39  483.7566204\n",
       "apt16   동북권  제2종 일반주거지역    기본형  198.94  489.1620599\n",
       "apt17   동북권  제2종 일반주거지역    기본형  178.38  370.4786975\n",
       "apt18   동북권  제2종 일반주거지역   풀옵션형   199.8  383.4406746\n",
       "apt19   동북권  제2종 일반주거지역   풀옵션형  169.38  443.8932045\n",
       "apt20   동북권  제3종 일반주거지역   풀옵션형  221.57  411.5629593\n",
       "apt21   동북권  제2종 일반주거지역   풀옵션형  198.73  161.7276468\n",
       "apt22   동북권  제2종 일반주거지역    기본형  184.83  309.3421324\n",
       "apt23   동북권  제2종 일반주거지역   풀옵션형  199.87  310.5057298\n",
       "apt24   동북권  제2종 일반주거지역    기본형  166.71  293.1051441\n",
       "apt25   동북권  제2종 일반주거지역   풀옵션형  199.85  136.7989056\n",
       "apt26   동북권  제2종 일반주거지역   풀옵션형  199.85  128.9930951\n",
       "apt27   동북권  제2종 일반주거지역   풀옵션형  199.92  123.4567901\n",
       "apt28   동북권  제2종 일반주거지역   풀옵션형  199.82  123.9669421\n",
       "apt29   동북권  제2종 일반주거지역   풀옵션형  188.82  327.6417783\n",
       "apt30   동북권  제3종 일반주거지역   풀옵션형  194.04  288.2945467\n",
       "...     ...         ...    ...     ...          ...\n",
       "apt371  서남권        상업지역   풀옵션형  379.69  318.4713376\n",
       "apt372  서남권  제2종 일반주거지역    기본형  190.19  258.4883815\n",
       "apt373  서남권  제2종 일반주거지역    기본형  116.68  262.0423892\n",
       "apt374  서남권  제2종 일반주거지역    기본형  198.02  288.5272377\n",
       "apt375  서남권  제3종 일반주거지역   풀옵션형  144.45  232.7637006\n",
       "apt376  서남권  제2종 일반주거지역    기본형  199.48  194.2393612\n",
       "apt377  서남권  제2종 일반주거지역    기본형  178.98  202.9520295\n",
       "apt378  서남권  제2종 일반주거지역   풀옵션형   198.7  298.4327467\n",
       "apt379  동북권  제2종 일반주거지역   풀옵션형  199.96   314.045169\n",
       "apt380  동북권  제1종 일반주거지역   풀옵션형   170.8  310.5698738\n",
       "apt381  동북권       준주거지역    기본형  333.45   298.614429\n",
       "apt382  동북권  제2종 일반주거지역   풀옵션형  140.05  230.6621595\n",
       "apt383  동북권  제1종 일반주거지역   풀옵션형  149.96  231.5948871\n",
       "apt384  동북권  제1종 일반주거지역   풀옵션형   146.5   388.299983\n",
       "apt385  동북권  제2종 일반주거지역   풀옵션형  194.06  266.4709971\n",
       "apt386  동북권  제2종 일반주거지역   풀옵션형  182.08  339.1075819\n",
       "apt387  동북권  제2종 일반주거지역   풀옵션형  198.68  346.9101629\n",
       "apt388  동북권  제2종 일반주거지역   풀옵션형  199.53   297.350573\n",
       "apt389  동북권  제2종 일반주거지역   풀옵션형  195.69  397.9504697\n",
       "apt390  동북권  제2종 일반주거지역   풀옵션형  195.57   277.354336\n",
       "apt391  동북권  제2종 일반주거지역    기본형  199.68  260.2758248\n",
       "apt392  동북권  제2종 일반주거지역   풀옵션형  199.47  330.3763735\n",
       "apt393  동북권       준주거지역    기본형  305.84  370.9616829\n",
       "apt394  동북권  제2종 일반주거지역   풀옵션형  152.16  289.6081772\n",
       "apt395  동북권  제2종 일반주거지역   풀옵션형  116.54  399.5875226\n",
       "apt396  서남권  제2종 일반주거지역    기본형  183.71  196.8503937\n",
       "apt397  서남권  제2종 일반주거지역   풀옵션형  188.03  105.1154484\n",
       "apt398  도심권  제2종 일반주거지역    기본형  181.24  235.9284512\n",
       "apt399  도심권  제1종 일반주거지역   풀옵션형  149.87  294.8475538\n",
       "apt400  도심권  제1종 일반주거지역    기본형  142.23  221.3902002\n",
       "\n",
       "[400 rows x 5 columns]"
      ]
     },
     "execution_count": 102,
     "metadata": {},
     "output_type": "execute_result"
    }
   ],
   "source": [
    "from pandas import Series, DataFrame\n",
    "from numpy import nan as NA\n",
    "import pandas as pd\n",
    "import numpy as np\n",
    "APT=pd.read_csv('C:/Users/Affinity/Desktop/Python_Data/ch02_data/APT.csv', header=0, skiprows=7, index_col=\"id\",encoding='utf-8')\n",
    "APT"
   ]
  },
  {
   "cell_type": "code",
   "execution_count": 104,
   "metadata": {},
   "outputs": [
    {
     "data": {
      "text/html": [
       "<div>\n",
       "<style scoped>\n",
       "    .dataframe tbody tr th:only-of-type {\n",
       "        vertical-align: middle;\n",
       "    }\n",
       "\n",
       "    .dataframe tbody tr th {\n",
       "        vertical-align: top;\n",
       "    }\n",
       "\n",
       "    .dataframe thead th {\n",
       "        text-align: right;\n",
       "    }\n",
       "</style>\n",
       "<table border=\"1\" class=\"dataframe\">\n",
       "  <thead>\n",
       "    <tr style=\"text-align: right;\">\n",
       "      <th></th>\n",
       "      <th>Area</th>\n",
       "      <th>UseDistrict</th>\n",
       "      <th>Option</th>\n",
       "      <th>FAR</th>\n",
       "      <th>Price</th>\n",
       "    </tr>\n",
       "    <tr>\n",
       "      <th>id</th>\n",
       "      <th></th>\n",
       "      <th></th>\n",
       "      <th></th>\n",
       "      <th></th>\n",
       "      <th></th>\n",
       "    </tr>\n",
       "  </thead>\n",
       "  <tbody>\n",
       "    <tr>\n",
       "      <th>apt01</th>\n",
       "      <td>도심권</td>\n",
       "      <td>제2종 일반주거지역</td>\n",
       "      <td>풀옵션형</td>\n",
       "      <td>132.72</td>\n",
       "      <td>515.0519492</td>\n",
       "    </tr>\n",
       "    <tr>\n",
       "      <th>apt02</th>\n",
       "      <td>도심권</td>\n",
       "      <td>제2종 일반주거지역</td>\n",
       "      <td>풀옵션형</td>\n",
       "      <td>184.99</td>\n",
       "      <td></td>\n",
       "    </tr>\n",
       "    <tr>\n",
       "      <th>apt03</th>\n",
       "      <td></td>\n",
       "      <td>상업지역</td>\n",
       "      <td>기본형</td>\n",
       "      <td></td>\n",
       "      <td>364.3195349</td>\n",
       "    </tr>\n",
       "    <tr>\n",
       "      <th>apt04</th>\n",
       "      <td>도심권</td>\n",
       "      <td>상업지역</td>\n",
       "      <td>풀옵션형</td>\n",
       "      <td>493.08</td>\n",
       "      <td>410.9455297</td>\n",
       "    </tr>\n",
       "    <tr>\n",
       "      <th>apt05</th>\n",
       "      <td>도심권</td>\n",
       "      <td>준주거지역</td>\n",
       "      <td>기본형</td>\n",
       "      <td>349.65</td>\n",
       "      <td>616.9759862</td>\n",
       "    </tr>\n",
       "    <tr>\n",
       "      <th>apt06</th>\n",
       "      <td>도심권</td>\n",
       "      <td>제3종 일반주거지역</td>\n",
       "      <td>풀옵션형</td>\n",
       "      <td>.</td>\n",
       "      <td>469.1517971</td>\n",
       "    </tr>\n",
       "    <tr>\n",
       "      <th>apt07</th>\n",
       "      <td>도심권</td>\n",
       "      <td>제3종 일반주거지역</td>\n",
       "      <td>풀옵션형</td>\n",
       "      <td>227.2</td>\n",
       "      <td>576.4762615</td>\n",
       "    </tr>\n",
       "  </tbody>\n",
       "</table>\n",
       "</div>"
      ],
      "text/plain": [
       "      Area UseDistrict Option     FAR        Price\n",
       "id                                                \n",
       "apt01  도심권  제2종 일반주거지역   풀옵션형  132.72  515.0519492\n",
       "apt02  도심권  제2종 일반주거지역   풀옵션형  184.99             \n",
       "apt03             상업지역    기본형          364.3195349\n",
       "apt04  도심권        상업지역   풀옵션형  493.08  410.9455297\n",
       "apt05  도심권       준주거지역    기본형  349.65  616.9759862\n",
       "apt06  도심권  제3종 일반주거지역   풀옵션형       .  469.1517971\n",
       "apt07  도심권  제3종 일반주거지역   풀옵션형   227.2  576.4762615"
      ]
     },
     "execution_count": 104,
     "metadata": {},
     "output_type": "execute_result"
    }
   ],
   "source": [
    "APT.head(7)"
   ]
  },
  {
   "cell_type": "markdown",
   "metadata": {},
   "source": [
    "### 결측값 처리: na_values"
   ]
  },
  {
   "cell_type": "code",
   "execution_count": 108,
   "metadata": {},
   "outputs": [
    {
     "data": {
      "text/html": [
       "<div>\n",
       "<style scoped>\n",
       "    .dataframe tbody tr th:only-of-type {\n",
       "        vertical-align: middle;\n",
       "    }\n",
       "\n",
       "    .dataframe tbody tr th {\n",
       "        vertical-align: top;\n",
       "    }\n",
       "\n",
       "    .dataframe thead th {\n",
       "        text-align: right;\n",
       "    }\n",
       "</style>\n",
       "<table border=\"1\" class=\"dataframe\">\n",
       "  <thead>\n",
       "    <tr style=\"text-align: right;\">\n",
       "      <th></th>\n",
       "      <th>Area</th>\n",
       "      <th>UseDistrict</th>\n",
       "      <th>Option</th>\n",
       "      <th>FAR</th>\n",
       "      <th>Price</th>\n",
       "    </tr>\n",
       "    <tr>\n",
       "      <th>id</th>\n",
       "      <th></th>\n",
       "      <th></th>\n",
       "      <th></th>\n",
       "      <th></th>\n",
       "      <th></th>\n",
       "    </tr>\n",
       "  </thead>\n",
       "  <tbody>\n",
       "    <tr>\n",
       "      <th>apt01</th>\n",
       "      <td>도심권</td>\n",
       "      <td>제2종 일반주거지역</td>\n",
       "      <td>풀옵션형</td>\n",
       "      <td>132.72</td>\n",
       "      <td>515.051949</td>\n",
       "    </tr>\n",
       "    <tr>\n",
       "      <th>apt02</th>\n",
       "      <td>도심권</td>\n",
       "      <td>제2종 일반주거지역</td>\n",
       "      <td>풀옵션형</td>\n",
       "      <td>184.99</td>\n",
       "      <td>NaN</td>\n",
       "    </tr>\n",
       "    <tr>\n",
       "      <th>apt03</th>\n",
       "      <td>NaN</td>\n",
       "      <td>상업지역</td>\n",
       "      <td>기본형</td>\n",
       "      <td>NaN</td>\n",
       "      <td>364.319535</td>\n",
       "    </tr>\n",
       "    <tr>\n",
       "      <th>apt04</th>\n",
       "      <td>도심권</td>\n",
       "      <td>상업지역</td>\n",
       "      <td>풀옵션형</td>\n",
       "      <td>493.08</td>\n",
       "      <td>410.945530</td>\n",
       "    </tr>\n",
       "    <tr>\n",
       "      <th>apt05</th>\n",
       "      <td>도심권</td>\n",
       "      <td>준주거지역</td>\n",
       "      <td>기본형</td>\n",
       "      <td>349.65</td>\n",
       "      <td>616.975986</td>\n",
       "    </tr>\n",
       "    <tr>\n",
       "      <th>apt06</th>\n",
       "      <td>도심권</td>\n",
       "      <td>제3종 일반주거지역</td>\n",
       "      <td>풀옵션형</td>\n",
       "      <td>NaN</td>\n",
       "      <td>469.151797</td>\n",
       "    </tr>\n",
       "    <tr>\n",
       "      <th>apt07</th>\n",
       "      <td>도심권</td>\n",
       "      <td>제3종 일반주거지역</td>\n",
       "      <td>풀옵션형</td>\n",
       "      <td>227.20</td>\n",
       "      <td>576.476262</td>\n",
       "    </tr>\n",
       "    <tr>\n",
       "      <th>apt08</th>\n",
       "      <td>도심권</td>\n",
       "      <td>상업지역</td>\n",
       "      <td>풀옵션형</td>\n",
       "      <td>254.37</td>\n",
       "      <td>355.871886</td>\n",
       "    </tr>\n",
       "    <tr>\n",
       "      <th>apt09</th>\n",
       "      <td>동북권</td>\n",
       "      <td>NaN</td>\n",
       "      <td>기본형</td>\n",
       "      <td>199.93</td>\n",
       "      <td>423.812340</td>\n",
       "    </tr>\n",
       "    <tr>\n",
       "      <th>apt10</th>\n",
       "      <td>동북권</td>\n",
       "      <td>제2종 일반주거지역</td>\n",
       "      <td>풀옵션형</td>\n",
       "      <td>198.13</td>\n",
       "      <td>518.313753</td>\n",
       "    </tr>\n",
       "  </tbody>\n",
       "</table>\n",
       "</div>"
      ],
      "text/plain": [
       "      Area UseDistrict Option     FAR       Price\n",
       "id                                               \n",
       "apt01  도심권  제2종 일반주거지역   풀옵션형  132.72  515.051949\n",
       "apt02  도심권  제2종 일반주거지역   풀옵션형  184.99         NaN\n",
       "apt03  NaN        상업지역    기본형     NaN  364.319535\n",
       "apt04  도심권        상업지역   풀옵션형  493.08  410.945530\n",
       "apt05  도심권       준주거지역    기본형  349.65  616.975986\n",
       "apt06  도심권  제3종 일반주거지역   풀옵션형     NaN  469.151797\n",
       "apt07  도심권  제3종 일반주거지역   풀옵션형  227.20  576.476262\n",
       "apt08  도심권        상업지역   풀옵션형  254.37  355.871886\n",
       "apt09  동북권         NaN    기본형  199.93  423.812340\n",
       "apt10  동북권  제2종 일반주거지역   풀옵션형  198.13  518.313753"
      ]
     },
     "execution_count": 108,
     "metadata": {},
     "output_type": "execute_result"
    }
   ],
   "source": [
    "APT=pd.read_csv('C:/Users/Affinity/Desktop/Python_Data/ch02_data/APT.csv', header=0, skiprows=7, index_col=\"id\",encoding='utf-8',\n",
    "               na_values=[\" \",\".\"])\n",
    "APT.head(10)"
   ]
  },
  {
   "cell_type": "markdown",
   "metadata": {},
   "source": [
    "### header=None 하고 변수명 직접 입력"
   ]
  },
  {
   "cell_type": "code",
   "execution_count": 127,
   "metadata": {},
   "outputs": [
    {
     "data": {
      "text/html": [
       "<div>\n",
       "<style scoped>\n",
       "    .dataframe tbody tr th:only-of-type {\n",
       "        vertical-align: middle;\n",
       "    }\n",
       "\n",
       "    .dataframe tbody tr th {\n",
       "        vertical-align: top;\n",
       "    }\n",
       "\n",
       "    .dataframe thead th {\n",
       "        text-align: right;\n",
       "    }\n",
       "</style>\n",
       "<table border=\"1\" class=\"dataframe\">\n",
       "  <thead>\n",
       "    <tr style=\"text-align: right;\">\n",
       "      <th></th>\n",
       "      <th>V1</th>\n",
       "      <th>V2</th>\n",
       "      <th>V3</th>\n",
       "      <th>V4</th>\n",
       "      <th>V5</th>\n",
       "    </tr>\n",
       "  </thead>\n",
       "  <tbody>\n",
       "    <tr>\n",
       "      <th>apt03</th>\n",
       "      <td>NaN</td>\n",
       "      <td>상업지역</td>\n",
       "      <td>기본형</td>\n",
       "      <td>NaN</td>\n",
       "      <td>364.319535</td>\n",
       "    </tr>\n",
       "    <tr>\n",
       "      <th>apt04</th>\n",
       "      <td>도심권</td>\n",
       "      <td>상업지역</td>\n",
       "      <td>풀옵션형</td>\n",
       "      <td>493.08</td>\n",
       "      <td>410.945530</td>\n",
       "    </tr>\n",
       "    <tr>\n",
       "      <th>apt05</th>\n",
       "      <td>도심권</td>\n",
       "      <td>준주거지역</td>\n",
       "      <td>기본형</td>\n",
       "      <td>349.65</td>\n",
       "      <td>616.975986</td>\n",
       "    </tr>\n",
       "    <tr>\n",
       "      <th>apt06</th>\n",
       "      <td>도심권</td>\n",
       "      <td>제3종 일반주거지역</td>\n",
       "      <td>풀옵션형</td>\n",
       "      <td>NaN</td>\n",
       "      <td>469.151797</td>\n",
       "    </tr>\n",
       "  </tbody>\n",
       "</table>\n",
       "</div>"
      ],
      "text/plain": [
       "        V1          V2    V3      V4          V5\n",
       "apt03  NaN        상업지역   기본형     NaN  364.319535\n",
       "apt04  도심권        상업지역  풀옵션형  493.08  410.945530\n",
       "apt05  도심권       준주거지역   기본형  349.65  616.975986\n",
       "apt06  도심권  제3종 일반주거지역  풀옵션형     NaN  469.151797"
      ]
     },
     "execution_count": 127,
     "metadata": {},
     "output_type": "execute_result"
    }
   ],
   "source": [
    "APT=pd.read_csv('C:/Users/Affinity/Desktop/Python_Data/ch02_data/APT.csv', header=None, names=[\"V1\",\"V2\",\"V3\",\"V4\",\"V5\"], \n",
    "                skiprows=10, nrows=7,index_col=0,encoding='utf-8',na_values=[\" \",\".\"])\n",
    "APT.head(4) # 앞쪽 4개를 출력한다"
   ]
  },
  {
   "cell_type": "code",
   "execution_count": 121,
   "metadata": {
    "scrolled": true
   },
   "outputs": [
    {
     "data": {
      "text/html": [
       "<div>\n",
       "<style scoped>\n",
       "    .dataframe tbody tr th:only-of-type {\n",
       "        vertical-align: middle;\n",
       "    }\n",
       "\n",
       "    .dataframe tbody tr th {\n",
       "        vertical-align: top;\n",
       "    }\n",
       "\n",
       "    .dataframe thead th {\n",
       "        text-align: right;\n",
       "    }\n",
       "</style>\n",
       "<table border=\"1\" class=\"dataframe\">\n",
       "  <thead>\n",
       "    <tr style=\"text-align: right;\">\n",
       "      <th></th>\n",
       "      <th>V1</th>\n",
       "      <th>V2</th>\n",
       "      <th>V3</th>\n",
       "      <th>V4</th>\n",
       "      <th>V5</th>\n",
       "    </tr>\n",
       "  </thead>\n",
       "  <tbody>\n",
       "    <tr>\n",
       "      <th>apt06</th>\n",
       "      <td>도심권</td>\n",
       "      <td>제3종 일반주거지역</td>\n",
       "      <td>풀옵션형</td>\n",
       "      <td>NaN</td>\n",
       "      <td>469.151797</td>\n",
       "    </tr>\n",
       "    <tr>\n",
       "      <th>apt07</th>\n",
       "      <td>도심권</td>\n",
       "      <td>제3종 일반주거지역</td>\n",
       "      <td>풀옵션형</td>\n",
       "      <td>227.20</td>\n",
       "      <td>576.476262</td>\n",
       "    </tr>\n",
       "    <tr>\n",
       "      <th>apt08</th>\n",
       "      <td>도심권</td>\n",
       "      <td>상업지역</td>\n",
       "      <td>풀옵션형</td>\n",
       "      <td>254.37</td>\n",
       "      <td>355.871886</td>\n",
       "    </tr>\n",
       "    <tr>\n",
       "      <th>apt09</th>\n",
       "      <td>동북권</td>\n",
       "      <td>NaN</td>\n",
       "      <td>기본형</td>\n",
       "      <td>199.93</td>\n",
       "      <td>423.812340</td>\n",
       "    </tr>\n",
       "  </tbody>\n",
       "</table>\n",
       "</div>"
      ],
      "text/plain": [
       "        V1          V2    V3      V4          V5\n",
       "apt06  도심권  제3종 일반주거지역  풀옵션형     NaN  469.151797\n",
       "apt07  도심권  제3종 일반주거지역  풀옵션형  227.20  576.476262\n",
       "apt08  도심권        상업지역  풀옵션형  254.37  355.871886\n",
       "apt09  동북권         NaN   기본형  199.93  423.812340"
      ]
     },
     "execution_count": 121,
     "metadata": {},
     "output_type": "execute_result"
    }
   ],
   "source": [
    "APT=pd.read_csv('C:/Users/Affinity/Desktop/Python_Data/ch02_data/APT.csv', header=None, names=[\"V1\",\"V2\",\"V3\",\"V4\",\"V5\"], \n",
    "                skiprows=10, nrows=7,index_col=0,encoding='utf-8',na_values=[\" \",\".\"])\n",
    "APT.tail(4) # 뒤쪽 4개를 출력한다"
   ]
  },
  {
   "cell_type": "code",
   "execution_count": 124,
   "metadata": {},
   "outputs": [
    {
     "data": {
      "text/plain": [
       "id\n",
       "apt01    515.051949\n",
       "apt02           NaN\n",
       "apt03    364.319535\n",
       "apt04    410.945530\n",
       "apt05    616.975986\n",
       "apt06    469.151797\n",
       "apt07    576.476262\n",
       "Name: Price, dtype: float64"
      ]
     },
     "execution_count": 124,
     "metadata": {},
     "output_type": "execute_result"
    }
   ],
   "source": [
    "APT=pd.read_csv('C:/Users/Affinity/Desktop/Python_Data/ch02_data/APT.csv', header=0, \n",
    "                skiprows=7, nrows=7,index_col=0,encoding='utf-8',na_values=[\" \",\".\"])\n",
    "APT[\"Price\"]"
   ]
  },
  {
   "cell_type": "markdown",
   "metadata": {},
   "source": [
    "### 텍스트 파일 저장하기"
   ]
  },
  {
   "cell_type": "code",
   "execution_count": 128,
   "metadata": {},
   "outputs": [],
   "source": [
    "APT.to_csv(\"C:/Users/Affinity/Desktop/Python_Data/ch02_data/APTSave.txt\", sep='|', na_rep=\"NULL\", index=False, header=True, columns=[\"V1\",\"V4\",\"V5\"])"
   ]
  },
  {
   "cell_type": "markdown",
   "metadata": {},
   "source": [
    "### 데이터 합치기"
   ]
  },
  {
   "cell_type": "code",
   "execution_count": 135,
   "metadata": {},
   "outputs": [
    {
     "name": "stdout",
     "output_type": "stream",
     "text": [
      "  key  V1\n",
      "0   a   0\n",
      "1   b   1\n",
      "2   a   2\n",
      "3   a   3\n",
      "4   c   4\n",
      "5   b   5 \n",
      "\n",
      "   key  V2\n",
      "0   a   3\n",
      "1   b   6\n",
      "2   d   4\n"
     ]
    }
   ],
   "source": [
    "df1=DataFrame({\"key\":[\"a\",\"b\",\"a\",\"a\",\"c\",\"b\"], \"V1\":range(6)})\n",
    "df2=DataFrame({\"key\":[\"a\",\"b\",\"d\"],\"V2\":[3,6,4]})\n",
    "print(df1,\"\\n\\n\",df2)"
   ]
  },
  {
   "cell_type": "markdown",
   "metadata": {},
   "source": [
    "#### 디폴트는 동일한 변수 "
   ]
  },
  {
   "cell_type": "markdown",
   "metadata": {},
   "source": [
    "#### key라는 변수를 기준으로 양쪽 둘다있는 변수 결합해준다"
   ]
  },
  {
   "cell_type": "code",
   "execution_count": 136,
   "metadata": {
    "scrolled": true
   },
   "outputs": [
    {
     "data": {
      "text/html": [
       "<div>\n",
       "<style scoped>\n",
       "    .dataframe tbody tr th:only-of-type {\n",
       "        vertical-align: middle;\n",
       "    }\n",
       "\n",
       "    .dataframe tbody tr th {\n",
       "        vertical-align: top;\n",
       "    }\n",
       "\n",
       "    .dataframe thead th {\n",
       "        text-align: right;\n",
       "    }\n",
       "</style>\n",
       "<table border=\"1\" class=\"dataframe\">\n",
       "  <thead>\n",
       "    <tr style=\"text-align: right;\">\n",
       "      <th></th>\n",
       "      <th>key</th>\n",
       "      <th>V1</th>\n",
       "      <th>V2</th>\n",
       "    </tr>\n",
       "  </thead>\n",
       "  <tbody>\n",
       "    <tr>\n",
       "      <th>0</th>\n",
       "      <td>a</td>\n",
       "      <td>0</td>\n",
       "      <td>3</td>\n",
       "    </tr>\n",
       "    <tr>\n",
       "      <th>1</th>\n",
       "      <td>a</td>\n",
       "      <td>2</td>\n",
       "      <td>3</td>\n",
       "    </tr>\n",
       "    <tr>\n",
       "      <th>2</th>\n",
       "      <td>a</td>\n",
       "      <td>3</td>\n",
       "      <td>3</td>\n",
       "    </tr>\n",
       "    <tr>\n",
       "      <th>3</th>\n",
       "      <td>b</td>\n",
       "      <td>1</td>\n",
       "      <td>6</td>\n",
       "    </tr>\n",
       "    <tr>\n",
       "      <th>4</th>\n",
       "      <td>b</td>\n",
       "      <td>5</td>\n",
       "      <td>6</td>\n",
       "    </tr>\n",
       "  </tbody>\n",
       "</table>\n",
       "</div>"
      ],
      "text/plain": [
       "  key  V1  V2\n",
       "0   a   0   3\n",
       "1   a   2   3\n",
       "2   a   3   3\n",
       "3   b   1   6\n",
       "4   b   5   6"
      ]
     },
     "execution_count": 136,
     "metadata": {},
     "output_type": "execute_result"
    }
   ],
   "source": [
    "pd.merge(df1,df2, on=\"key\")"
   ]
  },
  {
   "cell_type": "markdown",
   "metadata": {},
   "source": [
    "#### 서로 변수 이름이 다를 경우"
   ]
  },
  {
   "cell_type": "code",
   "execution_count": 139,
   "metadata": {
    "scrolled": true
   },
   "outputs": [
    {
     "name": "stdout",
     "output_type": "stream",
     "text": [
      "  key1  V1\n",
      "0    a   0\n",
      "1    b   1\n",
      "2    a   2\n",
      "3    a   3\n",
      "4    c   4\n",
      "5    b   5 \n",
      "\n",
      "   key2  V2\n",
      "0    a   3\n",
      "1    b   6\n",
      "2    d   4\n"
     ]
    }
   ],
   "source": [
    "df1=DataFrame({\"key1\":[\"a\",\"b\",\"a\",\"a\",\"c\",\"b\"], \"V1\":range(6)})\n",
    "df2=DataFrame({\"key2\":[\"a\",\"b\",\"d\"],\"V2\":[3,6,4]})\n",
    "print(df1,\"\\n\\n\",df2)"
   ]
  },
  {
   "cell_type": "code",
   "execution_count": 141,
   "metadata": {},
   "outputs": [
    {
     "data": {
      "text/html": [
       "<div>\n",
       "<style scoped>\n",
       "    .dataframe tbody tr th:only-of-type {\n",
       "        vertical-align: middle;\n",
       "    }\n",
       "\n",
       "    .dataframe tbody tr th {\n",
       "        vertical-align: top;\n",
       "    }\n",
       "\n",
       "    .dataframe thead th {\n",
       "        text-align: right;\n",
       "    }\n",
       "</style>\n",
       "<table border=\"1\" class=\"dataframe\">\n",
       "  <thead>\n",
       "    <tr style=\"text-align: right;\">\n",
       "      <th></th>\n",
       "      <th>key1</th>\n",
       "      <th>V1</th>\n",
       "      <th>key2</th>\n",
       "      <th>V2</th>\n",
       "    </tr>\n",
       "  </thead>\n",
       "  <tbody>\n",
       "    <tr>\n",
       "      <th>0</th>\n",
       "      <td>a</td>\n",
       "      <td>0</td>\n",
       "      <td>a</td>\n",
       "      <td>3</td>\n",
       "    </tr>\n",
       "    <tr>\n",
       "      <th>1</th>\n",
       "      <td>a</td>\n",
       "      <td>2</td>\n",
       "      <td>a</td>\n",
       "      <td>3</td>\n",
       "    </tr>\n",
       "    <tr>\n",
       "      <th>2</th>\n",
       "      <td>a</td>\n",
       "      <td>3</td>\n",
       "      <td>a</td>\n",
       "      <td>3</td>\n",
       "    </tr>\n",
       "    <tr>\n",
       "      <th>3</th>\n",
       "      <td>b</td>\n",
       "      <td>1</td>\n",
       "      <td>b</td>\n",
       "      <td>6</td>\n",
       "    </tr>\n",
       "    <tr>\n",
       "      <th>4</th>\n",
       "      <td>b</td>\n",
       "      <td>5</td>\n",
       "      <td>b</td>\n",
       "      <td>6</td>\n",
       "    </tr>\n",
       "  </tbody>\n",
       "</table>\n",
       "</div>"
      ],
      "text/plain": [
       "  key1  V1 key2  V2\n",
       "0    a   0    a   3\n",
       "1    a   2    a   3\n",
       "2    a   3    a   3\n",
       "3    b   1    b   6\n",
       "4    b   5    b   6"
      ]
     },
     "execution_count": 141,
     "metadata": {},
     "output_type": "execute_result"
    }
   ],
   "source": [
    "pd.merge(df1,df2,left_on=\"key1\",right_on=\"key2\")"
   ]
  },
  {
   "cell_type": "code",
   "execution_count": 143,
   "metadata": {},
   "outputs": [
    {
     "name": "stdout",
     "output_type": "stream",
     "text": [
      "  key1 gender  v1\n",
      "0    a      M   0\n",
      "1    b      M   1\n",
      "2    a      F   2\n",
      "3    a      F   3\n",
      "4    c      M   4\n",
      "5    b      M   5 \n",
      "\n",
      "   key2 sex  v2\n",
      "0    a   F   3\n",
      "1    b   M   6\n",
      "2    d   F   4\n"
     ]
    }
   ],
   "source": [
    "df1=DataFrame({\"key1\":[\"a\",\"b\",\"a\",\"a\",\"c\",\"b\"], \"gender\":[\"M\",\"M\",\"F\",\"F\",\"M\",\"M\"],\"v1\":range(6)})\n",
    "df2=DataFrame({\"key2\":[\"a\",\"b\",\"d\"],\"sex\":[\"F\",\"M\",\"F\"],\"v2\":[3,6,4]})\n",
    "print(df1,\"\\n\\n\",df2)"
   ]
  },
  {
   "cell_type": "markdown",
   "metadata": {},
   "source": [
    "#### 두 변수 이상을 key값으로 하는 경우"
   ]
  },
  {
   "cell_type": "code",
   "execution_count": 144,
   "metadata": {
    "scrolled": true
   },
   "outputs": [
    {
     "data": {
      "text/html": [
       "<div>\n",
       "<style scoped>\n",
       "    .dataframe tbody tr th:only-of-type {\n",
       "        vertical-align: middle;\n",
       "    }\n",
       "\n",
       "    .dataframe tbody tr th {\n",
       "        vertical-align: top;\n",
       "    }\n",
       "\n",
       "    .dataframe thead th {\n",
       "        text-align: right;\n",
       "    }\n",
       "</style>\n",
       "<table border=\"1\" class=\"dataframe\">\n",
       "  <thead>\n",
       "    <tr style=\"text-align: right;\">\n",
       "      <th></th>\n",
       "      <th>key1</th>\n",
       "      <th>gender</th>\n",
       "      <th>v1</th>\n",
       "      <th>key2</th>\n",
       "      <th>sex</th>\n",
       "      <th>v2</th>\n",
       "    </tr>\n",
       "  </thead>\n",
       "  <tbody>\n",
       "    <tr>\n",
       "      <th>0</th>\n",
       "      <td>b</td>\n",
       "      <td>M</td>\n",
       "      <td>1</td>\n",
       "      <td>b</td>\n",
       "      <td>M</td>\n",
       "      <td>6</td>\n",
       "    </tr>\n",
       "    <tr>\n",
       "      <th>1</th>\n",
       "      <td>b</td>\n",
       "      <td>M</td>\n",
       "      <td>5</td>\n",
       "      <td>b</td>\n",
       "      <td>M</td>\n",
       "      <td>6</td>\n",
       "    </tr>\n",
       "    <tr>\n",
       "      <th>2</th>\n",
       "      <td>a</td>\n",
       "      <td>F</td>\n",
       "      <td>2</td>\n",
       "      <td>a</td>\n",
       "      <td>F</td>\n",
       "      <td>3</td>\n",
       "    </tr>\n",
       "    <tr>\n",
       "      <th>3</th>\n",
       "      <td>a</td>\n",
       "      <td>F</td>\n",
       "      <td>3</td>\n",
       "      <td>a</td>\n",
       "      <td>F</td>\n",
       "      <td>3</td>\n",
       "    </tr>\n",
       "  </tbody>\n",
       "</table>\n",
       "</div>"
      ],
      "text/plain": [
       "  key1 gender  v1 key2 sex  v2\n",
       "0    b      M   1    b   M   6\n",
       "1    b      M   5    b   M   6\n",
       "2    a      F   2    a   F   3\n",
       "3    a      F   3    a   F   3"
      ]
     },
     "execution_count": 144,
     "metadata": {},
     "output_type": "execute_result"
    }
   ],
   "source": [
    "pd.merge(df1,df2,left_on=[\"key1\",\"gender\"],right_on=[\"key2\",\"sex\"])"
   ]
  },
  {
   "cell_type": "code",
   "execution_count": 146,
   "metadata": {},
   "outputs": [
    {
     "data": {
      "text/html": [
       "<div>\n",
       "<style scoped>\n",
       "    .dataframe tbody tr th:only-of-type {\n",
       "        vertical-align: middle;\n",
       "    }\n",
       "\n",
       "    .dataframe tbody tr th {\n",
       "        vertical-align: top;\n",
       "    }\n",
       "\n",
       "    .dataframe thead th {\n",
       "        text-align: right;\n",
       "    }\n",
       "</style>\n",
       "<table border=\"1\" class=\"dataframe\">\n",
       "  <thead>\n",
       "    <tr style=\"text-align: right;\">\n",
       "      <th></th>\n",
       "      <th>key1</th>\n",
       "      <th>gender</th>\n",
       "      <th>v1</th>\n",
       "      <th>key2</th>\n",
       "      <th>sex</th>\n",
       "      <th>v2</th>\n",
       "    </tr>\n",
       "  </thead>\n",
       "  <tbody>\n",
       "    <tr>\n",
       "      <th>0</th>\n",
       "      <td>a</td>\n",
       "      <td>M</td>\n",
       "      <td>0.0</td>\n",
       "      <td>a</td>\n",
       "      <td>F</td>\n",
       "      <td>3.0</td>\n",
       "    </tr>\n",
       "    <tr>\n",
       "      <th>1</th>\n",
       "      <td>a</td>\n",
       "      <td>F</td>\n",
       "      <td>2.0</td>\n",
       "      <td>a</td>\n",
       "      <td>F</td>\n",
       "      <td>3.0</td>\n",
       "    </tr>\n",
       "    <tr>\n",
       "      <th>2</th>\n",
       "      <td>a</td>\n",
       "      <td>F</td>\n",
       "      <td>3.0</td>\n",
       "      <td>a</td>\n",
       "      <td>F</td>\n",
       "      <td>3.0</td>\n",
       "    </tr>\n",
       "    <tr>\n",
       "      <th>3</th>\n",
       "      <td>b</td>\n",
       "      <td>M</td>\n",
       "      <td>1.0</td>\n",
       "      <td>b</td>\n",
       "      <td>M</td>\n",
       "      <td>6.0</td>\n",
       "    </tr>\n",
       "    <tr>\n",
       "      <th>4</th>\n",
       "      <td>b</td>\n",
       "      <td>M</td>\n",
       "      <td>5.0</td>\n",
       "      <td>b</td>\n",
       "      <td>M</td>\n",
       "      <td>6.0</td>\n",
       "    </tr>\n",
       "    <tr>\n",
       "      <th>5</th>\n",
       "      <td>c</td>\n",
       "      <td>M</td>\n",
       "      <td>4.0</td>\n",
       "      <td>NaN</td>\n",
       "      <td>NaN</td>\n",
       "      <td>NaN</td>\n",
       "    </tr>\n",
       "    <tr>\n",
       "      <th>6</th>\n",
       "      <td>NaN</td>\n",
       "      <td>NaN</td>\n",
       "      <td>NaN</td>\n",
       "      <td>d</td>\n",
       "      <td>F</td>\n",
       "      <td>4.0</td>\n",
       "    </tr>\n",
       "  </tbody>\n",
       "</table>\n",
       "</div>"
      ],
      "text/plain": [
       "  key1 gender   v1 key2  sex   v2\n",
       "0    a      M  0.0    a    F  3.0\n",
       "1    a      F  2.0    a    F  3.0\n",
       "2    a      F  3.0    a    F  3.0\n",
       "3    b      M  1.0    b    M  6.0\n",
       "4    b      M  5.0    b    M  6.0\n",
       "5    c      M  4.0  NaN  NaN  NaN\n",
       "6  NaN    NaN  NaN    d    F  4.0"
      ]
     },
     "execution_count": 146,
     "metadata": {},
     "output_type": "execute_result"
    }
   ],
   "source": [
    "pd.merge(df1,df2,left_on=\"key1\",right_on=\"key2\",how=\"outer\")"
   ]
  },
  {
   "cell_type": "code",
   "execution_count": 148,
   "metadata": {},
   "outputs": [
    {
     "data": {
      "text/html": [
       "<div>\n",
       "<style scoped>\n",
       "    .dataframe tbody tr th:only-of-type {\n",
       "        vertical-align: middle;\n",
       "    }\n",
       "\n",
       "    .dataframe tbody tr th {\n",
       "        vertical-align: top;\n",
       "    }\n",
       "\n",
       "    .dataframe thead th {\n",
       "        text-align: right;\n",
       "    }\n",
       "</style>\n",
       "<table border=\"1\" class=\"dataframe\">\n",
       "  <thead>\n",
       "    <tr style=\"text-align: right;\">\n",
       "      <th></th>\n",
       "      <th>key1</th>\n",
       "      <th>gender</th>\n",
       "      <th>v1</th>\n",
       "      <th>key2</th>\n",
       "      <th>sex</th>\n",
       "      <th>v2</th>\n",
       "    </tr>\n",
       "  </thead>\n",
       "  <tbody>\n",
       "    <tr>\n",
       "      <th>0</th>\n",
       "      <td>a</td>\n",
       "      <td>M</td>\n",
       "      <td>0</td>\n",
       "      <td>a</td>\n",
       "      <td>F</td>\n",
       "      <td>3.0</td>\n",
       "    </tr>\n",
       "    <tr>\n",
       "      <th>1</th>\n",
       "      <td>b</td>\n",
       "      <td>M</td>\n",
       "      <td>1</td>\n",
       "      <td>b</td>\n",
       "      <td>M</td>\n",
       "      <td>6.0</td>\n",
       "    </tr>\n",
       "    <tr>\n",
       "      <th>2</th>\n",
       "      <td>a</td>\n",
       "      <td>F</td>\n",
       "      <td>2</td>\n",
       "      <td>a</td>\n",
       "      <td>F</td>\n",
       "      <td>3.0</td>\n",
       "    </tr>\n",
       "    <tr>\n",
       "      <th>3</th>\n",
       "      <td>a</td>\n",
       "      <td>F</td>\n",
       "      <td>3</td>\n",
       "      <td>a</td>\n",
       "      <td>F</td>\n",
       "      <td>3.0</td>\n",
       "    </tr>\n",
       "    <tr>\n",
       "      <th>4</th>\n",
       "      <td>c</td>\n",
       "      <td>M</td>\n",
       "      <td>4</td>\n",
       "      <td>NaN</td>\n",
       "      <td>NaN</td>\n",
       "      <td>NaN</td>\n",
       "    </tr>\n",
       "    <tr>\n",
       "      <th>5</th>\n",
       "      <td>b</td>\n",
       "      <td>M</td>\n",
       "      <td>5</td>\n",
       "      <td>b</td>\n",
       "      <td>M</td>\n",
       "      <td>6.0</td>\n",
       "    </tr>\n",
       "  </tbody>\n",
       "</table>\n",
       "</div>"
      ],
      "text/plain": [
       "  key1 gender  v1 key2  sex   v2\n",
       "0    a      M   0    a    F  3.0\n",
       "1    b      M   1    b    M  6.0\n",
       "2    a      F   2    a    F  3.0\n",
       "3    a      F   3    a    F  3.0\n",
       "4    c      M   4  NaN  NaN  NaN\n",
       "5    b      M   5    b    M  6.0"
      ]
     },
     "execution_count": 148,
     "metadata": {},
     "output_type": "execute_result"
    }
   ],
   "source": [
    "pd.merge(df1,df2,left_on=\"key1\",right_on=\"key2\",how=\"left\")"
   ]
  },
  {
   "cell_type": "code",
   "execution_count": 209,
   "metadata": {},
   "outputs": [
    {
     "name": "stdout",
     "output_type": "stream",
     "text": [
      "  key1 gender  v1\n",
      "0    a      M   0\n",
      "1    b      M   1\n",
      "2    a      F   2\n",
      "3    a      F   3\n",
      "4    c      M   4\n",
      "5    b      M   5 \n",
      "\n",
      "     v1  v2\n",
      "a   99   3\n",
      "c  999   6\n",
      "b    9   4\n"
     ]
    }
   ],
   "source": [
    "df1=DataFrame({\"key1\":[\"a\",\"b\",\"a\",\"a\",\"c\",\"b\"],\"gender\":[\"M\",\"M\",\"F\",\"F\",\"M\",\"M\"], \"v1\":range(6)})\n",
    "df2=DataFrame({\"v1\":[99,999,9], \"v2\":[3,6,4]}, index=[\"a\",\"c\",\"b\"])\n",
    "print(df1,\"\\n\\n\",df2)\n"
   ]
  },
  {
   "cell_type": "code",
   "execution_count": 160,
   "metadata": {},
   "outputs": [
    {
     "data": {
      "text/html": [
       "<div>\n",
       "<style scoped>\n",
       "    .dataframe tbody tr th:only-of-type {\n",
       "        vertical-align: middle;\n",
       "    }\n",
       "\n",
       "    .dataframe tbody tr th {\n",
       "        vertical-align: top;\n",
       "    }\n",
       "\n",
       "    .dataframe thead th {\n",
       "        text-align: right;\n",
       "    }\n",
       "</style>\n",
       "<table border=\"1\" class=\"dataframe\">\n",
       "  <thead>\n",
       "    <tr style=\"text-align: right;\">\n",
       "      <th></th>\n",
       "      <th>key1</th>\n",
       "      <th>gender</th>\n",
       "      <th>v1_x</th>\n",
       "      <th>v1_y</th>\n",
       "      <th>v2</th>\n",
       "    </tr>\n",
       "  </thead>\n",
       "  <tbody>\n",
       "    <tr>\n",
       "      <th>0</th>\n",
       "      <td>a</td>\n",
       "      <td>M</td>\n",
       "      <td>0</td>\n",
       "      <td>99</td>\n",
       "      <td>3</td>\n",
       "    </tr>\n",
       "    <tr>\n",
       "      <th>2</th>\n",
       "      <td>a</td>\n",
       "      <td>F</td>\n",
       "      <td>2</td>\n",
       "      <td>99</td>\n",
       "      <td>3</td>\n",
       "    </tr>\n",
       "    <tr>\n",
       "      <th>3</th>\n",
       "      <td>a</td>\n",
       "      <td>F</td>\n",
       "      <td>3</td>\n",
       "      <td>99</td>\n",
       "      <td>3</td>\n",
       "    </tr>\n",
       "    <tr>\n",
       "      <th>1</th>\n",
       "      <td>b</td>\n",
       "      <td>M</td>\n",
       "      <td>1</td>\n",
       "      <td>9</td>\n",
       "      <td>4</td>\n",
       "    </tr>\n",
       "    <tr>\n",
       "      <th>5</th>\n",
       "      <td>b</td>\n",
       "      <td>M</td>\n",
       "      <td>5</td>\n",
       "      <td>9</td>\n",
       "      <td>4</td>\n",
       "    </tr>\n",
       "    <tr>\n",
       "      <th>4</th>\n",
       "      <td>c</td>\n",
       "      <td>M</td>\n",
       "      <td>4</td>\n",
       "      <td>999</td>\n",
       "      <td>6</td>\n",
       "    </tr>\n",
       "  </tbody>\n",
       "</table>\n",
       "</div>"
      ],
      "text/plain": [
       "  key1 gender  v1_x  v1_y  v2\n",
       "0    a      M     0    99   3\n",
       "2    a      F     2    99   3\n",
       "3    a      F     3    99   3\n",
       "1    b      M     1     9   4\n",
       "5    b      M     5     9   4\n",
       "4    c      M     4   999   6"
      ]
     },
     "execution_count": 160,
     "metadata": {},
     "output_type": "execute_result"
    }
   ],
   "source": [
    "pd.merge(df1,df2,left_on=[\"key1\"],right_index=True,how=\"outer\",sort=True)"
   ]
  },
  {
   "cell_type": "markdown",
   "metadata": {},
   "source": [
    "#### 위의 df1에 인덱스 넣어줌"
   ]
  },
  {
   "cell_type": "code",
   "execution_count": 161,
   "metadata": {},
   "outputs": [
    {
     "name": "stdout",
     "output_type": "stream",
     "text": [
      "  key1 gender  v1\n",
      "a    a      M   0\n",
      "b    b      M   1\n",
      "a    a      F   2\n",
      "a    a      F   3\n",
      "c    c      M   4\n",
      "b    b      M   5 \n",
      "\n",
      "     v1  v2\n",
      "a   99   3\n",
      "d  999   6\n",
      "b    9   4\n"
     ]
    }
   ],
   "source": [
    "df1=DataFrame({\"key1\":[\"a\",\"b\",\"a\",\"a\",\"c\",\"b\"],\"gender\":[\"M\",\"M\",\"F\",\"F\",\"M\",\"M\"],\"v1\":range(6)},index=[\"a\",\"b\",\"a\",\"a\",\"c\",\"b\"])\n",
    "df2=DataFrame({\"v1\":[99,999,9], \"v2\":[3,6,4]}, index=[\"a\",\"d\",\"b\"])\n",
    "print(df1,\"\\n\\n\",df2)"
   ]
  },
  {
   "cell_type": "code",
   "execution_count": 162,
   "metadata": {},
   "outputs": [
    {
     "data": {
      "text/html": [
       "<div>\n",
       "<style scoped>\n",
       "    .dataframe tbody tr th:only-of-type {\n",
       "        vertical-align: middle;\n",
       "    }\n",
       "\n",
       "    .dataframe tbody tr th {\n",
       "        vertical-align: top;\n",
       "    }\n",
       "\n",
       "    .dataframe thead th {\n",
       "        text-align: right;\n",
       "    }\n",
       "</style>\n",
       "<table border=\"1\" class=\"dataframe\">\n",
       "  <thead>\n",
       "    <tr style=\"text-align: right;\">\n",
       "      <th></th>\n",
       "      <th>key1</th>\n",
       "      <th>gender</th>\n",
       "      <th>v1_x</th>\n",
       "      <th>v1_y</th>\n",
       "      <th>v2</th>\n",
       "    </tr>\n",
       "  </thead>\n",
       "  <tbody>\n",
       "    <tr>\n",
       "      <th>a</th>\n",
       "      <td>a</td>\n",
       "      <td>M</td>\n",
       "      <td>0.0</td>\n",
       "      <td>99.0</td>\n",
       "      <td>3.0</td>\n",
       "    </tr>\n",
       "    <tr>\n",
       "      <th>a</th>\n",
       "      <td>a</td>\n",
       "      <td>F</td>\n",
       "      <td>2.0</td>\n",
       "      <td>99.0</td>\n",
       "      <td>3.0</td>\n",
       "    </tr>\n",
       "    <tr>\n",
       "      <th>a</th>\n",
       "      <td>a</td>\n",
       "      <td>F</td>\n",
       "      <td>3.0</td>\n",
       "      <td>99.0</td>\n",
       "      <td>3.0</td>\n",
       "    </tr>\n",
       "    <tr>\n",
       "      <th>b</th>\n",
       "      <td>b</td>\n",
       "      <td>M</td>\n",
       "      <td>1.0</td>\n",
       "      <td>9.0</td>\n",
       "      <td>4.0</td>\n",
       "    </tr>\n",
       "    <tr>\n",
       "      <th>b</th>\n",
       "      <td>b</td>\n",
       "      <td>M</td>\n",
       "      <td>5.0</td>\n",
       "      <td>9.0</td>\n",
       "      <td>4.0</td>\n",
       "    </tr>\n",
       "    <tr>\n",
       "      <th>c</th>\n",
       "      <td>c</td>\n",
       "      <td>M</td>\n",
       "      <td>4.0</td>\n",
       "      <td>NaN</td>\n",
       "      <td>NaN</td>\n",
       "    </tr>\n",
       "    <tr>\n",
       "      <th>b</th>\n",
       "      <td>d</td>\n",
       "      <td>NaN</td>\n",
       "      <td>NaN</td>\n",
       "      <td>999.0</td>\n",
       "      <td>6.0</td>\n",
       "    </tr>\n",
       "  </tbody>\n",
       "</table>\n",
       "</div>"
      ],
      "text/plain": [
       "  key1 gender  v1_x   v1_y   v2\n",
       "a    a      M   0.0   99.0  3.0\n",
       "a    a      F   2.0   99.0  3.0\n",
       "a    a      F   3.0   99.0  3.0\n",
       "b    b      M   1.0    9.0  4.0\n",
       "b    b      M   5.0    9.0  4.0\n",
       "c    c      M   4.0    NaN  NaN\n",
       "b    d    NaN   NaN  999.0  6.0"
      ]
     },
     "execution_count": 162,
     "metadata": {},
     "output_type": "execute_result"
    }
   ],
   "source": [
    "pd.merge(df1,df2,left_on=[\"key1\"],right_index=True,how=\"outer\",sort=True)"
   ]
  },
  {
   "cell_type": "markdown",
   "metadata": {},
   "source": [
    "### index를 이용한 결합은 join 메소드 사용으로도 가능"
   ]
  },
  {
   "cell_type": "code",
   "execution_count": 163,
   "metadata": {},
   "outputs": [
    {
     "data": {
      "text/html": [
       "<div>\n",
       "<style scoped>\n",
       "    .dataframe tbody tr th:only-of-type {\n",
       "        vertical-align: middle;\n",
       "    }\n",
       "\n",
       "    .dataframe tbody tr th {\n",
       "        vertical-align: top;\n",
       "    }\n",
       "\n",
       "    .dataframe thead th {\n",
       "        text-align: right;\n",
       "    }\n",
       "</style>\n",
       "<table border=\"1\" class=\"dataframe\">\n",
       "  <thead>\n",
       "    <tr style=\"text-align: right;\">\n",
       "      <th></th>\n",
       "      <th>key1</th>\n",
       "      <th>gender</th>\n",
       "      <th>v1_left</th>\n",
       "      <th>v1_right</th>\n",
       "      <th>v2</th>\n",
       "    </tr>\n",
       "  </thead>\n",
       "  <tbody>\n",
       "    <tr>\n",
       "      <th>a</th>\n",
       "      <td>a</td>\n",
       "      <td>M</td>\n",
       "      <td>0.0</td>\n",
       "      <td>99.0</td>\n",
       "      <td>3.0</td>\n",
       "    </tr>\n",
       "    <tr>\n",
       "      <th>a</th>\n",
       "      <td>a</td>\n",
       "      <td>F</td>\n",
       "      <td>2.0</td>\n",
       "      <td>99.0</td>\n",
       "      <td>3.0</td>\n",
       "    </tr>\n",
       "    <tr>\n",
       "      <th>a</th>\n",
       "      <td>a</td>\n",
       "      <td>F</td>\n",
       "      <td>3.0</td>\n",
       "      <td>99.0</td>\n",
       "      <td>3.0</td>\n",
       "    </tr>\n",
       "    <tr>\n",
       "      <th>b</th>\n",
       "      <td>b</td>\n",
       "      <td>M</td>\n",
       "      <td>1.0</td>\n",
       "      <td>9.0</td>\n",
       "      <td>4.0</td>\n",
       "    </tr>\n",
       "    <tr>\n",
       "      <th>b</th>\n",
       "      <td>b</td>\n",
       "      <td>M</td>\n",
       "      <td>5.0</td>\n",
       "      <td>9.0</td>\n",
       "      <td>4.0</td>\n",
       "    </tr>\n",
       "    <tr>\n",
       "      <th>c</th>\n",
       "      <td>c</td>\n",
       "      <td>M</td>\n",
       "      <td>4.0</td>\n",
       "      <td>NaN</td>\n",
       "      <td>NaN</td>\n",
       "    </tr>\n",
       "    <tr>\n",
       "      <th>d</th>\n",
       "      <td>NaN</td>\n",
       "      <td>NaN</td>\n",
       "      <td>NaN</td>\n",
       "      <td>999.0</td>\n",
       "      <td>6.0</td>\n",
       "    </tr>\n",
       "  </tbody>\n",
       "</table>\n",
       "</div>"
      ],
      "text/plain": [
       "  key1 gender  v1_left  v1_right   v2\n",
       "a    a      M      0.0      99.0  3.0\n",
       "a    a      F      2.0      99.0  3.0\n",
       "a    a      F      3.0      99.0  3.0\n",
       "b    b      M      1.0       9.0  4.0\n",
       "b    b      M      5.0       9.0  4.0\n",
       "c    c      M      4.0       NaN  NaN\n",
       "d  NaN    NaN      NaN     999.0  6.0"
      ]
     },
     "execution_count": 163,
     "metadata": {},
     "output_type": "execute_result"
    }
   ],
   "source": [
    "df1.join(df2,lsuffix='_left',rsuffix=\"_right\",how=\"outer\")"
   ]
  },
  {
   "cell_type": "markdown",
   "metadata": {},
   "source": [
    "### 축에 따라 데이터 붙이기: NumPy의 배열을 연결하는 concatenate 함수와 유사"
   ]
  },
  {
   "cell_type": "code",
   "execution_count": 165,
   "metadata": {},
   "outputs": [
    {
     "name": "stdout",
     "output_type": "stream",
     "text": [
      "[[ 0  1  2  3]\n",
      " [ 4  5  6  7]\n",
      " [ 8  9 10 11]] \n",
      "\n",
      " [[0 1 2 3]\n",
      " [4 5 6 7]]\n"
     ]
    }
   ],
   "source": [
    "arr1=np.arange(12).reshape(3,4)\n",
    "arr2=np.arange(8).reshape(2,4)\n",
    "print(arr1,\"\\n\\n\",arr2)"
   ]
  },
  {
   "cell_type": "markdown",
   "metadata": {},
   "source": [
    "#### 행 결합"
   ]
  },
  {
   "cell_type": "code",
   "execution_count": 169,
   "metadata": {},
   "outputs": [
    {
     "data": {
      "text/plain": [
       "array([[ 0,  1,  2,  3],\n",
       "       [ 4,  5,  6,  7],\n",
       "       [ 8,  9, 10, 11],\n",
       "       [ 0,  1,  2,  3],\n",
       "       [ 4,  5,  6,  7]])"
      ]
     },
     "execution_count": 169,
     "metadata": {},
     "output_type": "execute_result"
    }
   ],
   "source": [
    "np.concatenate([arr1,arr2],axis=0)"
   ]
  },
  {
   "cell_type": "markdown",
   "metadata": {},
   "source": [
    "### 시리즈 결합"
   ]
  },
  {
   "cell_type": "code",
   "execution_count": 168,
   "metadata": {},
   "outputs": [
    {
     "name": "stdout",
     "output_type": "stream",
     "text": [
      "a    0\n",
      "b    2\n",
      "c    3\n",
      "dtype: int64 \n",
      " a    2\n",
      "c    3\n",
      "d    4\n",
      "e    5\n",
      "dtype: int64 \n",
      " e    1\n",
      "f    3\n",
      "dtype: int64\n"
     ]
    }
   ],
   "source": [
    "s1=Series([0,2,3],index=[\"a\",\"b\",\"c\"])\n",
    "s2=Series([2,3,4,5],index=[\"a\",\"c\",\"d\",\"e\"])\n",
    "s3=Series([1,3],index=[\"e\",\"f\"])\n",
    "print(s1,\"\\n\",s2,\"\\n\",s3)"
   ]
  },
  {
   "cell_type": "markdown",
   "metadata": {},
   "source": [
    "#### 행 이어붙이기"
   ]
  },
  {
   "cell_type": "code",
   "execution_count": 171,
   "metadata": {},
   "outputs": [
    {
     "data": {
      "text/plain": [
       "a    0\n",
       "b    2\n",
       "c    3\n",
       "a    2\n",
       "c    3\n",
       "d    4\n",
       "e    5\n",
       "e    1\n",
       "f    3\n",
       "dtype: int64"
      ]
     },
     "execution_count": 171,
     "metadata": {},
     "output_type": "execute_result"
    }
   ],
   "source": [
    "pd.concat([s1,s2,s3])"
   ]
  },
  {
   "cell_type": "code",
   "execution_count": 175,
   "metadata": {},
   "outputs": [
    {
     "data": {
      "text/plain": [
       "a    0\n",
       "b    2\n",
       "c    3\n",
       "a    2\n",
       "c    3\n",
       "d    4\n",
       "e    5\n",
       "e    1\n",
       "f    3\n",
       "dtype: int64"
      ]
     },
     "execution_count": 175,
     "metadata": {},
     "output_type": "execute_result"
    }
   ],
   "source": [
    "pd.concat([s1,s2,s3],axis=0,sort=True)"
   ]
  },
  {
   "cell_type": "markdown",
   "metadata": {},
   "source": [
    "#### 열결합: 각각의 시리즈를 변수로 하는"
   ]
  },
  {
   "cell_type": "code",
   "execution_count": 174,
   "metadata": {
    "scrolled": true
   },
   "outputs": [
    {
     "data": {
      "text/html": [
       "<div>\n",
       "<style scoped>\n",
       "    .dataframe tbody tr th:only-of-type {\n",
       "        vertical-align: middle;\n",
       "    }\n",
       "\n",
       "    .dataframe tbody tr th {\n",
       "        vertical-align: top;\n",
       "    }\n",
       "\n",
       "    .dataframe thead th {\n",
       "        text-align: right;\n",
       "    }\n",
       "</style>\n",
       "<table border=\"1\" class=\"dataframe\">\n",
       "  <thead>\n",
       "    <tr style=\"text-align: right;\">\n",
       "      <th></th>\n",
       "      <th>0</th>\n",
       "      <th>1</th>\n",
       "      <th>2</th>\n",
       "    </tr>\n",
       "  </thead>\n",
       "  <tbody>\n",
       "    <tr>\n",
       "      <th>a</th>\n",
       "      <td>0.0</td>\n",
       "      <td>2.0</td>\n",
       "      <td>NaN</td>\n",
       "    </tr>\n",
       "    <tr>\n",
       "      <th>b</th>\n",
       "      <td>2.0</td>\n",
       "      <td>NaN</td>\n",
       "      <td>NaN</td>\n",
       "    </tr>\n",
       "    <tr>\n",
       "      <th>c</th>\n",
       "      <td>3.0</td>\n",
       "      <td>3.0</td>\n",
       "      <td>NaN</td>\n",
       "    </tr>\n",
       "    <tr>\n",
       "      <th>d</th>\n",
       "      <td>NaN</td>\n",
       "      <td>4.0</td>\n",
       "      <td>NaN</td>\n",
       "    </tr>\n",
       "    <tr>\n",
       "      <th>e</th>\n",
       "      <td>NaN</td>\n",
       "      <td>5.0</td>\n",
       "      <td>1.0</td>\n",
       "    </tr>\n",
       "    <tr>\n",
       "      <th>f</th>\n",
       "      <td>NaN</td>\n",
       "      <td>NaN</td>\n",
       "      <td>3.0</td>\n",
       "    </tr>\n",
       "  </tbody>\n",
       "</table>\n",
       "</div>"
      ],
      "text/plain": [
       "     0    1    2\n",
       "a  0.0  2.0  NaN\n",
       "b  2.0  NaN  NaN\n",
       "c  3.0  3.0  NaN\n",
       "d  NaN  4.0  NaN\n",
       "e  NaN  5.0  1.0\n",
       "f  NaN  NaN  3.0"
      ]
     },
     "execution_count": 174,
     "metadata": {},
     "output_type": "execute_result"
    }
   ],
   "source": [
    "pd.concat([s1,s2,s3],axis=1,sort=True)"
   ]
  },
  {
   "cell_type": "markdown",
   "metadata": {},
   "source": [
    "#### 결합 조건에 따른 열 결합"
   ]
  },
  {
   "cell_type": "code",
   "execution_count": 176,
   "metadata": {},
   "outputs": [
    {
     "data": {
      "text/html": [
       "<div>\n",
       "<style scoped>\n",
       "    .dataframe tbody tr th:only-of-type {\n",
       "        vertical-align: middle;\n",
       "    }\n",
       "\n",
       "    .dataframe tbody tr th {\n",
       "        vertical-align: top;\n",
       "    }\n",
       "\n",
       "    .dataframe thead th {\n",
       "        text-align: right;\n",
       "    }\n",
       "</style>\n",
       "<table border=\"1\" class=\"dataframe\">\n",
       "  <thead>\n",
       "    <tr style=\"text-align: right;\">\n",
       "      <th></th>\n",
       "      <th>0</th>\n",
       "      <th>1</th>\n",
       "    </tr>\n",
       "  </thead>\n",
       "  <tbody>\n",
       "    <tr>\n",
       "      <th>a</th>\n",
       "      <td>0.0</td>\n",
       "      <td>2.0</td>\n",
       "    </tr>\n",
       "    <tr>\n",
       "      <th>b</th>\n",
       "      <td>2.0</td>\n",
       "      <td>NaN</td>\n",
       "    </tr>\n",
       "    <tr>\n",
       "      <th>c</th>\n",
       "      <td>3.0</td>\n",
       "      <td>3.0</td>\n",
       "    </tr>\n",
       "    <tr>\n",
       "      <th>d</th>\n",
       "      <td>NaN</td>\n",
       "      <td>4.0</td>\n",
       "    </tr>\n",
       "    <tr>\n",
       "      <th>e</th>\n",
       "      <td>NaN</td>\n",
       "      <td>5.0</td>\n",
       "    </tr>\n",
       "  </tbody>\n",
       "</table>\n",
       "</div>"
      ],
      "text/plain": [
       "     0    1\n",
       "a  0.0  2.0\n",
       "b  2.0  NaN\n",
       "c  3.0  3.0\n",
       "d  NaN  4.0\n",
       "e  NaN  5.0"
      ]
     },
     "execution_count": 176,
     "metadata": {},
     "output_type": "execute_result"
    }
   ],
   "source": [
    "pd.concat([s1,s2],axis=1,join=\"outer\",sort=True)"
   ]
  },
  {
   "cell_type": "code",
   "execution_count": 177,
   "metadata": {
    "scrolled": true
   },
   "outputs": [
    {
     "data": {
      "text/html": [
       "<div>\n",
       "<style scoped>\n",
       "    .dataframe tbody tr th:only-of-type {\n",
       "        vertical-align: middle;\n",
       "    }\n",
       "\n",
       "    .dataframe tbody tr th {\n",
       "        vertical-align: top;\n",
       "    }\n",
       "\n",
       "    .dataframe thead th {\n",
       "        text-align: right;\n",
       "    }\n",
       "</style>\n",
       "<table border=\"1\" class=\"dataframe\">\n",
       "  <thead>\n",
       "    <tr style=\"text-align: right;\">\n",
       "      <th></th>\n",
       "      <th>0</th>\n",
       "      <th>1</th>\n",
       "    </tr>\n",
       "  </thead>\n",
       "  <tbody>\n",
       "    <tr>\n",
       "      <th>a</th>\n",
       "      <td>0</td>\n",
       "      <td>2</td>\n",
       "    </tr>\n",
       "    <tr>\n",
       "      <th>c</th>\n",
       "      <td>3</td>\n",
       "      <td>3</td>\n",
       "    </tr>\n",
       "  </tbody>\n",
       "</table>\n",
       "</div>"
      ],
      "text/plain": [
       "   0  1\n",
       "a  0  2\n",
       "c  3  3"
      ]
     },
     "execution_count": 177,
     "metadata": {},
     "output_type": "execute_result"
    }
   ],
   "source": [
    "pd.concat([s1,s2],axis=1,join=\"inner\",sort=True)"
   ]
  },
  {
   "cell_type": "markdown",
   "metadata": {},
   "source": [
    "#### 열 결합시 join할 행 선택: join_axes 활용"
   ]
  },
  {
   "cell_type": "code",
   "execution_count": 179,
   "metadata": {},
   "outputs": [
    {
     "data": {
      "text/html": [
       "<div>\n",
       "<style scoped>\n",
       "    .dataframe tbody tr th:only-of-type {\n",
       "        vertical-align: middle;\n",
       "    }\n",
       "\n",
       "    .dataframe tbody tr th {\n",
       "        vertical-align: top;\n",
       "    }\n",
       "\n",
       "    .dataframe thead th {\n",
       "        text-align: right;\n",
       "    }\n",
       "</style>\n",
       "<table border=\"1\" class=\"dataframe\">\n",
       "  <thead>\n",
       "    <tr style=\"text-align: right;\">\n",
       "      <th></th>\n",
       "      <th>0</th>\n",
       "      <th>1</th>\n",
       "      <th>2</th>\n",
       "    </tr>\n",
       "  </thead>\n",
       "  <tbody>\n",
       "    <tr>\n",
       "      <th>a</th>\n",
       "      <td>0.0</td>\n",
       "      <td>2</td>\n",
       "      <td>NaN</td>\n",
       "    </tr>\n",
       "    <tr>\n",
       "      <th>e</th>\n",
       "      <td>NaN</td>\n",
       "      <td>5</td>\n",
       "      <td>1.0</td>\n",
       "    </tr>\n",
       "  </tbody>\n",
       "</table>\n",
       "</div>"
      ],
      "text/plain": [
       "     0  1    2\n",
       "a  0.0  2  NaN\n",
       "e  NaN  5  1.0"
      ]
     },
     "execution_count": 179,
     "metadata": {},
     "output_type": "execute_result"
    }
   ],
   "source": [
    "pd.concat([s1,s2,s3],axis=1,join=\"outer\",sort=True,join_axes=[[\"a\",\"e\"]])"
   ]
  },
  {
   "cell_type": "markdown",
   "metadata": {},
   "source": [
    "#### 행 결합(이어 연결하기)에서 계층 색인 생성: S1,S2,S3를 각각 계층으로 결합"
   ]
  },
  {
   "cell_type": "code",
   "execution_count": 180,
   "metadata": {},
   "outputs": [
    {
     "data": {
      "text/plain": [
       "AA  a    0\n",
       "    b    2\n",
       "    c    3\n",
       "BB  a    2\n",
       "    c    3\n",
       "    d    4\n",
       "    e    5\n",
       "CC  e    1\n",
       "    f    3\n",
       "dtype: int64"
      ]
     },
     "execution_count": 180,
     "metadata": {},
     "output_type": "execute_result"
    }
   ],
   "source": [
    "pd.concat([s1,s2,s3],axis=0,keys=[\"AA\",\"BB\",\"CC\"])"
   ]
  },
  {
   "cell_type": "markdown",
   "metadata": {},
   "source": [
    "#### 이열 결합(merge)에서 열 색인 생성 (join 지정 안해주면 무조건 outer: 하나라도 있을 시 들어감)"
   ]
  },
  {
   "cell_type": "code",
   "execution_count": 181,
   "metadata": {},
   "outputs": [
    {
     "data": {
      "text/html": [
       "<div>\n",
       "<style scoped>\n",
       "    .dataframe tbody tr th:only-of-type {\n",
       "        vertical-align: middle;\n",
       "    }\n",
       "\n",
       "    .dataframe tbody tr th {\n",
       "        vertical-align: top;\n",
       "    }\n",
       "\n",
       "    .dataframe thead th {\n",
       "        text-align: right;\n",
       "    }\n",
       "</style>\n",
       "<table border=\"1\" class=\"dataframe\">\n",
       "  <thead>\n",
       "    <tr style=\"text-align: right;\">\n",
       "      <th></th>\n",
       "      <th>AA</th>\n",
       "      <th>BB</th>\n",
       "      <th>CC</th>\n",
       "    </tr>\n",
       "  </thead>\n",
       "  <tbody>\n",
       "    <tr>\n",
       "      <th>a</th>\n",
       "      <td>0.0</td>\n",
       "      <td>2.0</td>\n",
       "      <td>NaN</td>\n",
       "    </tr>\n",
       "    <tr>\n",
       "      <th>b</th>\n",
       "      <td>2.0</td>\n",
       "      <td>NaN</td>\n",
       "      <td>NaN</td>\n",
       "    </tr>\n",
       "    <tr>\n",
       "      <th>c</th>\n",
       "      <td>3.0</td>\n",
       "      <td>3.0</td>\n",
       "      <td>NaN</td>\n",
       "    </tr>\n",
       "    <tr>\n",
       "      <th>d</th>\n",
       "      <td>NaN</td>\n",
       "      <td>4.0</td>\n",
       "      <td>NaN</td>\n",
       "    </tr>\n",
       "    <tr>\n",
       "      <th>e</th>\n",
       "      <td>NaN</td>\n",
       "      <td>5.0</td>\n",
       "      <td>1.0</td>\n",
       "    </tr>\n",
       "    <tr>\n",
       "      <th>f</th>\n",
       "      <td>NaN</td>\n",
       "      <td>NaN</td>\n",
       "      <td>3.0</td>\n",
       "    </tr>\n",
       "  </tbody>\n",
       "</table>\n",
       "</div>"
      ],
      "text/plain": [
       "    AA   BB   CC\n",
       "a  0.0  2.0  NaN\n",
       "b  2.0  NaN  NaN\n",
       "c  3.0  3.0  NaN\n",
       "d  NaN  4.0  NaN\n",
       "e  NaN  5.0  1.0\n",
       "f  NaN  NaN  3.0"
      ]
     },
     "execution_count": 181,
     "metadata": {},
     "output_type": "execute_result"
    }
   ],
   "source": [
    "pd.concat([s1,s2,s3],axis=1,keys=[\"AA\",\"BB\",\"CC\"],sort=True)"
   ]
  },
  {
   "cell_type": "markdown",
   "metadata": {},
   "source": [
    "#### DataFrame 결합"
   ]
  },
  {
   "cell_type": "code",
   "execution_count": 184,
   "metadata": {},
   "outputs": [
    {
     "name": "stdout",
     "output_type": "stream",
     "text": [
      "   v1  v2  v3  v4\n",
      "a   0   1   2   3\n",
      "b   4   5   6   7\n",
      "c   8   9  10  11 \n",
      "\n",
      "    x1  x2  x3  x4\n",
      "b   0   1   2   3\n",
      "d   4   5   6   7\n"
     ]
    }
   ],
   "source": [
    "df1=DataFrame(np.arange(12).reshape(3,4),index=[\"a\",\"b\",\"c\"],columns=[\"v1\",\"v2\",\"v3\",\"v4\"])\n",
    "df2=DataFrame(np.arange(8).reshape(2,4),index=[\"b\",\"d\"], columns=[\"x1\",\"x2\",\"x3\",\"x4\"])\n",
    "print(df1,\"\\n\\n\",df2)"
   ]
  },
  {
   "cell_type": "code",
   "execution_count": 185,
   "metadata": {},
   "outputs": [
    {
     "data": {
      "text/html": [
       "<div>\n",
       "<style scoped>\n",
       "    .dataframe tbody tr th:only-of-type {\n",
       "        vertical-align: middle;\n",
       "    }\n",
       "\n",
       "    .dataframe tbody tr th {\n",
       "        vertical-align: top;\n",
       "    }\n",
       "\n",
       "    .dataframe thead th {\n",
       "        text-align: right;\n",
       "    }\n",
       "</style>\n",
       "<table border=\"1\" class=\"dataframe\">\n",
       "  <thead>\n",
       "    <tr style=\"text-align: right;\">\n",
       "      <th></th>\n",
       "      <th>v1</th>\n",
       "      <th>v2</th>\n",
       "      <th>v3</th>\n",
       "      <th>v4</th>\n",
       "      <th>x1</th>\n",
       "      <th>x2</th>\n",
       "      <th>x3</th>\n",
       "      <th>x4</th>\n",
       "    </tr>\n",
       "  </thead>\n",
       "  <tbody>\n",
       "    <tr>\n",
       "      <th>a</th>\n",
       "      <td>0.0</td>\n",
       "      <td>1.0</td>\n",
       "      <td>2.0</td>\n",
       "      <td>3.0</td>\n",
       "      <td>NaN</td>\n",
       "      <td>NaN</td>\n",
       "      <td>NaN</td>\n",
       "      <td>NaN</td>\n",
       "    </tr>\n",
       "    <tr>\n",
       "      <th>b</th>\n",
       "      <td>4.0</td>\n",
       "      <td>5.0</td>\n",
       "      <td>6.0</td>\n",
       "      <td>7.0</td>\n",
       "      <td>NaN</td>\n",
       "      <td>NaN</td>\n",
       "      <td>NaN</td>\n",
       "      <td>NaN</td>\n",
       "    </tr>\n",
       "    <tr>\n",
       "      <th>c</th>\n",
       "      <td>8.0</td>\n",
       "      <td>9.0</td>\n",
       "      <td>10.0</td>\n",
       "      <td>11.0</td>\n",
       "      <td>NaN</td>\n",
       "      <td>NaN</td>\n",
       "      <td>NaN</td>\n",
       "      <td>NaN</td>\n",
       "    </tr>\n",
       "    <tr>\n",
       "      <th>b</th>\n",
       "      <td>NaN</td>\n",
       "      <td>NaN</td>\n",
       "      <td>NaN</td>\n",
       "      <td>NaN</td>\n",
       "      <td>0.0</td>\n",
       "      <td>1.0</td>\n",
       "      <td>2.0</td>\n",
       "      <td>3.0</td>\n",
       "    </tr>\n",
       "    <tr>\n",
       "      <th>d</th>\n",
       "      <td>NaN</td>\n",
       "      <td>NaN</td>\n",
       "      <td>NaN</td>\n",
       "      <td>NaN</td>\n",
       "      <td>4.0</td>\n",
       "      <td>5.0</td>\n",
       "      <td>6.0</td>\n",
       "      <td>7.0</td>\n",
       "    </tr>\n",
       "  </tbody>\n",
       "</table>\n",
       "</div>"
      ],
      "text/plain": [
       "    v1   v2    v3    v4   x1   x2   x3   x4\n",
       "a  0.0  1.0   2.0   3.0  NaN  NaN  NaN  NaN\n",
       "b  4.0  5.0   6.0   7.0  NaN  NaN  NaN  NaN\n",
       "c  8.0  9.0  10.0  11.0  NaN  NaN  NaN  NaN\n",
       "b  NaN  NaN   NaN   NaN  0.0  1.0  2.0  3.0\n",
       "d  NaN  NaN   NaN   NaN  4.0  5.0  6.0  7.0"
      ]
     },
     "execution_count": 185,
     "metadata": {},
     "output_type": "execute_result"
    }
   ],
   "source": [
    "pd.concat([df1,df2],axis=0,sort=True)"
   ]
  },
  {
   "cell_type": "markdown",
   "metadata": {},
   "source": [
    "#### 기존의 index를 무시하고, range 범위로 새로 인덱싱하기: ignore_index=True"
   ]
  },
  {
   "cell_type": "code",
   "execution_count": 187,
   "metadata": {},
   "outputs": [
    {
     "data": {
      "text/html": [
       "<div>\n",
       "<style scoped>\n",
       "    .dataframe tbody tr th:only-of-type {\n",
       "        vertical-align: middle;\n",
       "    }\n",
       "\n",
       "    .dataframe tbody tr th {\n",
       "        vertical-align: top;\n",
       "    }\n",
       "\n",
       "    .dataframe thead th {\n",
       "        text-align: right;\n",
       "    }\n",
       "</style>\n",
       "<table border=\"1\" class=\"dataframe\">\n",
       "  <thead>\n",
       "    <tr style=\"text-align: right;\">\n",
       "      <th></th>\n",
       "      <th>0</th>\n",
       "      <th>1</th>\n",
       "      <th>2</th>\n",
       "      <th>3</th>\n",
       "      <th>4</th>\n",
       "      <th>5</th>\n",
       "      <th>6</th>\n",
       "      <th>7</th>\n",
       "    </tr>\n",
       "  </thead>\n",
       "  <tbody>\n",
       "    <tr>\n",
       "      <th>a</th>\n",
       "      <td>0.0</td>\n",
       "      <td>1.0</td>\n",
       "      <td>2.0</td>\n",
       "      <td>3.0</td>\n",
       "      <td>NaN</td>\n",
       "      <td>NaN</td>\n",
       "      <td>NaN</td>\n",
       "      <td>NaN</td>\n",
       "    </tr>\n",
       "    <tr>\n",
       "      <th>b</th>\n",
       "      <td>4.0</td>\n",
       "      <td>5.0</td>\n",
       "      <td>6.0</td>\n",
       "      <td>7.0</td>\n",
       "      <td>0.0</td>\n",
       "      <td>1.0</td>\n",
       "      <td>2.0</td>\n",
       "      <td>3.0</td>\n",
       "    </tr>\n",
       "    <tr>\n",
       "      <th>c</th>\n",
       "      <td>8.0</td>\n",
       "      <td>9.0</td>\n",
       "      <td>10.0</td>\n",
       "      <td>11.0</td>\n",
       "      <td>NaN</td>\n",
       "      <td>NaN</td>\n",
       "      <td>NaN</td>\n",
       "      <td>NaN</td>\n",
       "    </tr>\n",
       "    <tr>\n",
       "      <th>d</th>\n",
       "      <td>NaN</td>\n",
       "      <td>NaN</td>\n",
       "      <td>NaN</td>\n",
       "      <td>NaN</td>\n",
       "      <td>4.0</td>\n",
       "      <td>5.0</td>\n",
       "      <td>6.0</td>\n",
       "      <td>7.0</td>\n",
       "    </tr>\n",
       "  </tbody>\n",
       "</table>\n",
       "</div>"
      ],
      "text/plain": [
       "     0    1     2     3    4    5    6    7\n",
       "a  0.0  1.0   2.0   3.0  NaN  NaN  NaN  NaN\n",
       "b  4.0  5.0   6.0   7.0  0.0  1.0  2.0  3.0\n",
       "c  8.0  9.0  10.0  11.0  NaN  NaN  NaN  NaN\n",
       "d  NaN  NaN   NaN   NaN  4.0  5.0  6.0  7.0"
      ]
     },
     "execution_count": 187,
     "metadata": {},
     "output_type": "execute_result"
    }
   ],
   "source": [
    "pd.concat([df1,df2],axis=1,sort=True, ignore_index=True)"
   ]
  },
  {
   "cell_type": "code",
   "execution_count": 189,
   "metadata": {},
   "outputs": [
    {
     "data": {
      "text/html": [
       "<div>\n",
       "<style scoped>\n",
       "    .dataframe tbody tr th:only-of-type {\n",
       "        vertical-align: middle;\n",
       "    }\n",
       "\n",
       "    .dataframe tbody tr th {\n",
       "        vertical-align: top;\n",
       "    }\n",
       "\n",
       "    .dataframe thead tr th {\n",
       "        text-align: left;\n",
       "    }\n",
       "</style>\n",
       "<table border=\"1\" class=\"dataframe\">\n",
       "  <thead>\n",
       "    <tr>\n",
       "      <th></th>\n",
       "      <th colspan=\"4\" halign=\"left\">Df1</th>\n",
       "      <th colspan=\"4\" halign=\"left\">Df2</th>\n",
       "    </tr>\n",
       "    <tr>\n",
       "      <th></th>\n",
       "      <th>v1</th>\n",
       "      <th>v2</th>\n",
       "      <th>v3</th>\n",
       "      <th>v4</th>\n",
       "      <th>x1</th>\n",
       "      <th>x2</th>\n",
       "      <th>x3</th>\n",
       "      <th>x4</th>\n",
       "    </tr>\n",
       "  </thead>\n",
       "  <tbody>\n",
       "    <tr>\n",
       "      <th>a</th>\n",
       "      <td>0.0</td>\n",
       "      <td>1.0</td>\n",
       "      <td>2.0</td>\n",
       "      <td>3.0</td>\n",
       "      <td>NaN</td>\n",
       "      <td>NaN</td>\n",
       "      <td>NaN</td>\n",
       "      <td>NaN</td>\n",
       "    </tr>\n",
       "    <tr>\n",
       "      <th>b</th>\n",
       "      <td>4.0</td>\n",
       "      <td>5.0</td>\n",
       "      <td>6.0</td>\n",
       "      <td>7.0</td>\n",
       "      <td>0.0</td>\n",
       "      <td>1.0</td>\n",
       "      <td>2.0</td>\n",
       "      <td>3.0</td>\n",
       "    </tr>\n",
       "    <tr>\n",
       "      <th>c</th>\n",
       "      <td>8.0</td>\n",
       "      <td>9.0</td>\n",
       "      <td>10.0</td>\n",
       "      <td>11.0</td>\n",
       "      <td>NaN</td>\n",
       "      <td>NaN</td>\n",
       "      <td>NaN</td>\n",
       "      <td>NaN</td>\n",
       "    </tr>\n",
       "    <tr>\n",
       "      <th>d</th>\n",
       "      <td>NaN</td>\n",
       "      <td>NaN</td>\n",
       "      <td>NaN</td>\n",
       "      <td>NaN</td>\n",
       "      <td>4.0</td>\n",
       "      <td>5.0</td>\n",
       "      <td>6.0</td>\n",
       "      <td>7.0</td>\n",
       "    </tr>\n",
       "  </tbody>\n",
       "</table>\n",
       "</div>"
      ],
      "text/plain": [
       "   Df1                   Df2               \n",
       "    v1   v2    v3    v4   x1   x2   x3   x4\n",
       "a  0.0  1.0   2.0   3.0  NaN  NaN  NaN  NaN\n",
       "b  4.0  5.0   6.0   7.0  0.0  1.0  2.0  3.0\n",
       "c  8.0  9.0  10.0  11.0  NaN  NaN  NaN  NaN\n",
       "d  NaN  NaN   NaN   NaN  4.0  5.0  6.0  7.0"
      ]
     },
     "execution_count": 189,
     "metadata": {},
     "output_type": "execute_result"
    }
   ],
   "source": [
    "pd.concat([df1,df2],axis=1,sort=True, keys=[\"Df1\",\"Df2\"]) # 계층"
   ]
  },
  {
   "cell_type": "markdown",
   "metadata": {},
   "source": [
    "### 중복 제거: duplicated"
   ]
  },
  {
   "cell_type": "code",
   "execution_count": 219,
   "metadata": {},
   "outputs": [
    {
     "data": {
      "text/html": [
       "<div>\n",
       "<style scoped>\n",
       "    .dataframe tbody tr th:only-of-type {\n",
       "        vertical-align: middle;\n",
       "    }\n",
       "\n",
       "    .dataframe tbody tr th {\n",
       "        vertical-align: top;\n",
       "    }\n",
       "\n",
       "    .dataframe thead th {\n",
       "        text-align: right;\n",
       "    }\n",
       "</style>\n",
       "<table border=\"1\" class=\"dataframe\">\n",
       "  <thead>\n",
       "    <tr style=\"text-align: right;\">\n",
       "      <th></th>\n",
       "      <th>name</th>\n",
       "      <th>score</th>\n",
       "    </tr>\n",
       "  </thead>\n",
       "  <tbody>\n",
       "    <tr>\n",
       "      <th>0</th>\n",
       "      <td>kim</td>\n",
       "      <td>1</td>\n",
       "    </tr>\n",
       "    <tr>\n",
       "      <th>1</th>\n",
       "      <td>kim</td>\n",
       "      <td>2</td>\n",
       "    </tr>\n",
       "    <tr>\n",
       "      <th>2</th>\n",
       "      <td>lee</td>\n",
       "      <td>2</td>\n",
       "    </tr>\n",
       "    <tr>\n",
       "      <th>3</th>\n",
       "      <td>lee</td>\n",
       "      <td>2</td>\n",
       "    </tr>\n",
       "    <tr>\n",
       "      <th>4</th>\n",
       "      <td>lee</td>\n",
       "      <td>3</td>\n",
       "    </tr>\n",
       "    <tr>\n",
       "      <th>5</th>\n",
       "      <td>kim</td>\n",
       "      <td>1</td>\n",
       "    </tr>\n",
       "  </tbody>\n",
       "</table>\n",
       "</div>"
      ],
      "text/plain": [
       "  name  score\n",
       "0  kim      1\n",
       "1  kim      2\n",
       "2  lee      2\n",
       "3  lee      2\n",
       "4  lee      3\n",
       "5  kim      1"
      ]
     },
     "execution_count": 219,
     "metadata": {},
     "output_type": "execute_result"
    }
   ],
   "source": [
    "df=DataFrame({\"name\":[\"kim\",\"kim\",\"lee\",\"lee\",\"lee\",\"kim\"],\n",
    "              \"score\":[1,2,2,2,3,1]})\n",
    "df"
   ]
  },
  {
   "cell_type": "code",
   "execution_count": 220,
   "metadata": {
    "scrolled": true
   },
   "outputs": [
    {
     "data": {
      "text/plain": [
       "0    False\n",
       "1     True\n",
       "2    False\n",
       "3     True\n",
       "4     True\n",
       "5     True\n",
       "dtype: bool"
      ]
     },
     "execution_count": 220,
     "metadata": {},
     "output_type": "execute_result"
    }
   ],
   "source": [
    "df.duplicated(subset=\"name\")"
   ]
  },
  {
   "cell_type": "markdown",
   "metadata": {},
   "source": [
    "## 함수나 매핑 이용해 데이터 변형"
   ]
  },
  {
   "cell_type": "code",
   "execution_count": 210,
   "metadata": {},
   "outputs": [
    {
     "data": {
      "text/html": [
       "<div>\n",
       "<style scoped>\n",
       "    .dataframe tbody tr th:only-of-type {\n",
       "        vertical-align: middle;\n",
       "    }\n",
       "\n",
       "    .dataframe tbody tr th {\n",
       "        vertical-align: top;\n",
       "    }\n",
       "\n",
       "    .dataframe thead th {\n",
       "        text-align: right;\n",
       "    }\n",
       "</style>\n",
       "<table border=\"1\" class=\"dataframe\">\n",
       "  <thead>\n",
       "    <tr style=\"text-align: right;\">\n",
       "      <th></th>\n",
       "      <th>name</th>\n",
       "      <th>sex</th>\n",
       "      <th>home</th>\n",
       "      <th>income</th>\n",
       "    </tr>\n",
       "  </thead>\n",
       "  <tbody>\n",
       "    <tr>\n",
       "      <th>0</th>\n",
       "      <td>kim</td>\n",
       "      <td>1</td>\n",
       "      <td>마포</td>\n",
       "      <td>250</td>\n",
       "    </tr>\n",
       "    <tr>\n",
       "      <th>1</th>\n",
       "      <td>lee</td>\n",
       "      <td>2</td>\n",
       "      <td>수지</td>\n",
       "      <td>195</td>\n",
       "    </tr>\n",
       "    <tr>\n",
       "      <th>2</th>\n",
       "      <td>bae</td>\n",
       "      <td>2</td>\n",
       "      <td>처인</td>\n",
       "      <td>325</td>\n",
       "    </tr>\n",
       "    <tr>\n",
       "      <th>3</th>\n",
       "      <td>cho</td>\n",
       "      <td>1</td>\n",
       "      <td>용산</td>\n",
       "      <td>210</td>\n",
       "    </tr>\n",
       "    <tr>\n",
       "      <th>4</th>\n",
       "      <td>kang</td>\n",
       "      <td>1</td>\n",
       "      <td>종로</td>\n",
       "      <td>274</td>\n",
       "    </tr>\n",
       "  </tbody>\n",
       "</table>\n",
       "</div>"
      ],
      "text/plain": [
       "   name  sex home  income\n",
       "0   kim    1   마포     250\n",
       "1   lee    2   수지     195\n",
       "2   bae    2   처인     325\n",
       "3   cho    1   용산     210\n",
       "4  kang    1   종로     274"
      ]
     },
     "execution_count": 210,
     "metadata": {},
     "output_type": "execute_result"
    }
   ],
   "source": [
    "import numpy\n",
    "\n",
    "df=DataFrame({\"name\":[\"kim\",\"lee\",\"bae\",\"cho\",\"kang\"],\"sex\":[1,2,2,1,1],\n",
    "              \"home\":[\"마포\",\"수지\",\"처인\",\"용산\",\"종로\"],\"income\":[250,195,325,210,274]})\n",
    "num_to_str={1:\"남\",2:\"여\"}\n",
    "to_city={\"마포\":\"서울\",\"용산\":\"서울\",\"종로\":\"서울\",\"수지\":\"용인\",\"처인\":\"용인\"}\n",
    "df"
   ]
  },
  {
   "cell_type": "code",
   "execution_count": 211,
   "metadata": {},
   "outputs": [
    {
     "data": {
      "text/html": [
       "<div>\n",
       "<style scoped>\n",
       "    .dataframe tbody tr th:only-of-type {\n",
       "        vertical-align: middle;\n",
       "    }\n",
       "\n",
       "    .dataframe tbody tr th {\n",
       "        vertical-align: top;\n",
       "    }\n",
       "\n",
       "    .dataframe thead th {\n",
       "        text-align: right;\n",
       "    }\n",
       "</style>\n",
       "<table border=\"1\" class=\"dataframe\">\n",
       "  <thead>\n",
       "    <tr style=\"text-align: right;\">\n",
       "      <th></th>\n",
       "      <th>name</th>\n",
       "      <th>sex</th>\n",
       "      <th>home</th>\n",
       "      <th>income</th>\n",
       "      <th>gender</th>\n",
       "      <th>city</th>\n",
       "      <th>remium</th>\n",
       "    </tr>\n",
       "  </thead>\n",
       "  <tbody>\n",
       "    <tr>\n",
       "      <th>0</th>\n",
       "      <td>kim</td>\n",
       "      <td>1</td>\n",
       "      <td>마포</td>\n",
       "      <td>250</td>\n",
       "      <td>남</td>\n",
       "      <td>서울</td>\n",
       "      <td>3.750</td>\n",
       "    </tr>\n",
       "    <tr>\n",
       "      <th>1</th>\n",
       "      <td>lee</td>\n",
       "      <td>2</td>\n",
       "      <td>수지</td>\n",
       "      <td>195</td>\n",
       "      <td>여</td>\n",
       "      <td>용인</td>\n",
       "      <td>2.925</td>\n",
       "    </tr>\n",
       "    <tr>\n",
       "      <th>2</th>\n",
       "      <td>bae</td>\n",
       "      <td>2</td>\n",
       "      <td>처인</td>\n",
       "      <td>325</td>\n",
       "      <td>여</td>\n",
       "      <td>용인</td>\n",
       "      <td>4.875</td>\n",
       "    </tr>\n",
       "    <tr>\n",
       "      <th>3</th>\n",
       "      <td>cho</td>\n",
       "      <td>1</td>\n",
       "      <td>용산</td>\n",
       "      <td>210</td>\n",
       "      <td>남</td>\n",
       "      <td>서울</td>\n",
       "      <td>3.150</td>\n",
       "    </tr>\n",
       "    <tr>\n",
       "      <th>4</th>\n",
       "      <td>kang</td>\n",
       "      <td>1</td>\n",
       "      <td>종로</td>\n",
       "      <td>274</td>\n",
       "      <td>남</td>\n",
       "      <td>서울</td>\n",
       "      <td>4.110</td>\n",
       "    </tr>\n",
       "  </tbody>\n",
       "</table>\n",
       "</div>"
      ],
      "text/plain": [
       "   name  sex home  income gender city  remium\n",
       "0   kim    1   마포     250      남   서울   3.750\n",
       "1   lee    2   수지     195      여   용인   2.925\n",
       "2   bae    2   처인     325      여   용인   4.875\n",
       "3   cho    1   용산     210      남   서울   3.150\n",
       "4  kang    1   종로     274      남   서울   4.110"
      ]
     },
     "execution_count": 211,
     "metadata": {},
     "output_type": "execute_result"
    }
   ],
   "source": [
    "def f(x):\n",
    "    return x*0.015\n",
    "df[\"gender\"]=df[\"sex\"].map(num_to_str)\n",
    "df[\"city\"]=df[\"home\"].map(to_city)\n",
    "df[\"remium\"]=df[\"income\"].map(f)\n",
    "df"
   ]
  },
  {
   "cell_type": "markdown",
   "metadata": {},
   "source": [
    "### 값  치환하기"
   ]
  },
  {
   "cell_type": "code",
   "execution_count": 223,
   "metadata": {},
   "outputs": [
    {
     "data": {
      "text/html": [
       "<div>\n",
       "<style scoped>\n",
       "    .dataframe tbody tr th:only-of-type {\n",
       "        vertical-align: middle;\n",
       "    }\n",
       "\n",
       "    .dataframe tbody tr th {\n",
       "        vertical-align: top;\n",
       "    }\n",
       "\n",
       "    .dataframe thead th {\n",
       "        text-align: right;\n",
       "    }\n",
       "</style>\n",
       "<table border=\"1\" class=\"dataframe\">\n",
       "  <thead>\n",
       "    <tr style=\"text-align: right;\">\n",
       "      <th></th>\n",
       "      <th>name</th>\n",
       "      <th>sex</th>\n",
       "      <th>home</th>\n",
       "      <th>income</th>\n",
       "    </tr>\n",
       "  </thead>\n",
       "  <tbody>\n",
       "    <tr>\n",
       "      <th>0</th>\n",
       "      <td>kim</td>\n",
       "      <td>1</td>\n",
       "      <td>마포</td>\n",
       "      <td>250.0</td>\n",
       "    </tr>\n",
       "    <tr>\n",
       "      <th>1</th>\n",
       "      <td>lee</td>\n",
       "      <td>2</td>\n",
       "      <td>NaN</td>\n",
       "      <td>-999.0</td>\n",
       "    </tr>\n",
       "    <tr>\n",
       "      <th>2</th>\n",
       "      <td>bae</td>\n",
       "      <td>3</td>\n",
       "      <td>처인</td>\n",
       "      <td>325.0</td>\n",
       "    </tr>\n",
       "    <tr>\n",
       "      <th>3</th>\n",
       "      <td>cho</td>\n",
       "      <td>4</td>\n",
       "      <td>용산</td>\n",
       "      <td>210.0</td>\n",
       "    </tr>\n",
       "    <tr>\n",
       "      <th>4</th>\n",
       "      <td>kang</td>\n",
       "      <td>1</td>\n",
       "      <td>종로</td>\n",
       "      <td>inf</td>\n",
       "    </tr>\n",
       "  </tbody>\n",
       "</table>\n",
       "</div>"
      ],
      "text/plain": [
       "   name  sex home  income\n",
       "0   kim    1   마포   250.0\n",
       "1   lee    2  NaN  -999.0\n",
       "2   bae    3   처인   325.0\n",
       "3   cho    4   용산   210.0\n",
       "4  kang    1   종로     inf"
      ]
     },
     "execution_count": 223,
     "metadata": {},
     "output_type": "execute_result"
    }
   ],
   "source": [
    "df=DataFrame({\"name\":[\"kim\",\"lee\",\"bae\",\"cho\",\"kang\"],\"sex\":[1,2,3,4,1],\n",
    "              \"home\":[\"마포\",np.nan,\"처인\",\"용산\",\"종로\"],\"income\":[250,-999,325,210,np.inf]})\n",
    "num_to_str={1:\"남\",2:\"여\"}\n",
    "to_city={\"마포\":\"서울\",\"용산\":\"서울\",\"종로\":\"서울\",\"수지\":\"용인\",\"처인\":\"용인\"}\n",
    "df"
   ]
  },
  {
   "cell_type": "markdown",
   "metadata": {},
   "source": [
    "#### .replace 메소드를 이용해서 특정한 값을 특정한 값으로 치환 (전체적으로 바꾸고 싶을때!!!)"
   ]
  },
  {
   "cell_type": "code",
   "execution_count": 224,
   "metadata": {},
   "outputs": [
    {
     "data": {
      "text/html": [
       "<div>\n",
       "<style scoped>\n",
       "    .dataframe tbody tr th:only-of-type {\n",
       "        vertical-align: middle;\n",
       "    }\n",
       "\n",
       "    .dataframe tbody tr th {\n",
       "        vertical-align: top;\n",
       "    }\n",
       "\n",
       "    .dataframe thead th {\n",
       "        text-align: right;\n",
       "    }\n",
       "</style>\n",
       "<table border=\"1\" class=\"dataframe\">\n",
       "  <thead>\n",
       "    <tr style=\"text-align: right;\">\n",
       "      <th></th>\n",
       "      <th>name</th>\n",
       "      <th>sex</th>\n",
       "      <th>home</th>\n",
       "      <th>income</th>\n",
       "    </tr>\n",
       "  </thead>\n",
       "  <tbody>\n",
       "    <tr>\n",
       "      <th>0</th>\n",
       "      <td>kim</td>\n",
       "      <td>1</td>\n",
       "      <td>마포</td>\n",
       "      <td>250.0</td>\n",
       "    </tr>\n",
       "    <tr>\n",
       "      <th>1</th>\n",
       "      <td>lee</td>\n",
       "      <td>2</td>\n",
       "      <td>9999</td>\n",
       "      <td>-999.0</td>\n",
       "    </tr>\n",
       "    <tr>\n",
       "      <th>2</th>\n",
       "      <td>bae</td>\n",
       "      <td>1</td>\n",
       "      <td>처인</td>\n",
       "      <td>325.0</td>\n",
       "    </tr>\n",
       "    <tr>\n",
       "      <th>3</th>\n",
       "      <td>cho</td>\n",
       "      <td>2</td>\n",
       "      <td>용산</td>\n",
       "      <td>210.0</td>\n",
       "    </tr>\n",
       "    <tr>\n",
       "      <th>4</th>\n",
       "      <td>kang</td>\n",
       "      <td>1</td>\n",
       "      <td>종로</td>\n",
       "      <td>inf</td>\n",
       "    </tr>\n",
       "  </tbody>\n",
       "</table>\n",
       "</div>"
      ],
      "text/plain": [
       "   name  sex  home  income\n",
       "0   kim    1    마포   250.0\n",
       "1   lee    2  9999  -999.0\n",
       "2   bae    1    처인   325.0\n",
       "3   cho    2    용산   210.0\n",
       "4  kang    1    종로     inf"
      ]
     },
     "execution_count": 224,
     "metadata": {},
     "output_type": "execute_result"
    }
   ],
   "source": [
    "df1=df.replace([np.nan,3,4],[9999,1,2])\n",
    "df1"
   ]
  },
  {
   "cell_type": "markdown",
   "metadata": {},
   "source": [
    "#### 또는 dictionary 안의 dictionary를 사용해도 된다 (전체적으로 말고 특정 변수 (e.g. sex내에서 3->1,4->2)내에서 치환 정의하고 싶을 때!!)"
   ]
  },
  {
   "cell_type": "code",
   "execution_count": 225,
   "metadata": {},
   "outputs": [
    {
     "data": {
      "text/html": [
       "<div>\n",
       "<style scoped>\n",
       "    .dataframe tbody tr th:only-of-type {\n",
       "        vertical-align: middle;\n",
       "    }\n",
       "\n",
       "    .dataframe tbody tr th {\n",
       "        vertical-align: top;\n",
       "    }\n",
       "\n",
       "    .dataframe thead th {\n",
       "        text-align: right;\n",
       "    }\n",
       "</style>\n",
       "<table border=\"1\" class=\"dataframe\">\n",
       "  <thead>\n",
       "    <tr style=\"text-align: right;\">\n",
       "      <th></th>\n",
       "      <th>name</th>\n",
       "      <th>sex</th>\n",
       "      <th>home</th>\n",
       "      <th>income</th>\n",
       "    </tr>\n",
       "  </thead>\n",
       "  <tbody>\n",
       "    <tr>\n",
       "      <th>0</th>\n",
       "      <td>kim</td>\n",
       "      <td>1</td>\n",
       "      <td>마포</td>\n",
       "      <td>250.0</td>\n",
       "    </tr>\n",
       "    <tr>\n",
       "      <th>1</th>\n",
       "      <td>lee</td>\n",
       "      <td>2</td>\n",
       "      <td>NaN</td>\n",
       "      <td>NaN</td>\n",
       "    </tr>\n",
       "    <tr>\n",
       "      <th>2</th>\n",
       "      <td>bae</td>\n",
       "      <td>1</td>\n",
       "      <td>처인</td>\n",
       "      <td>325.0</td>\n",
       "    </tr>\n",
       "    <tr>\n",
       "      <th>3</th>\n",
       "      <td>cho</td>\n",
       "      <td>2</td>\n",
       "      <td>용산</td>\n",
       "      <td>210.0</td>\n",
       "    </tr>\n",
       "    <tr>\n",
       "      <th>4</th>\n",
       "      <td>kang</td>\n",
       "      <td>1</td>\n",
       "      <td>종로</td>\n",
       "      <td>NaN</td>\n",
       "    </tr>\n",
       "  </tbody>\n",
       "</table>\n",
       "</div>"
      ],
      "text/plain": [
       "   name  sex home  income\n",
       "0   kim    1   마포   250.0\n",
       "1   lee    2  NaN     NaN\n",
       "2   bae    1   처인   325.0\n",
       "3   cho    2   용산   210.0\n",
       "4  kang    1   종로     NaN"
      ]
     },
     "execution_count": 225,
     "metadata": {},
     "output_type": "execute_result"
    }
   ],
   "source": [
    "df1=df.replace({\"sex\":{3:1,4:2},\"income\":{-999:np.nan,np.inf:np.nan}})\n",
    "df1"
   ]
  },
  {
   "cell_type": "markdown",
   "metadata": {},
   "source": [
    "#### 1:1매핑 말고 다대일 매핑"
   ]
  },
  {
   "cell_type": "code",
   "execution_count": 226,
   "metadata": {
    "scrolled": true
   },
   "outputs": [
    {
     "data": {
      "text/html": [
       "<div>\n",
       "<style scoped>\n",
       "    .dataframe tbody tr th:only-of-type {\n",
       "        vertical-align: middle;\n",
       "    }\n",
       "\n",
       "    .dataframe tbody tr th {\n",
       "        vertical-align: top;\n",
       "    }\n",
       "\n",
       "    .dataframe thead th {\n",
       "        text-align: right;\n",
       "    }\n",
       "</style>\n",
       "<table border=\"1\" class=\"dataframe\">\n",
       "  <thead>\n",
       "    <tr style=\"text-align: right;\">\n",
       "      <th></th>\n",
       "      <th>name</th>\n",
       "      <th>sex</th>\n",
       "      <th>home</th>\n",
       "      <th>income</th>\n",
       "    </tr>\n",
       "  </thead>\n",
       "  <tbody>\n",
       "    <tr>\n",
       "      <th>0</th>\n",
       "      <td>kim</td>\n",
       "      <td>1</td>\n",
       "      <td>마포</td>\n",
       "      <td>250.0</td>\n",
       "    </tr>\n",
       "    <tr>\n",
       "      <th>1</th>\n",
       "      <td>lee</td>\n",
       "      <td>2</td>\n",
       "      <td>inf</td>\n",
       "      <td>inf</td>\n",
       "    </tr>\n",
       "    <tr>\n",
       "      <th>2</th>\n",
       "      <td>bae</td>\n",
       "      <td>1</td>\n",
       "      <td>처인</td>\n",
       "      <td>325.0</td>\n",
       "    </tr>\n",
       "    <tr>\n",
       "      <th>3</th>\n",
       "      <td>cho</td>\n",
       "      <td>2</td>\n",
       "      <td>용산</td>\n",
       "      <td>210.0</td>\n",
       "    </tr>\n",
       "    <tr>\n",
       "      <th>4</th>\n",
       "      <td>kang</td>\n",
       "      <td>1</td>\n",
       "      <td>종로</td>\n",
       "      <td>inf</td>\n",
       "    </tr>\n",
       "  </tbody>\n",
       "</table>\n",
       "</div>"
      ],
      "text/plain": [
       "   name  sex home  income\n",
       "0   kim    1   마포   250.0\n",
       "1   lee    2  inf     inf\n",
       "2   bae    1   처인   325.0\n",
       "3   cho    2   용산   210.0\n",
       "4  kang    1   종로     inf"
      ]
     },
     "execution_count": 226,
     "metadata": {},
     "output_type": "execute_result"
    }
   ],
   "source": [
    "df2=df1.replace({\"home\":np.nan,\"income\":np.nan},np.inf)\n",
    "df2"
   ]
  },
  {
   "cell_type": "markdown",
   "metadata": {},
   "source": [
    "## "
   ]
  },
  {
   "cell_type": "code",
   "execution_count": null,
   "metadata": {},
   "outputs": [],
   "source": []
  },
  {
   "cell_type": "code",
   "execution_count": null,
   "metadata": {},
   "outputs": [],
   "source": []
  },
  {
   "cell_type": "code",
   "execution_count": null,
   "metadata": {},
   "outputs": [],
   "source": []
  },
  {
   "cell_type": "code",
   "execution_count": null,
   "metadata": {},
   "outputs": [],
   "source": []
  },
  {
   "cell_type": "code",
   "execution_count": null,
   "metadata": {},
   "outputs": [],
   "source": []
  }
 ],
 "metadata": {
  "kernelspec": {
   "display_name": "Python 3",
   "language": "python",
   "name": "mypython"
  },
  "language_info": {
   "codemirror_mode": {
    "name": "ipython",
    "version": 3
   },
   "file_extension": ".py",
   "mimetype": "text/x-python",
   "name": "python",
   "nbconvert_exporter": "python",
   "pygments_lexer": "ipython3",
   "version": "3.6.8"
  },
  "widgets": {
   "state": {},
   "version": "1.1.2"
  }
 },
 "nbformat": 4,
 "nbformat_minor": 2
}
