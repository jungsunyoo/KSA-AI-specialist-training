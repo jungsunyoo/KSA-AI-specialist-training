{
 "cells": [
  {
   "cell_type": "markdown",
   "metadata": {},
   "source": [
    "# 제어문장\n",
    "## 조건문\n",
    "### if문"
   ]
  },
  {
   "cell_type": "code",
   "execution_count": 3,
   "metadata": {},
   "outputs": [
    {
     "name": "stdout",
     "output_type": "stream",
     "text": [
      "Hello\n",
      "점수: 85\n"
     ]
    }
   ],
   "source": [
    "a = 85\n",
    "if (a>=80):\n",
    "    print('Hello')\n",
    "    print(\"점수: {0}\" .format(a))\n",
    "    \n"
   ]
  },
  {
   "cell_type": "markdown",
   "metadata": {},
   "source": [
    "### else"
   ]
  },
  {
   "cell_type": "code",
   "execution_count": 7,
   "metadata": {},
   "outputs": [
    {
     "name": "stdout",
     "output_type": "stream",
     "text": [
      "점수: 78\n",
      "합격\n"
     ]
    }
   ],
   "source": [
    "a=78\n",
    "if (a>=75):\n",
    "    print(\"점수: {0}\" .format(a))\n",
    "    print(\"합격\")\n",
    "else:\n",
    "    print(\"점수: {0}\" .format(a))\n",
    "    print(\"불합격\")\n",
    "    "
   ]
  },
  {
   "cell_type": "markdown",
   "metadata": {},
   "source": [
    "### elif"
   ]
  },
  {
   "cell_type": "code",
   "execution_count": 8,
   "metadata": {},
   "outputs": [
    {
     "name": "stdout",
     "output_type": "stream",
     "text": [
      "B\n"
     ]
    }
   ],
   "source": [
    "a=80\n",
    "if (a>=90):\n",
    "    print('A')\n",
    "elif (a>=80):\n",
    "    print('B')\n",
    "else:\n",
    "    print('C')"
   ]
  },
  {
   "cell_type": "markdown",
   "metadata": {},
   "source": [
    "### 삼항 연산자"
   ]
  },
  {
   "cell_type": "code",
   "execution_count": 16,
   "metadata": {},
   "outputs": [
    {
     "name": "stdout",
     "output_type": "stream",
     "text": [
      "불합격\n"
     ]
    }
   ],
   "source": [
    "a=75\n",
    "res=\"합격\" if(a>=80) else \"불합격\"\n",
    "print(res)"
   ]
  },
  {
   "cell_type": "code",
   "execution_count": 15,
   "metadata": {},
   "outputs": [
    {
     "name": "stdout",
     "output_type": "stream",
     "text": [
      "불합격\n"
     ]
    }
   ],
   "source": [
    "a=75\n",
    "if (a>=80):\n",
    "    res=\"합격\"\n",
    "else:\n",
    "    res=\"불합격\"\n",
    "#이 네 줄을 위의 삼항 연산자를 사용하면 한 줄로 줄일 수 있다. \n",
    "print(res)"
   ]
  },
  {
   "cell_type": "code",
   "execution_count": 14,
   "metadata": {},
   "outputs": [
    {
     "name": "stdout",
     "output_type": "stream",
     "text": [
      "불합격\n"
     ]
    }
   ],
   "source": [
    "a=75; \n",
    "res=\"합격\"\n",
    "if (a<80):\n",
    "    res=\"불합격\"\n",
    "print(res)"
   ]
  },
  {
   "cell_type": "code",
   "execution_count": 17,
   "metadata": {},
   "outputs": [
    {
     "name": "stdout",
     "output_type": "stream",
     "text": [
      "불합격\n"
     ]
    }
   ],
   "source": [
    "# 삼항연산자 중복해서 쓸 수 있다. \n",
    "a=75\n",
    "res=\"합격\" if(a<60) else \"재시험\" if(a<50) else \"불합격\"\n",
    "print(res)"
   ]
  },
  {
   "cell_type": "code",
   "execution_count": 18,
   "metadata": {},
   "outputs": [
    {
     "name": "stdout",
     "output_type": "stream",
     "text": [
      "불합격\n"
     ]
    }
   ],
   "source": [
    "# 삼항연산자 중복해서 쓸 수 있다. \n",
    "a=75\n",
    "res=\"합격\" if(a<60) else (\"재시험\" if(a<50) else \"불합격\")\n",
    "print(res)"
   ]
  },
  {
   "cell_type": "markdown",
   "metadata": {},
   "source": [
    "## 반복문"
   ]
  },
  {
   "cell_type": "code",
   "execution_count": 21,
   "metadata": {},
   "outputs": [
    {
     "data": {
      "text/plain": [
       "[1, 2, 3, 4]"
      ]
     },
     "execution_count": 21,
     "metadata": {},
     "output_type": "execute_result"
    }
   ],
   "source": [
    "list(range(1,5))"
   ]
  },
  {
   "cell_type": "code",
   "execution_count": 22,
   "metadata": {},
   "outputs": [
    {
     "name": "stdout",
     "output_type": "stream",
     "text": [
      "A\n",
      "B\n"
     ]
    }
   ],
   "source": [
    "for i in [\"A\", \"B\"]:\n",
    "    print(i)\n",
    "# 이건 맽랩보다 편한듯: 벡터 predefine 안해도 돼서\n",
    "\n"
   ]
  },
  {
   "cell_type": "code",
   "execution_count": 23,
   "metadata": {},
   "outputs": [
    {
     "name": "stdout",
     "output_type": "stream",
     "text": [
      "0\n",
      "1\n",
      "2\n",
      "3\n"
     ]
    }
   ],
   "source": [
    "for i in range(4):\n",
    "    print(i)"
   ]
  },
  {
   "cell_type": "code",
   "execution_count": 24,
   "metadata": {},
   "outputs": [
    {
     "data": {
      "text/plain": [
       "[0, 1, 2, 3]"
      ]
     },
     "execution_count": 24,
     "metadata": {},
     "output_type": "execute_result"
    }
   ],
   "source": [
    "list(range(4))"
   ]
  },
  {
   "cell_type": "code",
   "execution_count": 28,
   "metadata": {},
   "outputs": [
    {
     "name": "stdout",
     "output_type": "stream",
     "text": [
      "1부터 10까지의 합은 55입니다\n"
     ]
    }
   ],
   "source": [
    "# 누적합\n",
    "a = 0 # 초기화\n",
    "for i in [1,2,3,4,5,6,7,8,9,10]:\n",
    "    a+=i\n",
    "print(\"1부터 10까지의 합은 {0}입니다\" .format(a))"
   ]
  },
  {
   "cell_type": "code",
   "execution_count": 36,
   "metadata": {},
   "outputs": [
    {
     "name": "stdout",
     "output_type": "stream",
     "text": [
      "4 팩토리얼은 24입니다\n"
     ]
    }
   ],
   "source": [
    "# 누적 곱셈\n",
    "fac=1\n",
    "num=4\n",
    "for i in range(1,num+1,1):\n",
    "    fac*=i\n",
    "print(\"{0} 팩토리얼은 {1}입니다\" .format(num, fac))"
   ]
  },
  {
   "cell_type": "code",
   "execution_count": 38,
   "metadata": {},
   "outputs": [
    {
     "name": "stdout",
     "output_type": "stream",
     "text": [
      "---------+---------+---------+---------+---------+"
     ]
    }
   ],
   "source": [
    "for i in range(1,51):\n",
    "    if (i%10==0):\n",
    "        print('+', end=\"\")\n",
    "    else:\n",
    "        print('-', end=\"\")\n",
    "        "
   ]
  },
  {
   "cell_type": "markdown",
   "metadata": {},
   "source": [
    "### 중첩된 for loop"
   ]
  },
  {
   "cell_type": "code",
   "execution_count": 45,
   "metadata": {},
   "outputs": [
    {
     "name": "stdout",
     "output_type": "stream",
     "text": [
      "1*2 = 2\t1*5 = 5\t1*7 = 7\n",
      "4*2 = 8\t4*5 = 20\t4*7 = 28\n",
      "2*2 = 4\t2*5 = 10\t2*7 = 14\n"
     ]
    }
   ],
   "source": [
    "for i in [1,4,2]:\n",
    "    for j in [2,5,7]:\n",
    "        if (j!=7):\n",
    "            print(\"{0}*{1} = {2}\" .format(i,j,i*j),end=\"\\t\")\n",
    "        else:\n",
    "            print(\"{0}*{1} = {2}\" .format(i,j,i*j))\n",
    "        "
   ]
  },
  {
   "cell_type": "code",
   "execution_count": 49,
   "metadata": {},
   "outputs": [
    {
     "name": "stdout",
     "output_type": "stream",
     "text": [
      "1~50까지 곱 720\n"
     ]
    }
   ],
   "source": [
    "n=6\n",
    "wfact=1\n",
    "i=1\n",
    "while(i<=n):\n",
    "    wfact*=i\n",
    "    i+=1\n",
    "print(\"1~50까지 곱 {0}\" .format(wfact))"
   ]
  },
  {
   "cell_type": "markdown",
   "metadata": {},
   "source": [
    "# 분기문\n",
    "## break문"
   ]
  },
  {
   "cell_type": "code",
   "execution_count": 3,
   "metadata": {},
   "outputs": [
    {
     "name": "stdout",
     "output_type": "stream",
     "text": [
      "더하고자 하는 첫 번째 값을 입력하세요.(정수) :1\n",
      "더하고자 하는 두 번째 값을 입력하세요.(정수) :1\n",
      "1+1=2\n",
      "더하고자 하는 첫 번째 값을 입력하세요.(정수) :2\n",
      "더하고자 하는 두 번째 값을 입력하세요.(정수) :2\n",
      "2+2=4\n",
      "더하고자 하는 첫 번째 값을 입력하세요.(정수) :3\n",
      "더하고자 하는 두 번째 값을 입력하세요.(정수) :3\n",
      "3+3=6\n",
      "계산을 종료합니다\n"
     ]
    }
   ],
   "source": [
    "for i in range(3):\n",
    "    a=int(input(\"더하고자 하는 첫 번째 값을 입력하세요.(정수) :\"))\n",
    "    b=int(input(\"더하고자 하는 두 번째 값을 입력하세요.(정수) :\"))\n",
    "    print(\"{0}+{1}={2}\" .format(a,b,a+b))\n",
    "print(\"계산을 종료합니다\")"
   ]
  },
  {
   "cell_type": "code",
   "execution_count": 4,
   "metadata": {},
   "outputs": [
    {
     "name": "stdout",
     "output_type": "stream",
     "text": [
      "더하고자 하는 첫 번째 값을 입력하세요.(정수) :0\n",
      "더하고자 하는 두 번째 값을 입력하세요.(정수) :0\n",
      "계산을 종료합니다\n"
     ]
    }
   ],
   "source": [
    "for i in range(3):\n",
    "    a=int(input(\"더하고자 하는 첫 번째 값을 입력하세요.(정수) :\"))\n",
    "    b=int(input(\"더하고자 하는 두 번째 값을 입력하세요.(정수) :\"))\n",
    "    if (a==0 and b==0):\n",
    "        break\n",
    "    print(\"{0}+{1}={2}\" .format(a,b,a+b))\n",
    "print(\"계산을 종료합니다\")"
   ]
  },
  {
   "cell_type": "markdown",
   "metadata": {},
   "source": [
    "## continue문"
   ]
  },
  {
   "cell_type": "code",
   "execution_count": 7,
   "metadata": {},
   "outputs": [
    {
     "name": "stdout",
     "output_type": "stream",
     "text": [
      "더하고자 하는 첫 번째 값을 입력하세요.(정수) :1\n",
      "더하고자 하는 두 번째 값을 입력하세요.(정수) :1\n",
      "1+1=2\n",
      "더하고자 하는 첫 번째 값을 입력하세요.(정수) :0\n",
      "더하고자 하는 두 번째 값을 입력하세요.(정수) :0\n",
      "더하고자 하는 첫 번째 값을 입력하세요.(정수) :1\n",
      "더하고자 하는 두 번째 값을 입력하세요.(정수) :1\n",
      "1+1=2\n",
      "계산을 종료합니다\n"
     ]
    }
   ],
   "source": [
    "for i in range(3):\n",
    "    a=int(input(\"더하고자 하는 첫 번째 값을 입력하세요.(정수) :\"))\n",
    "    b=int(input(\"더하고자 하는 두 번째 값을 입력하세요.(정수) :\"))\n",
    "    if (a==0 and b==0):\n",
    "        continue\n",
    "    print(\"{0}+{1}={2}\" .format(a,b,a+b))\n",
    "print(\"계산을 종료합니다\")"
   ]
  },
  {
   "cell_type": "markdown",
   "metadata": {},
   "source": [
    "### a 고정된 상태에서 b 두 번 입력 (continue)"
   ]
  },
  {
   "cell_type": "code",
   "execution_count": 10,
   "metadata": {},
   "outputs": [
    {
     "name": "stdout",
     "output_type": "stream",
     "text": [
      "첫 번째 정수 입력: 1\n",
      "두 번째 정수 입력: 2\n",
      "1+2=3\n",
      "두 번째 정수 입력: 1\n",
      "1+1=2\n",
      "첫 번째 정수 입력: 3\n",
      "두 번째 정수 입력: 3\n",
      "3+3=6\n",
      "두 번째 정수 입력: 0\n",
      "3+0=3\n",
      "첫 번째 정수 입력: 0\n",
      "두 번째 정수 입력: 0\n",
      "두 번째 정수 입력: 0\n",
      "계산 종료\n"
     ]
    }
   ],
   "source": [
    "# a 고정된 상태에서 b 두 번 입력\n",
    "for i in range(3):\n",
    "    a = int(input(\"첫 번째 정수 입력: \"))\n",
    "    for j in range(2):\n",
    "        b = int(input(\"두 번째 정수 입력: \"))\n",
    "        if(a==0 and b==0):\n",
    "            continue\n",
    "        print(\"{0}+{1}={2}\". format(a,b,a+b))\n",
    "print(\"계산 종료\")"
   ]
  },
  {
   "cell_type": "markdown",
   "metadata": {},
   "source": [
    "### a 고정된 상태에서 b 두 번 입력 (break)"
   ]
  },
  {
   "cell_type": "code",
   "execution_count": 11,
   "metadata": {
    "scrolled": true
   },
   "outputs": [
    {
     "name": "stdout",
     "output_type": "stream",
     "text": [
      "첫 번째 정수 입력: 1\n",
      "두 번째 정수 입력: 2\n",
      "1+2=3\n",
      "두 번째 정수 입력: 0\n",
      "1+0=1\n",
      "첫 번째 정수 입력: 0\n",
      "두 번째 정수 입력: 0\n",
      "첫 번째 정수 입력: 1\n",
      "두 번째 정수 입력: 0\n",
      "1+0=1\n",
      "두 번째 정수 입력: 0\n",
      "1+0=1\n",
      "계산 종료\n"
     ]
    }
   ],
   "source": [
    "# a 고정된 상태에서 b 두 번 입력 \n",
    "for i in range(3):\n",
    "    a = int(input(\"첫 번째 정수 입력: \"))\n",
    "    for j in range(2):\n",
    "        b = int(input(\"두 번째 정수 입력: \"))\n",
    "        if(a==0 and b==0):\n",
    "            break # 안쪽 루프만 빠져나오는 break이다\n",
    "        print(\"{0}+{1}={2}\". format(a,b,a+b))\n",
    "print(\"계산 종료\")"
   ]
  },
  {
   "cell_type": "markdown",
   "metadata": {},
   "source": [
    "# 컨테이너 자료형"
   ]
  },
  {
   "cell_type": "code",
   "execution_count": 14,
   "metadata": {},
   "outputs": [
    {
     "name": "stdout",
     "output_type": "stream",
     "text": [
      "['a', 58, True]\n",
      "[3, True, ['a', 58, True]]\n",
      "58\n"
     ]
    }
   ],
   "source": [
    "aa=[]\n",
    "bb=[2,4,3]\n",
    "cc=[\"a\", \"b\", \"kim\"]\n",
    "dd=[\"a\", 58, True]\n",
    "ee=[3, True, dd]\n",
    "\n",
    "print(dd)\n",
    "print(ee)\n",
    "print(ee[2][1])"
   ]
  },
  {
   "cell_type": "code",
   "execution_count": 15,
   "metadata": {},
   "outputs": [
    {
     "data": {
      "text/plain": [
       "[]"
      ]
     },
     "execution_count": 15,
     "metadata": {},
     "output_type": "execute_result"
    }
   ],
   "source": [
    "aaa=list()\n",
    "aaa"
   ]
  },
  {
   "cell_type": "code",
   "execution_count": 16,
   "metadata": {},
   "outputs": [
    {
     "data": {
      "text/plain": [
       "['K', 'i', 'm', 'a']"
      ]
     },
     "execution_count": 16,
     "metadata": {},
     "output_type": "execute_result"
    }
   ],
   "source": [
    "list(\"Kima\")"
   ]
  },
  {
   "cell_type": "code",
   "execution_count": 17,
   "metadata": {},
   "outputs": [
    {
     "data": {
      "text/plain": [
       "(3, 2, 5, 6)"
      ]
     },
     "execution_count": 17,
     "metadata": {},
     "output_type": "execute_result"
    }
   ],
   "source": [
    "#튜플형\n",
    "aa=(3,2,5,6)\n",
    "aa"
   ]
  },
  {
   "cell_type": "code",
   "execution_count": 18,
   "metadata": {},
   "outputs": [
    {
     "data": {
      "text/plain": [
       "[3, 2, 5, 6]"
      ]
     },
     "execution_count": 18,
     "metadata": {},
     "output_type": "execute_result"
    }
   ],
   "source": [
    "# 튜플을 강제로 리스트로 바꿀 수 있음\n",
    "list(aa)"
   ]
  },
  {
   "cell_type": "code",
   "execution_count": 21,
   "metadata": {},
   "outputs": [
    {
     "data": {
      "text/plain": [
       "{'서울': '02', '경기': '031'}"
      ]
     },
     "execution_count": 21,
     "metadata": {},
     "output_type": "execute_result"
    }
   ],
   "source": [
    "dic={\"서울\":\"02\", \"경기\":\"031\"}\n",
    "dic\n"
   ]
  },
  {
   "cell_type": "markdown",
   "metadata": {},
   "source": [
    "### iterative 객체는 next라는 함수로 순차적으로 뽑아낼 수 있다"
   ]
  },
  {
   "cell_type": "code",
   "execution_count": 22,
   "metadata": {},
   "outputs": [
    {
     "data": {
      "text/plain": [
       "44"
      ]
     },
     "execution_count": 22,
     "metadata": {},
     "output_type": "execute_result"
    }
   ],
   "source": [
    "aa=reversed([33,5,44,2,345])\n",
    "next(aa)\n",
    "next(aa)\n",
    "next(aa)\n"
   ]
  },
  {
   "cell_type": "code",
   "execution_count": 23,
   "metadata": {},
   "outputs": [
    {
     "ename": "TypeError",
     "evalue": "'list' object is not an iterator",
     "output_type": "error",
     "traceback": [
      "\u001b[1;31m---------------------------------------------------------------------------\u001b[0m",
      "\u001b[1;31mTypeError\u001b[0m                                 Traceback (most recent call last)",
      "\u001b[1;32m<ipython-input-23-39ffd6a44ea1>\u001b[0m in \u001b[0;36m<module>\u001b[1;34m\u001b[0m\n\u001b[0;32m      1\u001b[0m \u001b[1;31m#list는 iterative 객체는 아니다\u001b[0m\u001b[1;33m\u001b[0m\u001b[1;33m\u001b[0m\u001b[1;33m\u001b[0m\u001b[0m\n\u001b[0;32m      2\u001b[0m \u001b[0maa\u001b[0m\u001b[1;33m=\u001b[0m\u001b[1;33m[\u001b[0m\u001b[1;36m33\u001b[0m\u001b[1;33m,\u001b[0m\u001b[1;36m4\u001b[0m\u001b[1;33m,\u001b[0m\u001b[1;36m5\u001b[0m\u001b[1;33m,\u001b[0m\u001b[1;36m1\u001b[0m\u001b[1;33m,\u001b[0m\u001b[1;36m2\u001b[0m\u001b[1;33m]\u001b[0m\u001b[1;33m\u001b[0m\u001b[1;33m\u001b[0m\u001b[0m\n\u001b[1;32m----> 3\u001b[1;33m \u001b[0mnext\u001b[0m\u001b[1;33m(\u001b[0m\u001b[0maa\u001b[0m\u001b[1;33m)\u001b[0m\u001b[1;33m\u001b[0m\u001b[1;33m\u001b[0m\u001b[0m\n\u001b[0m",
      "\u001b[1;31mTypeError\u001b[0m: 'list' object is not an iterator"
     ]
    }
   ],
   "source": [
    "#list는 iterator는 아니다\n",
    "aa=[33,4,5,1,2]\n",
    "next(aa)"
   ]
  },
  {
   "cell_type": "markdown",
   "metadata": {},
   "source": [
    "## list의 데이터 수정\n",
    "### list는 mutable한 객체"
   ]
  },
  {
   "cell_type": "code",
   "execution_count": 33,
   "metadata": {
    "scrolled": true
   },
   "outputs": [
    {
     "name": "stdout",
     "output_type": "stream",
     "text": [
      "ID : 2284840458312\t[3, 2, 5, 6, 4]\n",
      "ID : 2284840458312\t[3, 2, 1000, 6, 4]\n",
      "ID : 2284840458312\t[1, 2, 3, 4, 5]\n",
      "ID : 2284841653640\t[1, 2, 3, 4, 5]\n",
      "ID : 2284841653640\t[1, 99999, 5]\n"
     ]
    }
   ],
   "source": [
    "lsobj=[3,2,5,6,4]\n",
    "print(\"ID : {0}\\t{1}\".format(id(lsobj),lsobj))\n",
    "lsobj[2] = 1000\n",
    "print(\"ID : {0}\\t{1}\".format(id(lsobj),lsobj))\n",
    "lsobj[:] = [1,2,3,4,5]\n",
    "print(\"ID : {0}\\t{1}\".format(id(lsobj),lsobj))\n",
    "lsobj=[1,2,3,4,5]\n",
    "print(\"ID : {0}\\t{1}\".format(id(lsobj),lsobj))\n",
    "lsobj[1:4] = [99999] # 1,2,3번 인덱스를 없앤다\n",
    "# 덮어쓰더라도 iterable한 자료 유형으로 덮어써야 한다\n",
    "print(\"ID : {0}\\t{1}\".format(id(lsobj),lsobj))"
   ]
  },
  {
   "cell_type": "markdown",
   "metadata": {},
   "source": [
    "## list에서 사용하는 연산자"
   ]
  },
  {
   "cell_type": "code",
   "execution_count": 35,
   "metadata": {},
   "outputs": [
    {
     "name": "stdout",
     "output_type": "stream",
     "text": [
      "[2, 5, 3, 2, 5, 3]\n",
      "[2, 5, 3, 100, 200]\n"
     ]
    }
   ],
   "source": [
    "lsobj1 = [2,5,3]\n",
    "lsobj2 = [100,200]\n",
    "print(lsobj1*2)\n",
    "lsobj1 += lsobj2\n",
    "print(lsobj1)"
   ]
  },
  {
   "cell_type": "markdown",
   "metadata": {},
   "source": [
    "## list 메소드"
   ]
  },
  {
   "cell_type": "code",
   "execution_count": 38,
   "metadata": {
    "scrolled": true
   },
   "outputs": [
    {
     "data": {
      "text/plain": [
       "['__add__',\n",
       " '__class__',\n",
       " '__contains__',\n",
       " '__delattr__',\n",
       " '__delitem__',\n",
       " '__dir__',\n",
       " '__doc__',\n",
       " '__eq__',\n",
       " '__format__',\n",
       " '__ge__',\n",
       " '__getattribute__',\n",
       " '__getitem__',\n",
       " '__gt__',\n",
       " '__hash__',\n",
       " '__iadd__',\n",
       " '__imul__',\n",
       " '__init__',\n",
       " '__init_subclass__',\n",
       " '__iter__',\n",
       " '__le__',\n",
       " '__len__',\n",
       " '__lt__',\n",
       " '__mul__',\n",
       " '__ne__',\n",
       " '__new__',\n",
       " '__reduce__',\n",
       " '__reduce_ex__',\n",
       " '__repr__',\n",
       " '__reversed__',\n",
       " '__rmul__',\n",
       " '__setattr__',\n",
       " '__setitem__',\n",
       " '__sizeof__',\n",
       " '__str__',\n",
       " '__subclasshook__',\n",
       " 'append',\n",
       " 'clear',\n",
       " 'copy',\n",
       " 'count',\n",
       " 'extend',\n",
       " 'index',\n",
       " 'insert',\n",
       " 'pop',\n",
       " 'remove',\n",
       " 'reverse',\n",
       " 'sort']"
      ]
     },
     "execution_count": 38,
     "metadata": {},
     "output_type": "execute_result"
    }
   ],
   "source": [
    "dir(list)"
   ]
  },
  {
   "cell_type": "code",
   "execution_count": 45,
   "metadata": {},
   "outputs": [
    {
     "name": "stdout",
     "output_type": "stream",
     "text": [
      "2284841964360\n"
     ]
    },
    {
     "data": {
      "text/plain": [
       "([3, 4, 5, 6, 7, 999], 2284841964360)"
      ]
     },
     "execution_count": 45,
     "metadata": {},
     "output_type": "execute_result"
    }
   ],
   "source": [
    "A=[3,4,5,6,7]\n",
    "print(id(A))\n",
    "A.append(999)\n",
    "A, id(A)"
   ]
  },
  {
   "cell_type": "code",
   "execution_count": 40,
   "metadata": {},
   "outputs": [
    {
     "ename": "IndexError",
     "evalue": "list assignment index out of range",
     "output_type": "error",
     "traceback": [
      "\u001b[1;31m---------------------------------------------------------------------------\u001b[0m",
      "\u001b[1;31mIndexError\u001b[0m                                Traceback (most recent call last)",
      "\u001b[1;32m<ipython-input-40-b774d8f2bc6f>\u001b[0m in \u001b[0;36m<module>\u001b[1;34m\u001b[0m\n\u001b[0;32m      1\u001b[0m \u001b[0mA\u001b[0m\u001b[1;33m=\u001b[0m\u001b[1;33m[\u001b[0m\u001b[1;36m3\u001b[0m\u001b[1;33m,\u001b[0m\u001b[1;36m4\u001b[0m\u001b[1;33m,\u001b[0m\u001b[1;36m5\u001b[0m\u001b[1;33m,\u001b[0m\u001b[1;36m6\u001b[0m\u001b[1;33m,\u001b[0m\u001b[1;36m7\u001b[0m\u001b[1;33m]\u001b[0m\u001b[1;33m\u001b[0m\u001b[1;33m\u001b[0m\u001b[0m\n\u001b[1;32m----> 2\u001b[1;33m \u001b[0mA\u001b[0m\u001b[1;33m[\u001b[0m\u001b[1;36m5\u001b[0m\u001b[1;33m]\u001b[0m \u001b[1;33m=\u001b[0m \u001b[1;36m999\u001b[0m\u001b[1;33m\u001b[0m\u001b[1;33m\u001b[0m\u001b[0m\n\u001b[0m\u001b[0;32m      3\u001b[0m \u001b[0mA\u001b[0m\u001b[1;33m\u001b[0m\u001b[1;33m\u001b[0m\u001b[0m\n",
      "\u001b[1;31mIndexError\u001b[0m: list assignment index out of range"
     ]
    }
   ],
   "source": [
    "A=[3,4,5,6,7]\n",
    "A[5] = 999\n",
    "A"
   ]
  },
  {
   "cell_type": "code",
   "execution_count": 44,
   "metadata": {
    "scrolled": false
   },
   "outputs": [
    {
     "name": "stdout",
     "output_type": "stream",
     "text": [
      "2284841967176\n"
     ]
    },
    {
     "data": {
      "text/plain": [
       "([3, 4, 5, 6, 7, 999], 2284841967176)"
      ]
     },
     "execution_count": 44,
     "metadata": {},
     "output_type": "execute_result"
    }
   ],
   "source": [
    "# A.append 대안:\n",
    "A = [3,4,5,6,7]\n",
    "print(id(A))\n",
    "A+=[999]\n",
    "A, id(A)"
   ]
  },
  {
   "cell_type": "code",
   "execution_count": 46,
   "metadata": {},
   "outputs": [
    {
     "data": {
      "text/plain": [
       "[3, 5, 4, 6]"
      ]
     },
     "execution_count": 46,
     "metadata": {},
     "output_type": "execute_result"
    }
   ],
   "source": [
    "A=[3,4,5,4,6]\n",
    "A.remove(4) # 4 두 번 나오지만 첫 번째 4만 제거된다 \n",
    "A"
   ]
  },
  {
   "cell_type": "markdown",
   "metadata": {},
   "source": [
    "### Mutable한 자료 특성"
   ]
  },
  {
   "cell_type": "code",
   "execution_count": 51,
   "metadata": {},
   "outputs": [
    {
     "name": "stdout",
     "output_type": "stream",
     "text": [
      "[1, 2, 3, 4, 5], [1, 2, 3, 4, 5]\n",
      "A ID: 2284838748296\tB ID : 2284838748296\n",
      "[1, 2, 10000, 4, 5], [1, 2, 10000, 4, 5]\n",
      "A ID: 2284838748296\tB ID : 2284838748296\n"
     ]
    }
   ],
   "source": [
    "A=[1,2,3,4,5]\n",
    "B=A\n",
    "print(\"{0}, {1}\" .format(A, B))\n",
    "print(\"A ID: {0}\\tB ID : {1}\" .format(id(A), id(B)))\n",
    "A[2] = 10000\n",
    "print(\"{0}, {1}\" .format(A, B))\n",
    "print(\"A ID: {0}\\tB ID : {1}\" .format(id(A), id(B)))"
   ]
  },
  {
   "cell_type": "markdown",
   "metadata": {},
   "source": [
    "### Method 이용해서 다른 id가진 객체로 복사하기"
   ]
  },
  {
   "cell_type": "code",
   "execution_count": 56,
   "metadata": {
    "scrolled": true
   },
   "outputs": [
    {
     "name": "stdout",
     "output_type": "stream",
     "text": [
      "A [7, 3, 4, 5, 5] ID 2284843988808\n",
      "B [7, 3, 4, 5, 5] ID 2284843988808\n",
      "C [7, 3, 4, 5, 5] ID 2284843237192\n",
      "D [7, 3, 4, 5, 5] ID 2284843247752\n",
      "A [7, 3, 4, 123, 5] ID 2284843988808\n",
      "B [7, 3, 4, 123, 5] ID 2284843988808\n",
      "C [7, 3, 4, 5, 5] ID 2284843237192\n",
      "D [7, 3, 4, 5, 5] ID 2284843247752\n"
     ]
    }
   ],
   "source": [
    "A=[7,3,4,5,5]\n",
    "B=A\n",
    "C=A.copy()\n",
    "D=A[:]\n",
    "print(\"A {0} ID {1}\" .format(A,id(A)))\n",
    "print(\"B {0} ID {1}\" .format(B,id(B)))\n",
    "print(\"C {0} ID {1}\" .format(C,id(C)))\n",
    "print(\"D {0} ID {1}\" .format(D,id(D)))\n",
    "# A와 B는 id가 같지만, B와 C와는 모두 다름\n",
    "\n",
    "# A 수정하기\n",
    "A[3] = 123\n",
    "print(\"A {0} ID {1}\" .format(A,id(A)))\n",
    "print(\"B {0} ID {1}\" .format(B,id(B)))\n",
    "print(\"C {0} ID {1}\" .format(C,id(C)))\n",
    "print(\"D {0} ID {1}\" .format(D,id(D)))\n"
   ]
  },
  {
   "cell_type": "markdown",
   "metadata": {},
   "source": [
    "ls=[2,3,4,5,6]\n",
    "ls.sort(reverse=True) # reversed -> 내림차순\n",
    "ls"
   ]
  },
  {
   "cell_type": "code",
   "execution_count": 67,
   "metadata": {},
   "outputs": [
    {
     "data": {
      "text/plain": [
       "[4.833333333333333, 1.8, 3.142857142857143, 2.8333333333333335]"
      ]
     },
     "execution_count": 67,
     "metadata": {},
     "output_type": "execute_result"
    }
   ],
   "source": [
    "A=[[7,3,5,2,3,9], [1,2,3,2,1], [3,2,4,1,5,2,5], [1,2,4,6,3,1]]\n",
    "avg=[]\n",
    "for i in range(len(A)):\n",
    "    avg.append(sum(A[i])/len(A[i]))\n",
    "               \n",
    "avg"
   ]
  },
  {
   "cell_type": "markdown",
   "metadata": {},
   "source": [
    "## 튜플 (Tuple)"
   ]
  },
  {
   "cell_type": "code",
   "execution_count": 68,
   "metadata": {},
   "outputs": [
    {
     "data": {
      "text/plain": [
       "(345, 45, 123)"
      ]
     },
     "execution_count": 68,
     "metadata": {},
     "output_type": "execute_result"
    }
   ],
   "source": [
    "A=345; B=45; C=123;\n",
    "A,B,C # 이게 튜플 형식"
   ]
  },
  {
   "cell_type": "code",
   "execution_count": 69,
   "metadata": {},
   "outputs": [
    {
     "ename": "TypeError",
     "evalue": "'tuple' object does not support item assignment",
     "output_type": "error",
     "traceback": [
      "\u001b[1;31m---------------------------------------------------------------------------\u001b[0m",
      "\u001b[1;31mTypeError\u001b[0m                                 Traceback (most recent call last)",
      "\u001b[1;32m<ipython-input-69-68da1b8a9f0c>\u001b[0m in \u001b[0;36m<module>\u001b[1;34m\u001b[0m\n\u001b[0;32m      1\u001b[0m \u001b[1;31m# TUPLE은 UNMUTABLE 하므로 그 자체를 바꾸는건 불가능\u001b[0m\u001b[1;33m\u001b[0m\u001b[1;33m\u001b[0m\u001b[1;33m\u001b[0m\u001b[0m\n\u001b[0;32m      2\u001b[0m \u001b[0mA\u001b[0m\u001b[1;33m=\u001b[0m\u001b[1;33m(\u001b[0m\u001b[1;33m[\u001b[0m\u001b[1;36m234\u001b[0m\u001b[1;33m,\u001b[0m\u001b[1;36m345\u001b[0m\u001b[1;33m,\u001b[0m\u001b[1;36m123\u001b[0m\u001b[1;33m]\u001b[0m\u001b[1;33m,\u001b[0m\u001b[1;33m)\u001b[0m\u001b[1;33m\u001b[0m\u001b[1;33m\u001b[0m\u001b[0m\n\u001b[1;32m----> 3\u001b[1;33m \u001b[0mA\u001b[0m\u001b[1;33m[\u001b[0m\u001b[1;36m0\u001b[0m\u001b[1;33m]\u001b[0m\u001b[1;33m=\u001b[0m\u001b[1;33m[\u001b[0m\u001b[1;36m12\u001b[0m\u001b[1;33m,\u001b[0m\u001b[1;36m23\u001b[0m\u001b[1;33m,\u001b[0m\u001b[1;36m13\u001b[0m\u001b[1;33m]\u001b[0m\u001b[1;33m\u001b[0m\u001b[1;33m\u001b[0m\u001b[0m\n\u001b[0m\u001b[0;32m      4\u001b[0m \u001b[0mA\u001b[0m\u001b[1;33m\u001b[0m\u001b[1;33m\u001b[0m\u001b[0m\n",
      "\u001b[1;31mTypeError\u001b[0m: 'tuple' object does not support item assignment"
     ]
    }
   ],
   "source": [
    "# TUPLE은 UNMUTABLE 하므로 그 자체를 바꾸는건 불가능\n",
    "A=([234,345,123],)\n",
    "A[0]=[12,23,13]\n",
    "A"
   ]
  },
  {
   "cell_type": "code",
   "execution_count": 70,
   "metadata": {},
   "outputs": [
    {
     "data": {
      "text/plain": [
       "([234, 12, 23, 13, 123],)"
      ]
     },
     "execution_count": 70,
     "metadata": {},
     "output_type": "execute_result"
    }
   ],
   "source": [
    "# 하지만 TUPLE 내의 원소가 MUTABLE하면 그건 수정 가능 (특이한 점)\n",
    "A=([234,345,123],)\n",
    "A[0][1:2]=[12,23,13]\n",
    "A"
   ]
  },
  {
   "cell_type": "markdown",
   "metadata": {},
   "source": [
    "## 집합"
   ]
  },
  {
   "cell_type": "markdown",
   "metadata": {},
   "source": [
    "### Immutable한 객체만 원소로 가질 수 있음"
   ]
  },
  {
   "cell_type": "code",
   "execution_count": 71,
   "metadata": {},
   "outputs": [
    {
     "ename": "TypeError",
     "evalue": "unhashable type: 'list'",
     "output_type": "error",
     "traceback": [
      "\u001b[1;31m---------------------------------------------------------------------------\u001b[0m",
      "\u001b[1;31mTypeError\u001b[0m                                 Traceback (most recent call last)",
      "\u001b[1;32m<ipython-input-71-f088dadbc5c7>\u001b[0m in \u001b[0;36m<module>\u001b[1;34m\u001b[0m\n\u001b[0;32m      1\u001b[0m \u001b[0mA\u001b[0m\u001b[1;33m=\u001b[0m\u001b[1;33m[\u001b[0m\u001b[1;36m1\u001b[0m\u001b[1;33m,\u001b[0m\u001b[1;36m2\u001b[0m\u001b[1;33m,\u001b[0m\u001b[1;36m3\u001b[0m\u001b[1;33m,\u001b[0m\u001b[1;36m4\u001b[0m\u001b[1;33m,\u001b[0m\u001b[1;36m5\u001b[0m\u001b[1;33m]\u001b[0m\u001b[1;33m\u001b[0m\u001b[1;33m\u001b[0m\u001b[0m\n\u001b[0;32m      2\u001b[0m \u001b[0mB\u001b[0m\u001b[1;33m=\u001b[0m\u001b[1;33m(\u001b[0m\u001b[1;36m3\u001b[0m\u001b[1;33m,\u001b[0m\u001b[1;36m4\u001b[0m\u001b[1;33m,\u001b[0m\u001b[1;36m5\u001b[0m\u001b[1;33m,\u001b[0m\u001b[1;36m6\u001b[0m\u001b[1;33m,\u001b[0m\u001b[1;36m3\u001b[0m\u001b[1;33m)\u001b[0m\u001b[1;33m\u001b[0m\u001b[1;33m\u001b[0m\u001b[0m\n\u001b[1;32m----> 3\u001b[1;33m \u001b[0mC\u001b[0m\u001b[1;33m=\u001b[0m\u001b[1;33m{\u001b[0m\u001b[0mA\u001b[0m\u001b[1;33m,\u001b[0m\u001b[0mB\u001b[0m\u001b[1;33m,\u001b[0m\u001b[1;36m34\u001b[0m\u001b[1;33m}\u001b[0m\u001b[1;33m\u001b[0m\u001b[1;33m\u001b[0m\u001b[0m\n\u001b[0m\u001b[0;32m      4\u001b[0m \u001b[0mprint\u001b[0m\u001b[1;33m(\u001b[0m\u001b[0mtype\u001b[0m\u001b[1;33m(\u001b[0m\u001b[0mC\u001b[0m\u001b[1;33m)\u001b[0m\u001b[1;33m,\u001b[0m\u001b[0mC\u001b[0m\u001b[1;33m)\u001b[0m\u001b[1;33m\u001b[0m\u001b[1;33m\u001b[0m\u001b[0m\n",
      "\u001b[1;31mTypeError\u001b[0m: unhashable type: 'list'"
     ]
    }
   ],
   "source": [
    "A=[1,2,3,4,5]\n",
    "B=(3,4,5,6,3)\n",
    "C={A,B,34}\n",
    "print(type(C),C)\n",
    "# A가 mutable한 list라서 에러남"
   ]
  },
  {
   "cell_type": "code",
   "execution_count": 72,
   "metadata": {},
   "outputs": [
    {
     "name": "stdout",
     "output_type": "stream",
     "text": [
      "<class 'set'> {'A', 34, (3, 4, 5, 6, 3)}\n"
     ]
    }
   ],
   "source": [
    "A=[1,2,3,4,5]\n",
    "B=(3,4,5,6,3)\n",
    "C={\"A\",B,34}\n",
    "print(type(C),C)"
   ]
  },
  {
   "cell_type": "code",
   "execution_count": 73,
   "metadata": {},
   "outputs": [
    {
     "name": "stdout",
     "output_type": "stream",
     "text": [
      "Set {1, 2, 3, 4, 5} ID: 2284843077416\n",
      "Set {2, 3, 5, 54} ID: 2284843076520\n",
      "Set {1, 2, 3, 4, 5} ID: 2284843077416\n",
      "Set {2, 3, 5, 54} ID: 2284805358984\n"
     ]
    }
   ],
   "source": [
    "A={1,2,3,4,5}\n",
    "B={2,3,5,54}\n",
    "C=A # 둘이 ID 같음\n",
    "D=B.copy() # 둘이 ID 다름\n",
    "\n",
    "print(\"Set {0} ID: {1}\" .format(A, id(A)))\n",
    "print(\"Set {0} ID: {1}\" .format(B, id(B)))\n",
    "print(\"Set {0} ID: {1}\" .format(C, id(C)))\n",
    "print(\"Set {0} ID: {1}\" .format(D, id(D)))"
   ]
  },
  {
   "cell_type": "code",
   "execution_count": 75,
   "metadata": {},
   "outputs": [
    {
     "name": "stdout",
     "output_type": "stream",
     "text": [
      "Set {1, 2, 3, 4, 5} ID: 2284843040328\n",
      "Set {2, 3, 5, 54} ID: 2284843076520\n",
      "Set {1, 2, 3, 4, 5, 54} ID: 2284843076968\n",
      "Set None ID: 1794874672\n"
     ]
    }
   ],
   "source": [
    "A={1,2,3,4,5}\n",
    "B={2,3,5,54}\n",
    "\n",
    "\n",
    "print(\"Set {0} ID: {1}\" .format(A, id(A)))\n",
    "print(\"Set {0} ID: {1}\" .format(B, id(B)))\n",
    "\n",
    "C=A.union(B)\n",
    "D=A.update(B)\n",
    "\n",
    "print(\"Set {0} ID: {1}\" .format(C, id(C)))\n",
    "print(\"Set {0} ID: {1}\" .format(D, id(D)))"
   ]
  }
 ],
 "metadata": {
  "kernelspec": {
   "display_name": "Python 3",
   "language": "python",
   "name": "mypython"
  },
  "language_info": {
   "codemirror_mode": {
    "name": "ipython",
    "version": 3
   },
   "file_extension": ".py",
   "mimetype": "text/x-python",
   "name": "python",
   "nbconvert_exporter": "python",
   "pygments_lexer": "ipython3",
   "version": "3.6.8"
  }
 },
 "nbformat": 4,
 "nbformat_minor": 2
}
