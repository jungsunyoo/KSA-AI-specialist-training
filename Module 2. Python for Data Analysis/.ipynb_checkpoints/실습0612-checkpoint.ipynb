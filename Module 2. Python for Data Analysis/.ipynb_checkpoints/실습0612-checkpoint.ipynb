{
 "cells": [
  {
   "cell_type": "markdown",
   "metadata": {},
   "source": [
    "# 사전(dictionary)"
   ]
  },
  {
   "cell_type": "code",
   "execution_count": 4,
   "metadata": {
    "scrolled": true
   },
   "outputs": [
    {
     "data": {
      "text/plain": [
       "dict"
      ]
     },
     "execution_count": 4,
     "metadata": {},
     "output_type": "execute_result"
    }
   ],
   "source": [
    "aa={1:\"A\",10:\"CC\"}\n",
    "id(aa)\n",
    "type(aa)"
   ]
  },
  {
   "cell_type": "code",
   "execution_count": 12,
   "metadata": {},
   "outputs": [
    {
     "ename": "ValueError",
     "evalue": "dictionary update sequence element #0 has length 0; 2 is required",
     "output_type": "error",
     "traceback": [
      "\u001b[1;31m---------------------------------------------------------------------------\u001b[0m",
      "\u001b[1;31mValueError\u001b[0m                                Traceback (most recent call last)",
      "\u001b[1;32m<ipython-input-12-603f4b891fd4>\u001b[0m in \u001b[0;36m<module>\u001b[1;34m\u001b[0m\n\u001b[0;32m      2\u001b[0m \u001b[0mtype\u001b[0m\u001b[1;33m(\u001b[0m\u001b[0maa\u001b[0m\u001b[1;33m)\u001b[0m\u001b[1;33m\u001b[0m\u001b[1;33m\u001b[0m\u001b[0m\n\u001b[0;32m      3\u001b[0m \u001b[0mbb\u001b[0m\u001b[1;33m=\u001b[0m\u001b[1;33m{\u001b[0m\u001b[1;36m1\u001b[0m\u001b[1;33m:\u001b[0m\u001b[0maa\u001b[0m\u001b[1;33m}\u001b[0m\u001b[1;33m\u001b[0m\u001b[1;33m\u001b[0m\u001b[0m\n\u001b[1;32m----> 4\u001b[1;33m \u001b[0mcc\u001b[0m \u001b[1;33m=\u001b[0m \u001b[0mdict\u001b[0m\u001b[1;33m(\u001b[0m\u001b[0maa\u001b[0m\u001b[1;33m)\u001b[0m\u001b[1;33m\u001b[0m\u001b[1;33m\u001b[0m\u001b[0m\n\u001b[0m\u001b[0;32m      5\u001b[0m \u001b[0mcc\u001b[0m\u001b[1;33m\u001b[0m\u001b[1;33m\u001b[0m\u001b[0m\n",
      "\u001b[1;31mValueError\u001b[0m: dictionary update sequence element #0 has length 0; 2 is required"
     ]
    }
   ],
   "source": [
    "aa=[()]\n",
    "type(aa)\n",
    "bb={1:aa}\n",
    "cc = dict(aa)\n",
    "cc"
   ]
  },
  {
   "cell_type": "code",
   "execution_count": 19,
   "metadata": {},
   "outputs": [
    {
     "name": "stdout",
     "output_type": "stream",
     "text": [
      "[(1, 22), (2, 34), (3, 535), (4, 22), (5, 11)]\n"
     ]
    }
   ],
   "source": [
    "aa=[1,2,3,4,5,6]\n",
    "bb=[22,34,535,22,11]\n",
    "zip(aa,bb)\n",
    "print(list(zip(aa,bb)))\n",
    "#print(list(tuple(aa,bb)))\n"
   ]
  },
  {
   "cell_type": "markdown",
   "metadata": {},
   "source": [
    "### dictionary에서도 중복값 안쳐줌"
   ]
  },
  {
   "cell_type": "code",
   "execution_count": 20,
   "metadata": {},
   "outputs": [
    {
     "name": "stdout",
     "output_type": "stream",
     "text": [
      "{1: 'one', 10: 'ten'} {1: 'one', 10: 'ten'}\n"
     ]
    }
   ],
   "source": [
    "\n",
    "aa={1:\"one\", 10:\"ten\"}\n",
    "bb={1:\"one\", 10:\"ten\", 1:\"one\"}\n",
    "print(aa,bb)"
   ]
  },
  {
   "cell_type": "code",
   "execution_count": 26,
   "metadata": {},
   "outputs": [
    {
     "name": "stdout",
     "output_type": "stream",
     "text": [
      "{1: 'one', 10: 'ten'} {1: 'one', 10: 'ten'} {1: 'one', 2: 'two', 10: 'ten'} {1: 'one', 10: 'ten'}\n",
      "True False\n",
      "True\n"
     ]
    }
   ],
   "source": [
    "aa={1:\"one\", 10:\"ten\"}\n",
    "bb={1:\"one\", 1:\"one\",10:\"ten\"}\n",
    "cc={1:\"one\", 2:\"two\", 10:\"ten\"}\n",
    "dd={1:\"two\", 1:\"one\", 10:\"ten\"}\n",
    "print(aa,bb,cc,dd)\n",
    "print(aa==bb, aa==cc)\n",
    "print(aa==dd) # 하나의 key값 당 두 개의 원소 배정 못된다 -> 덮어 씌워짐"
   ]
  },
  {
   "cell_type": "markdown",
   "metadata": {},
   "source": [
    "### 함수들은 대체로 키 값을 기준으로 판단"
   ]
  },
  {
   "cell_type": "code",
   "execution_count": 27,
   "metadata": {},
   "outputs": [
    {
     "data": {
      "text/plain": [
       "True"
      ]
     },
     "execution_count": 27,
     "metadata": {},
     "output_type": "execute_result"
    }
   ],
   "source": [
    "aa={1:\"one\", 10:\"ten\"}\n",
    "bb={1:\"one\", 1:\"one\",10:\"ten\"}\n",
    "cc={1:\"one\", 2:\"two\", 10:\"ten\"}\n",
    "dd={1:\"two\", 1:\"one\", 10:\"ten\"}\n",
    "1 in aa"
   ]
  },
  {
   "cell_type": "code",
   "execution_count": 28,
   "metadata": {},
   "outputs": [
    {
     "data": {
      "text/plain": [
       "'c++'"
      ]
     },
     "execution_count": 28,
     "metadata": {},
     "output_type": "execute_result"
    }
   ],
   "source": [
    "aa={\"c++\":5, \"R\":15}\n",
    "max(aa)"
   ]
  },
  {
   "cell_type": "markdown",
   "metadata": {},
   "source": [
    "### 사전 - 메소드"
   ]
  },
  {
   "cell_type": "code",
   "execution_count": 35,
   "metadata": {},
   "outputs": [
    {
     "name": "stdout",
     "output_type": "stream",
     "text": [
      "True\n",
      "{5: 'c++', 15: 'R', 10: 'Python'} 2619993296832 2619993296832 2619992435880\n",
      "{'c++': 5, 'R': 15, 20: 'Java'}\n"
     ]
    }
   ],
   "source": [
    "a={5:\"c++\", 15:\"R\", 10:\"Python\"}\n",
    "bb=aa\n",
    "print(id(aa)==id(bb))\n",
    "bb[20]=\"Java\" # a와 b는 id를 공유하고 있기 때문에 b에 변화주면 a도 바뀐다\n",
    "cc=a.copy() # copy method를 사용하면 둘이 다른 id\n",
    "print(cc, id(aa), id(bb), id(cc))\n",
    "print(aa)"
   ]
  },
  {
   "cell_type": "code",
   "execution_count": 37,
   "metadata": {},
   "outputs": [
    {
     "data": {
      "text/plain": [
       "'없는 Key'"
      ]
     },
     "execution_count": 37,
     "metadata": {},
     "output_type": "execute_result"
    }
   ],
   "source": [
    "a={5:\"c++\", 15:\"R\", 10:\"Python\"}\n",
    "aa.get(10,\"없는 Key\")\n",
    "#찾고자 하는 키가 없으면 따로 에러 안나고 두 번째 항목 반환해준다\n",
    "# 없는 키를 그냥 인덱싱하면 에러남 (e.g. a[50])"
   ]
  },
  {
   "cell_type": "markdown",
   "metadata": {},
   "source": [
    "### UPDATE 함수"
   ]
  },
  {
   "cell_type": "code",
   "execution_count": 39,
   "metadata": {},
   "outputs": [
    {
     "name": "stdout",
     "output_type": "stream",
     "text": [
      "{5: 'R', 7: 'Python', 33: 'Java', 9: 'C'} {33: 'Java', 9: 'C', 88: 'vb'}\n",
      "{5: 'R', 7: 'Python', 33: 'Java', 9: 'C'} {33: 'Java', 9: 'C', 88: 'vb', 5: 'R', 7: 'Python'}\n"
     ]
    },
    {
     "data": {
      "text/plain": [
       "{'Java': 1, 'C#': 2, 'C': 100, 'Fortra': 999}"
      ]
     },
     "execution_count": 39,
     "metadata": {},
     "output_type": "execute_result"
    }
   ],
   "source": [
    "aa={5:\"R\", 7:\"Python\", 33:\"Java\", 9:\"C\"}\n",
    "bb={33:\"Java\", 9:\"C\", 88:\"vb\"}\n",
    "cc={\"Java\":1, \"C#\":2}\n",
    "print(aa,bb)\n",
    "bb.update(aa)\n",
    "print(aa,bb)\n",
    "cc.update(C=100, Fortra=999)\n",
    "cc"
   ]
  },
  {
   "cell_type": "code",
   "execution_count": 42,
   "metadata": {
    "scrolled": true
   },
   "outputs": [
    {
     "data": {
      "text/plain": [
       "(dict_keys([5, 7, 33, 9]), dict_values(['R', 'Python', 'Java', 'C']))"
      ]
     },
     "execution_count": 42,
     "metadata": {},
     "output_type": "execute_result"
    }
   ],
   "source": [
    "aa={5:\"R\", 7:\"Python\", 33:\"Java\", 9:\"C\"}\n",
    "bb={33:\"Java\", 9:\"C\", 88:\"vb\"}\n",
    "cc={\"Java\":1, \"C#\":2}\n",
    "aa.keys(), aa.values()"
   ]
  },
  {
   "cell_type": "code",
   "execution_count": 44,
   "metadata": {},
   "outputs": [
    {
     "name": "stdout",
     "output_type": "stream",
     "text": [
      "{0: '서울', 1: '경기', 2: '인천', 3: '세종'} {12: '서울', 34: '경기', 1: '인천', 59: '세종'}\n"
     ]
    }
   ],
   "source": [
    "aa=[\"서울\", \"경기\", \"인천\", \"세종\"]\n",
    "bb=[12,34,1,59]\n",
    "dic = {x:aa[x] for x in range(4)}\n",
    "dic\n",
    "dic1 = dict(zip(bb,aa))\n",
    "print(dic, dic1)"
   ]
  },
  {
   "cell_type": "markdown",
   "metadata": {},
   "source": [
    "# 6. 함수와 모듈"
   ]
  },
  {
   "cell_type": "code",
   "execution_count": 51,
   "metadata": {},
   "outputs": [
    {
     "name": "stdout",
     "output_type": "stream",
     "text": [
      "인수가 없는\n",
      "Python 함수\n",
      "\n"
     ]
    }
   ],
   "source": [
    "def Hello():\n",
    "    print(\"인수가 없는\")\n",
    "    print(\"Python 함수\\n\")\n",
    "Hello()"
   ]
  },
  {
   "cell_type": "code",
   "execution_count": 49,
   "metadata": {},
   "outputs": [
    {
     "name": "stdout",
     "output_type": "stream",
     "text": [
      "인수가 있는\n",
      "c++  함수\n",
      "\n"
     ]
    }
   ],
   "source": [
    "def Hello(name):\n",
    "    print(\"인수가 있는\")\n",
    "    print(name, \" 함수\\n\")\n",
    "Hello(\"c++\")"
   ]
  },
  {
   "cell_type": "markdown",
   "metadata": {},
   "source": [
    "### 초기값을 지정해주면, 인수가 없을 때 초기값(디폴트)대로 한다"
   ]
  },
  {
   "cell_type": "code",
   "execution_count": 55,
   "metadata": {},
   "outputs": [
    {
     "name": "stdout",
     "output_type": "stream",
     "text": [
      "인수 초기값이 있는\n",
      "Python 함수\n",
      "\n",
      "인수 초기값이 있는\n",
      "c++ 함수\n",
      "\n",
      "인수 초기값이 있는\n",
      "12345 함수\n",
      "\n"
     ]
    },
    {
     "data": {
      "text/plain": [
       "<function __main__.Hello(name='Python')>"
      ]
     },
     "execution_count": 55,
     "metadata": {},
     "output_type": "execute_result"
    }
   ],
   "source": [
    "def Hello(name=\"Python\"):\n",
    "    print(\"인수 초기값이 있는\")\n",
    "    print(name, \"함수\\n\")\n",
    "    \n",
    "Hello(), Hello(\"c++\")\n",
    "Hello(12345) # 새로운 값을 초기값으로 덮어쓰기\n",
    "Hello"
   ]
  },
  {
   "cell_type": "code",
   "execution_count": 63,
   "metadata": {},
   "outputs": [
    {
     "name": "stdout",
     "output_type": "stream",
     "text": [
      "----------\n",
      "----------\n",
      "----------\n",
      "\n",
      "^^^^\n",
      "^^^^\n",
      "^^^^\n",
      "^^^^\n",
      "\n",
      "*****\n",
      "*****\n",
      "\n",
      "@@@@@@@\n",
      "@@@@@@@\n",
      "@@@@@@@\n",
      "\n",
      "@@@@@@@\n",
      "@@@@@@@\n",
      "@@@@@@@\n",
      "\n",
      "*******\n",
      "*******\n",
      "*******\n",
      "\n",
      ";;;;;;;;;;;;;;;;;\n",
      ";;;;;;;;;;;;;;;;;\n",
      "\n"
     ]
    }
   ],
   "source": [
    "def print_char(ch=\"*\", a=2, b=5) : # 초기값이 있으면 꼭 인수 안써줘도 된다\n",
    "    for i in range(a):\n",
    "        print(ch*b)\n",
    "    print() # for문 다 끝나면 공백 줄 출력\n",
    "print_char('-', 3, 10)\n",
    "print_char('^', 4, 4) # 인수명 꼭 안써줘도 순서대로 알아서 출력해준다\n",
    "print_char()\n",
    "print_char(ch=\"@\", a=3, b=7) # 인수명을 같이 써도 된다\n",
    "print_char(a=3, ch=\"@\", b=7) # 인수명을 같이 표기해주면 순서 뒤바뀌어도 된다\n",
    "print_char(a=3, b=7) # 누락된 인수는 기본값으로\n",
    "print_char(\";\", b=17) # 인수 넣는 형태 혼합해도 된다"
   ]
  },
  {
   "cell_type": "code",
   "execution_count": 77,
   "metadata": {
    "scrolled": true
   },
   "outputs": [
    {
     "name": "stdout",
     "output_type": "stream",
     "text": [
      "7\n",
      "20\n",
      "연산자 기호는 +, -, *, /\n",
      "None\n",
      "0\n"
     ]
    },
    {
     "data": {
      "text/plain": [
       "-1"
      ]
     },
     "execution_count": 77,
     "metadata": {},
     "output_type": "execute_result"
    }
   ],
   "source": [
    "def calc(a=2, b=5, op=\"+\"):\n",
    "    if (op==\"+\"):\n",
    "        c=a+b\n",
    "    elif (op==\"-\"):\n",
    "        c=a-b\n",
    "    elif (op==\"*\"):\n",
    "        c=a*b\n",
    "    elif (op==\"/\"):\n",
    "        c=a/b if (b!=0) else 0\n",
    "    else:\n",
    "        print(\"연산자 기호는 +, -, *, /\")\n",
    "        return\n",
    "    return c # 튜플처럼 여러 개 (a,b,c) 돌려받아도 된다\n",
    "\n",
    "print(calc())\n",
    "print(calc(4,5,\"*\"))\n",
    "print(calc(4,5,\"@\"))\n",
    "print(calc(4,0,\"/\"))\n",
    "A=calc(3,4,'-') # A라는 객체에 결과 저장\n",
    "A"
   ]
  },
  {
   "cell_type": "code",
   "execution_count": 79,
   "metadata": {},
   "outputs": [
    {
     "data": {
      "text/plain": [
       "15"
      ]
     },
     "execution_count": 79,
     "metadata": {},
     "output_type": "execute_result"
    }
   ],
   "source": [
    "def calc(*args):\n",
    "    v=args\n",
    "    result=sum(v)\n",
    "    return result\n",
    "\n",
    "\n",
    "calc(1,2,3,4,5)"
   ]
  },
  {
   "cell_type": "code",
   "execution_count": 84,
   "metadata": {},
   "outputs": [
    {
     "name": "stdout",
     "output_type": "stream",
     "text": [
      "+ (2, 3, 1, 4, 2, 3, 1, 15, 5, 5, 5, 5)\n"
     ]
    },
    {
     "data": {
      "text/plain": [
       "102"
      ]
     },
     "execution_count": 84,
     "metadata": {},
     "output_type": "execute_result"
    }
   ],
   "source": [
    "def calc(op, *args): # 임의인수에서는 인수명은 안 쓴다\n",
    "    v=args\n",
    "    result=0\n",
    "    result=sum(v)\n",
    "    if op==\"+\":\n",
    "        for x in v : \n",
    "            result+=x #누적합 구하기\n",
    "    elif (op==\"-\"):\n",
    "        for x in v:\n",
    "            result-=x #누적차 구하기\n",
    "    else:\n",
    "        return\n",
    "    print(op,v)\n",
    "    return result\n",
    "\n",
    "\n",
    "calc(\"+\", 2,3,1,4,2,3,1,15,5,5,5,5)"
   ]
  },
  {
   "cell_type": "code",
   "execution_count": 88,
   "metadata": {},
   "outputs": [
    {
     "name": "stdout",
     "output_type": "stream",
     "text": [
      "결과: (5, 2, 10.0)\n",
      "결과: 5 2 10.0\n"
     ]
    }
   ],
   "source": [
    "# 팩토리얼 구하는 함수 :\n",
    "\n",
    "def f(n):\n",
    "    re=1\n",
    "    for x in range(1,n+1):\n",
    "        re*=x\n",
    "    return re\n",
    "\n",
    "\n",
    "# 위 함수를 이용해서 컴비네이션 구하는 함수 (위의 함수만 쓰면 for문 세번이나 써야함):\n",
    "# 함수 안의 함수를 이용하면 편하다\n",
    "def g(n,x) : \n",
    "    nf = f(n)\n",
    "    xf = f(x)\n",
    "    nxf = f(n-x)\n",
    "    return n, x, nf/(xf*nxf) #튜플로 답 여러 개 출력\n",
    "\n",
    "f(4), g(5,2)\n",
    "A=g(5,2)\n",
    "print(\"결과: {0}\" .format(A))\n",
    "\n",
    "#OR\n",
    "\n",
    "A,B,C = g(5,2)\n",
    "print(\"결과: {0} {1} {2}\" .format(A,B,C))"
   ]
  },
  {
   "cell_type": "markdown",
   "metadata": {},
   "source": [
    "## 지역 변수와 전역 변수"
   ]
  },
  {
   "cell_type": "code",
   "execution_count": 93,
   "metadata": {},
   "outputs": [
    {
     "name": "stdout",
     "output_type": "stream",
     "text": [
      "지역변수 : 5\n",
      "전역변수 : 100\n"
     ]
    }
   ],
   "source": [
    "a=100\n",
    "\n",
    "def calc():\n",
    "    a=5\n",
    "    print(\"지역변수 : {0}\" .format(a)) # 일단 여기 안에서는 우선순위가 지역변수에 있다\n",
    "    # 지역변수는 함수 내에서만 유효하게 사용\n",
    "calc()\n",
    "print(\"전역변수 : {0}\" .format(a)) #함수 바깥에 나오면 글로벌\n"
   ]
  },
  {
   "cell_type": "code",
   "execution_count": 94,
   "metadata": {},
   "outputs": [
    {
     "name": "stdout",
     "output_type": "stream",
     "text": [
      "지역변수 : 100\n",
      "전역변수 : 100\n"
     ]
    }
   ],
   "source": [
    "a=100\n",
    "\n",
    "def calc():\n",
    "    b=5\n",
    "    print(\"지역변수 : {0}\" .format(a)) # 일단 여기 안에서는 우선순위가 지역변수에 있다\n",
    "    # 지역변수는 함수 내에서만 유효하게 사용\n",
    "calc()\n",
    "print(\"전역변수 : {0}\" .format(a)) #함수 바깥에 나오면 글로벌\n",
    "\n",
    "# 함수 내에서 a가 딱히 정의되지 않았으면, 바깥에 있는 a값(전역변수)을 끌어다가 사용한다 "
   ]
  },
  {
   "cell_type": "code",
   "execution_count": 95,
   "metadata": {},
   "outputs": [
    {
     "name": "stdout",
     "output_type": "stream",
     "text": [
      "지역변수 : 5000\n",
      "전역변수 : 5000\n"
     ]
    }
   ],
   "source": [
    "a=100\n",
    "\n",
    "def calc():\n",
    "    global a # 사용하기 전에 a가 전역변수로 사용될 것을 알려줌\n",
    "    a=5000 # 따라서 여기서 a를 수정하는 것은 전역 변수도 수정되는 것임 \n",
    "    #(바깥에서 바꾼 것과 같은 효과)\n",
    "    b=5\n",
    "    print(\"지역변수 : {0}\" .format(a)) # global 뒤에 나오는 무조건 전역변수 \n",
    "calc()\n",
    "print(\"전역변수 : {0}\" .format(a)) #함수 바깥에 나오면 글로벌\n",
    "\n",
    "# 함수 내에서 a가 딱히 정의되지 않았으면, 바깥에 있는 a값(전역변수)을 끌어다가 사용한다 "
   ]
  },
  {
   "cell_type": "markdown",
   "metadata": {},
   "source": [
    "## 유용한 내장 함수\n",
    "### map(fun,x)"
   ]
  },
  {
   "cell_type": "code",
   "execution_count": 98,
   "metadata": {},
   "outputs": [
    {
     "data": {
      "text/plain": [
       "[26, 14, 18]"
      ]
     },
     "execution_count": 98,
     "metadata": {},
     "output_type": "execute_result"
    }
   ],
   "source": [
    "X=[[2,3,4,5,6,6],[2,3,4,5],[2,4,3,5,4]] # 리스트를 원소로 갖는 리스트\n",
    "X\n",
    "# 각각의 합계를 구하는 방법 -> for문과 인덱스를 이용해도 되지만,\n",
    "n=len(X)\n",
    "Result=[]\n",
    "for i in range(n):\n",
    "    Result.append(sum(X[i]))\n",
    "Result\n",
    "\n",
    "# 하지만 이렇게 짜면 4줄 소요\n"
   ]
  },
  {
   "cell_type": "markdown",
   "metadata": {},
   "source": [
    "### 하지만 이렇게 짜면 4줄 소요 -> map함수 쓰기"
   ]
  },
  {
   "cell_type": "code",
   "execution_count": 102,
   "metadata": {},
   "outputs": [
    {
     "name": "stdout",
     "output_type": "stream",
     "text": [
      "<map object at 0x0000026203D035C0>\n"
     ]
    },
    {
     "data": {
      "text/plain": [
       "[26, 14, 18]"
      ]
     },
     "execution_count": 102,
     "metadata": {},
     "output_type": "execute_result"
    }
   ],
   "source": [
    "X=[[2,3,4,5,6,6],[2,3,4,5],[2,4,3,5,4]]\n",
    "print(map(sum,X)) # map 객체로 돌려준다\n",
    "list(map(sum,X))"
   ]
  },
  {
   "cell_type": "code",
   "execution_count": 104,
   "metadata": {
    "scrolled": true
   },
   "outputs": [
    {
     "name": "stdout",
     "output_type": "stream",
     "text": [
      "Help on function f in module __main__:\n",
      "\n",
      "f(n)\n",
      "    n! 계산 함수\n",
      "\n"
     ]
    }
   ],
   "source": [
    "def f(n):\n",
    "    '''\n",
    "    n! 계산 함수\n",
    "    '''\n",
    "    return\n",
    "help(f)"
   ]
  },
  {
   "cell_type": "markdown",
   "metadata": {},
   "source": [
    "# 모듈"
   ]
  },
  {
   "cell_type": "markdown",
   "metadata": {},
   "source": [
    "### 모듈 불러오는 첫 번째 방법"
   ]
  },
  {
   "cell_type": "code",
   "execution_count": 111,
   "metadata": {
    "scrolled": true
   },
   "outputs": [
    {
     "name": "stdout",
     "output_type": "stream",
     "text": [
      "Help on built-in function sqrt in module math:\n",
      "\n",
      "sqrt(...)\n",
      "    sqrt(x)\n",
      "    \n",
      "    Return the square root of x.\n",
      "\n"
     ]
    }
   ],
   "source": [
    "import math # import 모듈이름 해줘야함 / or from 모듈이름 import 함수 or class\n",
    "math.sqrt(3), math.factorial(5)\n",
    "help(math.sqrt)"
   ]
  },
  {
   "cell_type": "markdown",
   "metadata": {},
   "source": [
    "### 모듈 불러오는 두 번째 방법"
   ]
  },
  {
   "cell_type": "code",
   "execution_count": 114,
   "metadata": {},
   "outputs": [
    {
     "data": {
      "text/plain": [
       "1.7320508075688772"
      ]
     },
     "execution_count": 114,
     "metadata": {},
     "output_type": "execute_result"
    }
   ],
   "source": [
    "from math import e, pi, factorial, sqrt\n",
    "sqrt(3)"
   ]
  },
  {
   "cell_type": "markdown",
   "metadata": {},
   "source": [
    "### 모듈 불러오는 세 번째 방법: 모듈에 별명 붙이기"
   ]
  },
  {
   "cell_type": "code",
   "execution_count": 117,
   "metadata": {},
   "outputs": [
    {
     "data": {
      "text/plain": [
       "(1.7320508075688772, 2)"
      ]
     },
     "execution_count": 117,
     "metadata": {},
     "output_type": "execute_result"
    }
   ],
   "source": [
    "# when? 모듈 이름 너무 길때\n",
    "import math as mt\n",
    "mt.sqrt(3), mt.factorial(2)"
   ]
  },
  {
   "cell_type": "code",
   "execution_count": null,
   "metadata": {},
   "outputs": [],
   "source": [
    "\"\"\"\n",
    "모듈명: 모듈 만들기 테스트\n",
    "\"\"\"\n",
    "pii = 3.22341351125124 # 상수값\n",
    "\n",
    "# 함수들\n",
    "# 클래스\n"
   ]
  },
  {
   "cell_type": "markdown",
   "metadata": {},
   "source": [
    "### 내가 임의로 만든 Example_module.py 불러오기"
   ]
  },
  {
   "cell_type": "code",
   "execution_count": 123,
   "metadata": {},
   "outputs": [
    {
     "name": "stdout",
     "output_type": "stream",
     "text": [
      "27\n",
      "Help on module Example_module:\n",
      "\n",
      "NAME\n",
      "    Example_module - module description\n",
      "\n",
      "FUNCTIONS\n",
      "    cic_area(r)\n",
      "\n",
      "DATA\n",
      "    pii = 3\n",
      "\n",
      "FILE\n",
      "    c:\\users\\affinity\\documents\\example_module.py\n",
      "\n",
      "\n"
     ]
    }
   ],
   "source": [
    "from Example_module import cic_area\n",
    "print(cic_area(3))\n",
    "help((Example_module))"
   ]
  },
  {
   "cell_type": "code",
   "execution_count": 124,
   "metadata": {},
   "outputs": [
    {
     "name": "stdout",
     "output_type": "stream",
     "text": [
      "('_ast', '_bisect', '_blake2', '_codecs', '_codecs_cn', '_codecs_hk', '_codecs_iso2022', '_codecs_jp', '_codecs_kr', '_codecs_tw', '_collections', '_csv', '_datetime', '_functools', '_heapq', '_imp', '_io', '_json', '_locale', '_lsprof', '_md5', '_multibytecodec', '_opcode', '_operator', '_pickle', '_random', '_sha1', '_sha256', '_sha3', '_sha512', '_signal', '_sre', '_stat', '_string', '_struct', '_symtable', '_thread', '_tracemalloc', '_warnings', '_weakref', '_winapi', 'array', 'atexit', 'audioop', 'binascii', 'builtins', 'cmath', 'errno', 'faulthandler', 'gc', 'itertools', 'marshal', 'math', 'mmap', 'msvcrt', 'nt', 'parser', 'sys', 'time', 'winreg', 'xxsubtype', 'zipimport', 'zlib')\n"
     ]
    }
   ],
   "source": [
    "import sys\n",
    "print(sys.builtin_module_names)"
   ]
  },
  {
   "cell_type": "code",
   "execution_count": 126,
   "metadata": {},
   "outputs": [
    {
     "name": "stdout",
     "output_type": "stream",
     "text": [
      "C:\\ProgramData\\Anaconda3\\envs\\mypython\\python36.zip\n",
      "C:\\ProgramData\\Anaconda3\\envs\\mypython\\DLLs\n",
      "C:\\ProgramData\\Anaconda3\\envs\\mypython\\lib\n",
      "C:\\ProgramData\\Anaconda3\\envs\\mypython\n",
      "\n",
      "C:\\ProgramData\\Anaconda3\\envs\\mypython\\lib\\site-packages\n",
      "C:\\ProgramData\\Anaconda3\\envs\\mypython\\lib\\site-packages\\win32\n",
      "C:\\ProgramData\\Anaconda3\\envs\\mypython\\lib\\site-packages\\win32\\lib\n",
      "C:\\ProgramData\\Anaconda3\\envs\\mypython\\lib\\site-packages\\Pythonwin\n",
      "C:\\ProgramData\\Anaconda3\\envs\\mypython\\lib\\site-packages\\IPython\\extensions\n",
      "C:\\Users\\Affinity\\.ipython\n"
     ]
    }
   ],
   "source": [
    "for path in sys.path:\n",
    "    print(path)"
   ]
  },
  {
   "cell_type": "markdown",
   "metadata": {},
   "source": [
    "### 표준 모듈들 - random, itertools, keyword, copy, time, calendar"
   ]
  },
  {
   "cell_type": "code",
   "execution_count": 131,
   "metadata": {},
   "outputs": [
    {
     "name": "stdout",
     "output_type": "stream",
     "text": [
      "[96, 99, 33, 68, 23, 47, 30, 42, 42, 88]\n",
      "[93, 79, 53, 37, 92, 1, 8, 36, 73, 89]\n",
      "[70, 25, 1, 91, 13, 4, 76, 10, 91, 67]\n",
      "[3.4309656025029778, 0.5480962429186036, -1.9296399912718325, 9.183619754397476, -2.6643900408880627, -2.84504649479903, -7.118858683607698, 8.356345826308193, 0.970004756653708, -1.9459750183308806]\n"
     ]
    }
   ],
   "source": [
    "import random\n",
    "x=[]\n",
    "y=[]\n",
    "z=[]\n",
    "a=[]\n",
    "for i in range(10):\n",
    "    x.append(random.randint(0,100))\n",
    "    y.append(random.randrange(100))\n",
    "    z.append(random.randrange(1,100,3))\n",
    "    a.append(random.uniform(-10,10))\n",
    "print(x)\n",
    "print(y)\n",
    "print(z)\n",
    "print(a)"
   ]
  },
  {
   "cell_type": "code",
   "execution_count": 135,
   "metadata": {},
   "outputs": [
    {
     "name": "stdout",
     "output_type": "stream",
     "text": [
      "[1, 2, 3, 4, 5, 6, 7, 8, 9, 10, 11, 12, 13, 14, 15, 16, 17, 18, 19, 20, 21, 22, 23, 24, 25, 26, 27, 28, 29, 30, 31, 32, 33, 34, 35, 36, 37, 38, 39, 40, 41, 42, 43, 44, 45]\n",
      "8\n",
      "39\n",
      "32\n",
      "41\n",
      "26\n",
      "26\n"
     ]
    }
   ],
   "source": [
    "import random\n",
    "x=list(range(1,46))\n",
    "print(x)\n",
    "\n",
    "for i in range(6):\n",
    "    print(random.choice(x))"
   ]
  },
  {
   "cell_type": "code",
   "execution_count": 137,
   "metadata": {},
   "outputs": [
    {
     "name": "stdout",
     "output_type": "stream",
     "text": [
      "[2, 4, 3, 5, 4]\t[2, 3, 4, 5, 6, 6]\t[2, 4, 3, 5, 4]\t[2, 3, 4, 5]\t[2, 4, 3, 5, 4]\t[2, 3, 4, 5, 6, 6]\t\n",
      "[40, 29, 14, 25, 33, 31, 2, 24, 42, 10, 22, 17, 6, 41, 18, 20, 30, 35, 28, 38, 16, 12, 9, 39, 8, 15, 13, 19, 5, 3, 44, 11, 23, 7, 36, 27, 1, 26, 43, 32, 34, 4, 45, 21, 37]\n"
     ]
    }
   ],
   "source": [
    "import random\n",
    "x=list(range(1,46))\n",
    "for i in range(6):\n",
    "    print(random.choice(X), end='\\t')\n",
    "print()\n",
    "random.shuffle(x)\n",
    "print(x)"
   ]
  },
  {
   "cell_type": "code",
   "execution_count": 141,
   "metadata": {},
   "outputs": [
    {
     "name": "stdout",
     "output_type": "stream",
     "text": [
      "50\t150\t250\t350\t450\t550\t650\t750\t850\t950\t1050\t1150\t1250\t1350\t1450\t1550\t1650\t1750\t1850\t1950\t2050\t2150\t2250\t2350\t2450\t2550\t2650\t2750\t2850\t2950\t3050\t3150\t3250\t3350\t3450\t3550\t3650\t3750\t3850\t3950\t4050\t4150\t4250\t4350\t4450\t4550\t4650\t4750\t4850\t4950\t\n"
     ]
    }
   ],
   "source": [
    "import itertools\n",
    "for x in itertools.count(50, 100): # 무한히 증분하는 함수\n",
    "    if x>5000:\n",
    "        break\n",
    "    print(x,end=\"\\t\")\n",
    "print()"
   ]
  },
  {
   "cell_type": "code",
   "execution_count": 143,
   "metadata": {},
   "outputs": [
    {
     "name": "stdout",
     "output_type": "stream",
     "text": [
      "7\t2\t4\t\n",
      "\n",
      "7\t2\t4\t\n",
      "\n"
     ]
    }
   ],
   "source": [
    "ls=[3,6,4,7,2,4]\n",
    "\n",
    "def find_seven(x):\n",
    "    return x<7\n",
    "\n",
    "for x in itertools.dropwhile(find_seven,ls):\n",
    "    print(x,end=\"\\t\")\n",
    "print(\"\\n\")\n",
    "\n",
    "for x in itertools.dropwhile(lambda x:x<7, ls):\n",
    "    print(x,end=\"\\t\")\n",
    "print(\"\\n\")"
   ]
  },
  {
   "cell_type": "code",
   "execution_count": 145,
   "metadata": {},
   "outputs": [
    {
     "name": "stdout",
     "output_type": "stream",
     "text": [
      "                                  2019\n",
      "\n",
      "      January                   February                   March\n",
      "Mo Tu We Th Fr Sa Su      Mo Tu We Th Fr Sa Su      Mo Tu We Th Fr Sa Su\n",
      "    1  2  3  4  5  6                   1  2  3                   1  2  3\n",
      " 7  8  9 10 11 12 13       4  5  6  7  8  9 10       4  5  6  7  8  9 10\n",
      "14 15 16 17 18 19 20      11 12 13 14 15 16 17      11 12 13 14 15 16 17\n",
      "21 22 23 24 25 26 27      18 19 20 21 22 23 24      18 19 20 21 22 23 24\n",
      "28 29 30 31               25 26 27 28               25 26 27 28 29 30 31\n",
      "\n",
      "       April                      May                       June\n",
      "Mo Tu We Th Fr Sa Su      Mo Tu We Th Fr Sa Su      Mo Tu We Th Fr Sa Su\n",
      " 1  2  3  4  5  6  7             1  2  3  4  5                      1  2\n",
      " 8  9 10 11 12 13 14       6  7  8  9 10 11 12       3  4  5  6  7  8  9\n",
      "15 16 17 18 19 20 21      13 14 15 16 17 18 19      10 11 12 13 14 15 16\n",
      "22 23 24 25 26 27 28      20 21 22 23 24 25 26      17 18 19 20 21 22 23\n",
      "29 30                     27 28 29 30 31            24 25 26 27 28 29 30\n",
      "\n",
      "        July                     August                  September\n",
      "Mo Tu We Th Fr Sa Su      Mo Tu We Th Fr Sa Su      Mo Tu We Th Fr Sa Su\n",
      " 1  2  3  4  5  6  7                1  2  3  4                         1\n",
      " 8  9 10 11 12 13 14       5  6  7  8  9 10 11       2  3  4  5  6  7  8\n",
      "15 16 17 18 19 20 21      12 13 14 15 16 17 18       9 10 11 12 13 14 15\n",
      "22 23 24 25 26 27 28      19 20 21 22 23 24 25      16 17 18 19 20 21 22\n",
      "29 30 31                  26 27 28 29 30 31         23 24 25 26 27 28 29\n",
      "                                                    30\n",
      "\n",
      "      October                   November                  December\n",
      "Mo Tu We Th Fr Sa Su      Mo Tu We Th Fr Sa Su      Mo Tu We Th Fr Sa Su\n",
      "    1  2  3  4  5  6                   1  2  3                         1\n",
      " 7  8  9 10 11 12 13       4  5  6  7  8  9 10       2  3  4  5  6  7  8\n",
      "14 15 16 17 18 19 20      11 12 13 14 15 16 17       9 10 11 12 13 14 15\n",
      "21 22 23 24 25 26 27      18 19 20 21 22 23 24      16 17 18 19 20 21 22\n",
      "28 29 30 31               25 26 27 28 29 30         23 24 25 26 27 28 29\n",
      "                                                    30 31\n",
      "\n"
     ]
    }
   ],
   "source": [
    "import calendar\n",
    "print(calendar.calendar(2019))"
   ]
  },
  {
   "cell_type": "markdown",
   "metadata": {},
   "source": [
    "# 7. 파일 읽기와 쓰기"
   ]
  },
  {
   "cell_type": "code",
   "execution_count": 155,
   "metadata": {},
   "outputs": [
    {
     "name": "stdout",
     "output_type": "stream",
     "text": [
      "height weight\n",
      "174.10 71.85\n",
      "171.17 65.46\n",
      "175.73 72.29\n",
      "178.83 72.49\n",
      "178.60 73.38\n",
      "180.20 75.40\n",
      "168.45 66.62\n",
      "174.30 70.84\n",
      "178.29 72.12\n",
      "171.74 69.66\n",
      "\n",
      "['height', 'weight', '174.10', '71.85', '171.17', '65.46', '175.73', '72.29', '178.83', '72.49', '178.60', '73.38', '180.20', '75.40', '168.45', '66.62', '174.30', '70.84', '178.29', '72.12', '171.74', '69.66']\n"
     ]
    }
   ],
   "source": [
    "fobj = open(\"C:/Users/Affinity/Documents/ch01_data/data_space.txt\")\n",
    "robj=fobj.read()\n",
    "print(robj)\n",
    "robj # 하나의 텍스트로 되어 있는 형태 (\\n때분에 표 형태로 되어있는 것 처럼 보임)\n",
    "data=robj.split() # 공백을 구분자로 해서 분리 후 저장\n",
    "print(data)\n",
    "robj.split()\n",
    "fobj.close()"
   ]
  },
  {
   "cell_type": "code",
   "execution_count": 166,
   "metadata": {
    "scrolled": true
   },
   "outputs": [
    {
     "name": "stdout",
     "output_type": "stream",
     "text": [
      "[174.1, 171.17, 175.73, 178.83, 178.6, 180.2, 168.45, 174.3, 178.29, 171.74] [71.85, 65.46, 72.29, 72.49, 73.38, 75.4, 66.62, 70.84, 72.12, 69.66]\n",
      "175.14100000000002 71.011\n",
      "180.2 75.4\n"
     ]
    }
   ],
   "source": [
    "fobj = open(\"C:/Users/Affinity/Documents/ch01_data/data_space.txt\")\n",
    "robj=fobj.read()\n",
    "x=robj.split()\n",
    "fobj.close()  #안 닫으면 어떻게됨??\n",
    "Height=[]\n",
    "Weight=[]\n",
    "for i in range(2,len(x),2) : \n",
    "    Height.append(float(x[i]))\n",
    "    Weight.append(float(x[i+1]))\n",
    "    \n",
    "print(Height, Weight) #Height는 2,4,6,8... / Weight는 3,5,7...\n",
    "print(sum(Height)/len(Height), sum(Weight)/len(Weight))\n",
    "print(max(Height), max(Weight))\n"
   ]
  },
  {
   "cell_type": "code",
   "execution_count": 171,
   "metadata": {},
   "outputs": [
    {
     "name": "stdout",
     "output_type": "stream",
     "text": [
      "1. height weight\n",
      "\n",
      "2. 174.10 71.85\n",
      "\n"
     ]
    },
    {
     "data": {
      "text/plain": [
       "<function TextIOWrapper.close()>"
      ]
     },
     "execution_count": 171,
     "metadata": {},
     "output_type": "execute_result"
    }
   ],
   "source": [
    "fobj = open(\"C:/Users/Affinity/Documents/ch01_data/data_space.txt\")\n",
    "robj=fobj.readline()\n",
    "print(\"1. {0}\" .format(robj))\n",
    "robj=fobj.readline()\n",
    "print(\"2. {0}\" .format(robj))\n",
    "fobj.close"
   ]
  },
  {
   "cell_type": "code",
   "execution_count": 172,
   "metadata": {},
   "outputs": [
    {
     "name": "stdout",
     "output_type": "stream",
     "text": [
      "height weight\n",
      "\n",
      "174.10 71.85\n",
      "\n",
      "171.17 65.46\n",
      "\n",
      "175.73 72.29\n",
      "\n",
      "178.83 72.49\n",
      "\n",
      "178.60 73.38\n",
      "\n",
      "180.20 75.40\n",
      "\n",
      "168.45 66.62\n",
      "\n",
      "174.30 70.84\n",
      "\n",
      "178.29 72.12\n",
      "\n"
     ]
    }
   ],
   "source": [
    "fobj = open(\"C:/Users/Affinity/Documents/ch01_data/data_space.txt\")\n",
    "for i in range(10):\n",
    "    robj=fobj.readline()\n",
    "    print(robj)\n"
   ]
  },
  {
   "cell_type": "markdown",
   "metadata": {},
   "source": [
    "## 파일 쓰기"
   ]
  },
  {
   "cell_type": "code",
   "execution_count": 174,
   "metadata": {},
   "outputs": [],
   "source": [
    "fobj=open(\"C:/Users/Affinity/Documents/ch01_data/data_space2.txt\", \"w\")\n",
    "# 끝에 \"w\" 안 붙여주면 에러난다\n",
    "robj=fobj.write(\"파이썬 파일 쓰기\")\n",
    "fobj.close() # 이거 안 붙여주면 파일만 생기고 내용물은 안 생김"
   ]
  }
 ],
 "metadata": {
  "kernelspec": {
   "display_name": "Python 3",
   "language": "python",
   "name": "python3"
  },
  "language_info": {
   "codemirror_mode": {
    "name": "ipython",
    "version": 3
   },
   "file_extension": ".py",
   "mimetype": "text/x-python",
   "name": "python",
   "nbconvert_exporter": "python",
   "pygments_lexer": "ipython3",
   "version": "3.6.8"
  },
  "widgets": {
   "state": {},
   "version": "1.1.2"
  }
 },
 "nbformat": 4,
 "nbformat_minor": 2
}
