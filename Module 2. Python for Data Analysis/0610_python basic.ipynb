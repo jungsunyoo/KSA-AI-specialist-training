{
 "cells": [
  {
   "cell_type": "markdown",
   "metadata": {},
   "source": [
    "# 파이썬 (샵은 개요같은 느낌)\n",
    "## 입문\n",
    "### 첫 번째\n",
    "### 두 번째\n",
    "\n",
    "샵 개수에 따라 개요 위계 달라짐\n",
    "다 하고 똑같이 컨트롤엔터, 수정하려면 더블클릭\n",
    "\n",
    "- 키워드\n",
    "    -목록\n",
    "    \n",
    "    "
   ]
  },
  {
   "cell_type": "code",
   "execution_count": 2,
   "metadata": {
    "scrolled": true
   },
   "outputs": [
    {
     "name": "stdout",
     "output_type": "stream",
     "text": [
      "블럭문\n",
      "예제\n"
     ]
    }
   ],
   "source": [
    "# 파이썬 예제 프로그램\n",
    "a=15\n",
    "if a>10:\n",
    "    print(\"블럭문\")\n",
    "    print(\"예제\")"
   ]
  },
  {
   "cell_type": "code",
   "execution_count": 3,
   "metadata": {},
   "outputs": [
    {
     "data": {
      "text/plain": [
       "7"
      ]
     },
     "execution_count": 3,
     "metadata": {},
     "output_type": "execute_result"
    }
   ],
   "source": [
    "3+4"
   ]
  },
  {
   "cell_type": "code",
   "execution_count": 4,
   "metadata": {},
   "outputs": [
    {
     "data": {
      "text/plain": [
       "7"
      ]
     },
     "execution_count": 4,
     "metadata": {},
     "output_type": "execute_result"
    }
   ],
   "source": [
    "A=4\n",
    "A+3"
   ]
  },
  {
   "cell_type": "code",
   "execution_count": 6,
   "metadata": {},
   "outputs": [
    {
     "data": {
      "text/plain": [
       "4"
      ]
     },
     "execution_count": 6,
     "metadata": {},
     "output_type": "execute_result"
    }
   ],
   "source": [
    "A=4\n",
    "A\n"
   ]
  },
  {
   "cell_type": "code",
   "execution_count": 8,
   "metadata": {},
   "outputs": [
    {
     "data": {
      "text/plain": [
       "7"
      ]
     },
     "execution_count": 8,
     "metadata": {},
     "output_type": "execute_result"
    }
   ],
   "source": [
    "A\n",
    "A+3\n",
    "# 출력해야할 것이 두개가 있으면, 노트북에서는 기본적으로 마지막 출력만 출력됨\n",
    "# (1) 두 개 이상을 출력하고 싶으면 따로따로 셀 만들기, 혹은 콤마로 구분해서 출력\n",
    "# (2) 혹은 PRINT 명령어 두개 사용해서"
   ]
  },
  {
   "cell_type": "code",
   "execution_count": 9,
   "metadata": {},
   "outputs": [
    {
     "data": {
      "text/plain": [
       "(4, 7)"
      ]
     },
     "execution_count": 9,
     "metadata": {},
     "output_type": "execute_result"
    }
   ],
   "source": [
    "#(1)\n",
    "A, A+3\n",
    "# 괄호: 컨테이너 자료형이라는 것을 의미 (다른 자료형)"
   ]
  },
  {
   "cell_type": "code",
   "execution_count": 10,
   "metadata": {},
   "outputs": [
    {
     "name": "stdout",
     "output_type": "stream",
     "text": [
      "4 7\n"
     ]
    }
   ],
   "source": [
    "print(A, A+3)"
   ]
  },
  {
   "cell_type": "code",
   "execution_count": 11,
   "metadata": {},
   "outputs": [
    {
     "name": "stdout",
     "output_type": "stream",
     "text": [
      "4\n",
      "7\n"
     ]
    }
   ],
   "source": [
    "# (2)\n",
    "print(A)\n",
    "print(A+3)"
   ]
  },
  {
   "cell_type": "code",
   "execution_count": 13,
   "metadata": {},
   "outputs": [
    {
     "name": "stdout",
     "output_type": "stream",
     "text": [
      "A= 4\n",
      "A+3= 7\n"
     ]
    }
   ],
   "source": [
    "print(\"A=\", A)\n",
    "print(\"A+3=\",A+3)"
   ]
  },
  {
   "cell_type": "code",
   "execution_count": 16,
   "metadata": {},
   "outputs": [
    {
     "name": "stdout",
     "output_type": "stream",
     "text": [
      "A+3=7\n"
     ]
    }
   ],
   "source": [
    "print(\"A+3=\"+str(A+3))\n",
    "# +는 숫자에서는 값을 더해주고, 문자열에서는 연결해준다"
   ]
  },
  {
   "cell_type": "code",
   "execution_count": 18,
   "metadata": {},
   "outputs": [
    {
     "name": "stdout",
     "output_type": "stream",
     "text": [
      "A+3=7\n"
     ]
    }
   ],
   "source": [
    "print(\"A+3={0}\".format(A+3))\n",
    "# 인덱싱 활용"
   ]
  },
  {
   "cell_type": "code",
   "execution_count": 19,
   "metadata": {
    "scrolled": true
   },
   "outputs": [
    {
     "name": "stdout",
     "output_type": "stream",
     "text": [
      "4+3=7\n"
     ]
    }
   ],
   "source": [
    "print(\"{1}+3={0}\".format(A+3,A))\n",
    "# 인덱싱 활용"
   ]
  },
  {
   "cell_type": "markdown",
   "metadata": {},
   "source": [
    "# 변수와 자료의 유형\n",
    "## 변수의 선언과 사용\n",
    "### 변수의 사용\n",
    "변수는 값을 담으면 (대입하면) 사용 가능"
   ]
  },
  {
   "cell_type": "code",
   "execution_count": 20,
   "metadata": {
    "scrolled": true
   },
   "outputs": [
    {
     "data": {
      "text/plain": [
       "(True, 5, 2.5, '파이썬')"
      ]
     },
     "execution_count": 20,
     "metadata": {},
     "output_type": "execute_result"
    }
   ],
   "source": [
    "bVar=True\n",
    "lVar=5\n",
    "fVar = 2.5\n",
    "sVar = \"파이썬\"\n",
    "bVar, lVar, fVar, sVar"
   ]
  },
  {
   "cell_type": "markdown",
   "metadata": {},
   "source": [
    "변수 덮어쓰기 가능 "
   ]
  },
  {
   "cell_type": "code",
   "execution_count": 21,
   "metadata": {
    "scrolled": true
   },
   "outputs": [
    {
     "data": {
      "text/plain": [
       "110"
      ]
     },
     "execution_count": 21,
     "metadata": {},
     "output_type": "execute_result"
    }
   ],
   "source": [
    "lVar = 110\n",
    "lVar"
   ]
  },
  {
   "cell_type": "code",
   "execution_count": 23,
   "metadata": {},
   "outputs": [
    {
     "data": {
      "text/plain": [
       "221"
      ]
     },
     "execution_count": 23,
     "metadata": {},
     "output_type": "execute_result"
    }
   ],
   "source": [
    "iVar = 110\n",
    "NewVar = iVar+111\n",
    "NewVar"
   ]
  },
  {
   "cell_type": "code",
   "execution_count": 24,
   "metadata": {},
   "outputs": [
    {
     "data": {
      "text/plain": [
       "(25, 25, 25)"
      ]
     },
     "execution_count": 24,
     "metadata": {},
     "output_type": "execute_result"
    }
   ],
   "source": [
    "# 변수에 연속된 값을 대입\n",
    "Var1=Var2=Var3=25\n",
    "Var1, Var2, Var3"
   ]
  },
  {
   "cell_type": "code",
   "execution_count": 25,
   "metadata": {},
   "outputs": [
    {
     "data": {
      "text/plain": [
       "21.0"
      ]
     },
     "execution_count": 25,
     "metadata": {},
     "output_type": "execute_result"
    }
   ],
   "source": [
    "# 자기자신 덮어쓰기\n",
    "Y = 2.1\n",
    "Y = Y*10\n",
    "Y"
   ]
  },
  {
   "cell_type": "code",
   "execution_count": 26,
   "metadata": {},
   "outputs": [
    {
     "data": {
      "text/plain": [
       "True"
      ]
     },
     "execution_count": 26,
     "metadata": {},
     "output_type": "execute_result"
    }
   ],
   "source": [
    "# 파이썬 변수의 데이터 형식은 값을 넣는 순간마다 변경될 수 있는 유연한 구조\n",
    "iVar = 110\n",
    "iVar = True\n",
    "iVar"
   ]
  },
  {
   "cell_type": "code",
   "execution_count": 27,
   "metadata": {},
   "outputs": [
    {
     "ename": "SyntaxError",
     "evalue": "invalid token (<ipython-input-27-af6b06406f5c>, line 1)",
     "output_type": "error",
     "traceback": [
      "\u001b[1;36m  File \u001b[1;32m\"<ipython-input-27-af6b06406f5c>\"\u001b[1;36m, line \u001b[1;32m1\u001b[0m\n\u001b[1;33m    0bbin(152)\u001b[0m\n\u001b[1;37m     ^\u001b[0m\n\u001b[1;31mSyntaxError\u001b[0m\u001b[1;31m:\u001b[0m invalid token\n"
     ]
    }
   ],
   "source": [
    "0bbin(152)"
   ]
  },
  {
   "cell_type": "markdown",
   "metadata": {},
   "source": [
    "### 자료의 유형: 실수와 복소수"
   ]
  },
  {
   "cell_type": "code",
   "execution_count": 30,
   "metadata": {},
   "outputs": [
    {
     "data": {
      "text/plain": [
       "(3+2j)"
      ]
     },
     "execution_count": 30,
     "metadata": {},
     "output_type": "execute_result"
    }
   ],
   "source": [
    "x = 3+2j\n",
    "x\n",
    "# j 말고 다른 문자 쓰면 syntax error 뜬다"
   ]
  },
  {
   "cell_type": "code",
   "execution_count": 31,
   "metadata": {},
   "outputs": [
    {
     "data": {
      "text/plain": [
       "((3+2j), 3.0, 2.0, (3-2j))"
      ]
     },
     "execution_count": 31,
     "metadata": {},
     "output_type": "execute_result"
    }
   ],
   "source": [
    "x, x.real, x.imag, x.conjugate()\n",
    "#객체이름.method/속성"
   ]
  },
  {
   "cell_type": "markdown",
   "metadata": {},
   "source": [
    "### 자료의 유형: 논리형\n",
    "\n",
    "논리 데이터는 맨 앞글자가 대문자\n",
    "\n",
    "비교연산식으로 논리형을 만들어도 됨"
   ]
  },
  {
   "cell_type": "code",
   "execution_count": 32,
   "metadata": {},
   "outputs": [
    {
     "data": {
      "text/plain": [
       "False"
      ]
     },
     "execution_count": 32,
     "metadata": {},
     "output_type": "execute_result"
    }
   ],
   "source": [
    "X=True # 소문자로 쓰면 객체나 변수 등으로 생각해서 에러남\n",
    "Y=False\n",
    "X&Y"
   ]
  },
  {
   "cell_type": "markdown",
   "metadata": {},
   "source": [
    "### 자료의 유형: 문자열형\n",
    "\n",
    "' 혹은 \"으로 감싸기\n",
    "\n",
    "숫자 주변에 \" 또는 ' 있으면 문자로 처리\n",
    "\n",
    "여러 줄 하고싶을땐 '또는 \" 세 쌍"
   ]
  },
  {
   "cell_type": "code",
   "execution_count": 34,
   "metadata": {
    "scrolled": true
   },
   "outputs": [
    {
     "data": {
      "text/plain": [
       "'파이썬\\n기초\\n배우기'"
      ]
     },
     "execution_count": 34,
     "metadata": {},
     "output_type": "execute_result"
    }
   ],
   "source": [
    "C = \"\"\"파이썬\n",
    "기초\n",
    "배우기\"\"\"\n",
    "C"
   ]
  },
  {
   "cell_type": "code",
   "execution_count": 35,
   "metadata": {
    "scrolled": true
   },
   "outputs": [
    {
     "data": {
      "text/plain": [
       "str"
      ]
     },
     "execution_count": 35,
     "metadata": {},
     "output_type": "execute_result"
    }
   ],
   "source": [
    "type(C)"
   ]
  },
  {
   "cell_type": "markdown",
   "metadata": {},
   "source": [
    "## 산술 연산자와 함수\n",
    "### 산술연산자"
   ]
  },
  {
   "cell_type": "code",
   "execution_count": 36,
   "metadata": {},
   "outputs": [
    {
     "data": {
      "text/plain": [
       "(25, 27)"
      ]
     },
     "execution_count": 36,
     "metadata": {},
     "output_type": "execute_result"
    }
   ],
   "source": [
    "# 한 줄에 코드 한줄씩 넣는게 원칙이지만 ;으로 분리 가능 (맽랩이랑 똑같)\n",
    "X=25; Y=27\n",
    "X,Y"
   ]
  },
  {
   "cell_type": "code",
   "execution_count": 37,
   "metadata": {},
   "outputs": [],
   "source": [
    " # 연산 순서는 (1) 제곱 (2)곱셈, 나눗셈 (3) 덧셈, 뺄셈"
   ]
  },
  {
   "cell_type": "markdown",
   "metadata": {},
   "source": [
    "## 산술 연산자와 함수\n",
    "### 대입연산자\n",
    "\n",
    "변수 자기자신으로 덮어쓰기를 좀 더 단순화시켜서 쓰는 것"
   ]
  },
  {
   "cell_type": "code",
   "execution_count": 41,
   "metadata": {},
   "outputs": [
    {
     "data": {
      "text/plain": [
       "13"
      ]
     },
     "execution_count": 41,
     "metadata": {},
     "output_type": "execute_result"
    }
   ],
   "source": [
    "A=3\n",
    "A = A+5 # A = 8\n",
    "A +=5 # A = 13\n",
    "A"
   ]
  },
  {
   "cell_type": "code",
   "execution_count": 43,
   "metadata": {},
   "outputs": [
    {
     "data": {
      "text/plain": [
       "(4.0, 4.0)"
      ]
     },
     "execution_count": 43,
     "metadata": {},
     "output_type": "execute_result"
    }
   ],
   "source": [
    "round(3.5,0), round(4.5,0)\n",
    "# 홀수일때랑 짝수일때랑 0.5 반올림 다르다"
   ]
  },
  {
   "cell_type": "code",
   "execution_count": 44,
   "metadata": {},
   "outputs": [
    {
     "data": {
      "text/plain": [
       "(4.0, 5.0)"
      ]
     },
     "execution_count": 44,
     "metadata": {},
     "output_type": "execute_result"
    }
   ],
   "source": [
    "round(3.51,0), round(4.51,0)"
   ]
  },
  {
   "cell_type": "code",
   "execution_count": 45,
   "metadata": {},
   "outputs": [
    {
     "data": {
      "text/plain": [
       "(8, 1)"
      ]
     },
     "execution_count": 45,
     "metadata": {},
     "output_type": "execute_result"
    }
   ],
   "source": [
    "A=-17; B=2; Y=divmod(abs(A),B)\n",
    "Y"
   ]
  },
  {
   "cell_type": "code",
   "execution_count": 47,
   "metadata": {},
   "outputs": [
    {
     "name": "stdout",
     "output_type": "stream",
     "text": [
      "3 5\n"
     ]
    }
   ],
   "source": [
    "A,B=3,5\n",
    "#순차적으로 저장 해준다\n",
    "print(A,B)\n"
   ]
  },
  {
   "cell_type": "code",
   "execution_count": 50,
   "metadata": {},
   "outputs": [
    {
     "name": "stdout",
     "output_type": "stream",
     "text": [
      "1 2\n"
     ]
    }
   ],
   "source": [
    "A,B=divmod(7,5)\n",
    "print(A,B)"
   ]
  },
  {
   "cell_type": "code",
   "execution_count": 53,
   "metadata": {},
   "outputs": [
    {
     "data": {
      "text/plain": [
       "6"
      ]
     },
     "execution_count": 53,
     "metadata": {},
     "output_type": "execute_result"
    }
   ],
   "source": [
    "# 그냥 ceil(4.5)하면 에러남\n",
    "# 모듈 불러오는거는 매틀랩으로 치면 addpath하는 것인듯.\n",
    "import math\n",
    "math.ceil(5.6)"
   ]
  },
  {
   "cell_type": "code",
   "execution_count": 54,
   "metadata": {
    "scrolled": true
   },
   "outputs": [
    {
     "data": {
      "text/plain": [
       "4.5"
      ]
     },
     "execution_count": 54,
     "metadata": {},
     "output_type": "execute_result"
    }
   ],
   "source": [
    "abs(-4.5)"
   ]
  },
  {
   "cell_type": "markdown",
   "metadata": {},
   "source": [
    "## 관계 연산자\n",
    "\n",
    "결과는 True / False \n",
    "\n",
    "주로 if문이나 for, while 문에서 사용\n"
   ]
  },
  {
   "cell_type": "code",
   "execution_count": 55,
   "metadata": {},
   "outputs": [
    {
     "data": {
      "text/plain": [
       "False"
      ]
     },
     "execution_count": 55,
     "metadata": {},
     "output_type": "execute_result"
    }
   ],
   "source": [
    "# 보통 왼쪽 기준으로 읽는다 (해석한다)\n",
    "\n",
    "import math\n",
    "W=3.5; V=4.2; X=4\n",
    "W>=V"
   ]
  },
  {
   "cell_type": "code",
   "execution_count": 56,
   "metadata": {},
   "outputs": [
    {
     "data": {
      "text/plain": [
       "True"
      ]
     },
     "execution_count": 56,
     "metadata": {},
     "output_type": "execute_result"
    }
   ],
   "source": [
    "W=[2,4,5,3.2]\n",
    "2 in W"
   ]
  },
  {
   "cell_type": "code",
   "execution_count": 58,
   "metadata": {},
   "outputs": [
    {
     "data": {
      "text/plain": [
       "True"
      ]
     },
     "execution_count": 58,
     "metadata": {},
     "output_type": "execute_result"
    }
   ],
   "source": [
    "# in은 문자열에서도 쓸 수 있다\n",
    "X = \"파이썬 배우기\"\n",
    "\"썬 배\" in X\n"
   ]
  },
  {
   "cell_type": "code",
   "execution_count": 60,
   "metadata": {},
   "outputs": [
    {
     "data": {
      "text/plain": [
       "(1795338496, 1795338496, 3069831948976, 3069831948880)"
      ]
     },
     "execution_count": 60,
     "metadata": {},
     "output_type": "execute_result"
    }
   ],
   "source": [
    "W=2; V=2; X=257; Y=257;\n",
    "# 인덱스(포인터) 위치 알기 위해서는 id라는 함수 쓰면 됨\n",
    "id(W), id(V), id(X), id(Y) \n",
    "# W, V는 똑같은 값과 id를 공유\n",
    "# 하지만 x,y는 같은 값을 공유해도 id가 다르다\n",
    "# 같은 값을 갖고 있다고 해서 id가 같은 것은 아니다.\n",
    "# 정수는 -5부터 256까지는 레퍼런스 값을 미리 갖고있다 -> 갖고 있는 레퍼런스 뿌려줌\n",
    "# 이것 이외의 값은 비어있는 id에 할당해준다"
   ]
  },
  {
   "cell_type": "code",
   "execution_count": 64,
   "metadata": {
    "scrolled": true
   },
   "outputs": [
    {
     "name": "stdout",
     "output_type": "stream",
     "text": [
      "True True\n",
      "True False\n"
     ]
    }
   ],
   "source": [
    "W=2; V=2; X=257; Y=257;\n",
    "print(W==V, W is V) # 전자는 값을 비교, 후자는 레퍼런스를 비교\n",
    "print(X==Y, X is Y)"
   ]
  },
  {
   "cell_type": "code",
   "execution_count": 70,
   "metadata": {},
   "outputs": [
    {
     "name": "stdout",
     "output_type": "stream",
     "text": [
      "True\n",
      "False\n",
      "True\n",
      "True\n"
     ]
    }
   ],
   "source": [
    "import math\n",
    "X=23.546; W=True; V=False; S=\"남자\"\n",
    "# 20<=X<30인지 확인하고 싶을 때\n",
    "print(20<=X and X<30)\n",
    "print(X<20 or X>=30)\n",
    "print(W or V) # or 연산자는 한 쪽만 true면 true\n",
    "print(X<30 and S==\"남자\")"
   ]
  },
  {
   "cell_type": "markdown",
   "metadata": {},
   "source": [
    "## 문자열 연산자와 함수\n",
    "### 문자열 자료형"
   ]
  },
  {
   "cell_type": "code",
   "execution_count": 73,
   "metadata": {},
   "outputs": [
    {
     "data": {
      "text/plain": [
       "'A B'"
      ]
     },
     "execution_count": 73,
     "metadata": {},
     "output_type": "execute_result"
    }
   ],
   "source": [
    "S = \"A B\"\n",
    "S"
   ]
  },
  {
   "cell_type": "code",
   "execution_count": 78,
   "metadata": {},
   "outputs": [
    {
     "name": "stdout",
     "output_type": "stream",
     "text": [
      "Python 데이터 분석\t데\t분\n",
      "데이터 \t데이터\tPython\n",
      "데이터 \t데이\tPython\n"
     ]
    }
   ],
   "source": [
    "S=\"Python 데이터 분석\"\n",
    "print(\"{0}\\t{1}\\t{2}\" .format(S,S[7], S[-2])) # 인덱스가 음수면 오른쪽부터 카운트\n",
    "print(\"{0}\\t{1}\\t{2}\" . format(S[7:11], S[7:-3], S[-13:-7]))\n",
    "print(\"{0}\\t{1}\\t{2}\" . format(S[7:11], S[7:-4], S[-13:-7])) \n",
    "# [7:-4] -4 전까지 = -5"
   ]
  },
  {
   "cell_type": "markdown",
   "metadata": {},
   "source": [
    "### 문자열 연산자"
   ]
  },
  {
   "cell_type": "code",
   "execution_count": 84,
   "metadata": {},
   "outputs": [
    {
     "data": {
      "text/plain": [
       "'Hello Python3'"
      ]
     },
     "execution_count": 84,
     "metadata": {},
     "output_type": "execute_result"
    }
   ],
   "source": [
    "S=\"Hello\"\n",
    "S + \" Python\"+str(3)"
   ]
  },
  {
   "cell_type": "code",
   "execution_count": 87,
   "metadata": {},
   "outputs": [
    {
     "data": {
      "text/plain": [
       "'Hello Python'"
      ]
     },
     "execution_count": 87,
     "metadata": {},
     "output_type": "execute_result"
    }
   ],
   "source": [
    "S=\"Hello\"\n",
    "S +=\" Python\" # equals S = S+\" Python\"\n",
    "S"
   ]
  },
  {
   "cell_type": "code",
   "execution_count": 89,
   "metadata": {},
   "outputs": [],
   "source": [
    "S=\"Hello\"\n",
    "S*=3\n",
    "S\n",
    "del S #문자열 삭제"
   ]
  },
  {
   "cell_type": "code",
   "execution_count": 94,
   "metadata": {},
   "outputs": [
    {
     "data": {
      "text/plain": [
       "'c'"
      ]
     },
     "execution_count": 94,
     "metadata": {},
     "output_type": "execute_result"
    }
   ],
   "source": [
    "chr(ord(\"c\")) # ascii 코드"
   ]
  },
  {
   "cell_type": "code",
   "execution_count": 98,
   "metadata": {},
   "outputs": [
    {
     "name": "stdout",
     "output_type": "stream",
     "text": [
      "<reversed object at 0x000002CAC067F2E8>\n",
      "['석', '분', ' ', '드', '코', ' ', '썬', '이', '파']\n",
      "[' ', ' ', '드', '분', '석', '썬', '이', '코', '파']\n"
     ]
    }
   ],
   "source": [
    "S=\"파이썬 코드 분석\"\n",
    "print(reversed(S))\n",
    "print(list(reversed(S)))\n",
    "print(sorted(list(reversed(S))))"
   ]
  },
  {
   "cell_type": "code",
   "execution_count": 97,
   "metadata": {},
   "outputs": [
    {
     "data": {
      "text/plain": [
       "(70, 65)"
      ]
     },
     "execution_count": 97,
     "metadata": {},
     "output_type": "execute_result"
    }
   ],
   "source": [
    "ord(\"F\"), ord(\"A\")"
   ]
  },
  {
   "cell_type": "code",
   "execution_count": 99,
   "metadata": {},
   "outputs": [
    {
     "data": {
      "text/plain": [
       "<reversed at 0x2cac0671eb8>"
      ]
     },
     "execution_count": 99,
     "metadata": {},
     "output_type": "execute_result"
    }
   ],
   "source": [
    "RObj = reversed(\"AHSNRIFJ\")\n",
    "RObj"
   ]
  },
  {
   "cell_type": "code",
   "execution_count": 105,
   "metadata": {},
   "outputs": [
    {
     "data": {
      "text/plain": [
       "'Python은 쉬워서 Programming하기 쉬워요'"
      ]
     },
     "execution_count": 105,
     "metadata": {},
     "output_type": "execute_result"
    }
   ],
   "source": [
    "S = \"pyTHon은 쉬워서 PROgramming하기 쉬워요\"\n",
    "SS = S.title()\n",
    "SS"
   ]
  },
  {
   "cell_type": "code",
   "execution_count": 106,
   "metadata": {},
   "outputs": [
    {
     "data": {
      "text/plain": [
       "False"
      ]
     },
     "execution_count": 106,
     "metadata": {},
     "output_type": "execute_result"
    }
   ],
   "source": [
    "S = \"pyTHon은 쉬워서 PROgramming하기 쉬워요\"\n",
    "S.startswith(\"P\")"
   ]
  },
  {
   "cell_type": "code",
   "execution_count": 110,
   "metadata": {},
   "outputs": [
    {
     "data": {
      "text/plain": [
       "True"
      ]
     },
     "execution_count": 110,
     "metadata": {},
     "output_type": "execute_result"
    }
   ],
   "source": [
    "S = \"pyTHon은 쉬워서 PROgramming하기 쉬워요\"\n",
    "S.startswith(\"T\",2)"
   ]
  },
  {
   "cell_type": "code",
   "execution_count": 115,
   "metadata": {},
   "outputs": [
    {
     "data": {
      "text/plain": [
       "'이병훈의 나이는 27세 입니다.'"
      ]
     },
     "execution_count": 115,
     "metadata": {},
     "output_type": "execute_result"
    }
   ],
   "source": [
    "n=\"이병훈\"\n",
    "a=27\n",
    "A=\"{name}의 나이는 {age}세 입니다.\"\n",
    "AA = A.format(name=n, age=a)\n",
    "# 얘는 객체를 만들어줌\n",
    "# 객체로 저장이 됨\n",
    "AA"
   ]
  },
  {
   "cell_type": "code",
   "execution_count": 113,
   "metadata": {},
   "outputs": [
    {
     "name": "stdout",
     "output_type": "stream",
     "text": [
      "이름은 이병훈이고 나이는 27입니다.\n"
     ]
    }
   ],
   "source": [
    "n=\"이병훈\"\n",
    "a=27\n",
    "print(\"이름은 {0}이고 나이는 {1}입니다.\" .format(n,a))\n",
    "# 얘는 그냥 프린트해줌"
   ]
  },
  {
   "cell_type": "code",
   "execution_count": 120,
   "metadata": {},
   "outputs": [
    {
     "name": "stdout",
     "output_type": "stream",
     "text": [
      "응용통계학과\n",
      "는\n",
      " 통계학을 배웁니다\n"
     ]
    }
   ],
   "source": [
    "S = \"응용통계학과는 통계학을 배웁니다\"\n",
    "A,B,C = S.partition(\"는\")\n",
    "print(A)\n",
    "print(B)\n",
    "print(C)"
   ]
  },
  {
   "cell_type": "code",
   "execution_count": 121,
   "metadata": {},
   "outputs": [
    {
     "name": "stdout",
     "output_type": "stream",
     "text": [
      "응용통계학과\n",
      "는\n",
      " 통계학을 배웁니다\n"
     ]
    }
   ],
   "source": [
    "S = \"응용통계학과는 통계학을 배웁니다\"\n",
    "A,B,C = S.rpartition(\"는\")\n",
    "print(A)\n",
    "print(B)\n",
    "print(C)"
   ]
  },
  {
   "cell_type": "code",
   "execution_count": 125,
   "metadata": {},
   "outputs": [
    {
     "data": {
      "text/plain": [
       "({115: 83, 116: 84}, 'STaTiSTicS')"
      ]
     },
     "execution_count": 125,
     "metadata": {},
     "output_type": "execute_result"
    }
   ],
   "source": [
    "S=\"statistics\"\n",
    "x=str.maketrans(\"st\",\"ST\")\n",
    "x, S.translate(x) #변화 값 ascii code & 바꾼 결과"
   ]
  },
  {
   "cell_type": "code",
   "execution_count": 126,
   "metadata": {
    "scrolled": true
   },
   "outputs": [
    {
     "data": {
      "text/plain": [
       "'0000000000statistics'"
      ]
     },
     "execution_count": 126,
     "metadata": {},
     "output_type": "execute_result"
    }
   ],
   "source": [
    "S.zfill(20)"
   ]
  },
  {
   "cell_type": "markdown",
   "metadata": {},
   "source": [
    "### 비트 연산자"
   ]
  },
  {
   "cell_type": "code",
   "execution_count": 129,
   "metadata": {},
   "outputs": [
    {
     "name": "stdout",
     "output_type": "stream",
     "text": [
      "9\n",
      "29\n",
      "20\n",
      "-14\n",
      "3\n",
      "200\n"
     ]
    }
   ],
   "source": [
    "\n",
    "a=13; b=25\n",
    "print(a&b)\n",
    "print(a|b)\n",
    "print(a^b)\n",
    "print(~a)\n",
    "print(a>>2)\n",
    "print(b<<3)"
   ]
  }
 ],
 "metadata": {
  "kernelspec": {
   "display_name": "Python 3",
   "language": "python",
   "name": "python3"
  },
  "language_info": {
   "codemirror_mode": {
    "name": "ipython",
    "version": 3
   },
   "file_extension": ".py",
   "mimetype": "text/x-python",
   "name": "python",
   "nbconvert_exporter": "python",
   "pygments_lexer": "ipython3",
   "version": "3.6.8"
  }
 },
 "nbformat": 4,
 "nbformat_minor": 2
}
